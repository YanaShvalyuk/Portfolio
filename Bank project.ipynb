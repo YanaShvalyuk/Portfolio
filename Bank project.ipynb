{
 "cells": [
  {
   "cell_type": "markdown",
   "id": "1135b83e",
   "metadata": {},
   "source": [
    "<div class=\"alert alert-info\"> <b>Ссылка на презентацию:</b> https://disk.yandex.ru/d/eR3Nl7qwGWSWxg\n",
    "</div>"
   ]
  },
  {
   "cell_type": "markdown",
   "id": "9b9fdf14",
   "metadata": {},
   "source": [
    "<div class=\"alert alert-info\"> <b>Ссылка на дашборд:</b> https://public.tableau.com/views/_16944748109720/Dashboard1?:language=en-US&publish=yes&:display_count=n&:origin=viz_share_link\n",
    "</div>"
   ]
  },
  {
   "cell_type": "markdown",
   "id": "90824065",
   "metadata": {},
   "source": [
    "# Анализ оттока клиентов «Метанпромбанк»"
   ]
  },
  {
   "cell_type": "markdown",
   "id": "908d5019",
   "metadata": {},
   "source": [
    "## Цели, задачи и описание данных проекта"
   ]
  },
  {
   "cell_type": "markdown",
   "id": "104605b1",
   "metadata": {},
   "source": [
    "Цель: выявить причины оттока клиентов «Метанпромбанк» и дать рекомендации по их удержанию."
   ]
  },
  {
   "cell_type": "markdown",
   "id": "b042318f",
   "metadata": {},
   "source": [
    "Задачи:\n",
    "\n",
    "    1. Проверка и подготовка предоставленных данных:\n",
    "        - Проверка типа данных в столбцах;\n",
    "        - Проверка пропущенных значений в столбцах, при необходимости их обработка;\n",
    "        - Проверка на явные и неявные дубликаты, при необходимости их замена или исключение;\n",
    "        - При необходимости добавление новых столбцов для удобства анализа.\n",
    "        \n",
    "    2. Анализ данных:\n",
    "        - Анализ распределения признаков;\n",
    "        - Анализ портретов клиентов банка;\n",
    "        - Анализ дополнительных признаков, которые будут определены в ходе обработки данных.\n",
    "        \n",
    "    3. Составление и проверка гипотез по оттоку клиентов.\n",
    "    \n",
    "    4. Формирование рекомендаций по снижению оттока клиентов."
   ]
  },
  {
   "cell_type": "markdown",
   "id": "a9d521f7",
   "metadata": {},
   "source": [
    "Описание данных:\n",
    " - userid — идентификатор пользователя,\n",
    " - score — баллы кредитного скоринга,\n",
    " - City — город,\n",
    " - Gender — пол,\n",
    " - Age — возраст,\n",
    " - Equity — количество баллов собственности,\n",
    " - Balance — баланс на счёте,\n",
    " - Products — количество продуктов, которыми пользуется клиент,\n",
    " - CreditCard — есть ли кредитная карта,\n",
    " - Last_activity — активный клиент,\n",
    " - estimated_salary — заработная плата клиента,\n",
    " - Churn — ушёл или нет."
   ]
  },
  {
   "cell_type": "markdown",
   "id": "a6a86a53",
   "metadata": {},
   "source": [
    "## Проверка и подготовка данных к анализу"
   ]
  },
  {
   "cell_type": "code",
   "execution_count": 1,
   "id": "043ddf6f",
   "metadata": {},
   "outputs": [],
   "source": [
    "#Импорт библиотек\n",
    "import pandas as pd\n",
    "import datetime as dt\n",
    "from datetime import datetime, timedelta\n",
    "import numpy as np\n",
    "import matplotlib.pyplot as plt\n",
    "import scipy.stats as stats\n",
    "import seaborn as sns\n",
    "from scipy import stats as st\n",
    "import math as mth\n",
    "from plotly import graph_objects as go\n",
    "import statistics\n",
    "from scipy.stats import skew, mode"
   ]
  },
  {
   "cell_type": "code",
   "execution_count": 2,
   "id": "980a8614",
   "metadata": {},
   "outputs": [],
   "source": [
    "data=pd.read_csv('https://code.s3.yandex.net/datasets/bank_scrooge.csv')\n",
    "data.head()"
   ]
  },
  {
   "cell_type": "code",
   "execution_count": 62,
   "id": "d24fd22c",
   "metadata": {},
   "outputs": [],
   "source": [
    "data.to_csv('bank_scrooge.csv')"
   ]
  },
  {
   "cell_type": "markdown",
   "id": "b32b21aa",
   "metadata": {},
   "source": [
    "### Проверка типа данных в столбцах"
   ]
  },
  {
   "cell_type": "code",
   "execution_count": 3,
   "id": "2211cd5d",
   "metadata": {},
   "outputs": [
    {
     "name": "stdout",
     "output_type": "stream",
     "text": [
      "<class 'pandas.core.frame.DataFrame'>\n",
      "RangeIndex: 10000 entries, 0 to 9999\n",
      "Data columns (total 12 columns):\n",
      " #   Column         Non-Null Count  Dtype  \n",
      "---  ------         --------------  -----  \n",
      " 0   USERID         10000 non-null  int64  \n",
      " 1   score          10000 non-null  float64\n",
      " 2   city           10000 non-null  object \n",
      " 3   gender         10000 non-null  object \n",
      " 4   age            9974 non-null   float64\n",
      " 5   equity         10000 non-null  int64  \n",
      " 6   balance        7705 non-null   float64\n",
      " 7   products       10000 non-null  int64  \n",
      " 8   credit_card    10000 non-null  int64  \n",
      " 9   last_activity  10000 non-null  int64  \n",
      " 10  EST_SALARY     10000 non-null  float64\n",
      " 11  churn          10000 non-null  int64  \n",
      "dtypes: float64(4), int64(6), object(2)\n",
      "memory usage: 937.6+ KB\n"
     ]
    }
   ],
   "source": [
    "#Проверка типа данных и проверка пропущенных значений в столбцах\n",
    "data.info()"
   ]
  },
  {
   "cell_type": "markdown",
   "id": "ec09200e",
   "metadata": {},
   "source": [
    "Все данные соответствуют своему типу"
   ]
  },
  {
   "cell_type": "code",
   "execution_count": 4,
   "id": "9bdb3807",
   "metadata": {},
   "outputs": [
    {
     "data": {
      "text/html": [
       "<div>\n",
       "<style scoped>\n",
       "    .dataframe tbody tr th:only-of-type {\n",
       "        vertical-align: middle;\n",
       "    }\n",
       "\n",
       "    .dataframe tbody tr th {\n",
       "        vertical-align: top;\n",
       "    }\n",
       "\n",
       "    .dataframe thead th {\n",
       "        text-align: right;\n",
       "    }\n",
       "</style>\n",
       "<table border=\"1\" class=\"dataframe\">\n",
       "  <thead>\n",
       "    <tr style=\"text-align: right;\">\n",
       "      <th></th>\n",
       "      <th>USERID</th>\n",
       "      <th>score</th>\n",
       "      <th>age</th>\n",
       "      <th>equity</th>\n",
       "      <th>balance</th>\n",
       "      <th>products</th>\n",
       "      <th>credit_card</th>\n",
       "      <th>last_activity</th>\n",
       "      <th>EST_SALARY</th>\n",
       "      <th>churn</th>\n",
       "    </tr>\n",
       "  </thead>\n",
       "  <tbody>\n",
       "    <tr>\n",
       "      <th>count</th>\n",
       "      <td>10000.00000</td>\n",
       "      <td>10000.000000</td>\n",
       "      <td>9974.000000</td>\n",
       "      <td>10000.000000</td>\n",
       "      <td>7.705000e+03</td>\n",
       "      <td>10000.000000</td>\n",
       "      <td>10000.000000</td>\n",
       "      <td>10000.000000</td>\n",
       "      <td>1.000000e+04</td>\n",
       "      <td>10000.000000</td>\n",
       "    </tr>\n",
       "    <tr>\n",
       "      <th>mean</th>\n",
       "      <td>171814.71260</td>\n",
       "      <td>848.699400</td>\n",
       "      <td>42.734409</td>\n",
       "      <td>2.627600</td>\n",
       "      <td>8.277943e+05</td>\n",
       "      <td>1.870100</td>\n",
       "      <td>0.680400</td>\n",
       "      <td>0.523500</td>\n",
       "      <td>1.478669e+05</td>\n",
       "      <td>0.182000</td>\n",
       "    </tr>\n",
       "    <tr>\n",
       "      <th>std</th>\n",
       "      <td>33708.23812</td>\n",
       "      <td>65.448519</td>\n",
       "      <td>12.179971</td>\n",
       "      <td>1.980836</td>\n",
       "      <td>1.980614e+06</td>\n",
       "      <td>0.792647</td>\n",
       "      <td>0.466345</td>\n",
       "      <td>0.499472</td>\n",
       "      <td>1.393885e+05</td>\n",
       "      <td>0.385864</td>\n",
       "    </tr>\n",
       "    <tr>\n",
       "      <th>min</th>\n",
       "      <td>94561.00000</td>\n",
       "      <td>642.000000</td>\n",
       "      <td>18.000000</td>\n",
       "      <td>0.000000</td>\n",
       "      <td>0.000000e+00</td>\n",
       "      <td>0.000000</td>\n",
       "      <td>0.000000</td>\n",
       "      <td>0.000000</td>\n",
       "      <td>2.546300e+03</td>\n",
       "      <td>0.000000</td>\n",
       "    </tr>\n",
       "    <tr>\n",
       "      <th>25%</th>\n",
       "      <td>142810.25000</td>\n",
       "      <td>802.000000</td>\n",
       "      <td>33.000000</td>\n",
       "      <td>0.000000</td>\n",
       "      <td>2.955542e+05</td>\n",
       "      <td>1.000000</td>\n",
       "      <td>0.000000</td>\n",
       "      <td>0.000000</td>\n",
       "      <td>7.525190e+04</td>\n",
       "      <td>0.000000</td>\n",
       "    </tr>\n",
       "    <tr>\n",
       "      <th>50%</th>\n",
       "      <td>172728.00000</td>\n",
       "      <td>853.000000</td>\n",
       "      <td>40.000000</td>\n",
       "      <td>3.000000</td>\n",
       "      <td>5.242722e+05</td>\n",
       "      <td>2.000000</td>\n",
       "      <td>1.000000</td>\n",
       "      <td>1.000000</td>\n",
       "      <td>1.196581e+05</td>\n",
       "      <td>0.000000</td>\n",
       "    </tr>\n",
       "    <tr>\n",
       "      <th>75%</th>\n",
       "      <td>201261.75000</td>\n",
       "      <td>900.000000</td>\n",
       "      <td>51.000000</td>\n",
       "      <td>4.000000</td>\n",
       "      <td>9.807058e+05</td>\n",
       "      <td>2.000000</td>\n",
       "      <td>1.000000</td>\n",
       "      <td>1.000000</td>\n",
       "      <td>1.745005e+05</td>\n",
       "      <td>0.000000</td>\n",
       "    </tr>\n",
       "    <tr>\n",
       "      <th>max</th>\n",
       "      <td>229145.00000</td>\n",
       "      <td>1000.000000</td>\n",
       "      <td>86.000000</td>\n",
       "      <td>9.000000</td>\n",
       "      <td>1.191136e+08</td>\n",
       "      <td>5.000000</td>\n",
       "      <td>1.000000</td>\n",
       "      <td>1.000000</td>\n",
       "      <td>1.395064e+06</td>\n",
       "      <td>1.000000</td>\n",
       "    </tr>\n",
       "  </tbody>\n",
       "</table>\n",
       "</div>"
      ],
      "text/plain": [
       "             USERID         score          age        equity       balance  \\\n",
       "count   10000.00000  10000.000000  9974.000000  10000.000000  7.705000e+03   \n",
       "mean   171814.71260    848.699400    42.734409      2.627600  8.277943e+05   \n",
       "std     33708.23812     65.448519    12.179971      1.980836  1.980614e+06   \n",
       "min     94561.00000    642.000000    18.000000      0.000000  0.000000e+00   \n",
       "25%    142810.25000    802.000000    33.000000      0.000000  2.955542e+05   \n",
       "50%    172728.00000    853.000000    40.000000      3.000000  5.242722e+05   \n",
       "75%    201261.75000    900.000000    51.000000      4.000000  9.807058e+05   \n",
       "max    229145.00000   1000.000000    86.000000      9.000000  1.191136e+08   \n",
       "\n",
       "           products   credit_card  last_activity    EST_SALARY         churn  \n",
       "count  10000.000000  10000.000000   10000.000000  1.000000e+04  10000.000000  \n",
       "mean       1.870100      0.680400       0.523500  1.478669e+05      0.182000  \n",
       "std        0.792647      0.466345       0.499472  1.393885e+05      0.385864  \n",
       "min        0.000000      0.000000       0.000000  2.546300e+03      0.000000  \n",
       "25%        1.000000      0.000000       0.000000  7.525190e+04      0.000000  \n",
       "50%        2.000000      1.000000       1.000000  1.196581e+05      0.000000  \n",
       "75%        2.000000      1.000000       1.000000  1.745005e+05      0.000000  \n",
       "max        5.000000      1.000000       1.000000  1.395064e+06      1.000000  "
      ]
     },
     "execution_count": 4,
     "metadata": {},
     "output_type": "execute_result"
    }
   ],
   "source": [
    "data.describe()"
   ]
  },
  {
   "cell_type": "markdown",
   "id": "8dacfb06",
   "metadata": {},
   "source": [
    "Существуют данные, в которых у клиентов нет ни одного продукта в банке. Необходимо проверить эти строки."
   ]
  },
  {
   "cell_type": "code",
   "execution_count": 5,
   "id": "f79553ae",
   "metadata": {},
   "outputs": [
    {
     "data": {
      "text/html": [
       "<div>\n",
       "<style scoped>\n",
       "    .dataframe tbody tr th:only-of-type {\n",
       "        vertical-align: middle;\n",
       "    }\n",
       "\n",
       "    .dataframe tbody tr th {\n",
       "        vertical-align: top;\n",
       "    }\n",
       "\n",
       "    .dataframe thead th {\n",
       "        text-align: right;\n",
       "    }\n",
       "</style>\n",
       "<table border=\"1\" class=\"dataframe\">\n",
       "  <thead>\n",
       "    <tr style=\"text-align: right;\">\n",
       "      <th></th>\n",
       "      <th>USERID</th>\n",
       "      <th>score</th>\n",
       "      <th>city</th>\n",
       "      <th>gender</th>\n",
       "      <th>age</th>\n",
       "      <th>equity</th>\n",
       "      <th>balance</th>\n",
       "      <th>products</th>\n",
       "      <th>credit_card</th>\n",
       "      <th>last_activity</th>\n",
       "      <th>EST_SALARY</th>\n",
       "      <th>churn</th>\n",
       "    </tr>\n",
       "  </thead>\n",
       "  <tbody>\n",
       "    <tr>\n",
       "      <th>8957</th>\n",
       "      <td>147837</td>\n",
       "      <td>962.0</td>\n",
       "      <td>Рыбинск</td>\n",
       "      <td>Ж</td>\n",
       "      <td>79.0</td>\n",
       "      <td>3</td>\n",
       "      <td>NaN</td>\n",
       "      <td>0</td>\n",
       "      <td>0</td>\n",
       "      <td>0</td>\n",
       "      <td>25063.96</td>\n",
       "      <td>1</td>\n",
       "    </tr>\n",
       "  </tbody>\n",
       "</table>\n",
       "</div>"
      ],
      "text/plain": [
       "      USERID  score     city gender   age  equity  balance  products  \\\n",
       "8957  147837  962.0  Рыбинск      Ж  79.0       3      NaN         0   \n",
       "\n",
       "      credit_card  last_activity  EST_SALARY  churn  \n",
       "8957            0              0    25063.96      1  "
      ]
     },
     "execution_count": 5,
     "metadata": {},
     "output_type": "execute_result"
    }
   ],
   "source": [
    "#выввод строк, где у клиента нет ни одного продукта в банке\n",
    "data[data['products']==0]"
   ]
  },
  {
   "cell_type": "markdown",
   "id": "5f350b3c",
   "metadata": {},
   "source": [
    "Здесь всего одна строка и она не является показательной, ее можно удалить."
   ]
  },
  {
   "cell_type": "code",
   "execution_count": 6,
   "id": "85fc824f",
   "metadata": {},
   "outputs": [],
   "source": [
    "#удаление строки, где у клиента нет ни одного продукта в банке\n",
    "data=data[data['products']!=0]"
   ]
  },
  {
   "cell_type": "markdown",
   "id": "3697bc83",
   "metadata": {},
   "source": [
    "### Проверка на явные дубликаты и неявные дубликаты"
   ]
  },
  {
   "cell_type": "code",
   "execution_count": 7,
   "id": "27d8b667",
   "metadata": {},
   "outputs": [
    {
     "data": {
      "text/plain": [
       "0"
      ]
     },
     "execution_count": 7,
     "metadata": {},
     "output_type": "execute_result"
    }
   ],
   "source": [
    "#Проверка на явные дубликаты\n",
    "data.duplicated().sum()"
   ]
  },
  {
   "cell_type": "markdown",
   "id": "2a786b4d",
   "metadata": {},
   "source": [
    "Полностью дублирующих строк в датасете нет"
   ]
  },
  {
   "cell_type": "code",
   "execution_count": 8,
   "id": "1c1b1a26",
   "metadata": {},
   "outputs": [
    {
     "data": {
      "text/plain": [
       "146"
      ]
     },
     "execution_count": 8,
     "metadata": {},
     "output_type": "execute_result"
    }
   ],
   "source": [
    "#Проверка на неявные дубликаты по номеру клиента\n",
    "data['USERID'].duplicated(keep=False).sum()"
   ]
  },
  {
   "cell_type": "markdown",
   "id": "036935cd",
   "metadata": {},
   "source": [
    "Обнаружено 146 строк, где есть неявные дубликаты по номеру клиенту, необходимо проверить эти данные"
   ]
  },
  {
   "cell_type": "code",
   "execution_count": 9,
   "id": "a6c2eaee",
   "metadata": {},
   "outputs": [
    {
     "data": {
      "text/html": [
       "<div>\n",
       "<style scoped>\n",
       "    .dataframe tbody tr th:only-of-type {\n",
       "        vertical-align: middle;\n",
       "    }\n",
       "\n",
       "    .dataframe tbody tr th {\n",
       "        vertical-align: top;\n",
       "    }\n",
       "\n",
       "    .dataframe thead th {\n",
       "        text-align: right;\n",
       "    }\n",
       "</style>\n",
       "<table border=\"1\" class=\"dataframe\">\n",
       "  <thead>\n",
       "    <tr style=\"text-align: right;\">\n",
       "      <th></th>\n",
       "      <th>USERID</th>\n",
       "      <th>score</th>\n",
       "      <th>city</th>\n",
       "      <th>gender</th>\n",
       "      <th>age</th>\n",
       "      <th>equity</th>\n",
       "      <th>balance</th>\n",
       "      <th>products</th>\n",
       "      <th>credit_card</th>\n",
       "      <th>last_activity</th>\n",
       "      <th>EST_SALARY</th>\n",
       "      <th>churn</th>\n",
       "    </tr>\n",
       "  </thead>\n",
       "  <tbody>\n",
       "    <tr>\n",
       "      <th>6457</th>\n",
       "      <td>228075</td>\n",
       "      <td>839.0</td>\n",
       "      <td>Рыбинск</td>\n",
       "      <td>М</td>\n",
       "      <td>39.0</td>\n",
       "      <td>5</td>\n",
       "      <td>507199.85</td>\n",
       "      <td>3</td>\n",
       "      <td>0</td>\n",
       "      <td>1</td>\n",
       "      <td>85195.80</td>\n",
       "      <td>0</td>\n",
       "    </tr>\n",
       "    <tr>\n",
       "      <th>1247</th>\n",
       "      <td>228075</td>\n",
       "      <td>932.0</td>\n",
       "      <td>Ярославль</td>\n",
       "      <td>М</td>\n",
       "      <td>NaN</td>\n",
       "      <td>5</td>\n",
       "      <td>7601719.20</td>\n",
       "      <td>2</td>\n",
       "      <td>1</td>\n",
       "      <td>1</td>\n",
       "      <td>408121.16</td>\n",
       "      <td>0</td>\n",
       "    </tr>\n",
       "    <tr>\n",
       "      <th>8205</th>\n",
       "      <td>227795</td>\n",
       "      <td>840.0</td>\n",
       "      <td>Рыбинск</td>\n",
       "      <td>М</td>\n",
       "      <td>34.0</td>\n",
       "      <td>2</td>\n",
       "      <td>350768.03</td>\n",
       "      <td>1</td>\n",
       "      <td>1</td>\n",
       "      <td>0</td>\n",
       "      <td>102036.14</td>\n",
       "      <td>1</td>\n",
       "    </tr>\n",
       "    <tr>\n",
       "      <th>8497</th>\n",
       "      <td>227795</td>\n",
       "      <td>839.0</td>\n",
       "      <td>Ярославль</td>\n",
       "      <td>М</td>\n",
       "      <td>34.0</td>\n",
       "      <td>2</td>\n",
       "      <td>326593.14</td>\n",
       "      <td>2</td>\n",
       "      <td>1</td>\n",
       "      <td>0</td>\n",
       "      <td>103314.92</td>\n",
       "      <td>0</td>\n",
       "    </tr>\n",
       "    <tr>\n",
       "      <th>4216</th>\n",
       "      <td>226719</td>\n",
       "      <td>903.0</td>\n",
       "      <td>Рыбинск</td>\n",
       "      <td>Ж</td>\n",
       "      <td>63.0</td>\n",
       "      <td>0</td>\n",
       "      <td>NaN</td>\n",
       "      <td>1</td>\n",
       "      <td>1</td>\n",
       "      <td>0</td>\n",
       "      <td>138582.58</td>\n",
       "      <td>0</td>\n",
       "    </tr>\n",
       "    <tr>\n",
       "      <th>2597</th>\n",
       "      <td>226719</td>\n",
       "      <td>990.0</td>\n",
       "      <td>Ярославль</td>\n",
       "      <td>М</td>\n",
       "      <td>37.0</td>\n",
       "      <td>4</td>\n",
       "      <td>14648692.14</td>\n",
       "      <td>2</td>\n",
       "      <td>0</td>\n",
       "      <td>0</td>\n",
       "      <td>934412.61</td>\n",
       "      <td>1</td>\n",
       "    </tr>\n",
       "    <tr>\n",
       "      <th>6412</th>\n",
       "      <td>226550</td>\n",
       "      <td>939.0</td>\n",
       "      <td>Ярославль</td>\n",
       "      <td>М</td>\n",
       "      <td>34.0</td>\n",
       "      <td>0</td>\n",
       "      <td>NaN</td>\n",
       "      <td>1</td>\n",
       "      <td>1</td>\n",
       "      <td>1</td>\n",
       "      <td>145913.73</td>\n",
       "      <td>0</td>\n",
       "    </tr>\n",
       "    <tr>\n",
       "      <th>8070</th>\n",
       "      <td>226550</td>\n",
       "      <td>940.0</td>\n",
       "      <td>Рыбинск</td>\n",
       "      <td>М</td>\n",
       "      <td>NaN</td>\n",
       "      <td>0</td>\n",
       "      <td>NaN</td>\n",
       "      <td>1</td>\n",
       "      <td>0</td>\n",
       "      <td>1</td>\n",
       "      <td>147696.95</td>\n",
       "      <td>0</td>\n",
       "    </tr>\n",
       "    <tr>\n",
       "      <th>9104</th>\n",
       "      <td>222480</td>\n",
       "      <td>776.0</td>\n",
       "      <td>Рыбинск</td>\n",
       "      <td>Ж</td>\n",
       "      <td>NaN</td>\n",
       "      <td>5</td>\n",
       "      <td>796735.09</td>\n",
       "      <td>1</td>\n",
       "      <td>1</td>\n",
       "      <td>1</td>\n",
       "      <td>55073.63</td>\n",
       "      <td>0</td>\n",
       "    </tr>\n",
       "    <tr>\n",
       "      <th>6446</th>\n",
       "      <td>222480</td>\n",
       "      <td>776.0</td>\n",
       "      <td>Ярославль</td>\n",
       "      <td>Ж</td>\n",
       "      <td>38.0</td>\n",
       "      <td>5</td>\n",
       "      <td>823145.83</td>\n",
       "      <td>2</td>\n",
       "      <td>1</td>\n",
       "      <td>1</td>\n",
       "      <td>55777.44</td>\n",
       "      <td>0</td>\n",
       "    </tr>\n",
       "    <tr>\n",
       "      <th>9634</th>\n",
       "      <td>221809</td>\n",
       "      <td>917.0</td>\n",
       "      <td>Ярославль</td>\n",
       "      <td>М</td>\n",
       "      <td>NaN</td>\n",
       "      <td>0</td>\n",
       "      <td>NaN</td>\n",
       "      <td>1</td>\n",
       "      <td>1</td>\n",
       "      <td>1</td>\n",
       "      <td>192644.15</td>\n",
       "      <td>0</td>\n",
       "    </tr>\n",
       "    <tr>\n",
       "      <th>9322</th>\n",
       "      <td>221809</td>\n",
       "      <td>917.0</td>\n",
       "      <td>Рыбинск</td>\n",
       "      <td>М</td>\n",
       "      <td>45.0</td>\n",
       "      <td>0</td>\n",
       "      <td>NaN</td>\n",
       "      <td>1</td>\n",
       "      <td>1</td>\n",
       "      <td>1</td>\n",
       "      <td>199728.29</td>\n",
       "      <td>0</td>\n",
       "    </tr>\n",
       "    <tr>\n",
       "      <th>440</th>\n",
       "      <td>221197</td>\n",
       "      <td>663.0</td>\n",
       "      <td>Рыбинск</td>\n",
       "      <td>М</td>\n",
       "      <td>27.0</td>\n",
       "      <td>0</td>\n",
       "      <td>NaN</td>\n",
       "      <td>1</td>\n",
       "      <td>1</td>\n",
       "      <td>1</td>\n",
       "      <td>172573.13</td>\n",
       "      <td>0</td>\n",
       "    </tr>\n",
       "    <tr>\n",
       "      <th>8632</th>\n",
       "      <td>221197</td>\n",
       "      <td>893.0</td>\n",
       "      <td>Ярославль</td>\n",
       "      <td>М</td>\n",
       "      <td>NaN</td>\n",
       "      <td>0</td>\n",
       "      <td>NaN</td>\n",
       "      <td>1</td>\n",
       "      <td>1</td>\n",
       "      <td>0</td>\n",
       "      <td>173929.92</td>\n",
       "      <td>0</td>\n",
       "    </tr>\n",
       "    <tr>\n",
       "      <th>2444</th>\n",
       "      <td>221156</td>\n",
       "      <td>913.0</td>\n",
       "      <td>Ярославль</td>\n",
       "      <td>М</td>\n",
       "      <td>NaN</td>\n",
       "      <td>0</td>\n",
       "      <td>NaN</td>\n",
       "      <td>1</td>\n",
       "      <td>1</td>\n",
       "      <td>1</td>\n",
       "      <td>135693.24</td>\n",
       "      <td>0</td>\n",
       "    </tr>\n",
       "    <tr>\n",
       "      <th>1389</th>\n",
       "      <td>221156</td>\n",
       "      <td>687.0</td>\n",
       "      <td>Рыбинск</td>\n",
       "      <td>М</td>\n",
       "      <td>61.0</td>\n",
       "      <td>0</td>\n",
       "      <td>NaN</td>\n",
       "      <td>1</td>\n",
       "      <td>1</td>\n",
       "      <td>1</td>\n",
       "      <td>136361.72</td>\n",
       "      <td>0</td>\n",
       "    </tr>\n",
       "    <tr>\n",
       "      <th>2302</th>\n",
       "      <td>220816</td>\n",
       "      <td>934.0</td>\n",
       "      <td>Рыбинск</td>\n",
       "      <td>Ж</td>\n",
       "      <td>74.0</td>\n",
       "      <td>5</td>\n",
       "      <td>1294285.39</td>\n",
       "      <td>3</td>\n",
       "      <td>1</td>\n",
       "      <td>0</td>\n",
       "      <td>95606.80</td>\n",
       "      <td>0</td>\n",
       "    </tr>\n",
       "    <tr>\n",
       "      <th>1740</th>\n",
       "      <td>220816</td>\n",
       "      <td>840.0</td>\n",
       "      <td>Ярославль</td>\n",
       "      <td>Ж</td>\n",
       "      <td>41.0</td>\n",
       "      <td>3</td>\n",
       "      <td>1193287.13</td>\n",
       "      <td>2</td>\n",
       "      <td>1</td>\n",
       "      <td>1</td>\n",
       "      <td>76434.94</td>\n",
       "      <td>1</td>\n",
       "    </tr>\n",
       "    <tr>\n",
       "      <th>1010</th>\n",
       "      <td>219343</td>\n",
       "      <td>921.0</td>\n",
       "      <td>Ярославль</td>\n",
       "      <td>Ж</td>\n",
       "      <td>33.0</td>\n",
       "      <td>0</td>\n",
       "      <td>NaN</td>\n",
       "      <td>1</td>\n",
       "      <td>1</td>\n",
       "      <td>0</td>\n",
       "      <td>159475.61</td>\n",
       "      <td>0</td>\n",
       "    </tr>\n",
       "    <tr>\n",
       "      <th>7248</th>\n",
       "      <td>219343</td>\n",
       "      <td>920.0</td>\n",
       "      <td>Рыбинск</td>\n",
       "      <td>Ж</td>\n",
       "      <td>NaN</td>\n",
       "      <td>0</td>\n",
       "      <td>NaN</td>\n",
       "      <td>1</td>\n",
       "      <td>1</td>\n",
       "      <td>0</td>\n",
       "      <td>159248.67</td>\n",
       "      <td>0</td>\n",
       "    </tr>\n",
       "  </tbody>\n",
       "</table>\n",
       "</div>"
      ],
      "text/plain": [
       "      USERID  score       city gender   age  equity      balance  products  \\\n",
       "6457  228075  839.0    Рыбинск      М  39.0       5    507199.85         3   \n",
       "1247  228075  932.0  Ярославль      М   NaN       5   7601719.20         2   \n",
       "8205  227795  840.0    Рыбинск      М  34.0       2    350768.03         1   \n",
       "8497  227795  839.0  Ярославль      М  34.0       2    326593.14         2   \n",
       "4216  226719  903.0    Рыбинск      Ж  63.0       0          NaN         1   \n",
       "2597  226719  990.0  Ярославль      М  37.0       4  14648692.14         2   \n",
       "6412  226550  939.0  Ярославль      М  34.0       0          NaN         1   \n",
       "8070  226550  940.0    Рыбинск      М   NaN       0          NaN         1   \n",
       "9104  222480  776.0    Рыбинск      Ж   NaN       5    796735.09         1   \n",
       "6446  222480  776.0  Ярославль      Ж  38.0       5    823145.83         2   \n",
       "9634  221809  917.0  Ярославль      М   NaN       0          NaN         1   \n",
       "9322  221809  917.0    Рыбинск      М  45.0       0          NaN         1   \n",
       "440   221197  663.0    Рыбинск      М  27.0       0          NaN         1   \n",
       "8632  221197  893.0  Ярославль      М   NaN       0          NaN         1   \n",
       "2444  221156  913.0  Ярославль      М   NaN       0          NaN         1   \n",
       "1389  221156  687.0    Рыбинск      М  61.0       0          NaN         1   \n",
       "2302  220816  934.0    Рыбинск      Ж  74.0       5   1294285.39         3   \n",
       "1740  220816  840.0  Ярославль      Ж  41.0       3   1193287.13         2   \n",
       "1010  219343  921.0  Ярославль      Ж  33.0       0          NaN         1   \n",
       "7248  219343  920.0    Рыбинск      Ж   NaN       0          NaN         1   \n",
       "\n",
       "      credit_card  last_activity  EST_SALARY  churn  \n",
       "6457            0              1    85195.80      0  \n",
       "1247            1              1   408121.16      0  \n",
       "8205            1              0   102036.14      1  \n",
       "8497            1              0   103314.92      0  \n",
       "4216            1              0   138582.58      0  \n",
       "2597            0              0   934412.61      1  \n",
       "6412            1              1   145913.73      0  \n",
       "8070            0              1   147696.95      0  \n",
       "9104            1              1    55073.63      0  \n",
       "6446            1              1    55777.44      0  \n",
       "9634            1              1   192644.15      0  \n",
       "9322            1              1   199728.29      0  \n",
       "440             1              1   172573.13      0  \n",
       "8632            1              0   173929.92      0  \n",
       "2444            1              1   135693.24      0  \n",
       "1389            1              1   136361.72      0  \n",
       "2302            1              0    95606.80      0  \n",
       "1740            1              1    76434.94      1  \n",
       "1010            1              0   159475.61      0  \n",
       "7248            1              0   159248.67      0  "
      ]
     },
     "execution_count": 9,
     "metadata": {},
     "output_type": "execute_result"
    }
   ],
   "source": [
    "user=data[data['USERID'].duplicated(keep=False)]\n",
    "user=user.sort_values(by='USERID',ascending=False)\n",
    "user.head(20)"
   ]
  },
  {
   "cell_type": "code",
   "execution_count": 10,
   "id": "f0249ea0",
   "metadata": {},
   "outputs": [
    {
     "data": {
      "text/plain": [
       "array(['Рыбинск', 'Ярославль'], dtype=object)"
      ]
     },
     "execution_count": 10,
     "metadata": {},
     "output_type": "execute_result"
    }
   ],
   "source": [
    "user['city'].sort_values().unique()"
   ]
  },
  {
   "cell_type": "markdown",
   "id": "30b46e0c",
   "metadata": {},
   "source": [
    "По данным видно, что записи по одному клиенту различаются по городам (это Рыбинск и Ярославль), также у некоторых пользователей видно, что меняется количество продуктов. Возможно, данные клиента переезжали и становились клиентами банка в другом городе. В таком случае данные удалять не стоит, будем использовать их в анализе."
   ]
  },
  {
   "cell_type": "markdown",
   "id": "f563ae1a",
   "metadata": {},
   "source": [
    "Также сделаем проверку по столбцам, где значения должны быть уникальными"
   ]
  },
  {
   "cell_type": "code",
   "execution_count": 11,
   "id": "07d5e44c",
   "metadata": {},
   "outputs": [
    {
     "data": {
      "text/plain": [
       "array(['Ростов', 'Рыбинск', 'Ярославль'], dtype=object)"
      ]
     },
     "execution_count": 11,
     "metadata": {},
     "output_type": "execute_result"
    }
   ],
   "source": [
    "#Проверка на неявные дубликаты по городам\n",
    "data['city'].sort_values().unique()"
   ]
  },
  {
   "cell_type": "code",
   "execution_count": 12,
   "id": "f08a4760",
   "metadata": {},
   "outputs": [
    {
     "data": {
      "text/plain": [
       "array(['Ж', 'М'], dtype=object)"
      ]
     },
     "execution_count": 12,
     "metadata": {},
     "output_type": "execute_result"
    }
   ],
   "source": [
    "#Проверка на неявные дубликаты по полу\n",
    "data['gender'].sort_values().unique()"
   ]
  },
  {
   "cell_type": "code",
   "execution_count": 13,
   "id": "a5b4095c",
   "metadata": {},
   "outputs": [
    {
     "data": {
      "text/plain": [
       "array([18., 19., 20., 21., 22., 23., 24., 25., 26., 27., 28., 29., 30.,\n",
       "       31., 32., 33., 34., 35., 36., 37., 38., 39., 40., 41., 42., 43.,\n",
       "       44., 45., 46., 47., 48., 49., 50., 51., 52., 53., 54., 55., 56.,\n",
       "       57., 58., 59., 60., 61., 62., 63., 64., 65., 66., 67., 68., 69.,\n",
       "       70., 71., 72., 73., 74., 75., 76., 77., 78., 79., 80., 81., 82.,\n",
       "       83., 84., 86., nan])"
      ]
     },
     "execution_count": 13,
     "metadata": {},
     "output_type": "execute_result"
    }
   ],
   "source": [
    "#Проверка на неявные дубликаты по возрасту\n",
    "data['age'].sort_values().unique()"
   ]
  },
  {
   "cell_type": "code",
   "execution_count": 14,
   "id": "5a19eb76",
   "metadata": {},
   "outputs": [
    {
     "data": {
      "text/plain": [
       "array([0, 1, 2, 3, 4, 5, 6, 7, 8, 9])"
      ]
     },
     "execution_count": 14,
     "metadata": {},
     "output_type": "execute_result"
    }
   ],
   "source": [
    "#Проверка на неявные дубликаты по количеству баллов собственности\n",
    "data['equity'].sort_values().unique()"
   ]
  },
  {
   "cell_type": "code",
   "execution_count": 15,
   "id": "bcc8811c",
   "metadata": {},
   "outputs": [
    {
     "data": {
      "text/plain": [
       "array([1, 2, 3, 4, 5])"
      ]
     },
     "execution_count": 15,
     "metadata": {},
     "output_type": "execute_result"
    }
   ],
   "source": [
    "#Проверка на неявные дубликаты по количеству продуктов\n",
    "data['products'].sort_values().unique()"
   ]
  },
  {
   "cell_type": "code",
   "execution_count": 16,
   "id": "b2f30d05",
   "metadata": {},
   "outputs": [
    {
     "data": {
      "text/plain": [
       "array([0, 1])"
      ]
     },
     "execution_count": 16,
     "metadata": {},
     "output_type": "execute_result"
    }
   ],
   "source": [
    "#Проверка на неявные дубликаты по наличию кредитной карты\n",
    "data['credit_card'].sort_values().unique()"
   ]
  },
  {
   "cell_type": "code",
   "execution_count": 17,
   "id": "77486fa1",
   "metadata": {},
   "outputs": [
    {
     "data": {
      "text/plain": [
       "array([0, 1])"
      ]
     },
     "execution_count": 17,
     "metadata": {},
     "output_type": "execute_result"
    }
   ],
   "source": [
    "#Проверка на неявные дубликаты по признаку активного клиента\n",
    "data['last_activity'].sort_values().unique()"
   ]
  },
  {
   "cell_type": "code",
   "execution_count": 18,
   "id": "deb3a6f6",
   "metadata": {},
   "outputs": [
    {
     "data": {
      "text/plain": [
       "array([0, 1])"
      ]
     },
     "execution_count": 18,
     "metadata": {},
     "output_type": "execute_result"
    }
   ],
   "source": [
    "#Проверка на неявные дубликаты по признаку того, что ушел клиент или нет\n",
    "data['churn'].sort_values().unique()"
   ]
  },
  {
   "cell_type": "markdown",
   "id": "f174814a",
   "metadata": {},
   "source": [
    "Неявных дубликатов по столбцам не обнаружено"
   ]
  },
  {
   "cell_type": "markdown",
   "id": "1e280c57",
   "metadata": {},
   "source": [
    "### Проверка пропущенных значений в столбцах"
   ]
  },
  {
   "cell_type": "code",
   "execution_count": 19,
   "id": "39a93f77",
   "metadata": {},
   "outputs": [
    {
     "data": {
      "text/plain": [
       "USERID            0.000000\n",
       "score             0.000000\n",
       "city              0.000000\n",
       "gender            0.000000\n",
       "age               0.260026\n",
       "equity            0.000000\n",
       "balance          22.942294\n",
       "products          0.000000\n",
       "credit_card       0.000000\n",
       "last_activity     0.000000\n",
       "EST_SALARY        0.000000\n",
       "churn             0.000000\n",
       "dtype: float64"
      ]
     },
     "execution_count": 19,
     "metadata": {},
     "output_type": "execute_result"
    }
   ],
   "source": [
    "#проверка пропущенных значений\n",
    "data.isna().mean()*100"
   ]
  },
  {
   "cell_type": "markdown",
   "id": "72690ff7",
   "metadata": {},
   "source": [
    "Обнаружены пропущенные значения в столбцах с возрастом (0.26%) и с балансом на счете (22.9%). Рассмотрим эти данные по отдельности."
   ]
  },
  {
   "cell_type": "code",
   "execution_count": 20,
   "id": "37713e45",
   "metadata": {},
   "outputs": [],
   "source": [
    "#Заменим пропуски в возрасте на 0\n",
    "data['age']=data['age'].fillna(0)"
   ]
  },
  {
   "cell_type": "code",
   "execution_count": 21,
   "id": "b8277e72",
   "metadata": {},
   "outputs": [
    {
     "data": {
      "text/plain": [
       "26"
      ]
     },
     "execution_count": 21,
     "metadata": {},
     "output_type": "execute_result"
    }
   ],
   "source": [
    "#Проверим количество строк, где возраст равен 0\n",
    "age=data.query('age <= 0')\n",
    "age['age'].count()"
   ]
  },
  {
   "cell_type": "markdown",
   "id": "feac3dbc",
   "metadata": {},
   "source": [
    "Так как таких строк меньше одного процента (0.26%), удалим эти данные"
   ]
  },
  {
   "cell_type": "code",
   "execution_count": 22,
   "id": "49e91fe7",
   "metadata": {},
   "outputs": [],
   "source": [
    "#Удаление строк, где возраст равен 0\n",
    "data=data.query('age >= 1')"
   ]
  },
  {
   "cell_type": "code",
   "execution_count": 23,
   "id": "f614fbb4",
   "metadata": {},
   "outputs": [
    {
     "data": {
      "text/html": [
       "<div>\n",
       "<style scoped>\n",
       "    .dataframe tbody tr th:only-of-type {\n",
       "        vertical-align: middle;\n",
       "    }\n",
       "\n",
       "    .dataframe tbody tr th {\n",
       "        vertical-align: top;\n",
       "    }\n",
       "\n",
       "    .dataframe thead th {\n",
       "        text-align: right;\n",
       "    }\n",
       "</style>\n",
       "<table border=\"1\" class=\"dataframe\">\n",
       "  <thead>\n",
       "    <tr style=\"text-align: right;\">\n",
       "      <th></th>\n",
       "      <th>USERID</th>\n",
       "      <th>score</th>\n",
       "      <th>age</th>\n",
       "      <th>equity</th>\n",
       "      <th>balance</th>\n",
       "      <th>products</th>\n",
       "      <th>credit_card</th>\n",
       "      <th>last_activity</th>\n",
       "      <th>EST_SALARY</th>\n",
       "      <th>churn</th>\n",
       "    </tr>\n",
       "  </thead>\n",
       "  <tbody>\n",
       "    <tr>\n",
       "      <th>count</th>\n",
       "      <td>2278.000000</td>\n",
       "      <td>2278.000000</td>\n",
       "      <td>2278.000000</td>\n",
       "      <td>2278.000000</td>\n",
       "      <td>0.0</td>\n",
       "      <td>2278.000000</td>\n",
       "      <td>2278.000000</td>\n",
       "      <td>2278.000000</td>\n",
       "      <td>2.278000e+03</td>\n",
       "      <td>2278.000000</td>\n",
       "    </tr>\n",
       "    <tr>\n",
       "      <th>mean</th>\n",
       "      <td>171915.451273</td>\n",
       "      <td>865.314750</td>\n",
       "      <td>42.076822</td>\n",
       "      <td>0.050044</td>\n",
       "      <td>NaN</td>\n",
       "      <td>1.163740</td>\n",
       "      <td>0.815628</td>\n",
       "      <td>0.549166</td>\n",
       "      <td>2.264338e+05</td>\n",
       "      <td>0.005268</td>\n",
       "    </tr>\n",
       "    <tr>\n",
       "      <th>std</th>\n",
       "      <td>33306.706956</td>\n",
       "      <td>89.550489</td>\n",
       "      <td>11.919094</td>\n",
       "      <td>0.218083</td>\n",
       "      <td>NaN</td>\n",
       "      <td>0.403065</td>\n",
       "      <td>0.387873</td>\n",
       "      <td>0.497686</td>\n",
       "      <td>1.998249e+05</td>\n",
       "      <td>0.072404</td>\n",
       "    </tr>\n",
       "    <tr>\n",
       "      <th>min</th>\n",
       "      <td>114182.000000</td>\n",
       "      <td>642.000000</td>\n",
       "      <td>18.000000</td>\n",
       "      <td>0.000000</td>\n",
       "      <td>NaN</td>\n",
       "      <td>1.000000</td>\n",
       "      <td>0.000000</td>\n",
       "      <td>0.000000</td>\n",
       "      <td>2.027403e+04</td>\n",
       "      <td>0.000000</td>\n",
       "    </tr>\n",
       "    <tr>\n",
       "      <th>25%</th>\n",
       "      <td>142986.750000</td>\n",
       "      <td>871.000000</td>\n",
       "      <td>33.000000</td>\n",
       "      <td>0.000000</td>\n",
       "      <td>NaN</td>\n",
       "      <td>1.000000</td>\n",
       "      <td>1.000000</td>\n",
       "      <td>0.000000</td>\n",
       "      <td>1.202695e+05</td>\n",
       "      <td>0.000000</td>\n",
       "    </tr>\n",
       "    <tr>\n",
       "      <th>50%</th>\n",
       "      <td>172376.000000</td>\n",
       "      <td>903.000000</td>\n",
       "      <td>40.000000</td>\n",
       "      <td>0.000000</td>\n",
       "      <td>NaN</td>\n",
       "      <td>1.000000</td>\n",
       "      <td>1.000000</td>\n",
       "      <td>1.000000</td>\n",
       "      <td>1.743542e+05</td>\n",
       "      <td>0.000000</td>\n",
       "    </tr>\n",
       "    <tr>\n",
       "      <th>75%</th>\n",
       "      <td>201258.500000</td>\n",
       "      <td>922.000000</td>\n",
       "      <td>49.000000</td>\n",
       "      <td>0.000000</td>\n",
       "      <td>NaN</td>\n",
       "      <td>1.000000</td>\n",
       "      <td>1.000000</td>\n",
       "      <td>1.000000</td>\n",
       "      <td>2.403970e+05</td>\n",
       "      <td>0.000000</td>\n",
       "    </tr>\n",
       "    <tr>\n",
       "      <th>max</th>\n",
       "      <td>229145.000000</td>\n",
       "      <td>990.000000</td>\n",
       "      <td>86.000000</td>\n",
       "      <td>1.000000</td>\n",
       "      <td>NaN</td>\n",
       "      <td>3.000000</td>\n",
       "      <td>1.000000</td>\n",
       "      <td>1.000000</td>\n",
       "      <td>1.333687e+06</td>\n",
       "      <td>1.000000</td>\n",
       "    </tr>\n",
       "  </tbody>\n",
       "</table>\n",
       "</div>"
      ],
      "text/plain": [
       "              USERID        score          age       equity  balance  \\\n",
       "count    2278.000000  2278.000000  2278.000000  2278.000000      0.0   \n",
       "mean   171915.451273   865.314750    42.076822     0.050044      NaN   \n",
       "std     33306.706956    89.550489    11.919094     0.218083      NaN   \n",
       "min    114182.000000   642.000000    18.000000     0.000000      NaN   \n",
       "25%    142986.750000   871.000000    33.000000     0.000000      NaN   \n",
       "50%    172376.000000   903.000000    40.000000     0.000000      NaN   \n",
       "75%    201258.500000   922.000000    49.000000     0.000000      NaN   \n",
       "max    229145.000000   990.000000    86.000000     1.000000      NaN   \n",
       "\n",
       "          products  credit_card  last_activity    EST_SALARY        churn  \n",
       "count  2278.000000  2278.000000    2278.000000  2.278000e+03  2278.000000  \n",
       "mean      1.163740     0.815628       0.549166  2.264338e+05     0.005268  \n",
       "std       0.403065     0.387873       0.497686  1.998249e+05     0.072404  \n",
       "min       1.000000     0.000000       0.000000  2.027403e+04     0.000000  \n",
       "25%       1.000000     1.000000       0.000000  1.202695e+05     0.000000  \n",
       "50%       1.000000     1.000000       1.000000  1.743542e+05     0.000000  \n",
       "75%       1.000000     1.000000       1.000000  2.403970e+05     0.000000  \n",
       "max       3.000000     1.000000       1.000000  1.333687e+06     1.000000  "
      ]
     },
     "execution_count": 23,
     "metadata": {},
     "output_type": "execute_result"
    }
   ],
   "source": [
    "#Проверим строки, где есть пропущенные значение по балансу\n",
    "data[data['balance'].isna()].describe()"
   ]
  },
  {
   "cell_type": "code",
   "execution_count": 24,
   "id": "3e3b265f",
   "metadata": {},
   "outputs": [
    {
     "data": {
      "text/html": [
       "<div>\n",
       "<style scoped>\n",
       "    .dataframe tbody tr th:only-of-type {\n",
       "        vertical-align: middle;\n",
       "    }\n",
       "\n",
       "    .dataframe tbody tr th {\n",
       "        vertical-align: top;\n",
       "    }\n",
       "\n",
       "    .dataframe thead th {\n",
       "        text-align: right;\n",
       "    }\n",
       "</style>\n",
       "<table border=\"1\" class=\"dataframe\">\n",
       "  <thead>\n",
       "    <tr style=\"text-align: right;\">\n",
       "      <th></th>\n",
       "      <th>USERID</th>\n",
       "      <th>score</th>\n",
       "      <th>age</th>\n",
       "      <th>equity</th>\n",
       "      <th>balance</th>\n",
       "      <th>products</th>\n",
       "      <th>credit_card</th>\n",
       "      <th>last_activity</th>\n",
       "      <th>EST_SALARY</th>\n",
       "      <th>churn</th>\n",
       "    </tr>\n",
       "  </thead>\n",
       "  <tbody>\n",
       "    <tr>\n",
       "      <th>count</th>\n",
       "      <td>9973.000000</td>\n",
       "      <td>9973.000000</td>\n",
       "      <td>9973.000000</td>\n",
       "      <td>9973.000000</td>\n",
       "      <td>7.695000e+03</td>\n",
       "      <td>9973.000000</td>\n",
       "      <td>9973.000000</td>\n",
       "      <td>9973.000000</td>\n",
       "      <td>9.973000e+03</td>\n",
       "      <td>9973.000000</td>\n",
       "    </tr>\n",
       "    <tr>\n",
       "      <th>mean</th>\n",
       "      <td>171757.616966</td>\n",
       "      <td>848.671212</td>\n",
       "      <td>42.730773</td>\n",
       "      <td>2.630803</td>\n",
       "      <td>8.272456e+05</td>\n",
       "      <td>1.871653</td>\n",
       "      <td>0.680237</td>\n",
       "      <td>0.522912</td>\n",
       "      <td>1.477991e+05</td>\n",
       "      <td>0.182292</td>\n",
       "    </tr>\n",
       "    <tr>\n",
       "      <th>std</th>\n",
       "      <td>33696.365256</td>\n",
       "      <td>65.393153</td>\n",
       "      <td>12.175166</td>\n",
       "      <td>1.980060</td>\n",
       "      <td>1.980327e+06</td>\n",
       "      <td>0.792547</td>\n",
       "      <td>0.466408</td>\n",
       "      <td>0.499500</td>\n",
       "      <td>1.392871e+05</td>\n",
       "      <td>0.386105</td>\n",
       "    </tr>\n",
       "    <tr>\n",
       "      <th>min</th>\n",
       "      <td>94561.000000</td>\n",
       "      <td>642.000000</td>\n",
       "      <td>18.000000</td>\n",
       "      <td>0.000000</td>\n",
       "      <td>0.000000e+00</td>\n",
       "      <td>1.000000</td>\n",
       "      <td>0.000000</td>\n",
       "      <td>0.000000</td>\n",
       "      <td>2.546300e+03</td>\n",
       "      <td>0.000000</td>\n",
       "    </tr>\n",
       "    <tr>\n",
       "      <th>25%</th>\n",
       "      <td>142757.000000</td>\n",
       "      <td>802.000000</td>\n",
       "      <td>33.000000</td>\n",
       "      <td>0.000000</td>\n",
       "      <td>2.956987e+05</td>\n",
       "      <td>1.000000</td>\n",
       "      <td>0.000000</td>\n",
       "      <td>0.000000</td>\n",
       "      <td>7.525202e+04</td>\n",
       "      <td>0.000000</td>\n",
       "    </tr>\n",
       "    <tr>\n",
       "      <th>50%</th>\n",
       "      <td>172651.000000</td>\n",
       "      <td>853.000000</td>\n",
       "      <td>40.000000</td>\n",
       "      <td>3.000000</td>\n",
       "      <td>5.242953e+05</td>\n",
       "      <td>2.000000</td>\n",
       "      <td>1.000000</td>\n",
       "      <td>1.000000</td>\n",
       "      <td>1.196431e+05</td>\n",
       "      <td>0.000000</td>\n",
       "    </tr>\n",
       "    <tr>\n",
       "      <th>75%</th>\n",
       "      <td>201164.000000</td>\n",
       "      <td>900.000000</td>\n",
       "      <td>51.000000</td>\n",
       "      <td>4.000000</td>\n",
       "      <td>9.800512e+05</td>\n",
       "      <td>2.000000</td>\n",
       "      <td>1.000000</td>\n",
       "      <td>1.000000</td>\n",
       "      <td>1.745000e+05</td>\n",
       "      <td>0.000000</td>\n",
       "    </tr>\n",
       "    <tr>\n",
       "      <th>max</th>\n",
       "      <td>229145.000000</td>\n",
       "      <td>1000.000000</td>\n",
       "      <td>86.000000</td>\n",
       "      <td>9.000000</td>\n",
       "      <td>1.191136e+08</td>\n",
       "      <td>5.000000</td>\n",
       "      <td>1.000000</td>\n",
       "      <td>1.000000</td>\n",
       "      <td>1.395064e+06</td>\n",
       "      <td>1.000000</td>\n",
       "    </tr>\n",
       "  </tbody>\n",
       "</table>\n",
       "</div>"
      ],
      "text/plain": [
       "              USERID        score          age       equity       balance  \\\n",
       "count    9973.000000  9973.000000  9973.000000  9973.000000  7.695000e+03   \n",
       "mean   171757.616966   848.671212    42.730773     2.630803  8.272456e+05   \n",
       "std     33696.365256    65.393153    12.175166     1.980060  1.980327e+06   \n",
       "min     94561.000000   642.000000    18.000000     0.000000  0.000000e+00   \n",
       "25%    142757.000000   802.000000    33.000000     0.000000  2.956987e+05   \n",
       "50%    172651.000000   853.000000    40.000000     3.000000  5.242953e+05   \n",
       "75%    201164.000000   900.000000    51.000000     4.000000  9.800512e+05   \n",
       "max    229145.000000  1000.000000    86.000000     9.000000  1.191136e+08   \n",
       "\n",
       "          products  credit_card  last_activity    EST_SALARY        churn  \n",
       "count  9973.000000  9973.000000    9973.000000  9.973000e+03  9973.000000  \n",
       "mean      1.871653     0.680237       0.522912  1.477991e+05     0.182292  \n",
       "std       0.792547     0.466408       0.499500  1.392871e+05     0.386105  \n",
       "min       1.000000     0.000000       0.000000  2.546300e+03     0.000000  \n",
       "25%       1.000000     0.000000       0.000000  7.525202e+04     0.000000  \n",
       "50%       2.000000     1.000000       1.000000  1.196431e+05     0.000000  \n",
       "75%       2.000000     1.000000       1.000000  1.745000e+05     0.000000  \n",
       "max       5.000000     1.000000       1.000000  1.395064e+06     1.000000  "
      ]
     },
     "execution_count": 24,
     "metadata": {},
     "output_type": "execute_result"
    }
   ],
   "source": [
    "data.describe()"
   ]
  },
  {
   "cell_type": "markdown",
   "id": "5a64cfe8",
   "metadata": {},
   "source": [
    "Если сравнивать пустые строки по балансу с общим массивом данных, то видно, что клиенты, где не заполнены данные по балансу, имеют следующие отличия:\n",
    "\n",
    "- Более высокие баллы кредитного скорнига\n",
    "- У них меньше баллов собственности\n",
    "- Они имеют больше продуктов в банке"
   ]
  },
  {
   "cell_type": "markdown",
   "id": "e445fdc5",
   "metadata": {},
   "source": [
    "Для анализа пропущенных значений по балансу создадим столбец с признаком пропуска данного значения и построим сводную таблицу, чтобы найти взаимосвязи с другими данными."
   ]
  },
  {
   "cell_type": "code",
   "execution_count": 25,
   "id": "6d8cb203",
   "metadata": {},
   "outputs": [
    {
     "data": {
      "text/html": [
       "<div>\n",
       "<style scoped>\n",
       "    .dataframe tbody tr th:only-of-type {\n",
       "        vertical-align: middle;\n",
       "    }\n",
       "\n",
       "    .dataframe tbody tr th {\n",
       "        vertical-align: top;\n",
       "    }\n",
       "\n",
       "    .dataframe thead th {\n",
       "        text-align: right;\n",
       "    }\n",
       "</style>\n",
       "<table border=\"1\" class=\"dataframe\">\n",
       "  <thead>\n",
       "    <tr style=\"text-align: right;\">\n",
       "      <th></th>\n",
       "      <th>USERID</th>\n",
       "      <th>score</th>\n",
       "      <th>city</th>\n",
       "      <th>gender</th>\n",
       "      <th>age</th>\n",
       "      <th>equity</th>\n",
       "      <th>balance</th>\n",
       "      <th>products</th>\n",
       "      <th>credit_card</th>\n",
       "      <th>last_activity</th>\n",
       "      <th>EST_SALARY</th>\n",
       "      <th>churn</th>\n",
       "      <th>balance_pass</th>\n",
       "    </tr>\n",
       "  </thead>\n",
       "  <tbody>\n",
       "    <tr>\n",
       "      <th>0</th>\n",
       "      <td>183012</td>\n",
       "      <td>850.0</td>\n",
       "      <td>Рыбинск</td>\n",
       "      <td>Ж</td>\n",
       "      <td>25.0</td>\n",
       "      <td>1</td>\n",
       "      <td>59214.82</td>\n",
       "      <td>2</td>\n",
       "      <td>0</td>\n",
       "      <td>1</td>\n",
       "      <td>75719.14</td>\n",
       "      <td>1</td>\n",
       "      <td>0</td>\n",
       "    </tr>\n",
       "    <tr>\n",
       "      <th>1</th>\n",
       "      <td>146556</td>\n",
       "      <td>861.0</td>\n",
       "      <td>Рыбинск</td>\n",
       "      <td>Ж</td>\n",
       "      <td>37.0</td>\n",
       "      <td>5</td>\n",
       "      <td>850594.33</td>\n",
       "      <td>3</td>\n",
       "      <td>1</td>\n",
       "      <td>0</td>\n",
       "      <td>86621.77</td>\n",
       "      <td>0</td>\n",
       "      <td>0</td>\n",
       "    </tr>\n",
       "    <tr>\n",
       "      <th>2</th>\n",
       "      <td>120722</td>\n",
       "      <td>892.0</td>\n",
       "      <td>Рыбинск</td>\n",
       "      <td>Ж</td>\n",
       "      <td>30.0</td>\n",
       "      <td>0</td>\n",
       "      <td>NaN</td>\n",
       "      <td>1</td>\n",
       "      <td>1</td>\n",
       "      <td>1</td>\n",
       "      <td>107683.34</td>\n",
       "      <td>0</td>\n",
       "      <td>1</td>\n",
       "    </tr>\n",
       "    <tr>\n",
       "      <th>3</th>\n",
       "      <td>225363</td>\n",
       "      <td>866.0</td>\n",
       "      <td>Ярославль</td>\n",
       "      <td>Ж</td>\n",
       "      <td>51.0</td>\n",
       "      <td>5</td>\n",
       "      <td>1524746.26</td>\n",
       "      <td>2</td>\n",
       "      <td>0</td>\n",
       "      <td>1</td>\n",
       "      <td>174423.53</td>\n",
       "      <td>1</td>\n",
       "      <td>0</td>\n",
       "    </tr>\n",
       "    <tr>\n",
       "      <th>4</th>\n",
       "      <td>157978</td>\n",
       "      <td>730.0</td>\n",
       "      <td>Ярославль</td>\n",
       "      <td>М</td>\n",
       "      <td>34.0</td>\n",
       "      <td>5</td>\n",
       "      <td>174.00</td>\n",
       "      <td>1</td>\n",
       "      <td>1</td>\n",
       "      <td>0</td>\n",
       "      <td>67353.16</td>\n",
       "      <td>1</td>\n",
       "      <td>0</td>\n",
       "    </tr>\n",
       "  </tbody>\n",
       "</table>\n",
       "</div>"
      ],
      "text/plain": [
       "   USERID  score       city gender   age  equity     balance  products  \\\n",
       "0  183012  850.0    Рыбинск      Ж  25.0       1    59214.82         2   \n",
       "1  146556  861.0    Рыбинск      Ж  37.0       5   850594.33         3   \n",
       "2  120722  892.0    Рыбинск      Ж  30.0       0         NaN         1   \n",
       "3  225363  866.0  Ярославль      Ж  51.0       5  1524746.26         2   \n",
       "4  157978  730.0  Ярославль      М  34.0       5      174.00         1   \n",
       "\n",
       "   credit_card  last_activity  EST_SALARY  churn  balance_pass  \n",
       "0            0              1    75719.14      1             0  \n",
       "1            1              0    86621.77      0             0  \n",
       "2            1              1   107683.34      0             1  \n",
       "3            0              1   174423.53      1             0  \n",
       "4            1              0    67353.16      1             0  "
      ]
     },
     "execution_count": 25,
     "metadata": {},
     "output_type": "execute_result"
    }
   ],
   "source": [
    "#Создание нового столбца с признаком пропуска\n",
    "def pass_balance(balance):\n",
    "    if balance > 0:\n",
    "        return 0\n",
    "    else:\n",
    "        return 1\n",
    "\n",
    "data['balance_pass']=data['balance'].apply(pass_balance)\n",
    "data.head()"
   ]
  },
  {
   "cell_type": "code",
   "execution_count": 26,
   "id": "29fb95b2",
   "metadata": {},
   "outputs": [
    {
     "data": {
      "text/html": [
       "<div>\n",
       "<style scoped>\n",
       "    .dataframe tbody tr th:only-of-type {\n",
       "        vertical-align: middle;\n",
       "    }\n",
       "\n",
       "    .dataframe tbody tr th {\n",
       "        vertical-align: top;\n",
       "    }\n",
       "\n",
       "    .dataframe thead th {\n",
       "        text-align: right;\n",
       "    }\n",
       "</style>\n",
       "<table border=\"1\" class=\"dataframe\">\n",
       "  <thead>\n",
       "    <tr style=\"text-align: right;\">\n",
       "      <th></th>\n",
       "      <th>balance_pass</th>\n",
       "      <th>no_pass</th>\n",
       "      <th>pass</th>\n",
       "    </tr>\n",
       "  </thead>\n",
       "  <tbody>\n",
       "    <tr>\n",
       "      <th>age</th>\n",
       "      <th>mean</th>\n",
       "      <td>42.9</td>\n",
       "      <td>42.1</td>\n",
       "    </tr>\n",
       "    <tr>\n",
       "      <th>EST_SALARY</th>\n",
       "      <th>mean</th>\n",
       "      <td>124541.3</td>\n",
       "      <td>226273.9</td>\n",
       "    </tr>\n",
       "    <tr>\n",
       "      <th>products</th>\n",
       "      <th>median</th>\n",
       "      <td>2</td>\n",
       "      <td>1</td>\n",
       "    </tr>\n",
       "    <tr>\n",
       "      <th>equity</th>\n",
       "      <th>median</th>\n",
       "      <td>4</td>\n",
       "      <td>0</td>\n",
       "    </tr>\n",
       "    <tr>\n",
       "      <th>city</th>\n",
       "      <th>mode</th>\n",
       "      <td>Ярославль</td>\n",
       "      <td>Ярославль</td>\n",
       "    </tr>\n",
       "    <tr>\n",
       "      <th>gender</th>\n",
       "      <th>mode</th>\n",
       "      <td>Ж</td>\n",
       "      <td>М</td>\n",
       "    </tr>\n",
       "  </tbody>\n",
       "</table>\n",
       "</div>"
      ],
      "text/plain": [
       "balance_pass         no_pass       pass\n",
       "age        mean         42.9       42.1\n",
       "EST_SALARY mean     124541.3   226273.9\n",
       "products   median          2          1\n",
       "equity     median          4          0\n",
       "city       mode    Ярославль  Ярославль\n",
       "gender     mode            Ж          М"
      ]
     },
     "execution_count": 26,
     "metadata": {},
     "output_type": "execute_result"
    }
   ],
   "source": [
    "#Создание сводной таблицы для сравнения основных данных по пропущенным и непропущенным значениям\n",
    "balance_pass=(data.groupby('balance_pass')\n",
    "              .agg({'age':'mean','EST_SALARY':'mean','products':'median',\n",
    "                    'equity':'median','city':[pd.Series.mode],'gender':[pd.Series.mode]})\n",
    "              .round(1).T)\n",
    "balance_pass=balance_pass.rename(columns = {0:'no_pass', 1:'pass'})\n",
    "balance_pass"
   ]
  },
  {
   "cell_type": "markdown",
   "id": "70a2cf16",
   "metadata": {},
   "source": [
    "У клиентов, с заполненым и незаполненым полем баланса, одинаковый средний возраст. Средняя зарплата, где пропущены значения, почти в 2 раза больше. Кол-во продуктов не сильно отличается, но по баллам собственности значительно уступают клиенты, где пропущены значения баланса.\n",
    "Есть один признак, который объединяет их, это город Ярославль, возможно, были какие-то технические сбои в этом городе и поэтому данные пропущены. В любом случае, у нас нет возможности заполнить пропущенные значения корректно, поэтому оставим пропуски как есть."
   ]
  },
  {
   "cell_type": "markdown",
   "id": "d6e34a04",
   "metadata": {},
   "source": [
    "### Кодирование данных"
   ]
  },
  {
   "cell_type": "code",
   "execution_count": 27,
   "id": "6161acbc",
   "metadata": {},
   "outputs": [],
   "source": [
    "#Проверим возраст клиентов, которые покинули банк, чтобы определить возрастные категории\n",
    "churn_1=data.query('churn==1')\n",
    "age=(churn_1.pivot_table(index='age',values='USERID',aggfunc='count').sort_values(by='age').reset_index())\n",
    "age=age.rename(columns={'USERID':'count'})"
   ]
  },
  {
   "cell_type": "code",
   "execution_count": 28,
   "id": "1744661a",
   "metadata": {},
   "outputs": [
    {
     "data": {
      "image/png": "[encoded data removed]",
      "text/plain": [
       "<Figure size 1224x360 with 1 Axes>"
      ]
     },
     "metadata": {
      "needs_background": "light"
     },
     "output_type": "display_data"
    }
   ],
   "source": [
    "#Построим график по возрасту клиентов\n",
    "plt.subplots(1,figsize=(17,5))\n",
    "plt.xticks(rotation=65)\n",
    "ax=sns.barplot(y='count',x='age',data=age) \n",
    "ax.axes.set_title('Количество клиентов по возрасту', fontsize=16)\n",
    "ax.set_ylabel('Кол-во клиентов', fontsize=14)\n",
    "ax.set_xlabel('Возраст', fontsize=14);"
   ]
  },
  {
   "cell_type": "markdown",
   "id": "6a074093",
   "metadata": {},
   "source": [
    "По графику видны возрастные категории клиентов; 18-24, 25-45, 46-62 и больше 63 лет."
   ]
  },
  {
   "cell_type": "code",
   "execution_count": 29,
   "id": "529879e7",
   "metadata": {},
   "outputs": [
    {
     "data": {
      "text/html": [
       "<div>\n",
       "<style scoped>\n",
       "    .dataframe tbody tr th:only-of-type {\n",
       "        vertical-align: middle;\n",
       "    }\n",
       "\n",
       "    .dataframe tbody tr th {\n",
       "        vertical-align: top;\n",
       "    }\n",
       "\n",
       "    .dataframe thead th {\n",
       "        text-align: right;\n",
       "    }\n",
       "</style>\n",
       "<table border=\"1\" class=\"dataframe\">\n",
       "  <thead>\n",
       "    <tr style=\"text-align: right;\">\n",
       "      <th></th>\n",
       "      <th>USERID</th>\n",
       "      <th>score</th>\n",
       "      <th>city</th>\n",
       "      <th>gender</th>\n",
       "      <th>age</th>\n",
       "      <th>equity</th>\n",
       "      <th>balance</th>\n",
       "      <th>products</th>\n",
       "      <th>credit_card</th>\n",
       "      <th>last_activity</th>\n",
       "      <th>EST_SALARY</th>\n",
       "      <th>churn</th>\n",
       "      <th>balance_pass</th>\n",
       "      <th>age_segment</th>\n",
       "    </tr>\n",
       "  </thead>\n",
       "  <tbody>\n",
       "    <tr>\n",
       "      <th>0</th>\n",
       "      <td>183012</td>\n",
       "      <td>850.0</td>\n",
       "      <td>Рыбинск</td>\n",
       "      <td>Ж</td>\n",
       "      <td>25.0</td>\n",
       "      <td>1</td>\n",
       "      <td>59214.82</td>\n",
       "      <td>2</td>\n",
       "      <td>0</td>\n",
       "      <td>1</td>\n",
       "      <td>75719.14</td>\n",
       "      <td>1</td>\n",
       "      <td>0</td>\n",
       "      <td>25-45</td>\n",
       "    </tr>\n",
       "    <tr>\n",
       "      <th>1</th>\n",
       "      <td>146556</td>\n",
       "      <td>861.0</td>\n",
       "      <td>Рыбинск</td>\n",
       "      <td>Ж</td>\n",
       "      <td>37.0</td>\n",
       "      <td>5</td>\n",
       "      <td>850594.33</td>\n",
       "      <td>3</td>\n",
       "      <td>1</td>\n",
       "      <td>0</td>\n",
       "      <td>86621.77</td>\n",
       "      <td>0</td>\n",
       "      <td>0</td>\n",
       "      <td>25-45</td>\n",
       "    </tr>\n",
       "    <tr>\n",
       "      <th>2</th>\n",
       "      <td>120722</td>\n",
       "      <td>892.0</td>\n",
       "      <td>Рыбинск</td>\n",
       "      <td>Ж</td>\n",
       "      <td>30.0</td>\n",
       "      <td>0</td>\n",
       "      <td>NaN</td>\n",
       "      <td>1</td>\n",
       "      <td>1</td>\n",
       "      <td>1</td>\n",
       "      <td>107683.34</td>\n",
       "      <td>0</td>\n",
       "      <td>1</td>\n",
       "      <td>25-45</td>\n",
       "    </tr>\n",
       "    <tr>\n",
       "      <th>3</th>\n",
       "      <td>225363</td>\n",
       "      <td>866.0</td>\n",
       "      <td>Ярославль</td>\n",
       "      <td>Ж</td>\n",
       "      <td>51.0</td>\n",
       "      <td>5</td>\n",
       "      <td>1524746.26</td>\n",
       "      <td>2</td>\n",
       "      <td>0</td>\n",
       "      <td>1</td>\n",
       "      <td>174423.53</td>\n",
       "      <td>1</td>\n",
       "      <td>0</td>\n",
       "      <td>46-62</td>\n",
       "    </tr>\n",
       "    <tr>\n",
       "      <th>4</th>\n",
       "      <td>157978</td>\n",
       "      <td>730.0</td>\n",
       "      <td>Ярославль</td>\n",
       "      <td>М</td>\n",
       "      <td>34.0</td>\n",
       "      <td>5</td>\n",
       "      <td>174.00</td>\n",
       "      <td>1</td>\n",
       "      <td>1</td>\n",
       "      <td>0</td>\n",
       "      <td>67353.16</td>\n",
       "      <td>1</td>\n",
       "      <td>0</td>\n",
       "      <td>25-45</td>\n",
       "    </tr>\n",
       "  </tbody>\n",
       "</table>\n",
       "</div>"
      ],
      "text/plain": [
       "   USERID  score       city gender   age  equity     balance  products  \\\n",
       "0  183012  850.0    Рыбинск      Ж  25.0       1    59214.82         2   \n",
       "1  146556  861.0    Рыбинск      Ж  37.0       5   850594.33         3   \n",
       "2  120722  892.0    Рыбинск      Ж  30.0       0         NaN         1   \n",
       "3  225363  866.0  Ярославль      Ж  51.0       5  1524746.26         2   \n",
       "4  157978  730.0  Ярославль      М  34.0       5      174.00         1   \n",
       "\n",
       "   credit_card  last_activity  EST_SALARY  churn  balance_pass age_segment  \n",
       "0            0              1    75719.14      1             0       25-45  \n",
       "1            1              0    86621.77      0             0       25-45  \n",
       "2            1              1   107683.34      0             1       25-45  \n",
       "3            0              1   174423.53      1             0       46-62  \n",
       "4            1              0    67353.16      1             0       25-45  "
      ]
     },
     "execution_count": 29,
     "metadata": {},
     "output_type": "execute_result"
    }
   ],
   "source": [
    "#Создадим столбец с возрастной категорией, ориентируясь на визулизацию возраста клиентов\n",
    "def age_segment(age):\n",
    "    if 25 > age >= 18:\n",
    "        return '18-24'\n",
    "    if 45 >= age >= 25:\n",
    "        return '25-45'\n",
    "    if 62 >= age >= 46:\n",
    "        return '46-62'\n",
    "    if 63 <= age:\n",
    "        return '63+' \n",
    "data['age_segment'] = data['age'].apply(age_segment)\n",
    "data.head()"
   ]
  },
  {
   "cell_type": "markdown",
   "id": "6f2016a1",
   "metadata": {},
   "source": [
    "Для удобства дальнейшего анализа закодируем категориальные переменные."
   ]
  },
  {
   "cell_type": "code",
   "execution_count": 30,
   "id": "7ae294d7",
   "metadata": {},
   "outputs": [],
   "source": [
    "#Кодирование переменных по возрастным категориям\n",
    "data['age_segment2']=data['age_segment']\n",
    "data=pd.get_dummies(data,columns =['age_segment2'])\n",
    "data=data.rename(columns=({\n",
    "    'age_segment2_18-24':'18-24','age_segment2_25-45':'25-45',\n",
    "    'age_segment2_46-62':'46-62','age_segment2_63+':'63+'}))"
   ]
  },
  {
   "cell_type": "code",
   "execution_count": 31,
   "id": "b506537f",
   "metadata": {},
   "outputs": [],
   "source": [
    "#Кодирование переменных по гендеру\n",
    "data['gender2']=data['gender']\n",
    "data=pd.get_dummies(data,columns =['gender2'])\n",
    "data=data.rename(columns=({\n",
    "    'gender2_Ж':'Ж','gender2_М':'М'}))"
   ]
  },
  {
   "cell_type": "code",
   "execution_count": 32,
   "id": "5295bfe7",
   "metadata": {},
   "outputs": [
    {
     "data": {
      "text/html": [
       "<div>\n",
       "<style scoped>\n",
       "    .dataframe tbody tr th:only-of-type {\n",
       "        vertical-align: middle;\n",
       "    }\n",
       "\n",
       "    .dataframe tbody tr th {\n",
       "        vertical-align: top;\n",
       "    }\n",
       "\n",
       "    .dataframe thead th {\n",
       "        text-align: right;\n",
       "    }\n",
       "</style>\n",
       "<table border=\"1\" class=\"dataframe\">\n",
       "  <thead>\n",
       "    <tr style=\"text-align: right;\">\n",
       "      <th></th>\n",
       "      <th>USERID</th>\n",
       "      <th>score</th>\n",
       "      <th>city</th>\n",
       "      <th>gender</th>\n",
       "      <th>age</th>\n",
       "      <th>equity</th>\n",
       "      <th>balance</th>\n",
       "      <th>products</th>\n",
       "      <th>credit_card</th>\n",
       "      <th>last_activity</th>\n",
       "      <th>...</th>\n",
       "      <th>age_segment</th>\n",
       "      <th>18-24</th>\n",
       "      <th>25-45</th>\n",
       "      <th>46-62</th>\n",
       "      <th>63+</th>\n",
       "      <th>Ж</th>\n",
       "      <th>М</th>\n",
       "      <th>Ростов</th>\n",
       "      <th>Рыбинск</th>\n",
       "      <th>Ярославль</th>\n",
       "    </tr>\n",
       "  </thead>\n",
       "  <tbody>\n",
       "    <tr>\n",
       "      <th>0</th>\n",
       "      <td>183012</td>\n",
       "      <td>850.0</td>\n",
       "      <td>Рыбинск</td>\n",
       "      <td>Ж</td>\n",
       "      <td>25.0</td>\n",
       "      <td>1</td>\n",
       "      <td>59214.82</td>\n",
       "      <td>2</td>\n",
       "      <td>0</td>\n",
       "      <td>1</td>\n",
       "      <td>...</td>\n",
       "      <td>25-45</td>\n",
       "      <td>0</td>\n",
       "      <td>1</td>\n",
       "      <td>0</td>\n",
       "      <td>0</td>\n",
       "      <td>1</td>\n",
       "      <td>0</td>\n",
       "      <td>0</td>\n",
       "      <td>1</td>\n",
       "      <td>0</td>\n",
       "    </tr>\n",
       "    <tr>\n",
       "      <th>1</th>\n",
       "      <td>146556</td>\n",
       "      <td>861.0</td>\n",
       "      <td>Рыбинск</td>\n",
       "      <td>Ж</td>\n",
       "      <td>37.0</td>\n",
       "      <td>5</td>\n",
       "      <td>850594.33</td>\n",
       "      <td>3</td>\n",
       "      <td>1</td>\n",
       "      <td>0</td>\n",
       "      <td>...</td>\n",
       "      <td>25-45</td>\n",
       "      <td>0</td>\n",
       "      <td>1</td>\n",
       "      <td>0</td>\n",
       "      <td>0</td>\n",
       "      <td>1</td>\n",
       "      <td>0</td>\n",
       "      <td>0</td>\n",
       "      <td>1</td>\n",
       "      <td>0</td>\n",
       "    </tr>\n",
       "    <tr>\n",
       "      <th>2</th>\n",
       "      <td>120722</td>\n",
       "      <td>892.0</td>\n",
       "      <td>Рыбинск</td>\n",
       "      <td>Ж</td>\n",
       "      <td>30.0</td>\n",
       "      <td>0</td>\n",
       "      <td>NaN</td>\n",
       "      <td>1</td>\n",
       "      <td>1</td>\n",
       "      <td>1</td>\n",
       "      <td>...</td>\n",
       "      <td>25-45</td>\n",
       "      <td>0</td>\n",
       "      <td>1</td>\n",
       "      <td>0</td>\n",
       "      <td>0</td>\n",
       "      <td>1</td>\n",
       "      <td>0</td>\n",
       "      <td>0</td>\n",
       "      <td>1</td>\n",
       "      <td>0</td>\n",
       "    </tr>\n",
       "    <tr>\n",
       "      <th>3</th>\n",
       "      <td>225363</td>\n",
       "      <td>866.0</td>\n",
       "      <td>Ярославль</td>\n",
       "      <td>Ж</td>\n",
       "      <td>51.0</td>\n",
       "      <td>5</td>\n",
       "      <td>1524746.26</td>\n",
       "      <td>2</td>\n",
       "      <td>0</td>\n",
       "      <td>1</td>\n",
       "      <td>...</td>\n",
       "      <td>46-62</td>\n",
       "      <td>0</td>\n",
       "      <td>0</td>\n",
       "      <td>1</td>\n",
       "      <td>0</td>\n",
       "      <td>1</td>\n",
       "      <td>0</td>\n",
       "      <td>0</td>\n",
       "      <td>0</td>\n",
       "      <td>1</td>\n",
       "    </tr>\n",
       "    <tr>\n",
       "      <th>4</th>\n",
       "      <td>157978</td>\n",
       "      <td>730.0</td>\n",
       "      <td>Ярославль</td>\n",
       "      <td>М</td>\n",
       "      <td>34.0</td>\n",
       "      <td>5</td>\n",
       "      <td>174.00</td>\n",
       "      <td>1</td>\n",
       "      <td>1</td>\n",
       "      <td>0</td>\n",
       "      <td>...</td>\n",
       "      <td>25-45</td>\n",
       "      <td>0</td>\n",
       "      <td>1</td>\n",
       "      <td>0</td>\n",
       "      <td>0</td>\n",
       "      <td>0</td>\n",
       "      <td>1</td>\n",
       "      <td>0</td>\n",
       "      <td>0</td>\n",
       "      <td>1</td>\n",
       "    </tr>\n",
       "  </tbody>\n",
       "</table>\n",
       "<p>5 rows × 23 columns</p>\n",
       "</div>"
      ],
      "text/plain": [
       "   USERID  score       city gender   age  equity     balance  products  \\\n",
       "0  183012  850.0    Рыбинск      Ж  25.0       1    59214.82         2   \n",
       "1  146556  861.0    Рыбинск      Ж  37.0       5   850594.33         3   \n",
       "2  120722  892.0    Рыбинск      Ж  30.0       0         NaN         1   \n",
       "3  225363  866.0  Ярославль      Ж  51.0       5  1524746.26         2   \n",
       "4  157978  730.0  Ярославль      М  34.0       5      174.00         1   \n",
       "\n",
       "   credit_card  last_activity  ...  age_segment  18-24  25-45 46-62  63+  Ж  \\\n",
       "0            0              1  ...        25-45      0      1     0    0  1   \n",
       "1            1              0  ...        25-45      0      1     0    0  1   \n",
       "2            1              1  ...        25-45      0      1     0    0  1   \n",
       "3            0              1  ...        46-62      0      0     1    0  1   \n",
       "4            1              0  ...        25-45      0      1     0    0  0   \n",
       "\n",
       "   М  Ростов  Рыбинск  Ярославль  \n",
       "0  0       0        1          0  \n",
       "1  0       0        1          0  \n",
       "2  0       0        1          0  \n",
       "3  0       0        0          1  \n",
       "4  1       0        0          1  \n",
       "\n",
       "[5 rows x 23 columns]"
      ]
     },
     "execution_count": 32,
     "metadata": {},
     "output_type": "execute_result"
    }
   ],
   "source": [
    "#Кодирование переменных по городу\n",
    "data['city2']=data['city']\n",
    "data=pd.get_dummies(data,columns =['city2'])\n",
    "data=data.rename(columns=({\n",
    "    'city2_Рыбинск':'Рыбинск','city2_Ярославль':'Ярославль','city2_Ростов':'Ростов'}))\n",
    "data.head()"
   ]
  },
  {
   "cell_type": "markdown",
   "id": "e6277e6d",
   "metadata": {},
   "source": [
    "По проверке и подготовки данных были совершены следующие действия:\n",
    "- Проверка типа данных\n",
    "- Проверка и анализ пропущенных значений в столбцах\n",
    "- Удалены строки, где у клиента нет ни одного продукта в банке и где не указан возраст клиента\n",
    "- Проверка на явные и не явные дубликаты\n",
    "- Определение возрастных категорий клиентов\n",
    "- Кодирование категорильальных переменных (возраст, гендер, город)"
   ]
  },
  {
   "cell_type": "markdown",
   "id": "edc011a8",
   "metadata": {},
   "source": [
    "## Анализ данных"
   ]
  },
  {
   "cell_type": "markdown",
   "id": "14b15cba",
   "metadata": {},
   "source": [
    "### Анализ распределения признаков"
   ]
  },
  {
   "cell_type": "code",
   "execution_count": 33,
   "id": "d796473d",
   "metadata": {},
   "outputs": [
    {
     "data": {
      "image/png": "[encoded data removed]",
      "text/plain": [
       "<Figure size 1080x648 with 2 Axes>"
      ]
     },
     "metadata": {
      "needs_background": "light"
     },
     "output_type": "display_data"
    }
   ],
   "source": [
    "#вызовем метод corr(), чтобы найти коэффициент корреляции, и построим тепловую карту:\n",
    "plt.figure(figsize=(15,9))\n",
    "sns.heatmap(data.corr().loc[:,['churn']].drop('churn').drop('USERID').sort_values('churn'),\n",
    "            annot=True,fmt=\".0%\",center=0, cmap= 'vlag');"
   ]
  },
  {
   "cell_type": "markdown",
   "id": "304e92fb",
   "metadata": {},
   "source": [
    "По тепловой карте видно, что наибольшая корреляция у следующих признаков:\n",
    "- Количество продуктов\n",
    "- Оценка собственности\n",
    "- Последняя активность клиента\n",
    "- Баллы кредитного скоринга\n",
    "- Наличие кредитной карты\n",
    "- Гендер\n",
    "- Возраст\n",
    "\n",
    "Чтобы определить сегменты клиентов, рассмотрим эти признаки подробнее"
   ]
  },
  {
   "cell_type": "markdown",
   "id": "46c4dddd",
   "metadata": {},
   "source": [
    "### Количество продуктов"
   ]
  },
  {
   "cell_type": "code",
   "execution_count": 34,
   "id": "93d87562",
   "metadata": {},
   "outputs": [
    {
     "data": {
      "image/png": "[encoded data removed]",
      "text/plain": [
       "<Figure size 936x432 with 1 Axes>"
      ]
     },
     "metadata": {
      "needs_background": "light"
     },
     "output_type": "display_data"
    }
   ],
   "source": [
    "#Сделаем визуализацию по кол-ву продуктов\n",
    "plt.figure(figsize=(13,6))\n",
    "plt.title('Соотношение клиентов по количеству продуктов')\n",
    "plt.xlabel('Кол-во продуктов', fontsize=12)\n",
    "sns.barplot(data=data,y='churn',x='products')\n",
    "plt.axhline(y=data['churn'].mean(), linewidth=1, color='r',zorder=1);"
   ]
  },
  {
   "cell_type": "markdown",
   "id": "40a66cf0",
   "metadata": {},
   "source": [
    "По графику видно, что большой отток клиентов, у которых более 3-х продуктов. Клиенты с 1-3 продуктами не показывают сильного оттока."
   ]
  },
  {
   "cell_type": "markdown",
   "id": "9772c96b",
   "metadata": {},
   "source": [
    "### Оценка собственности"
   ]
  },
  {
   "cell_type": "code",
   "execution_count": 35,
   "id": "022c6317",
   "metadata": {},
   "outputs": [
    {
     "data": {
      "image/png": "[encoded data removed]",
      "text/plain": [
       "<Figure size 936x432 with 1 Axes>"
      ]
     },
     "metadata": {
      "needs_background": "light"
     },
     "output_type": "display_data"
    }
   ],
   "source": [
    "#Сделаем визуализацию по оценке собственности клиентов\n",
    "plt.figure(figsize=(13,6))\n",
    "plt.title('Соотношение клиентов по оценке собственности')\n",
    "plt.xlabel('Оценка собственности', fontsize=12)\n",
    "sns.histplot(data=data,hue='churn',x='equity',stat='density',common_norm=False,element='poly',bins=9);"
   ]
  },
  {
   "cell_type": "markdown",
   "id": "88f22301",
   "metadata": {},
   "source": [
    "По графику видно, что зависимость оттока клиентов начинается от оценки 3. Чем выше оценка собственности, тем больше отток."
   ]
  },
  {
   "cell_type": "markdown",
   "id": "cf5b9642",
   "metadata": {},
   "source": [
    "### Последняя активность"
   ]
  },
  {
   "cell_type": "code",
   "execution_count": 36,
   "id": "3fc9a96a",
   "metadata": {},
   "outputs": [
    {
     "data": {
      "text/html": [
       "<div>\n",
       "<style scoped>\n",
       "    .dataframe tbody tr th:only-of-type {\n",
       "        vertical-align: middle;\n",
       "    }\n",
       "\n",
       "    .dataframe tbody tr th {\n",
       "        vertical-align: top;\n",
       "    }\n",
       "\n",
       "    .dataframe thead th {\n",
       "        text-align: right;\n",
       "    }\n",
       "</style>\n",
       "<table border=\"1\" class=\"dataframe\">\n",
       "  <thead>\n",
       "    <tr style=\"text-align: right;\">\n",
       "      <th></th>\n",
       "      <th>last_activity</th>\n",
       "      <th>churn</th>\n",
       "      <th>all</th>\n",
       "      <th>share</th>\n",
       "    </tr>\n",
       "  </thead>\n",
       "  <tbody>\n",
       "    <tr>\n",
       "      <th>1</th>\n",
       "      <td>Активный клиент</td>\n",
       "      <td>1277</td>\n",
       "      <td>5215</td>\n",
       "      <td>24.5</td>\n",
       "    </tr>\n",
       "    <tr>\n",
       "      <th>0</th>\n",
       "      <td>Неактивный клиент</td>\n",
       "      <td>541</td>\n",
       "      <td>4758</td>\n",
       "      <td>11.4</td>\n",
       "    </tr>\n",
       "  </tbody>\n",
       "</table>\n",
       "</div>"
      ],
      "text/plain": [
       "       last_activity  churn   all  share\n",
       "1    Активный клиент   1277  5215   24.5\n",
       "0  Неактивный клиент    541  4758   11.4"
      ]
     },
     "execution_count": 36,
     "metadata": {},
     "output_type": "execute_result"
    }
   ],
   "source": [
    "#Ушедшие клиенты в % по последней активности\n",
    "last_activity=(data.pivot_table(index='last_activity',values='churn',aggfunc=['sum','count']).reset_index())\n",
    "last_activity.columns=last_activity.columns.droplevel(level=1)\n",
    "last_activity=last_activity.rename(columns={'sum':'churn','count':'all'})\n",
    "last_activity['share']=round((last_activity['churn']/last_activity['all']),3)*100\n",
    "last_activity=last_activity.sort_values(by='share',ascending=False)\n",
    "\n",
    "#Переименуем 1 и 0 на активный/неактивный клиент\n",
    "def name_last_activity(last_activity):\n",
    "    if last_activity == 1:\n",
    "        return 'Активный клиент'\n",
    "    else:\n",
    "        return 'Неактивный клиент'\n",
    "last_activity['last_activity']=last_activity['last_activity'].apply(name_last_activity)\n",
    "\n",
    "last_activity"
   ]
  },
  {
   "cell_type": "code",
   "execution_count": 37,
   "id": "c9fcc04e",
   "metadata": {},
   "outputs": [
    {
     "data": {
      "image/png": "[encoded data removed]",
      "text/plain": [
       "<Figure size 504x360 with 1 Axes>"
      ]
     },
     "metadata": {
      "needs_background": "light"
     },
     "output_type": "display_data"
    }
   ],
   "source": [
    "#Сделаем визуализацию ушедших клиентов по кол-ву продуктов\n",
    "plt.figure(figsize=(7,5))\n",
    "sns.barplot(x='last_activity',y='share',data=last_activity)\n",
    "plt.title('Ушедшие клиенты в % по последней активности')\n",
    "plt.xlabel('Активность', fontsize=12)\n",
    "plt.ylabel('%',fontsize=12);"
   ]
  },
  {
   "cell_type": "markdown",
   "id": "292474dc",
   "metadata": {},
   "source": [
    "Здесь видно, что у активных клиентов отток высокий. Возможно, это связано, что активное использование услуг банков несет негативный опыт клиентам."
   ]
  },
  {
   "cell_type": "markdown",
   "id": "b06352ac",
   "metadata": {},
   "source": [
    "### Баллы кредитного скоринга"
   ]
  },
  {
   "cell_type": "code",
   "execution_count": 38,
   "id": "f4d1410f",
   "metadata": {},
   "outputs": [
    {
     "data": {
      "image/png": "[encoded data removed]",
      "text/plain": [
       "<Figure size 936x432 with 1 Axes>"
      ]
     },
     "metadata": {
      "needs_background": "light"
     },
     "output_type": "display_data"
    }
   ],
   "source": [
    "#Сделаем визуализацию по баллам кредитного скоринга клиентов\n",
    "plt.figure(figsize=(13,6))\n",
    "plt.title('Соотношение клиентов по баллам кредитного скоринга')\n",
    "plt.xlabel('Баллы кредитного скоринга', fontsize=12)\n",
    "sns.histplot(data=data,hue='churn',x='score',stat='density',common_norm=False,element='poly',bins=9);"
   ]
  },
  {
   "cell_type": "markdown",
   "id": "f2ebc52f",
   "metadata": {},
   "source": [
    "Больше всего клиентов ушло с баллами кредитного скоринга между 820 и 925 баллами."
   ]
  },
  {
   "cell_type": "markdown",
   "id": "f60e935d",
   "metadata": {},
   "source": [
    "### Наличие кредитной карты"
   ]
  },
  {
   "cell_type": "code",
   "execution_count": 39,
   "id": "de3b336a",
   "metadata": {},
   "outputs": [
    {
     "data": {
      "text/html": [
       "<div>\n",
       "<style scoped>\n",
       "    .dataframe tbody tr th:only-of-type {\n",
       "        vertical-align: middle;\n",
       "    }\n",
       "\n",
       "    .dataframe tbody tr th {\n",
       "        vertical-align: top;\n",
       "    }\n",
       "\n",
       "    .dataframe thead th {\n",
       "        text-align: right;\n",
       "    }\n",
       "</style>\n",
       "<table border=\"1\" class=\"dataframe\">\n",
       "  <thead>\n",
       "    <tr style=\"text-align: right;\">\n",
       "      <th></th>\n",
       "      <th>credit_card</th>\n",
       "      <th>churn</th>\n",
       "      <th>all</th>\n",
       "      <th>share</th>\n",
       "    </tr>\n",
       "  </thead>\n",
       "  <tbody>\n",
       "    <tr>\n",
       "      <th>0</th>\n",
       "      <td>Нет кредитной карты</td>\n",
       "      <td>815</td>\n",
       "      <td>3189</td>\n",
       "      <td>25.6</td>\n",
       "    </tr>\n",
       "    <tr>\n",
       "      <th>1</th>\n",
       "      <td>Есть кредитная карта</td>\n",
       "      <td>1003</td>\n",
       "      <td>6784</td>\n",
       "      <td>14.8</td>\n",
       "    </tr>\n",
       "  </tbody>\n",
       "</table>\n",
       "</div>"
      ],
      "text/plain": [
       "            credit_card  churn   all  share\n",
       "0   Нет кредитной карты    815  3189   25.6\n",
       "1  Есть кредитная карта   1003  6784   14.8"
      ]
     },
     "execution_count": 39,
     "metadata": {},
     "output_type": "execute_result"
    }
   ],
   "source": [
    "#Ушедшие клиенты в % по наличию кредитной карты\n",
    "credit=(data.pivot_table(index='credit_card',values='churn',aggfunc=['sum','count']).reset_index())\n",
    "credit.columns=credit.columns.droplevel(level=1)\n",
    "credit=credit.rename(columns={'sum':'churn','count':'all'})\n",
    "credit['share']=round((credit['churn']/credit['all']),3)*100\n",
    "credit=credit.sort_values(by='share',ascending=False)\n",
    "\n",
    "#Переименуем 1 и 0 на есть/нет кредитной карты\n",
    "def name_credit(credit_card):\n",
    "    if credit_card == 1:\n",
    "        return 'Есть кредитная карта'\n",
    "    else:\n",
    "        return 'Нет кредитной карты'\n",
    "credit['credit_card']=credit['credit_card'].apply(name_credit)\n",
    "credit"
   ]
  },
  {
   "cell_type": "code",
   "execution_count": 40,
   "id": "12a33749",
   "metadata": {},
   "outputs": [
    {
     "data": {
      "image/png": "[encoded data removed]",
      "text/plain": [
       "<Figure size 504x288 with 1 Axes>"
      ]
     },
     "metadata": {
      "needs_background": "light"
     },
     "output_type": "display_data"
    }
   ],
   "source": [
    "#Сделаем визуализацию по наличию кредитной карты\n",
    "plt.figure(figsize=(7,4))\n",
    "sns.barplot(x='credit_card',y='share',data=credit)\n",
    "plt.title('Ушедшие клиенты в % по наличию кредитной карты')\n",
    "plt.xlabel('Наличие кредитной карты', fontsize=12)\n",
    "plt.ylabel('%',fontsize=12);"
   ]
  },
  {
   "cell_type": "markdown",
   "id": "94153a5f",
   "metadata": {},
   "source": [
    "По данному графику видно, что клиенты, у которых не было кредитной карты, ушло почти в два раза больше, чем тех, которые использовали кредитную карту."
   ]
  },
  {
   "cell_type": "markdown",
   "id": "c96270ea",
   "metadata": {},
   "source": [
    "### Гендер"
   ]
  },
  {
   "cell_type": "code",
   "execution_count": 41,
   "id": "b0f8a61f",
   "metadata": {},
   "outputs": [
    {
     "data": {
      "text/html": [
       "<div>\n",
       "<style scoped>\n",
       "    .dataframe tbody tr th:only-of-type {\n",
       "        vertical-align: middle;\n",
       "    }\n",
       "\n",
       "    .dataframe tbody tr th {\n",
       "        vertical-align: top;\n",
       "    }\n",
       "\n",
       "    .dataframe thead th {\n",
       "        text-align: right;\n",
       "    }\n",
       "</style>\n",
       "<table border=\"1\" class=\"dataframe\">\n",
       "  <thead>\n",
       "    <tr style=\"text-align: right;\">\n",
       "      <th></th>\n",
       "      <th>gender</th>\n",
       "      <th>churn</th>\n",
       "      <th>all</th>\n",
       "      <th>share</th>\n",
       "    </tr>\n",
       "  </thead>\n",
       "  <tbody>\n",
       "    <tr>\n",
       "      <th>1</th>\n",
       "      <td>М</td>\n",
       "      <td>1183</td>\n",
       "      <td>4991</td>\n",
       "      <td>23.7</td>\n",
       "    </tr>\n",
       "    <tr>\n",
       "      <th>0</th>\n",
       "      <td>Ж</td>\n",
       "      <td>635</td>\n",
       "      <td>4982</td>\n",
       "      <td>12.7</td>\n",
       "    </tr>\n",
       "  </tbody>\n",
       "</table>\n",
       "</div>"
      ],
      "text/plain": [
       "  gender  churn   all  share\n",
       "1      М   1183  4991   23.7\n",
       "0      Ж    635  4982   12.7"
      ]
     },
     "execution_count": 41,
     "metadata": {},
     "output_type": "execute_result"
    }
   ],
   "source": [
    "#Ушедшие клиенты в % по гендеру\n",
    "gender=(data.pivot_table(index='gender',values='churn',aggfunc=['sum','count']).reset_index())\n",
    "gender.columns=gender.columns.droplevel(level=1)\n",
    "gender=gender.rename(columns={'sum':'churn','count':'all'})\n",
    "gender['share']=round((gender['churn']/gender['all']),3)*100\n",
    "gender=gender.sort_values(by='share',ascending=False)\n",
    "gender"
   ]
  },
  {
   "cell_type": "code",
   "execution_count": 42,
   "id": "10c03724",
   "metadata": {},
   "outputs": [
    {
     "data": {
      "image/png": "[encoded data removed]",
      "text/plain": [
       "<Figure size 504x288 with 1 Axes>"
      ]
     },
     "metadata": {
      "needs_background": "light"
     },
     "output_type": "display_data"
    }
   ],
   "source": [
    "#Сделаем визуализацию по гендеру клиента\n",
    "plt.figure(figsize=(7,4))\n",
    "sns.barplot(x='gender',y='share',data=gender)\n",
    "plt.title('Ушедшие клиенты в % по гендеру')\n",
    "plt.xlabel('Гендер', fontsize=12)\n",
    "plt.ylabel('%',fontsize=12);"
   ]
  },
  {
   "cell_type": "markdown",
   "id": "7220d11a",
   "metadata": {},
   "source": [
    "По графику видно, что доля оттока у мужчин почти в два раза больше, чем у женщин."
   ]
  },
  {
   "cell_type": "markdown",
   "id": "5179f588",
   "metadata": {},
   "source": [
    "### Возрастные категории"
   ]
  },
  {
   "cell_type": "code",
   "execution_count": 43,
   "id": "134d15c3",
   "metadata": {},
   "outputs": [
    {
     "data": {
      "image/png": "[encoded data removed]",
      "text/plain": [
       "<Figure size 936x432 with 1 Axes>"
      ]
     },
     "metadata": {
      "needs_background": "light"
     },
     "output_type": "display_data"
    }
   ],
   "source": [
    "#Сделаем визуализацию клиентов по возрастным категориям\n",
    "plt.figure(figsize=(13,6))\n",
    "plt.title('Соотношение клиентов по баллам кредитного скоринга')\n",
    "plt.xlabel('Баллы кредитного скоринга', fontsize=12)\n",
    "sns.histplot(data=data,hue='churn',x='age',stat='density',common_norm=False,element='poly',bins=9);"
   ]
  },
  {
   "cell_type": "markdown",
   "id": "13284708",
   "metadata": {},
   "source": [
    "По гарфику видно, что меньший отток у клиентов старше 63. Самыми отточными является категория 48-62 года, а также 25-35 лет."
   ]
  },
  {
   "cell_type": "markdown",
   "id": "7ad59191",
   "metadata": {},
   "source": [
    "### Сводная информация по портрету клиента"
   ]
  },
  {
   "cell_type": "code",
   "execution_count": 44,
   "id": "8b0d8c7b",
   "metadata": {},
   "outputs": [
    {
     "data": {
      "text/html": [
       "<div>\n",
       "<style scoped>\n",
       "    .dataframe tbody tr th:only-of-type {\n",
       "        vertical-align: middle;\n",
       "    }\n",
       "\n",
       "    .dataframe tbody tr th {\n",
       "        vertical-align: top;\n",
       "    }\n",
       "\n",
       "    .dataframe thead th {\n",
       "        text-align: right;\n",
       "    }\n",
       "</style>\n",
       "<table border=\"1\" class=\"dataframe\">\n",
       "  <thead>\n",
       "    <tr style=\"text-align: right;\">\n",
       "      <th></th>\n",
       "      <th>churn</th>\n",
       "      <th>no_churn</th>\n",
       "      <th>churn</th>\n",
       "    </tr>\n",
       "  </thead>\n",
       "  <tbody>\n",
       "    <tr>\n",
       "      <th>age</th>\n",
       "      <th>mean</th>\n",
       "      <td>43.0</td>\n",
       "      <td>41.4</td>\n",
       "    </tr>\n",
       "    <tr>\n",
       "      <th>EST_SALARY</th>\n",
       "      <th>mean</th>\n",
       "      <td>147674.6</td>\n",
       "      <td>148357.5</td>\n",
       "    </tr>\n",
       "    <tr>\n",
       "      <th>score</th>\n",
       "      <th>mean</th>\n",
       "      <td>845.4</td>\n",
       "      <td>863.4</td>\n",
       "    </tr>\n",
       "    <tr>\n",
       "      <th>products</th>\n",
       "      <th>median</th>\n",
       "      <td>2</td>\n",
       "      <td>2</td>\n",
       "    </tr>\n",
       "    <tr>\n",
       "      <th>equity</th>\n",
       "      <th>median</th>\n",
       "      <td>3</td>\n",
       "      <td>4</td>\n",
       "    </tr>\n",
       "    <tr>\n",
       "      <th>city</th>\n",
       "      <th>mode</th>\n",
       "      <td>Ярославль</td>\n",
       "      <td>Ярославль</td>\n",
       "    </tr>\n",
       "    <tr>\n",
       "      <th>gender</th>\n",
       "      <th>mode</th>\n",
       "      <td>Ж</td>\n",
       "      <td>М</td>\n",
       "    </tr>\n",
       "  </tbody>\n",
       "</table>\n",
       "</div>"
      ],
      "text/plain": [
       "churn               no_churn      churn\n",
       "age        mean         43.0       41.4\n",
       "EST_SALARY mean     147674.6   148357.5\n",
       "score      mean        845.4      863.4\n",
       "products   median          2          2\n",
       "equity     median          3          4\n",
       "city       mode    Ярославль  Ярославль\n",
       "gender     mode            Ж          М"
      ]
     },
     "execution_count": 44,
     "metadata": {},
     "output_type": "execute_result"
    }
   ],
   "source": [
    "#Создание сводной таблицы для сравнения портрета клиента\n",
    "client=(data.groupby('churn')\n",
    "            .agg({'age':'mean','EST_SALARY':'mean','score':'mean','products':'median',\n",
    "                  'equity':'median','city':[pd.Series.mode],'gender':[pd.Series.mode]})\n",
    "            .round(1).T)\n",
    "client=client.rename(columns = {0:'no_churn', 1:'churn'})\n",
    "client"
   ]
  },
  {
   "cell_type": "markdown",
   "id": "115590b8",
   "metadata": {},
   "source": [
    "Данная сводная таблица показывает сравнение ушедших и не ушедших клиентов.\n",
    "Как выяснили ранее, большая часть отточных клентов это мужчины, баллы кредитного скоринга 863 входят в диапозон выявленный ранее. Также совпадает оценка собственности (4).\n",
    "\n",
    "По анализу данных выделим основные признаки отточных клиентов:\n",
    "- Количество продуктов более 3-х\n",
    "- Оценка собственности от 3, чем выше оценка собственности, тем больше отток.\n",
    "- Высокий отток у активных клиетов\n",
    "- Баллы кредитного скоринга между 820 и 925\n",
    "- Отсутствие кредитной карты\n",
    "- Большой отток составляют мужчины\n",
    "- Возраст 48-62 года, а также 25-35 лет.\n",
    "\n",
    "По данным признакам составим портреты клиентов.\n"
   ]
  },
  {
   "cell_type": "markdown",
   "id": "c1ada107",
   "metadata": {},
   "source": [
    "## Портреты клиентов банка"
   ]
  },
  {
   "cell_type": "markdown",
   "id": "a5d549bf",
   "metadata": {},
   "source": [
    "### Портрет 1\n",
    "\n",
    "- ***Количество продуктов:*** от 3 и более\n",
    "- ***Остальные признаки:*** без ограничений"
   ]
  },
  {
   "cell_type": "code",
   "execution_count": 45,
   "id": "f609d401",
   "metadata": {},
   "outputs": [
    {
     "name": "stdout",
     "output_type": "stream",
     "text": [
      "Численность клиентов портрета 1: 1531\n",
      "Численность ушедших клиентов портрета 1: 605\n",
      "Доля ушедших клиентов портрета 1: 39.5 %\n"
     ]
    }
   ],
   "source": [
    "#Составление портрета клиента 1\n",
    "portrait1=data.query('products>= 3')\n",
    "#Расчет численности клиентов сегмента:\n",
    "print ('Численность клиентов портрета 1:',portrait1['USERID'].count())\n",
    "#Расчет численности ушедших клиентов сегмента\n",
    "print ('Численность ушедших клиентов портрета 1:',portrait1['churn'].sum())\n",
    "#Расчет доли ушедших клиентов сегмента\n",
    "print ('Доля ушедших клиентов портрета 1:',round(portrait1['churn'].sum()/portrait1['USERID'].count(),3)*100,'%')"
   ]
  },
  {
   "cell_type": "markdown",
   "id": "3c47a43a",
   "metadata": {},
   "source": [
    "### Портрет 2\n",
    "\n",
    "- ***Возраст:*** 48-62\n",
    "- ***Остальные признаки:*** без ограничений"
   ]
  },
  {
   "cell_type": "code",
   "execution_count": 46,
   "id": "3df6b1ff",
   "metadata": {},
   "outputs": [
    {
     "name": "stdout",
     "output_type": "stream",
     "text": [
      "Численность клиентов портрета 2: 2207\n",
      "Численность ушедших клиентов портрета 2: 533\n",
      "Доля ушедших клиентов портрета 2: 24.2 %\n"
     ]
    }
   ],
   "source": [
    "#Составление портрета клиента 2\n",
    "portrait2=data.query('age>48 and age<= 62')\n",
    "#Расчет численности клиентов портрета 2:\n",
    "print ('Численность клиентов портрета 2:',portrait2['USERID'].count())\n",
    "#Расчет численности ушедших клиентов портрета 2\n",
    "print ('Численность ушедших клиентов портрета 2:',portrait2['churn'].sum())\n",
    "#Расчет доли ушедших клиентов портрета 2\n",
    "print ('Доля ушедших клиентов портрета 2:',round(portrait2['churn'].sum()/portrait2['USERID'].count(),3)*100,'%')"
   ]
  },
  {
   "cell_type": "markdown",
   "id": "29fe6017",
   "metadata": {},
   "source": [
    "### Портрет 3\n",
    "\n",
    "- ***Возраст:*** 25-35\n",
    "- ***Активность клиента:*** Активный клиент\n",
    "- ***Остальные признаки:*** без ограничений"
   ]
  },
  {
   "cell_type": "code",
   "execution_count": 47,
   "id": "c06e3edb",
   "metadata": {},
   "outputs": [
    {
     "name": "stdout",
     "output_type": "stream",
     "text": [
      "Численность клиентов портрета 3: 1578\n",
      "Численность ушедших клиентов портрета 3: 503\n",
      "Доля ушедших клиентов портрета 3: 32.0 %\n"
     ]
    }
   ],
   "source": [
    "#Составление портрета клиента 3\n",
    "portrait3=data.query('age>25 and age<= 35 and last_activity==1')\n",
    "#Расчет численности клиентов портрета 3:\n",
    "print ('Численность клиентов портрета 3:',portrait3['USERID'].count())\n",
    "#Расчет численности ушедших клиентов портрета 3\n",
    "print ('Численность ушедших клиентов портрета 3:',portrait3['churn'].sum())\n",
    "#Расчет доли ушедших клиентов портрета 3\n",
    "print ('Доля ушедших клиентов портрета 3:',round(portrait3['churn'].sum()/portrait3['USERID'].count(),2)*100,'%')"
   ]
  },
  {
   "cell_type": "markdown",
   "id": "10d32d29",
   "metadata": {},
   "source": [
    "### Портрет 4\n",
    "\n",
    "- ***Гендер:*** М\n",
    "- ***Активность клиента:*** Активный клиент\n",
    "- ***Остальные признаки:*** без ограничений"
   ]
  },
  {
   "cell_type": "code",
   "execution_count": 48,
   "id": "9e5fc1c1",
   "metadata": {},
   "outputs": [
    {
     "name": "stdout",
     "output_type": "stream",
     "text": [
      "Численность клиентов портрета 4: 2577\n",
      "Численность ушедших клиентов портрета 4: 771\n",
      "Доля ушедших клиентов портрета 4: 29.9 %\n"
     ]
    }
   ],
   "source": [
    "#Составление портрета клиента 4\n",
    "portrait4=data.query('М==1 and last_activity==1')\n",
    "#Расчет численности клиентов портрета 4:\n",
    "print ('Численность клиентов портрета 4:',portrait4['USERID'].count())\n",
    "#Расчет численности ушедших клиентов портрета 4\n",
    "print ('Численность ушедших клиентов портрета 4:',portrait4['churn'].sum())\n",
    "#Расчет доли ушедших клиентов портрета 4\n",
    "print ('Доля ушедших клиентов портрета 4:',round(portrait4['churn'].sum()/portrait4['USERID'].count(),3)*100,'%')"
   ]
  },
  {
   "cell_type": "markdown",
   "id": "b786990b",
   "metadata": {},
   "source": [
    "### Портрет 5\n",
    "\n",
    "- ***Наличие кредитной карты:*** Нет\n",
    "- ***Активность клиента:*** Активный клиент\n",
    "- ***Остальные признаки:*** без ограничений"
   ]
  },
  {
   "cell_type": "code",
   "execution_count": 49,
   "id": "49b5fd23",
   "metadata": {},
   "outputs": [
    {
     "name": "stdout",
     "output_type": "stream",
     "text": [
      "Численность клиентов портрета 5: 1745\n",
      "Численность ушедших клиентов портрета 5: 612\n",
      "Доля ушедших клиентов портрета 5: 35.07 %\n"
     ]
    }
   ],
   "source": [
    "#Составление портрета клиента 5\n",
    "portrait5=data.query('credit_card==0 and last_activity==1')\n",
    "#Расчет численности клиентов портрета 5:\n",
    "print ('Численность клиентов портрета 5:',portrait5['USERID'].count())\n",
    "#Расчет численности ушедших клиентов портрета 5\n",
    "print ('Численность ушедших клиентов портрета 5:',portrait5['churn'].sum())\n",
    "#Расчет доли ушедших клиентов портрета 5\n",
    "print ('Доля ушедших клиентов портрета 5:',round(portrait5['churn'].sum()/portrait5['USERID'].count(),4)*100,'%')"
   ]
  },
  {
   "cell_type": "markdown",
   "id": "5619a07a",
   "metadata": {},
   "source": [
    "### Портрет 6\n",
    "\n",
    "- ***Баллы кредитного скоринга:*** больше 820\n",
    "- ***Активность клиента:*** Активный клиент\n",
    "- ***Остальные признаки:*** без ограничений"
   ]
  },
  {
   "cell_type": "code",
   "execution_count": 50,
   "id": "34ea2e3d",
   "metadata": {},
   "outputs": [
    {
     "name": "stdout",
     "output_type": "stream",
     "text": [
      "Численность клиентов портрета 6: 3386\n",
      "Численность ушедших клиентов портрета 6: 1089\n",
      "Доля ушедших клиентов портрета 6: 32.2 %\n"
     ]
    }
   ],
   "source": [
    "#Составление портрета клиента 6\n",
    "portrait6=data.query('last_activity==1 and score >= 820')\n",
    "#Расчет численности клиентов портрета 6:\n",
    "print ('Численность клиентов портрета 6:',portrait6['USERID'].count())\n",
    "#Расчет численности ушедших клиентов портрета 6\n",
    "print ('Численность ушедших клиентов портрета 6:',portrait6['churn'].sum())\n",
    "#Расчет доли ушедших клиентов портрета 6\n",
    "print ('Доля ушедших клиентов портрета 6:',round(portrait6['churn'].sum()/portrait6['USERID'].count(),3)*100,'%')"
   ]
  },
  {
   "cell_type": "markdown",
   "id": "cb470576",
   "metadata": {},
   "source": [
    "### Портрет 7\n",
    "\n",
    "- ***Количество баллов собственности:*** от 3 и более\n",
    "- ***Баллы кредитного скоринга:*** более 820\n",
    "- ***Наличие кредитной карты:*** Нет\n",
    "- ***Остальные признаки:*** без ограничений"
   ]
  },
  {
   "cell_type": "code",
   "execution_count": 51,
   "id": "eea2ae4b",
   "metadata": {},
   "outputs": [
    {
     "name": "stdout",
     "output_type": "stream",
     "text": [
      "Численность клиентов портрета 7: 1608\n",
      "Численность ушедших клиентов портрета 7: 652\n",
      "Доля ушедших клиентов портрета 7: 40.5 %\n"
     ]
    }
   ],
   "source": [
    "#Составление портрета клиента 7\n",
    "portrait7=data.query('score >= 820 and equity>=3 and credit_card==0')\n",
    "#Расчет численности клиентов портрета 7:\n",
    "print ('Численность клиентов портрета 7:',portrait7['USERID'].count())\n",
    "#Расчет численности ушедших клиентов портрета 7\n",
    "print ('Численность ушедших клиентов портрета 7:',portrait7['churn'].sum())\n",
    "#Расчет доли ушедших клиентов портрета 7\n",
    "print ('Доля ушедших клиентов портрета 7:',round(portrait7['churn'].sum()/portrait7['USERID'].count(),3)*100,'%')"
   ]
  },
  {
   "cell_type": "markdown",
   "id": "55342087",
   "metadata": {},
   "source": [
    "### Портрет 8\n",
    "\n",
    "- ***Гендер:*** М\n",
    "- ***Количество баллов собственности:*** от 3 и более\n",
    "- ***Остальные признаки:*** без ограничений"
   ]
  },
  {
   "cell_type": "code",
   "execution_count": 52,
   "id": "cb7e37db",
   "metadata": {},
   "outputs": [
    {
     "name": "stdout",
     "output_type": "stream",
     "text": [
      "Численность клиентов портрета 8: 2726\n",
      "Численность ушедших клиентов портрета 8: 967\n",
      "Доля ушедших клиентов портрета 8: 35.47 %\n"
     ]
    }
   ],
   "source": [
    "#Составление портрета клиента 8\n",
    "portrait8=data.query('equity>=3 and М==1')\n",
    "#Расчет численности клиентов портрета 8:\n",
    "print ('Численность клиентов портрета 8:',portrait8['USERID'].count())\n",
    "#Расчет численности ушедших клиентов портрета 8\n",
    "print ('Численность ушедших клиентов портрета 8:',portrait8['churn'].sum())\n",
    "#Расчет доли ушедших клиентов портрета 8\n",
    "print ('Доля ушедших клиентов портрета 8:',round(portrait8['churn'].sum()/portrait8['USERID'].count(),4)*100,'%')"
   ]
  },
  {
   "cell_type": "markdown",
   "id": "e0dfacd9",
   "metadata": {},
   "source": [
    "Выделены 8 портретов клиентов основанные на признаках, которые больше всего описывают отточных клиентов. Далее проверим гипотезы и выявим какие показатели стратегически влияют на отток и сделаем сегментацию на основе этих показателей и портретов клиентов."
   ]
  },
  {
   "cell_type": "markdown",
   "id": "a10645b3",
   "metadata": {},
   "source": [
    "## Составление и проверка гипотез по оттоку клиентов"
   ]
  },
  {
   "cell_type": "markdown",
   "id": "7ec917f9",
   "metadata": {},
   "source": [
    "### Проверка гипотезы статистической разницы по количеству продуктов"
   ]
  },
  {
   "cell_type": "markdown",
   "id": "2712c2c6",
   "metadata": {},
   "source": [
    "**Для проверки статистической разницы между выборками определим гипотезы:**\n",
    "\n",
    "- H_0: Между клиентами, которые остались и которые ушли, нет разницы по количеству продуктов\n",
    "- Н_1: Между клиентами, которые остались и которые ушли, есть разница по количеству продуктов\n",
    "\n",
    "alpha = 0.05 (уровень статистической значимости)"
   ]
  },
  {
   "cell_type": "code",
   "execution_count": 53,
   "id": "dca9b5f1",
   "metadata": {},
   "outputs": [
    {
     "name": "stdout",
     "output_type": "stream",
     "text": [
      "1.2671065900765871e-138\n",
      "Отвергаем нулевую гипотезу: между клиентами есть разница по данному признаку\n"
     ]
    }
   ],
   "source": [
    "#проверка гипотезы по влиянию оценки собственности на отток клиентов\n",
    "test=st.ttest_ind(\n",
    "    data[data['churn']==0]['products'],\n",
    "    data[data['churn']==1]['products'],equal_var=False)\n",
    "\n",
    "#уровень статистической значимости\n",
    "alpha = 0.05\n",
    "\n",
    "print (test.pvalue) \n",
    "if test.pvalue < alpha:\n",
    "    print ('Отвергаем нулевую гипотезу: между клиентами есть разница по данному признаку')\n",
    "else:\n",
    "    print ('Не получилось отвергнуть нулевую гипотезу: между клиентами нет разницы по данному признаку')"
   ]
  },
  {
   "cell_type": "markdown",
   "id": "e922d337",
   "metadata": {},
   "source": [
    "Проверка гипотезы подтвердила сделанные ранее выводы, что оценка собственности влияет на отток клиентов."
   ]
  },
  {
   "cell_type": "markdown",
   "id": "a3c234e9",
   "metadata": {},
   "source": [
    "### Проверка гипотезы статистической разницы по баллам собственности"
   ]
  },
  {
   "cell_type": "markdown",
   "id": "eb080476",
   "metadata": {},
   "source": [
    "**Для проверки статистической разницы между выборками определим гипотезы:**\n",
    "\n",
    "- H_0: Между клиентами, которые остались и которые ушли, нет разницы по баллам собственности\n",
    "- Н_1: Между клиентами, которые остались и которые ушли, есть разница по баллам собственности\n",
    "\n",
    "alpha = 0.05 (уровень статистической значимости)"
   ]
  },
  {
   "cell_type": "code",
   "execution_count": 54,
   "id": "28130e83",
   "metadata": {},
   "outputs": [
    {
     "name": "stdout",
     "output_type": "stream",
     "text": [
      "2.2265321241808214e-196\n",
      "Отвергаем нулевую гипотезу: между клиентами есть разница по данному признаку\n"
     ]
    }
   ],
   "source": [
    "#проверка гипотезы по влиянию оценки собственности на отток клиентов\n",
    "test=st.ttest_ind(\n",
    "    data[data['churn']==0]['equity'],\n",
    "    data[data['churn']==1]['equity'],equal_var=False)\n",
    "\n",
    "#уровень статистической значимости\n",
    "alpha = 0.05\n",
    "\n",
    "print (test.pvalue) \n",
    "if test.pvalue < alpha:\n",
    "    print ('Отвергаем нулевую гипотезу: между клиентами есть разница по данному признаку')\n",
    "else:\n",
    "    print ('Не получилось отвергнуть нулевую гипотезу: между клиентами нет разницы по данному признаку')"
   ]
  },
  {
   "cell_type": "markdown",
   "id": "9a0b670b",
   "metadata": {},
   "source": [
    "Также видно, что между клиентами, которые остались и которые ушли, есть разница по баллам собственности."
   ]
  },
  {
   "cell_type": "markdown",
   "id": "bc8e1a27",
   "metadata": {},
   "source": [
    "### Проверка гипотезы статистической разницы по наличию кредитной карты"
   ]
  },
  {
   "cell_type": "markdown",
   "id": "7ec537a0",
   "metadata": {},
   "source": [
    "**Для проверки статистической разницы между выборками определим гипотезы:**\n",
    "\n",
    "- H_0: Между клиентами, которые остались и которые ушли, нет разницы по наличию кредитной карты\n",
    "- Н_1: Между клиентами, которые остались и которые ушли, есть разница по наличию кредитной карты\n",
    "\n",
    "alpha = 0.05 (уровень статистической значимости)"
   ]
  },
  {
   "cell_type": "code",
   "execution_count": 55,
   "id": "a104633a",
   "metadata": {},
   "outputs": [
    {
     "name": "stdout",
     "output_type": "stream",
     "text": [
      "3.5339185146511654e-34\n",
      "Отвергаем нулевую гипотезу: между клиентами есть разница по данному признаку\n"
     ]
    }
   ],
   "source": [
    "#проверка гипотезы по влиянию оценки собственности на отток клиентов\n",
    "test=st.ttest_ind(\n",
    "    data[data['churn']==0]['credit_card'],\n",
    "    data[data['churn']==1]['credit_card'],equal_var=False)\n",
    "\n",
    "#уровень статистической значимости\n",
    "alpha = 0.05\n",
    "\n",
    "print (test.pvalue) \n",
    "if test.pvalue < alpha:\n",
    "    print ('Отвергаем нулевую гипотезу: между клиентами есть разница по данному признаку')\n",
    "else:\n",
    "    print ('Не получилось отвергнуть нулевую гипотезу: между клиентами нет разницы по данному признаку')"
   ]
  },
  {
   "cell_type": "markdown",
   "id": "6dc7f7c5",
   "metadata": {},
   "source": [
    "Отсутсвие кредитной карты также влияет на отток клиентов."
   ]
  },
  {
   "cell_type": "markdown",
   "id": "41b0908c",
   "metadata": {},
   "source": [
    "### Проверка гипотезы статистической разницы по баллам кредитного скоринга"
   ]
  },
  {
   "cell_type": "markdown",
   "id": "f77f7e9a",
   "metadata": {},
   "source": [
    "**Для проверки статистической разницы между выборками определим гипотезы:**\n",
    "\n",
    "- H_0: Между клиентами, которые остались и которые ушли, нет разницы по баллам кредитного скоринга\n",
    "- Н_1: Между клиентами, которые остались и которые ушли, есть разница по баллам кредитного скоринга\n",
    "\n",
    "alpha = 0.05 (уровень статистической значимости)"
   ]
  },
  {
   "cell_type": "code",
   "execution_count": 56,
   "id": "c9297df9",
   "metadata": {},
   "outputs": [
    {
     "name": "stdout",
     "output_type": "stream",
     "text": [
      "1.3179430198200596e-37\n",
      "Отвергаем нулевую гипотезу: между клиентами есть разница по данному признаку\n"
     ]
    }
   ],
   "source": [
    "#проверка гипотезы по влиянию оценки собственности на отток клиентов\n",
    "test=st.ttest_ind(\n",
    "    data[data['churn']==0]['score'],\n",
    "    data[data['churn']==1]['score'],equal_var=False)\n",
    "\n",
    "#уровень статистической значимости\n",
    "alpha = 0.05\n",
    "\n",
    "print (test.pvalue) \n",
    "if test.pvalue < alpha:\n",
    "    print ('Отвергаем нулевую гипотезу: между клиентами есть разница по данному признаку')\n",
    "else:\n",
    "    print ('Не получилось отвергнуть нулевую гипотезу: между клиентами нет разницы по данному признаку')"
   ]
  },
  {
   "cell_type": "markdown",
   "id": "6479664c",
   "metadata": {},
   "source": [
    "Между клиентами, которые остались и которые ушли, есть разница по баллам кредитного скоринга."
   ]
  },
  {
   "cell_type": "markdown",
   "id": "55a6f558",
   "metadata": {},
   "source": [
    "### Проверка гипотезы статистической разницы по заработной плате"
   ]
  },
  {
   "cell_type": "markdown",
   "id": "4b1447f4",
   "metadata": {},
   "source": [
    "**Для проверки статистической разницы между выборками определим гипотезы:**\n",
    "\n",
    "- H_0: Между клиентами, которые остались и которые ушли, нет разницы по заработной плате\n",
    "- Н_1: Между клиентами, которые остались и которые ушли, есть разница по заработной плате\n",
    "\n",
    "alpha = 0.05 (уровень статистической значимости)"
   ]
  },
  {
   "cell_type": "code",
   "execution_count": 57,
   "id": "0c71ba85",
   "metadata": {},
   "outputs": [
    {
     "name": "stdout",
     "output_type": "stream",
     "text": [
      "0.8354803526840116\n",
      "Не получилось отвергнуть нулевую гипотезу: между клиентами нет разницы по данному признаку\n"
     ]
    }
   ],
   "source": [
    "#проверка гипотезы по влиянию оценки собственности на отток клиентов\n",
    "test=st.ttest_ind(\n",
    "    data[data['churn']==0]['EST_SALARY'],\n",
    "    data[data['churn']==1]['EST_SALARY'],equal_var=False)\n",
    "\n",
    "#уровень статистической значимости\n",
    "alpha = 0.05\n",
    "\n",
    "print (test.pvalue) \n",
    "if test.pvalue < alpha:\n",
    "    print ('Отвергаем нулевую гипотезу: между клиентами есть разница по данному признаку')\n",
    "else:\n",
    "    print ('Не получилось отвергнуть нулевую гипотезу: между клиентами нет разницы по данному признаку')"
   ]
  },
  {
   "cell_type": "markdown",
   "id": "3ce5613d",
   "metadata": {},
   "source": [
    "Данная проверка показывает, что заработная плата клиентов не влияет на их отток."
   ]
  },
  {
   "cell_type": "markdown",
   "id": "d4579cb0",
   "metadata": {},
   "source": [
    "Проверка сформированных гипотез подвердила раннее проанализированные признаки.\n",
    "\n",
    "Выделены показатели, которые влияют на отток:\n",
    "- Количество продуктов в банке\n",
    "- Баллы собственности\n",
    "- Наличие кредитной карты\n",
    "- Баллы кредитного скоринга\n",
    "\n",
    "Данные показатели выделим как стратегически важные и сделаем на их основе сегментацию."
   ]
  },
  {
   "cell_type": "markdown",
   "id": "204e9ae9",
   "metadata": {},
   "source": [
    "## Сегментация"
   ]
  },
  {
   "cell_type": "markdown",
   "id": "2aacee95",
   "metadata": {},
   "source": [
    "На основе сформированных портретов клиентов и признаках, которые больше всего влияют на отток, определенны отточные сегменты. Сегменты расположены по приоритетам и по каждому сегменту даны рекомендации."
   ]
  },
  {
   "cell_type": "markdown",
   "id": "c363eb85",
   "metadata": {},
   "source": [
    "### Сегмент 1"
   ]
  },
  {
   "cell_type": "markdown",
   "id": "69abfec2",
   "metadata": {},
   "source": [
    "- ***Баллы кредитного скоринга:*** больше 820\n",
    "- ***Активность клиента:*** Активный клиент\n",
    "- ***Остальные признаки:*** без ограничений"
   ]
  },
  {
   "cell_type": "code",
   "execution_count": 58,
   "id": "efbc5199",
   "metadata": {},
   "outputs": [
    {
     "name": "stdout",
     "output_type": "stream",
     "text": [
      "Численность клиентов сегмента 1: 3386\n",
      "Численность ушедших клиентов сегмента 1: 1089\n",
      "Доля ушедших клиентов сегмента 1: 32.2 %\n"
     ]
    }
   ],
   "source": [
    "segment1=data.query('last_activity==1 and score >= 820')\n",
    "#Расчет численности клиентов сегмента:\n",
    "print ('Численность клиентов сегмента 1:',segment1['USERID'].count())\n",
    "#Расчет численности ушедших клиентов сегмента\n",
    "print ('Численность ушедших клиентов сегмента 1:',segment1['churn'].sum())\n",
    "#Расчет доли ушедших клиентов сегмента\n",
    "print ('Доля ушедших клиентов сегмента 1:',round(segment1['churn'].sum()/segment1['USERID'].count(),3)*100,'%')"
   ]
  },
  {
   "cell_type": "markdown",
   "id": "e6f8f9d4",
   "metadata": {},
   "source": [
    "*Рекомендации для сегмента активных клиентов с хорошей кредитной историей:*\n",
    "- Сделать предложение по кредитной карте/кредиту\n",
    "- Предложить другие продукты банка с бонусами (скидки у партнеров, дополнительный кэшбек на основную карту).\n",
    "- Предложить ипотечное кредитование."
   ]
  },
  {
   "cell_type": "markdown",
   "id": "b5265ea7",
   "metadata": {},
   "source": [
    "### Сегмент 2"
   ]
  },
  {
   "cell_type": "markdown",
   "id": "11eec0c9",
   "metadata": {},
   "source": [
    "- ***Количество баллов собственности:*** от 3 и более\n",
    "- ***Баллы кредитного скоринга:*** более 820\n",
    "- ***Наличие кредитной карты:*** Нет\n",
    "- ***Остальные признаки:*** без ограничений"
   ]
  },
  {
   "cell_type": "code",
   "execution_count": 59,
   "id": "bb6796e8",
   "metadata": {},
   "outputs": [
    {
     "name": "stdout",
     "output_type": "stream",
     "text": [
      "Численность клиентов сегмента 2: 1608\n",
      "Численность ушедших клиентов сегмента 2: 652\n",
      "Доля ушедших клиентов сегмента 2: 40.5 %\n"
     ]
    }
   ],
   "source": [
    "segment2=data.query('score >= 820 and equity>=3 and credit_card==0')\n",
    "#Расчет численности клиентов сегмента:\n",
    "print ('Численность клиентов сегмента 2:',segment2['USERID'].count())\n",
    "#Расчет численности ушедших клиентов сегмента\n",
    "print ('Численность ушедших клиентов сегмента 2:',segment2['churn'].sum())\n",
    "#Расчет доли ушедших клиентов сегмента\n",
    "print ('Доля ушедших клиентов сегмента 2:',round(segment2['churn'].sum()/segment2['USERID'].count(),3)*100,'%')"
   ]
  },
  {
   "cell_type": "markdown",
   "id": "dd6c5cab",
   "metadata": {},
   "source": [
    "*Рекомендации для сегмента клиентов с хорошей кредитной историей, высоким баллом собственности и без кредитной карты:*\n",
    "- Сделать предложение по кредитной карте.\n",
    "- Предложить услуги по страхованию недвижимости.\n",
    "- Сделать предложения по использованию других продуктов банка."
   ]
  },
  {
   "cell_type": "markdown",
   "id": "852e4845",
   "metadata": {},
   "source": [
    "### Сегмент 3"
   ]
  },
  {
   "cell_type": "markdown",
   "id": "cff57002",
   "metadata": {},
   "source": [
    "- ***Наличие кредитной карты:*** Нет\n",
    "- ***Активность клиента:*** Активный клиент\n",
    "- ***Остальные признаки:*** без ограничений"
   ]
  },
  {
   "cell_type": "code",
   "execution_count": 60,
   "id": "8123934a",
   "metadata": {},
   "outputs": [
    {
     "name": "stdout",
     "output_type": "stream",
     "text": [
      "Численность клиентов сегмента 3: 1745\n",
      "Численность ушедших клиентов сегмента 3: 612\n",
      "Доля ушедших клиентов сегмента 3: 35.07 %\n"
     ]
    }
   ],
   "source": [
    "segment3=data.query('credit_card==0 and last_activity==1')\n",
    "#Расчет численности клиентов сегмента:\n",
    "print ('Численность клиентов сегмента 3:',segment3['USERID'].count())\n",
    "#Расчет численности ушедших клиентов сегмента\n",
    "print ('Численность ушедших клиентов сегмента 3:',segment3['churn'].sum())\n",
    "#Расчет доли ушедших клиентов сегмента\n",
    "print ('Доля ушедших клиентов сегмента 3:',round(segment3['churn'].sum()/segment3['USERID'].count(),4)*100,'%')"
   ]
  },
  {
   "cell_type": "markdown",
   "id": "a5331c33",
   "metadata": {},
   "source": [
    "*Рекомендации для сегмента активных клиентов без кредитной карты:*\n",
    "- Сделать предложение по кредитной карте.\n",
    "- Предложить на выбор категории с повышенным кэшбеком за покупки с кредитной/дебетовой карты.\n",
    "- Предложить использовать карту банка как зарплатную/пенсионную."
   ]
  },
  {
   "cell_type": "markdown",
   "id": "43ddce04",
   "metadata": {},
   "source": [
    "### Сегмент 4"
   ]
  },
  {
   "cell_type": "markdown",
   "id": "859504b6",
   "metadata": {},
   "source": [
    "- ***Гендер:*** М\n",
    "- ***Активность клиента:*** Активный клиент\n",
    "- ***Остальные признаки:*** без ограничений"
   ]
  },
  {
   "cell_type": "code",
   "execution_count": 61,
   "id": "6b9ddb76",
   "metadata": {},
   "outputs": [
    {
     "name": "stdout",
     "output_type": "stream",
     "text": [
      "Численность клиентов сегмента 4: 2577\n",
      "Численность ушедших клиентов сегмента 4: 771\n",
      "Доля ушедших клиентов сегмента 4: 29.9 %\n"
     ]
    }
   ],
   "source": [
    "segment4=data.query('М==1 and last_activity==1')\n",
    "#Расчет численности клиентов сегмента:\n",
    "print ('Численность клиентов сегмента 4:',segment4['USERID'].count())\n",
    "#Расчет численности ушедших клиентов сегмента\n",
    "print ('Численность ушедших клиентов сегмента 4:',segment4['churn'].sum())\n",
    "#Расчет доли ушедших клиентов сегмента\n",
    "print ('Доля ушедших клиентов сегмента 4:',round(segment4['churn'].sum()/segment4['USERID'].count(),3)*100,'%')"
   ]
  },
  {
   "cell_type": "markdown",
   "id": "cc426f7c",
   "metadata": {},
   "source": [
    "*Рекомендации для сегмента активных клиентов мужчин:*\n",
    "- Сделать предложение по кредитной карте.\n",
    "- Сделать ежемесяную подборку категорий с повышенным кэшбеком: спорт, охота, рыбалка, товары для строительства.\n",
    "- Скидки на подключение льготных подписок на спортивные каналы."
   ]
  },
  {
   "cell_type": "markdown",
   "id": "f35ecc46",
   "metadata": {},
   "source": [
    "## Вывод и рекомендации по сниженнию оттока клиентов"
   ]
  },
  {
   "cell_type": "markdown",
   "id": "bdd5d147",
   "metadata": {},
   "source": [
    "Был проведен анализ оттока клиентов «Метанпромбанк».\n",
    "Анализ показал, что существуют показатели, которые формируют сегменты клиентов, которые уходят.\n",
    "\n",
    "Показатели, которые влияют на отток клиентов:\n",
    "- Количество продуктов: более 3-х\n",
    "- Оценка собственности: от 3, чем выше оценка собственности, тем больше отток.\n",
    "- Активность клиентов: высокий отток у активных клиетов\n",
    "- Баллы кредитного скоринга: между 820 и 925\n",
    "- Отсутствие кредитной карты\n",
    "- Большой отток составляют мужчины\n",
    "- Возраст 46-62 года, а также 25-45 лет.\n",
    "\n",
    "Также был проведен статистический анализ по следующим гипотезам:\n",
    "\n",
    "- **Гипотеза 1** Существует разница по количеству продуктов между клиентами, которые остались и которые ушли - **гипотеза подвердилась**.\n",
    "- **Гипотеза 2** Существует разница по оценке собсввенности между клиентами, которые остались и которые ушли - **гипотеза подвердилась**.\n",
    "- **Гипотеза 3** Существует разница по наличию кредитной карты между клиентами, которые остались и которые ушли - **гипотеза подвердилась**.\n",
    "- **Гипотеза 4** Существует разница по баллам кредитного скоринга между клиентами, которые остались и которые ушли - **гипотеза подвердилась**.\n",
    "- **Гипотеза 5** Существует разница по заработной плате между клиентами, которые остались и которые ушли - **гипотеза не подвердилась**.\n",
    "\n",
    "Выделены показатели, которые влияют на отток:\n",
    "- Количество продуктов в банке\n",
    "- Баллы собственности\n",
    "- Наличие кредитной карты\n",
    "- Баллы кредитного скоринга\n",
    "\n",
    "По данным показателям выделены отточные сегменты и по каждому ниже даны рекомендации. Сегменты указаны в приоритетном порядке.\n",
    "\n",
    "**Сегмент 1**\n",
    "- ***Баллы кредитного скоринга:*** больше 820\n",
    "- ***Активность клиента:*** Активный клиент\n",
    "- ***Остальные признаки:*** без ограничений\n",
    "\n",
    "Численность клиентов сегмента 1: 3386\n",
    "\n",
    "Численность ушедших клиентов сегмента 1: 1089\n",
    "\n",
    "Доля ушедших клиентов сегмента 1: 32.2 %\n",
    "\n",
    "*Рекомендации для сегмента активных клиентов с хорошей кредитной историей:*\n",
    "- Сделать предложение по кредитной карте/кредиту\n",
    "- Предложить другие продукты банка с бонусами (скидки у партнеров, дополнительный кэшбек на основную карту).\n",
    "- Предложить ипотечное кредитование.\n",
    "\n",
    "**Сегмент 2**\n",
    "- ***Количество баллов собственности:*** от 3 и более\n",
    "- ***Баллы кредитного скоринга:*** более 820\n",
    "- ***Наличие кредитной карты:*** Нет\n",
    "- ***Остальные признаки:*** без ограничений\n",
    "\n",
    "Численность клиентов сегмента 2: 1608\n",
    "\n",
    "Численность ушедших клиентов сегмента 2: 652\n",
    "\n",
    "Доля ушедших клиентов сегмента 2: 40.5 %\n",
    "\n",
    "*Рекомендации для сегмента клиентов с хорошей кредитной историей, высоким баллом собственности и без кредитной карты:*\n",
    "- Сделать предложение по кредитной карте.\n",
    "- Предложить услуги по страхованию недвижимости.\n",
    "- Сделать предложения по использованию других продуктов банка.\n",
    "\n",
    "**Сегмент 3**\n",
    "- ***Наличие кредитной карты:*** Нет\n",
    "- ***Активность клиента:*** Активный клиент\n",
    "- ***Остальные признаки:*** без ограничений\n",
    "\n",
    "Численность клиентов сегмента 3: 1745\n",
    "\n",
    "Численность ушедших клиентов сегмента 3: 612\n",
    "\n",
    "Доля ушедших клиентов сегмента 3: 35.07 %\n",
    "\n",
    "*Рекомендации для сегмента активных клиентов без кредитной карты:*\n",
    "- Сделать предложение по кредитной карте.\n",
    "- Предложить на выбор категории с повышенным кэшбеком за покупки с кредитной/дебетовой карты.\n",
    "- Предложить использовать карту банка как зарплатную/пенсионную.\n",
    "\n",
    "**Сегмент 4**\n",
    "- ***Гендер:*** М\n",
    "- ***Активность клиента:*** Активный клиент\n",
    "- ***Остальные признаки:*** без ограничений\n",
    "\n",
    "Численность клиентов сегмента 4: 2577\n",
    "\n",
    "Численность ушедших клиентов сегмента 4: 771\n",
    "\n",
    "Доля ушедших клиентов сегмента 4: 29.9 %\n",
    "\n",
    "*Рекомендации для сегмента активных клиентов мужчин:*\n",
    "- Сделать предложение по кредитной карте.\n",
    "- Сделать ежемесяную подборку категорий с повышенным кэшбеком: спорт, охота, рыбалка, товары для строительства.\n",
    "- Скидки на подключение льготных подписок на спортивные каналы."
   ]
  }
 ],
 "metadata": {
  "ExecuteTimeLog": [
   {
    "duration": 93,
    "start_time": "2023-08-12T07:46:22.990Z"
   },
   {
    "duration": 44,
    "start_time": "2023-08-12T07:46:27.142Z"
   },
   {
    "duration": 1222,
    "start_time": "2023-08-12T07:46:58.657Z"
   },
   {
    "duration": 4,
    "start_time": "2023-08-12T07:47:02.998Z"
   },
   {
    "duration": 87,
    "start_time": "2023-08-12T07:47:06.390Z"
   },
   {
    "duration": 1391,
    "start_time": "2023-08-12T09:18:15.120Z"
   },
   {
    "duration": 104,
    "start_time": "2023-08-12T09:18:16.514Z"
   },
   {
    "duration": 156,
    "start_time": "2023-08-12T09:18:54.248Z"
   },
   {
    "duration": 66,
    "start_time": "2023-08-12T09:19:06.299Z"
   },
   {
    "duration": 82,
    "start_time": "2023-08-12T09:19:16.886Z"
   },
   {
    "duration": 35,
    "start_time": "2023-08-12T09:19:21.353Z"
   },
   {
    "duration": 10,
    "start_time": "2023-08-12T09:19:25.284Z"
   },
   {
    "duration": 10,
    "start_time": "2023-08-12T09:19:48.514Z"
   },
   {
    "duration": 9,
    "start_time": "2023-08-12T09:20:28.114Z"
   },
   {
    "duration": 10,
    "start_time": "2023-08-12T09:20:47.425Z"
   },
   {
    "duration": 1403,
    "start_time": "2023-08-14T07:28:34.814Z"
   },
   {
    "duration": 88,
    "start_time": "2023-08-14T07:28:36.220Z"
   },
   {
    "duration": 14,
    "start_time": "2023-08-14T07:28:36.310Z"
   },
   {
    "duration": 12,
    "start_time": "2023-08-14T07:28:36.326Z"
   },
   {
    "duration": 9,
    "start_time": "2023-08-14T07:28:36.340Z"
   },
   {
    "duration": 15,
    "start_time": "2023-08-14T07:28:36.351Z"
   },
   {
    "duration": 12,
    "start_time": "2023-08-14T07:28:36.368Z"
   },
   {
    "duration": 51,
    "start_time": "2023-08-15T10:16:12.035Z"
   },
   {
    "duration": 6,
    "start_time": "2023-08-15T10:16:32.873Z"
   },
   {
    "duration": 6,
    "start_time": "2023-08-15T10:16:41.330Z"
   },
   {
    "duration": 1301,
    "start_time": "2023-08-15T10:17:40.102Z"
   },
   {
    "duration": 71,
    "start_time": "2023-08-15T10:17:41.405Z"
   },
   {
    "duration": 29,
    "start_time": "2023-08-15T10:17:41.477Z"
   },
   {
    "duration": 8,
    "start_time": "2023-08-15T10:17:41.508Z"
   },
   {
    "duration": 11,
    "start_time": "2023-08-15T10:17:41.518Z"
   },
   {
    "duration": 8,
    "start_time": "2023-08-15T10:17:41.531Z"
   },
   {
    "duration": 19,
    "start_time": "2023-08-15T10:17:41.541Z"
   },
   {
    "duration": 21,
    "start_time": "2023-08-15T10:17:41.561Z"
   },
   {
    "duration": 4,
    "start_time": "2023-08-15T10:18:23.297Z"
   },
   {
    "duration": 6,
    "start_time": "2023-08-15T10:18:58.830Z"
   },
   {
    "duration": 4,
    "start_time": "2023-08-15T10:19:23.604Z"
   },
   {
    "duration": 4,
    "start_time": "2023-08-15T10:19:28.065Z"
   },
   {
    "duration": 4,
    "start_time": "2023-08-15T10:19:47.182Z"
   },
   {
    "duration": 38,
    "start_time": "2023-08-15T10:21:20.502Z"
   },
   {
    "duration": 12,
    "start_time": "2023-08-15T10:21:39.900Z"
   },
   {
    "duration": 4,
    "start_time": "2023-08-15T10:22:10.163Z"
   },
   {
    "duration": 35,
    "start_time": "2023-08-15T10:22:17.738Z"
   },
   {
    "duration": 12,
    "start_time": "2023-08-15T10:22:57.408Z"
   },
   {
    "duration": 97,
    "start_time": "2023-08-15T10:23:02.835Z"
   },
   {
    "duration": 8,
    "start_time": "2023-08-15T10:23:13.032Z"
   },
   {
    "duration": 7,
    "start_time": "2023-08-15T10:23:22.205Z"
   },
   {
    "duration": 7,
    "start_time": "2023-08-15T10:23:27.618Z"
   },
   {
    "duration": 8,
    "start_time": "2023-08-15T10:23:32.461Z"
   },
   {
    "duration": 20,
    "start_time": "2023-08-15T10:23:38.495Z"
   },
   {
    "duration": 7,
    "start_time": "2023-08-15T10:24:02.265Z"
   },
   {
    "duration": 19,
    "start_time": "2023-08-15T10:25:13.916Z"
   },
   {
    "duration": 33,
    "start_time": "2023-08-15T10:25:31.596Z"
   },
   {
    "duration": 33,
    "start_time": "2023-08-15T10:25:49.876Z"
   },
   {
    "duration": 1105,
    "start_time": "2023-08-15T10:28:17.169Z"
   },
   {
    "duration": 104,
    "start_time": "2023-08-15T10:28:18.276Z"
   },
   {
    "duration": 12,
    "start_time": "2023-08-15T10:28:18.382Z"
   },
   {
    "duration": 44,
    "start_time": "2023-08-15T10:28:18.395Z"
   },
   {
    "duration": 11,
    "start_time": "2023-08-15T10:28:18.441Z"
   },
   {
    "duration": 20,
    "start_time": "2023-08-15T10:28:18.454Z"
   },
   {
    "duration": 9,
    "start_time": "2023-08-15T10:28:18.476Z"
   },
   {
    "duration": 4,
    "start_time": "2023-08-15T10:28:18.487Z"
   },
   {
    "duration": 11,
    "start_time": "2023-08-15T10:28:18.492Z"
   },
   {
    "duration": 8,
    "start_time": "2023-08-15T10:28:18.505Z"
   },
   {
    "duration": 7,
    "start_time": "2023-08-15T10:28:18.515Z"
   },
   {
    "duration": 66,
    "start_time": "2023-08-15T10:28:18.524Z"
   },
   {
    "duration": 34,
    "start_time": "2023-08-15T10:28:18.591Z"
   },
   {
    "duration": 1184,
    "start_time": "2023-08-16T07:09:31.989Z"
   },
   {
    "duration": 78,
    "start_time": "2023-08-16T07:09:33.175Z"
   },
   {
    "duration": 15,
    "start_time": "2023-08-16T07:09:33.255Z"
   },
   {
    "duration": 60,
    "start_time": "2023-08-16T07:09:33.274Z"
   },
   {
    "duration": 14,
    "start_time": "2023-08-16T07:09:33.336Z"
   },
   {
    "duration": 12,
    "start_time": "2023-08-16T07:09:33.352Z"
   },
   {
    "duration": 36,
    "start_time": "2023-08-16T07:09:33.366Z"
   },
   {
    "duration": 10,
    "start_time": "2023-08-16T07:09:33.404Z"
   },
   {
    "duration": 20,
    "start_time": "2023-08-16T07:09:33.416Z"
   },
   {
    "duration": 45,
    "start_time": "2023-08-16T07:09:33.438Z"
   },
   {
    "duration": 10,
    "start_time": "2023-08-16T07:09:33.485Z"
   },
   {
    "duration": 34,
    "start_time": "2023-08-16T07:09:33.497Z"
   },
   {
    "duration": 34,
    "start_time": "2023-08-16T07:09:33.532Z"
   },
   {
    "duration": 6,
    "start_time": "2023-08-16T07:15:33.366Z"
   },
   {
    "duration": 8,
    "start_time": "2023-08-16T07:15:47.338Z"
   },
   {
    "duration": 6,
    "start_time": "2023-08-16T07:16:07.762Z"
   },
   {
    "duration": 7,
    "start_time": "2023-08-16T07:16:14.232Z"
   },
   {
    "duration": 6,
    "start_time": "2023-08-16T07:17:13.018Z"
   },
   {
    "duration": 6,
    "start_time": "2023-08-16T07:17:32.137Z"
   },
   {
    "duration": 7,
    "start_time": "2023-08-16T07:18:10.157Z"
   },
   {
    "duration": 5,
    "start_time": "2023-08-16T07:18:20.038Z"
   },
   {
    "duration": 113,
    "start_time": "2023-08-16T07:18:33.181Z"
   },
   {
    "duration": 11,
    "start_time": "2023-08-16T07:18:48.870Z"
   },
   {
    "duration": 5,
    "start_time": "2023-08-16T07:19:00.194Z"
   },
   {
    "duration": 8,
    "start_time": "2023-08-16T07:19:28.590Z"
   },
   {
    "duration": 5,
    "start_time": "2023-08-16T07:20:57.204Z"
   },
   {
    "duration": 11,
    "start_time": "2023-08-16T07:21:15.578Z"
   },
   {
    "duration": 7,
    "start_time": "2023-08-16T07:21:23.747Z"
   },
   {
    "duration": 10,
    "start_time": "2023-08-16T07:21:25.951Z"
   },
   {
    "duration": 6,
    "start_time": "2023-08-16T07:24:10.998Z"
   },
   {
    "duration": 6,
    "start_time": "2023-08-16T07:24:17.972Z"
   },
   {
    "duration": 5,
    "start_time": "2023-08-16T07:24:24.852Z"
   },
   {
    "duration": 7,
    "start_time": "2023-08-16T07:24:30.587Z"
   },
   {
    "duration": 12,
    "start_time": "2023-08-16T07:25:36.497Z"
   },
   {
    "duration": 10,
    "start_time": "2023-08-16T07:30:49.499Z"
   },
   {
    "duration": 6,
    "start_time": "2023-08-16T07:31:05.603Z"
   },
   {
    "duration": 66,
    "start_time": "2023-08-16T07:31:57.526Z"
   },
   {
    "duration": 12,
    "start_time": "2023-08-16T07:32:11.693Z"
   },
   {
    "duration": 14,
    "start_time": "2023-08-16T07:32:31.613Z"
   },
   {
    "duration": 13,
    "start_time": "2023-08-16T07:32:58.841Z"
   },
   {
    "duration": 10,
    "start_time": "2023-08-16T07:34:40.987Z"
   },
   {
    "duration": 13,
    "start_time": "2023-08-16T07:35:20.180Z"
   },
   {
    "duration": 23,
    "start_time": "2023-08-16T07:35:27.710Z"
   },
   {
    "duration": 24,
    "start_time": "2023-08-16T07:35:36.845Z"
   },
   {
    "duration": 24,
    "start_time": "2023-08-16T07:35:48.168Z"
   },
   {
    "duration": 20,
    "start_time": "2023-08-16T07:36:13.617Z"
   },
   {
    "duration": 16,
    "start_time": "2023-08-16T07:36:25.586Z"
   },
   {
    "duration": 19,
    "start_time": "2023-08-16T07:36:41.736Z"
   },
   {
    "duration": 33,
    "start_time": "2023-08-16T07:36:58.116Z"
   },
   {
    "duration": 23,
    "start_time": "2023-08-16T07:38:06.058Z"
   },
   {
    "duration": 20,
    "start_time": "2023-08-16T07:38:23.392Z"
   },
   {
    "duration": 5,
    "start_time": "2023-08-16T07:39:00.288Z"
   },
   {
    "duration": 8,
    "start_time": "2023-08-16T09:06:06.733Z"
   },
   {
    "duration": 1228,
    "start_time": "2023-08-16T09:06:11.750Z"
   },
   {
    "duration": 130,
    "start_time": "2023-08-16T09:06:12.980Z"
   },
   {
    "duration": 12,
    "start_time": "2023-08-16T09:06:13.112Z"
   },
   {
    "duration": 100,
    "start_time": "2023-08-16T09:06:13.125Z"
   },
   {
    "duration": 13,
    "start_time": "2023-08-16T09:06:13.229Z"
   },
   {
    "duration": 29,
    "start_time": "2023-08-16T09:06:13.244Z"
   },
   {
    "duration": 29,
    "start_time": "2023-08-16T09:06:13.275Z"
   },
   {
    "duration": 11,
    "start_time": "2023-08-16T09:06:13.305Z"
   },
   {
    "duration": 168,
    "start_time": "2023-08-16T09:06:13.317Z"
   },
   {
    "duration": 0,
    "start_time": "2023-08-16T09:06:13.487Z"
   },
   {
    "duration": 0,
    "start_time": "2023-08-16T09:06:13.488Z"
   },
   {
    "duration": 0,
    "start_time": "2023-08-16T09:06:13.490Z"
   },
   {
    "duration": 0,
    "start_time": "2023-08-16T09:06:13.491Z"
   },
   {
    "duration": 0,
    "start_time": "2023-08-16T09:06:13.492Z"
   },
   {
    "duration": 0,
    "start_time": "2023-08-16T09:06:13.493Z"
   },
   {
    "duration": 12,
    "start_time": "2023-08-16T09:06:29.280Z"
   },
   {
    "duration": 21,
    "start_time": "2023-08-16T09:06:38.320Z"
   },
   {
    "duration": 1245,
    "start_time": "2023-08-16T09:07:02.533Z"
   },
   {
    "duration": 79,
    "start_time": "2023-08-16T09:07:03.781Z"
   },
   {
    "duration": 12,
    "start_time": "2023-08-16T09:07:03.862Z"
   },
   {
    "duration": 38,
    "start_time": "2023-08-16T09:07:03.876Z"
   },
   {
    "duration": 42,
    "start_time": "2023-08-16T09:07:03.916Z"
   },
   {
    "duration": 5,
    "start_time": "2023-08-16T09:07:03.960Z"
   },
   {
    "duration": 27,
    "start_time": "2023-08-16T09:07:03.968Z"
   },
   {
    "duration": 5,
    "start_time": "2023-08-16T09:07:03.997Z"
   },
   {
    "duration": 32,
    "start_time": "2023-08-16T09:07:04.004Z"
   },
   {
    "duration": 6,
    "start_time": "2023-08-16T09:07:04.039Z"
   },
   {
    "duration": 20,
    "start_time": "2023-08-16T09:07:04.046Z"
   },
   {
    "duration": 12,
    "start_time": "2023-08-16T09:07:04.067Z"
   },
   {
    "duration": 27,
    "start_time": "2023-08-16T09:07:04.081Z"
   },
   {
    "duration": 40,
    "start_time": "2023-08-16T09:07:04.109Z"
   },
   {
    "duration": 42,
    "start_time": "2023-08-16T09:07:04.151Z"
   },
   {
    "duration": 9,
    "start_time": "2023-08-16T09:13:40.754Z"
   },
   {
    "duration": 6,
    "start_time": "2023-08-16T09:16:03.984Z"
   },
   {
    "duration": 7,
    "start_time": "2023-08-16T09:16:30.689Z"
   },
   {
    "duration": 5,
    "start_time": "2023-08-16T09:16:41.342Z"
   },
   {
    "duration": 6,
    "start_time": "2023-08-16T09:16:51.638Z"
   },
   {
    "duration": 6,
    "start_time": "2023-08-16T09:17:12.580Z"
   },
   {
    "duration": 6,
    "start_time": "2023-08-16T09:17:54.042Z"
   },
   {
    "duration": 7,
    "start_time": "2023-08-16T09:18:10.102Z"
   },
   {
    "duration": 21,
    "start_time": "2023-08-16T09:18:52.807Z"
   },
   {
    "duration": 1091,
    "start_time": "2023-08-16T09:19:13.197Z"
   },
   {
    "duration": 76,
    "start_time": "2023-08-16T09:19:14.290Z"
   },
   {
    "duration": 13,
    "start_time": "2023-08-16T09:19:14.368Z"
   },
   {
    "duration": 52,
    "start_time": "2023-08-16T09:19:14.382Z"
   },
   {
    "duration": 21,
    "start_time": "2023-08-16T09:19:14.436Z"
   },
   {
    "duration": 4,
    "start_time": "2023-08-16T09:19:14.459Z"
   },
   {
    "duration": 13,
    "start_time": "2023-08-16T09:19:14.465Z"
   },
   {
    "duration": 4,
    "start_time": "2023-08-16T09:19:14.479Z"
   },
   {
    "duration": 26,
    "start_time": "2023-08-16T09:19:14.485Z"
   },
   {
    "duration": 123,
    "start_time": "2023-08-16T09:19:14.513Z"
   },
   {
    "duration": 0,
    "start_time": "2023-08-16T09:19:14.638Z"
   },
   {
    "duration": 0,
    "start_time": "2023-08-16T09:19:14.640Z"
   },
   {
    "duration": 0,
    "start_time": "2023-08-16T09:19:14.641Z"
   },
   {
    "duration": 0,
    "start_time": "2023-08-16T09:19:14.642Z"
   },
   {
    "duration": 0,
    "start_time": "2023-08-16T09:19:14.643Z"
   },
   {
    "duration": 0,
    "start_time": "2023-08-16T09:19:14.656Z"
   },
   {
    "duration": 0,
    "start_time": "2023-08-16T09:19:14.657Z"
   },
   {
    "duration": 0,
    "start_time": "2023-08-16T09:19:14.658Z"
   },
   {
    "duration": 0,
    "start_time": "2023-08-16T09:19:14.659Z"
   },
   {
    "duration": 0,
    "start_time": "2023-08-16T09:19:14.660Z"
   },
   {
    "duration": 1138,
    "start_time": "2023-08-16T09:19:32.444Z"
   },
   {
    "duration": 84,
    "start_time": "2023-08-16T09:19:33.584Z"
   },
   {
    "duration": 11,
    "start_time": "2023-08-16T09:19:33.670Z"
   },
   {
    "duration": 37,
    "start_time": "2023-08-16T09:19:33.683Z"
   },
   {
    "duration": 36,
    "start_time": "2023-08-16T09:19:33.722Z"
   },
   {
    "duration": 5,
    "start_time": "2023-08-16T09:19:33.760Z"
   },
   {
    "duration": 23,
    "start_time": "2023-08-16T09:19:33.766Z"
   },
   {
    "duration": 5,
    "start_time": "2023-08-16T09:19:33.791Z"
   },
   {
    "duration": 30,
    "start_time": "2023-08-16T09:19:33.798Z"
   },
   {
    "duration": 7,
    "start_time": "2023-08-16T09:19:33.830Z"
   },
   {
    "duration": 24,
    "start_time": "2023-08-16T09:19:33.839Z"
   },
   {
    "duration": 9,
    "start_time": "2023-08-16T09:19:33.864Z"
   },
   {
    "duration": 9,
    "start_time": "2023-08-16T09:19:33.874Z"
   },
   {
    "duration": 5,
    "start_time": "2023-08-16T09:19:33.885Z"
   },
   {
    "duration": 8,
    "start_time": "2023-08-16T09:19:33.892Z"
   },
   {
    "duration": 4,
    "start_time": "2023-08-16T09:19:33.902Z"
   },
   {
    "duration": 12,
    "start_time": "2023-08-16T09:19:33.908Z"
   },
   {
    "duration": 36,
    "start_time": "2023-08-16T09:19:33.922Z"
   },
   {
    "duration": 37,
    "start_time": "2023-08-16T09:19:33.960Z"
   },
   {
    "duration": 59,
    "start_time": "2023-08-16T09:19:33.999Z"
   },
   {
    "duration": 127,
    "start_time": "2023-08-16T09:27:57.389Z"
   },
   {
    "duration": 25,
    "start_time": "2023-08-16T09:28:05.840Z"
   },
   {
    "duration": 23,
    "start_time": "2023-08-16T09:28:15.188Z"
   },
   {
    "duration": 10,
    "start_time": "2023-08-16T09:28:19.479Z"
   },
   {
    "duration": 10,
    "start_time": "2023-08-16T09:28:24.119Z"
   },
   {
    "duration": 17,
    "start_time": "2023-08-16T09:28:34.714Z"
   },
   {
    "duration": 22,
    "start_time": "2023-08-16T09:28:59.652Z"
   },
   {
    "duration": 10,
    "start_time": "2023-08-16T09:29:07.482Z"
   },
   {
    "duration": 24,
    "start_time": "2023-08-16T09:29:35.639Z"
   },
   {
    "duration": 11,
    "start_time": "2023-08-16T09:29:47.009Z"
   },
   {
    "duration": 24,
    "start_time": "2023-08-16T09:29:57.184Z"
   },
   {
    "duration": 17,
    "start_time": "2023-08-16T09:30:02.601Z"
   },
   {
    "duration": 9,
    "start_time": "2023-08-16T09:31:07.904Z"
   },
   {
    "duration": 12,
    "start_time": "2023-08-16T09:31:16.689Z"
   },
   {
    "duration": 7,
    "start_time": "2023-08-16T09:31:24.743Z"
   },
   {
    "duration": 9,
    "start_time": "2023-08-16T09:32:08.369Z"
   },
   {
    "duration": 18,
    "start_time": "2023-08-16T09:32:24.061Z"
   },
   {
    "duration": 10,
    "start_time": "2023-08-16T09:32:47.757Z"
   },
   {
    "duration": 24,
    "start_time": "2023-08-16T09:32:52.770Z"
   },
   {
    "duration": 11,
    "start_time": "2023-08-16T09:33:01.068Z"
   },
   {
    "duration": 26,
    "start_time": "2023-08-16T09:34:59.079Z"
   },
   {
    "duration": 10,
    "start_time": "2023-08-16T09:35:04.813Z"
   },
   {
    "duration": 10,
    "start_time": "2023-08-16T09:35:10.401Z"
   },
   {
    "duration": 4,
    "start_time": "2023-08-16T09:35:45.307Z"
   },
   {
    "duration": 39,
    "start_time": "2023-08-16T09:36:04.530Z"
   },
   {
    "duration": 23,
    "start_time": "2023-08-16T09:36:10.840Z"
   },
   {
    "duration": 10,
    "start_time": "2023-08-16T09:36:25.783Z"
   },
   {
    "duration": 23,
    "start_time": "2023-08-16T09:36:36.573Z"
   },
   {
    "duration": 6,
    "start_time": "2023-08-16T09:37:34.425Z"
   },
   {
    "duration": 25,
    "start_time": "2023-08-16T09:38:13.936Z"
   },
   {
    "duration": 7,
    "start_time": "2023-08-16T09:38:24.369Z"
   },
   {
    "duration": 12,
    "start_time": "2023-08-16T09:43:07.201Z"
   },
   {
    "duration": 12,
    "start_time": "2023-08-16T09:44:14.118Z"
   },
   {
    "duration": 39,
    "start_time": "2023-08-16T09:44:27.502Z"
   },
   {
    "duration": 10,
    "start_time": "2023-08-16T09:44:32.568Z"
   },
   {
    "duration": 11,
    "start_time": "2023-08-16T09:45:45.938Z"
   },
   {
    "duration": 26,
    "start_time": "2023-08-16T09:45:49.030Z"
   },
   {
    "duration": 11,
    "start_time": "2023-08-16T09:45:56.897Z"
   },
   {
    "duration": 9,
    "start_time": "2023-08-16T09:46:02.535Z"
   },
   {
    "duration": 9,
    "start_time": "2023-08-16T09:46:33.374Z"
   },
   {
    "duration": 8,
    "start_time": "2023-08-16T09:47:24.164Z"
   },
   {
    "duration": 37,
    "start_time": "2023-08-16T09:47:47.989Z"
   },
   {
    "duration": 7,
    "start_time": "2023-08-16T09:50:48.345Z"
   },
   {
    "duration": 6,
    "start_time": "2023-08-16T09:50:55.799Z"
   },
   {
    "duration": 7,
    "start_time": "2023-08-16T09:51:26.950Z"
   },
   {
    "duration": 5,
    "start_time": "2023-08-16T09:52:11.271Z"
   },
   {
    "duration": 40,
    "start_time": "2023-08-16T09:52:24.617Z"
   },
   {
    "duration": 39,
    "start_time": "2023-08-16T09:54:09.880Z"
   },
   {
    "duration": 1325,
    "start_time": "2023-08-16T09:54:43.037Z"
   },
   {
    "duration": 84,
    "start_time": "2023-08-16T09:54:44.365Z"
   },
   {
    "duration": 16,
    "start_time": "2023-08-16T09:54:44.451Z"
   },
   {
    "duration": 43,
    "start_time": "2023-08-16T09:54:44.469Z"
   },
   {
    "duration": 13,
    "start_time": "2023-08-16T09:54:44.513Z"
   },
   {
    "duration": 36,
    "start_time": "2023-08-16T09:54:44.528Z"
   },
   {
    "duration": 11,
    "start_time": "2023-08-16T09:54:44.572Z"
   },
   {
    "duration": 4,
    "start_time": "2023-08-16T09:54:44.585Z"
   },
   {
    "duration": 34,
    "start_time": "2023-08-16T09:54:44.590Z"
   },
   {
    "duration": 5,
    "start_time": "2023-08-16T09:54:44.627Z"
   },
   {
    "duration": 28,
    "start_time": "2023-08-16T09:54:44.634Z"
   },
   {
    "duration": 15,
    "start_time": "2023-08-16T09:54:44.664Z"
   },
   {
    "duration": 9,
    "start_time": "2023-08-16T09:54:44.681Z"
   },
   {
    "duration": 8,
    "start_time": "2023-08-16T09:54:44.692Z"
   },
   {
    "duration": 9,
    "start_time": "2023-08-16T09:54:44.702Z"
   },
   {
    "duration": 11,
    "start_time": "2023-08-16T09:54:44.713Z"
   },
   {
    "duration": 14,
    "start_time": "2023-08-16T09:54:44.744Z"
   },
   {
    "duration": 7,
    "start_time": "2023-08-16T09:54:44.760Z"
   },
   {
    "duration": 40,
    "start_time": "2023-08-16T09:54:44.769Z"
   },
   {
    "duration": 13,
    "start_time": "2023-08-16T09:54:44.810Z"
   },
   {
    "duration": 12,
    "start_time": "2023-08-16T09:54:44.825Z"
   },
   {
    "duration": 21,
    "start_time": "2023-08-16T09:54:44.840Z"
   },
   {
    "duration": 57,
    "start_time": "2023-08-16T09:54:44.864Z"
   },
   {
    "duration": 62,
    "start_time": "2023-08-16T09:54:44.924Z"
   },
   {
    "duration": 9,
    "start_time": "2023-08-16T09:55:09.204Z"
   },
   {
    "duration": 1250,
    "start_time": "2023-08-16T09:55:47.121Z"
   },
   {
    "duration": 91,
    "start_time": "2023-08-16T09:55:48.374Z"
   },
   {
    "duration": 13,
    "start_time": "2023-08-16T09:55:48.467Z"
   },
   {
    "duration": 50,
    "start_time": "2023-08-16T09:55:48.483Z"
   },
   {
    "duration": 31,
    "start_time": "2023-08-16T09:55:48.535Z"
   },
   {
    "duration": 6,
    "start_time": "2023-08-16T09:55:48.568Z"
   },
   {
    "duration": 32,
    "start_time": "2023-08-16T09:55:48.575Z"
   },
   {
    "duration": 7,
    "start_time": "2023-08-16T09:55:48.608Z"
   },
   {
    "duration": 29,
    "start_time": "2023-08-16T09:55:48.617Z"
   },
   {
    "duration": 6,
    "start_time": "2023-08-16T09:55:48.657Z"
   },
   {
    "duration": 11,
    "start_time": "2023-08-16T09:55:48.664Z"
   },
   {
    "duration": 16,
    "start_time": "2023-08-16T09:55:48.677Z"
   },
   {
    "duration": 7,
    "start_time": "2023-08-16T09:55:48.695Z"
   },
   {
    "duration": 6,
    "start_time": "2023-08-16T09:55:48.704Z"
   },
   {
    "duration": 12,
    "start_time": "2023-08-16T09:55:48.712Z"
   },
   {
    "duration": 16,
    "start_time": "2023-08-16T09:55:48.725Z"
   },
   {
    "duration": 12,
    "start_time": "2023-08-16T09:55:48.756Z"
   },
   {
    "duration": 14,
    "start_time": "2023-08-16T09:55:48.770Z"
   },
   {
    "duration": 16,
    "start_time": "2023-08-16T09:55:48.786Z"
   },
   {
    "duration": 4,
    "start_time": "2023-08-16T09:55:48.805Z"
   },
   {
    "duration": 15,
    "start_time": "2023-08-16T09:55:48.810Z"
   },
   {
    "duration": 12,
    "start_time": "2023-08-16T09:55:48.826Z"
   },
   {
    "duration": 42,
    "start_time": "2023-08-16T09:55:48.840Z"
   },
   {
    "duration": 38,
    "start_time": "2023-08-16T09:55:48.884Z"
   },
   {
    "duration": 8,
    "start_time": "2023-08-16T09:56:21.680Z"
   },
   {
    "duration": 6,
    "start_time": "2023-08-16T09:56:43.472Z"
   },
   {
    "duration": 40,
    "start_time": "2023-08-16T09:56:47.814Z"
   },
   {
    "duration": 41,
    "start_time": "2023-08-16T09:56:55.096Z"
   },
   {
    "duration": 10,
    "start_time": "2023-08-16T09:57:03.219Z"
   },
   {
    "duration": 6,
    "start_time": "2023-08-16T10:06:03.961Z"
   },
   {
    "duration": 8,
    "start_time": "2023-08-16T10:06:49.109Z"
   },
   {
    "duration": 6,
    "start_time": "2023-08-16T10:07:15.478Z"
   },
   {
    "duration": 1323,
    "start_time": "2023-08-16T11:17:33.165Z"
   },
   {
    "duration": 76,
    "start_time": "2023-08-16T11:17:34.491Z"
   },
   {
    "duration": 14,
    "start_time": "2023-08-16T11:17:34.569Z"
   },
   {
    "duration": 52,
    "start_time": "2023-08-16T11:17:34.586Z"
   },
   {
    "duration": 15,
    "start_time": "2023-08-16T11:17:34.655Z"
   },
   {
    "duration": 21,
    "start_time": "2023-08-16T11:17:34.673Z"
   },
   {
    "duration": 13,
    "start_time": "2023-08-16T11:17:34.697Z"
   },
   {
    "duration": 6,
    "start_time": "2023-08-16T11:17:34.712Z"
   },
   {
    "duration": 42,
    "start_time": "2023-08-16T11:17:34.720Z"
   },
   {
    "duration": 16,
    "start_time": "2023-08-16T11:17:34.766Z"
   },
   {
    "duration": 13,
    "start_time": "2023-08-16T11:17:34.785Z"
   },
   {
    "duration": 30,
    "start_time": "2023-08-16T11:17:34.800Z"
   },
   {
    "duration": 19,
    "start_time": "2023-08-16T11:17:34.832Z"
   },
   {
    "duration": 26,
    "start_time": "2023-08-16T11:17:34.857Z"
   },
   {
    "duration": 8,
    "start_time": "2023-08-16T11:17:34.894Z"
   },
   {
    "duration": 24,
    "start_time": "2023-08-16T11:17:34.905Z"
   },
   {
    "duration": 15,
    "start_time": "2023-08-16T11:17:34.932Z"
   },
   {
    "duration": 29,
    "start_time": "2023-08-16T11:17:34.949Z"
   },
   {
    "duration": 10,
    "start_time": "2023-08-16T11:17:34.981Z"
   },
   {
    "duration": 20,
    "start_time": "2023-08-16T11:17:34.993Z"
   },
   {
    "duration": 46,
    "start_time": "2023-08-16T11:17:35.015Z"
   },
   {
    "duration": 53,
    "start_time": "2023-08-16T11:17:35.063Z"
   },
   {
    "duration": 61,
    "start_time": "2023-08-16T11:17:35.119Z"
   },
   {
    "duration": 45,
    "start_time": "2023-08-16T11:17:35.182Z"
   },
   {
    "duration": 7,
    "start_time": "2023-08-16T11:17:35.229Z"
   },
   {
    "duration": 24,
    "start_time": "2023-08-16T11:17:35.257Z"
   },
   {
    "duration": 4,
    "start_time": "2023-08-16T11:25:10.719Z"
   },
   {
    "duration": 9,
    "start_time": "2023-08-16T11:25:11.962Z"
   },
   {
    "duration": 23,
    "start_time": "2023-08-16T11:25:19.484Z"
   },
   {
    "duration": 41,
    "start_time": "2023-08-16T11:26:07.084Z"
   },
   {
    "duration": 45,
    "start_time": "2023-08-16T11:26:10.848Z"
   },
   {
    "duration": 25,
    "start_time": "2023-08-16T11:26:31.161Z"
   },
   {
    "duration": 72,
    "start_time": "2023-08-16T11:26:53.988Z"
   },
   {
    "duration": 27,
    "start_time": "2023-08-16T11:27:24.388Z"
   },
   {
    "duration": 20,
    "start_time": "2023-08-16T11:27:30.466Z"
   },
   {
    "duration": 18,
    "start_time": "2023-08-16T11:29:06.968Z"
   },
   {
    "duration": 12,
    "start_time": "2023-08-16T11:30:36.296Z"
   },
   {
    "duration": 16,
    "start_time": "2023-08-16T11:30:41.205Z"
   },
   {
    "duration": 32,
    "start_time": "2023-08-16T11:30:53.127Z"
   },
   {
    "duration": 59,
    "start_time": "2023-08-16T11:31:06.012Z"
   },
   {
    "duration": 33,
    "start_time": "2023-08-16T11:31:14.605Z"
   },
   {
    "duration": 22,
    "start_time": "2023-08-16T11:31:25.434Z"
   },
   {
    "duration": 11,
    "start_time": "2023-08-16T11:34:57.996Z"
   },
   {
    "duration": 13,
    "start_time": "2023-08-16T11:35:32.848Z"
   },
   {
    "duration": 107,
    "start_time": "2023-08-16T11:35:53.381Z"
   },
   {
    "duration": 15,
    "start_time": "2023-08-16T11:36:02.580Z"
   },
   {
    "duration": 17,
    "start_time": "2023-08-16T11:36:08.816Z"
   },
   {
    "duration": 18,
    "start_time": "2023-08-16T11:36:38.832Z"
   },
   {
    "duration": 12,
    "start_time": "2023-08-16T11:36:44.046Z"
   },
   {
    "duration": 17,
    "start_time": "2023-08-16T11:37:16.021Z"
   },
   {
    "duration": 13,
    "start_time": "2023-08-16T11:37:27.965Z"
   },
   {
    "duration": 14,
    "start_time": "2023-08-16T11:38:12.353Z"
   },
   {
    "duration": 74,
    "start_time": "2023-08-16T11:38:21.114Z"
   },
   {
    "duration": 15,
    "start_time": "2023-08-16T11:38:33.672Z"
   },
   {
    "duration": 92,
    "start_time": "2023-08-16T11:45:17.354Z"
   },
   {
    "duration": 18,
    "start_time": "2023-08-16T11:45:42.699Z"
   },
   {
    "duration": 1276,
    "start_time": "2023-08-16T12:59:47.656Z"
   },
   {
    "duration": 74,
    "start_time": "2023-08-16T12:59:48.934Z"
   },
   {
    "duration": 14,
    "start_time": "2023-08-16T12:59:49.012Z"
   },
   {
    "duration": 41,
    "start_time": "2023-08-16T12:59:49.029Z"
   },
   {
    "duration": 39,
    "start_time": "2023-08-16T12:59:49.071Z"
   },
   {
    "duration": 5,
    "start_time": "2023-08-16T12:59:49.112Z"
   },
   {
    "duration": 17,
    "start_time": "2023-08-16T12:59:49.118Z"
   },
   {
    "duration": 7,
    "start_time": "2023-08-16T12:59:49.136Z"
   },
   {
    "duration": 26,
    "start_time": "2023-08-16T12:59:49.145Z"
   },
   {
    "duration": 5,
    "start_time": "2023-08-16T12:59:49.174Z"
   },
   {
    "duration": 10,
    "start_time": "2023-08-16T12:59:49.201Z"
   },
   {
    "duration": 10,
    "start_time": "2023-08-16T12:59:49.213Z"
   },
   {
    "duration": 8,
    "start_time": "2023-08-16T12:59:49.225Z"
   },
   {
    "duration": 6,
    "start_time": "2023-08-16T12:59:49.235Z"
   },
   {
    "duration": 5,
    "start_time": "2023-08-16T12:59:49.242Z"
   },
   {
    "duration": 14,
    "start_time": "2023-08-16T12:59:49.248Z"
   },
   {
    "duration": 40,
    "start_time": "2023-08-16T12:59:49.263Z"
   },
   {
    "duration": 5,
    "start_time": "2023-08-16T12:59:49.305Z"
   },
   {
    "duration": 10,
    "start_time": "2023-08-16T12:59:49.311Z"
   },
   {
    "duration": 10,
    "start_time": "2023-08-16T12:59:49.323Z"
   },
   {
    "duration": 10,
    "start_time": "2023-08-16T12:59:49.335Z"
   },
   {
    "duration": 10,
    "start_time": "2023-08-16T12:59:49.347Z"
   },
   {
    "duration": 51,
    "start_time": "2023-08-16T12:59:49.358Z"
   },
   {
    "duration": 37,
    "start_time": "2023-08-16T12:59:49.411Z"
   },
   {
    "duration": 19,
    "start_time": "2023-08-16T12:59:49.450Z"
   },
   {
    "duration": 39,
    "start_time": "2023-08-16T12:59:49.471Z"
   },
   {
    "duration": 14,
    "start_time": "2023-08-16T12:59:49.513Z"
   },
   {
    "duration": 15,
    "start_time": "2023-08-16T13:00:32.144Z"
   },
   {
    "duration": 14,
    "start_time": "2023-08-16T13:00:45.909Z"
   },
   {
    "duration": 15,
    "start_time": "2023-08-16T13:01:29.945Z"
   },
   {
    "duration": 4,
    "start_time": "2023-08-16T13:03:29.714Z"
   },
   {
    "duration": 16,
    "start_time": "2023-08-16T13:03:41.902Z"
   },
   {
    "duration": 17,
    "start_time": "2023-08-16T13:04:08.067Z"
   },
   {
    "duration": 99,
    "start_time": "2023-08-16T13:04:09.926Z"
   },
   {
    "duration": 17,
    "start_time": "2023-08-16T13:04:25.066Z"
   },
   {
    "duration": 18,
    "start_time": "2023-08-16T13:04:32.548Z"
   },
   {
    "duration": 96,
    "start_time": "2023-08-16T13:04:57.254Z"
   },
   {
    "duration": 16,
    "start_time": "2023-08-16T13:05:06.297Z"
   },
   {
    "duration": 4,
    "start_time": "2023-08-16T13:09:26.229Z"
   },
   {
    "duration": 13,
    "start_time": "2023-08-16T13:09:40.631Z"
   },
   {
    "duration": 7,
    "start_time": "2023-08-16T13:10:11.574Z"
   },
   {
    "duration": 11,
    "start_time": "2023-08-16T13:10:28.674Z"
   },
   {
    "duration": 12,
    "start_time": "2023-08-16T13:10:38.705Z"
   },
   {
    "duration": 16,
    "start_time": "2023-08-16T13:10:42.703Z"
   },
   {
    "duration": 13,
    "start_time": "2023-08-16T13:12:26.661Z"
   },
   {
    "duration": 25,
    "start_time": "2023-08-16T13:12:44.397Z"
   },
   {
    "duration": 183,
    "start_time": "2023-08-16T14:34:46.965Z"
   },
   {
    "duration": 99,
    "start_time": "2023-08-16T14:35:00.549Z"
   },
   {
    "duration": 1236,
    "start_time": "2023-08-16T14:35:07.121Z"
   },
   {
    "duration": 103,
    "start_time": "2023-08-16T14:35:08.359Z"
   },
   {
    "duration": 15,
    "start_time": "2023-08-16T14:35:08.463Z"
   },
   {
    "duration": 57,
    "start_time": "2023-08-16T14:35:08.479Z"
   },
   {
    "duration": 12,
    "start_time": "2023-08-16T14:35:08.538Z"
   },
   {
    "duration": 19,
    "start_time": "2023-08-16T14:35:08.552Z"
   },
   {
    "duration": 20,
    "start_time": "2023-08-16T14:35:08.573Z"
   },
   {
    "duration": 27,
    "start_time": "2023-08-16T14:35:08.595Z"
   },
   {
    "duration": 46,
    "start_time": "2023-08-16T14:35:08.625Z"
   },
   {
    "duration": 7,
    "start_time": "2023-08-16T14:35:08.673Z"
   },
   {
    "duration": 21,
    "start_time": "2023-08-16T14:35:08.683Z"
   },
   {
    "duration": 39,
    "start_time": "2023-08-16T14:35:08.706Z"
   },
   {
    "duration": 30,
    "start_time": "2023-08-16T14:35:08.748Z"
   },
   {
    "duration": 14,
    "start_time": "2023-08-16T14:35:08.780Z"
   },
   {
    "duration": 19,
    "start_time": "2023-08-16T14:35:08.796Z"
   },
   {
    "duration": 30,
    "start_time": "2023-08-16T14:35:08.817Z"
   },
   {
    "duration": 13,
    "start_time": "2023-08-16T14:35:08.849Z"
   },
   {
    "duration": 14,
    "start_time": "2023-08-16T14:35:08.863Z"
   },
   {
    "duration": 16,
    "start_time": "2023-08-16T14:35:08.879Z"
   },
   {
    "duration": 92,
    "start_time": "2023-08-16T14:35:08.897Z"
   },
   {
    "duration": 112,
    "start_time": "2023-08-16T14:35:08.991Z"
   },
   {
    "duration": 32,
    "start_time": "2023-08-16T14:35:09.104Z"
   },
   {
    "duration": 55,
    "start_time": "2023-08-16T14:35:09.137Z"
   },
   {
    "duration": 47,
    "start_time": "2023-08-16T14:35:09.194Z"
   },
   {
    "duration": 19,
    "start_time": "2023-08-16T14:35:09.242Z"
   },
   {
    "duration": 105,
    "start_time": "2023-08-16T14:35:09.262Z"
   },
   {
    "duration": 26,
    "start_time": "2023-08-16T14:35:22.791Z"
   },
   {
    "duration": 126,
    "start_time": "2023-08-16T14:35:27.183Z"
   },
   {
    "duration": 21,
    "start_time": "2023-08-16T14:36:11.676Z"
   },
   {
    "duration": 23,
    "start_time": "2023-08-16T14:36:37.006Z"
   },
   {
    "duration": 21,
    "start_time": "2023-08-16T14:36:42.398Z"
   },
   {
    "duration": 16,
    "start_time": "2023-08-16T14:37:59.241Z"
   },
   {
    "duration": 19,
    "start_time": "2023-08-16T14:38:23.455Z"
   },
   {
    "duration": 23,
    "start_time": "2023-08-16T14:38:29.191Z"
   },
   {
    "duration": 22,
    "start_time": "2023-08-16T14:38:38.692Z"
   },
   {
    "duration": 21,
    "start_time": "2023-08-16T14:39:03.154Z"
   },
   {
    "duration": 22,
    "start_time": "2023-08-16T14:39:11.093Z"
   },
   {
    "duration": 12,
    "start_time": "2023-08-16T14:39:16.174Z"
   },
   {
    "duration": 30,
    "start_time": "2023-08-16T14:39:22.583Z"
   },
   {
    "duration": 22,
    "start_time": "2023-08-16T14:40:57.878Z"
   },
   {
    "duration": 21,
    "start_time": "2023-08-16T14:41:03.536Z"
   },
   {
    "duration": 24,
    "start_time": "2023-08-16T14:41:10.418Z"
   },
   {
    "duration": 19,
    "start_time": "2023-08-16T14:41:55.927Z"
   },
   {
    "duration": 19,
    "start_time": "2023-08-16T14:42:02.918Z"
   },
   {
    "duration": 21,
    "start_time": "2023-08-16T14:42:11.788Z"
   },
   {
    "duration": 17,
    "start_time": "2023-08-16T14:44:30.316Z"
   },
   {
    "duration": 14,
    "start_time": "2023-08-16T14:45:01.173Z"
   },
   {
    "duration": 61,
    "start_time": "2023-08-16T14:46:27.921Z"
   },
   {
    "duration": 11,
    "start_time": "2023-08-16T14:46:39.452Z"
   },
   {
    "duration": 17,
    "start_time": "2023-08-16T14:47:05.682Z"
   },
   {
    "duration": 1600,
    "start_time": "2023-08-16T14:47:18.252Z"
   },
   {
    "duration": 9,
    "start_time": "2023-08-16T14:47:24.627Z"
   },
   {
    "duration": 11,
    "start_time": "2023-08-16T14:47:52.337Z"
   },
   {
    "duration": 6,
    "start_time": "2023-08-16T14:48:13.769Z"
   },
   {
    "duration": 8,
    "start_time": "2023-08-16T14:48:21.688Z"
   },
   {
    "duration": 20,
    "start_time": "2023-08-16T14:48:29.368Z"
   },
   {
    "duration": 19,
    "start_time": "2023-08-16T14:48:38.625Z"
   },
   {
    "duration": 52,
    "start_time": "2023-08-16T14:49:03.770Z"
   },
   {
    "duration": 12,
    "start_time": "2023-08-16T14:49:15.172Z"
   },
   {
    "duration": 20,
    "start_time": "2023-08-16T14:49:52.852Z"
   },
   {
    "duration": 17,
    "start_time": "2023-08-16T14:49:57.924Z"
   },
   {
    "duration": 19,
    "start_time": "2023-08-16T14:50:04.129Z"
   },
   {
    "duration": 27,
    "start_time": "2023-08-16T14:50:12.790Z"
   },
   {
    "duration": 22,
    "start_time": "2023-08-16T14:50:20.556Z"
   },
   {
    "duration": 50,
    "start_time": "2023-08-16T18:57:40.497Z"
   },
   {
    "duration": 1321,
    "start_time": "2023-08-16T18:57:46.203Z"
   },
   {
    "duration": 85,
    "start_time": "2023-08-16T18:57:47.527Z"
   },
   {
    "duration": 11,
    "start_time": "2023-08-16T18:57:47.613Z"
   },
   {
    "duration": 65,
    "start_time": "2023-08-16T18:57:47.626Z"
   },
   {
    "duration": 11,
    "start_time": "2023-08-16T18:57:47.692Z"
   },
   {
    "duration": 4,
    "start_time": "2023-08-16T18:57:47.704Z"
   },
   {
    "duration": 17,
    "start_time": "2023-08-16T18:57:47.709Z"
   },
   {
    "duration": 6,
    "start_time": "2023-08-16T18:57:47.728Z"
   },
   {
    "duration": 17,
    "start_time": "2023-08-16T18:57:47.735Z"
   },
   {
    "duration": 4,
    "start_time": "2023-08-16T18:57:47.775Z"
   },
   {
    "duration": 14,
    "start_time": "2023-08-16T18:57:47.781Z"
   },
   {
    "duration": 18,
    "start_time": "2023-08-16T18:57:47.796Z"
   },
   {
    "duration": 6,
    "start_time": "2023-08-16T18:57:47.816Z"
   },
   {
    "duration": 13,
    "start_time": "2023-08-16T18:57:47.823Z"
   },
   {
    "duration": 34,
    "start_time": "2023-08-16T18:57:47.837Z"
   },
   {
    "duration": 18,
    "start_time": "2023-08-16T18:57:47.873Z"
   },
   {
    "duration": 12,
    "start_time": "2023-08-16T18:57:47.893Z"
   },
   {
    "duration": 4,
    "start_time": "2023-08-16T18:57:47.906Z"
   },
   {
    "duration": 7,
    "start_time": "2023-08-16T18:57:47.911Z"
   },
   {
    "duration": 2,
    "start_time": "2023-08-16T18:57:47.920Z"
   },
   {
    "duration": 8,
    "start_time": "2023-08-16T18:57:47.924Z"
   },
   {
    "duration": 16,
    "start_time": "2023-08-16T18:57:47.933Z"
   },
   {
    "duration": 42,
    "start_time": "2023-08-16T18:57:47.951Z"
   },
   {
    "duration": 35,
    "start_time": "2023-08-16T18:57:47.995Z"
   },
   {
    "duration": 16,
    "start_time": "2023-08-16T18:57:48.032Z"
   },
   {
    "duration": 41,
    "start_time": "2023-08-16T18:57:48.049Z"
   },
   {
    "duration": 5,
    "start_time": "2023-08-16T18:57:48.092Z"
   },
   {
    "duration": 17,
    "start_time": "2023-08-16T18:57:57.800Z"
   },
   {
    "duration": 102,
    "start_time": "2023-08-16T18:58:06.249Z"
   },
   {
    "duration": 18,
    "start_time": "2023-08-16T18:58:14.007Z"
   },
   {
    "duration": 16,
    "start_time": "2023-08-16T18:58:19.199Z"
   },
   {
    "duration": 30,
    "start_time": "2023-08-16T18:59:01.614Z"
   },
   {
    "duration": 10,
    "start_time": "2023-08-16T19:00:43.926Z"
   },
   {
    "duration": 11,
    "start_time": "2023-08-16T19:00:49.133Z"
   },
   {
    "duration": 15,
    "start_time": "2023-08-16T19:01:03.895Z"
   },
   {
    "duration": 4,
    "start_time": "2023-08-16T19:07:05.001Z"
   },
   {
    "duration": 7,
    "start_time": "2023-08-16T19:07:14.037Z"
   },
   {
    "duration": 22,
    "start_time": "2023-08-16T19:10:18.351Z"
   },
   {
    "duration": 27,
    "start_time": "2023-08-16T19:10:41.404Z"
   },
   {
    "duration": 24,
    "start_time": "2023-08-16T19:10:54.219Z"
   },
   {
    "duration": 24,
    "start_time": "2023-08-16T19:11:01.968Z"
   },
   {
    "duration": 22,
    "start_time": "2023-08-16T19:11:12.605Z"
   },
   {
    "duration": 10,
    "start_time": "2023-08-16T19:11:27.834Z"
   },
   {
    "duration": 72,
    "start_time": "2023-08-16T19:11:58.176Z"
   },
   {
    "duration": 18,
    "start_time": "2023-08-16T19:12:32.529Z"
   },
   {
    "duration": 18,
    "start_time": "2023-08-16T19:13:16.445Z"
   },
   {
    "duration": 26,
    "start_time": "2023-08-16T19:13:32.633Z"
   },
   {
    "duration": 20,
    "start_time": "2023-08-16T19:15:09.101Z"
   },
   {
    "duration": 5,
    "start_time": "2023-08-16T19:15:21.656Z"
   },
   {
    "duration": 13,
    "start_time": "2023-08-16T19:16:47.107Z"
   },
   {
    "duration": 8,
    "start_time": "2023-08-16T19:17:02.699Z"
   },
   {
    "duration": 9,
    "start_time": "2023-08-16T19:17:08.141Z"
   },
   {
    "duration": 20,
    "start_time": "2023-08-16T19:17:13.717Z"
   },
   {
    "duration": 720,
    "start_time": "2023-08-16T19:21:38.818Z"
   },
   {
    "duration": 867,
    "start_time": "2023-08-16T19:21:47.743Z"
   },
   {
    "duration": 685,
    "start_time": "2023-08-16T19:22:52.775Z"
   },
   {
    "duration": 899,
    "start_time": "2023-08-16T19:22:57.158Z"
   },
   {
    "duration": 705,
    "start_time": "2023-08-16T19:23:04.493Z"
   },
   {
    "duration": 19,
    "start_time": "2023-08-16T19:24:12.649Z"
   },
   {
    "duration": 987,
    "start_time": "2023-08-16T19:25:17.608Z"
   },
   {
    "duration": 801,
    "start_time": "2023-08-16T19:25:26.504Z"
   },
   {
    "duration": 14,
    "start_time": "2023-08-16T19:25:37.069Z"
   },
   {
    "duration": 734,
    "start_time": "2023-08-16T19:25:53.512Z"
   },
   {
    "duration": 16,
    "start_time": "2023-08-16T19:31:02.806Z"
   },
   {
    "duration": 16,
    "start_time": "2023-08-16T19:31:15.904Z"
   },
   {
    "duration": 15,
    "start_time": "2023-08-16T19:31:24.705Z"
   },
   {
    "duration": 13,
    "start_time": "2023-08-16T19:31:40.159Z"
   },
   {
    "duration": 14,
    "start_time": "2023-08-16T19:31:49.247Z"
   },
   {
    "duration": 16,
    "start_time": "2023-08-16T19:32:24.739Z"
   },
   {
    "duration": 71,
    "start_time": "2023-08-16T19:33:19.490Z"
   },
   {
    "duration": 15,
    "start_time": "2023-08-16T19:33:23.494Z"
   },
   {
    "duration": 17,
    "start_time": "2023-08-16T19:33:28.116Z"
   },
   {
    "duration": 1088,
    "start_time": "2023-08-16T19:33:39.716Z"
   },
   {
    "duration": 1006,
    "start_time": "2023-08-16T19:33:51.773Z"
   },
   {
    "duration": 927,
    "start_time": "2023-08-16T19:33:59.864Z"
   },
   {
    "duration": 987,
    "start_time": "2023-08-16T19:34:18.094Z"
   },
   {
    "duration": 1086,
    "start_time": "2023-08-16T19:34:24.254Z"
   },
   {
    "duration": 1042,
    "start_time": "2023-08-16T19:35:11.656Z"
   },
   {
    "duration": 1072,
    "start_time": "2023-08-16T19:35:19.685Z"
   },
   {
    "duration": 81,
    "start_time": "2023-08-16T19:37:18.563Z"
   },
   {
    "duration": 20,
    "start_time": "2023-08-16T19:37:26.554Z"
   },
   {
    "duration": 30,
    "start_time": "2023-08-16T19:37:49.156Z"
   },
   {
    "duration": 18,
    "start_time": "2023-08-16T19:37:59.195Z"
   },
   {
    "duration": 929,
    "start_time": "2023-08-16T19:38:03.262Z"
   },
   {
    "duration": 1282,
    "start_time": "2023-08-16T22:30:53.351Z"
   },
   {
    "duration": 102,
    "start_time": "2023-08-16T22:30:54.635Z"
   },
   {
    "duration": 13,
    "start_time": "2023-08-16T22:30:54.739Z"
   },
   {
    "duration": 40,
    "start_time": "2023-08-16T22:30:54.754Z"
   },
   {
    "duration": 14,
    "start_time": "2023-08-16T22:30:54.796Z"
   },
   {
    "duration": 4,
    "start_time": "2023-08-16T22:30:54.812Z"
   },
   {
    "duration": 11,
    "start_time": "2023-08-16T22:30:54.818Z"
   },
   {
    "duration": 5,
    "start_time": "2023-08-16T22:30:54.831Z"
   },
   {
    "duration": 49,
    "start_time": "2023-08-16T22:30:54.838Z"
   },
   {
    "duration": 5,
    "start_time": "2023-08-16T22:30:54.889Z"
   },
   {
    "duration": 14,
    "start_time": "2023-08-16T22:30:54.896Z"
   },
   {
    "duration": 18,
    "start_time": "2023-08-16T22:30:54.911Z"
   },
   {
    "duration": 15,
    "start_time": "2023-08-16T22:30:54.930Z"
   },
   {
    "duration": 6,
    "start_time": "2023-08-16T22:30:54.947Z"
   },
   {
    "duration": 23,
    "start_time": "2023-08-16T22:30:54.955Z"
   },
   {
    "duration": 7,
    "start_time": "2023-08-16T22:30:54.980Z"
   },
   {
    "duration": 7,
    "start_time": "2023-08-16T22:30:54.989Z"
   },
   {
    "duration": 19,
    "start_time": "2023-08-16T22:30:54.998Z"
   },
   {
    "duration": 18,
    "start_time": "2023-08-16T22:30:55.019Z"
   },
   {
    "duration": 5,
    "start_time": "2023-08-16T22:30:55.039Z"
   },
   {
    "duration": 17,
    "start_time": "2023-08-16T22:30:55.045Z"
   },
   {
    "duration": 7,
    "start_time": "2023-08-16T22:30:55.075Z"
   },
   {
    "duration": 57,
    "start_time": "2023-08-16T22:30:55.084Z"
   },
   {
    "duration": 49,
    "start_time": "2023-08-16T22:30:55.143Z"
   },
   {
    "duration": 20,
    "start_time": "2023-08-16T22:30:55.194Z"
   },
   {
    "duration": 32,
    "start_time": "2023-08-16T22:30:55.215Z"
   },
   {
    "duration": 5,
    "start_time": "2023-08-16T22:30:55.249Z"
   },
   {
    "duration": 23,
    "start_time": "2023-08-16T22:30:55.274Z"
   },
   {
    "duration": 920,
    "start_time": "2023-08-16T22:30:55.299Z"
   },
   {
    "duration": 19,
    "start_time": "2023-08-16T22:30:56.220Z"
   },
   {
    "duration": 13,
    "start_time": "2023-08-16T22:33:14.680Z"
   },
   {
    "duration": 890,
    "start_time": "2023-08-16T22:33:15.607Z"
   },
   {
    "duration": 28455,
    "start_time": "2023-08-16T22:33:29.463Z"
   },
   {
    "duration": 104,
    "start_time": "2023-08-16T22:34:18.094Z"
   },
   {
    "duration": 18,
    "start_time": "2023-08-16T22:36:36.770Z"
   },
   {
    "duration": 105,
    "start_time": "2023-08-16T22:39:32.683Z"
   },
   {
    "duration": 19,
    "start_time": "2023-08-16T22:39:46.832Z"
   },
   {
    "duration": 19,
    "start_time": "2023-08-16T22:40:02.103Z"
   },
   {
    "duration": 8,
    "start_time": "2023-08-16T22:40:53.107Z"
   },
   {
    "duration": 19,
    "start_time": "2023-08-16T23:02:17.924Z"
   },
   {
    "duration": 104,
    "start_time": "2023-08-16T23:02:45.531Z"
   },
   {
    "duration": 1361,
    "start_time": "2023-08-30T17:04:01.305Z"
   },
   {
    "duration": 67,
    "start_time": "2023-08-30T17:04:02.669Z"
   },
   {
    "duration": 22,
    "start_time": "2023-08-30T17:04:02.738Z"
   },
   {
    "duration": 37,
    "start_time": "2023-08-30T17:04:02.764Z"
   },
   {
    "duration": 12,
    "start_time": "2023-08-30T17:04:02.802Z"
   },
   {
    "duration": 4,
    "start_time": "2023-08-30T17:04:02.815Z"
   },
   {
    "duration": 12,
    "start_time": "2023-08-30T17:04:02.820Z"
   },
   {
    "duration": 16,
    "start_time": "2023-08-30T17:04:02.834Z"
   },
   {
    "duration": 24,
    "start_time": "2023-08-30T17:04:02.852Z"
   },
   {
    "duration": 17,
    "start_time": "2023-08-30T17:04:02.878Z"
   },
   {
    "duration": 16,
    "start_time": "2023-08-30T17:04:02.897Z"
   },
   {
    "duration": 9,
    "start_time": "2023-08-30T17:04:02.914Z"
   },
   {
    "duration": 30,
    "start_time": "2023-08-30T17:04:02.925Z"
   },
   {
    "duration": 7,
    "start_time": "2023-08-30T17:04:02.956Z"
   },
   {
    "duration": 10,
    "start_time": "2023-08-30T17:04:02.965Z"
   },
   {
    "duration": 15,
    "start_time": "2023-08-30T17:04:02.976Z"
   },
   {
    "duration": 16,
    "start_time": "2023-08-30T17:04:02.993Z"
   },
   {
    "duration": 9,
    "start_time": "2023-08-30T17:04:03.010Z"
   },
   {
    "duration": 16,
    "start_time": "2023-08-30T17:04:03.021Z"
   },
   {
    "duration": 19,
    "start_time": "2023-08-30T17:04:03.039Z"
   },
   {
    "duration": 22,
    "start_time": "2023-08-30T17:04:03.062Z"
   },
   {
    "duration": 14,
    "start_time": "2023-08-30T17:04:03.086Z"
   },
   {
    "duration": 45,
    "start_time": "2023-08-30T17:04:03.101Z"
   },
   {
    "duration": 41,
    "start_time": "2023-08-30T17:04:03.147Z"
   },
   {
    "duration": 16,
    "start_time": "2023-08-30T17:04:03.190Z"
   },
   {
    "duration": 36,
    "start_time": "2023-08-30T17:04:03.208Z"
   },
   {
    "duration": 18,
    "start_time": "2023-08-30T17:04:03.245Z"
   },
   {
    "duration": 21,
    "start_time": "2023-08-30T17:04:03.267Z"
   },
   {
    "duration": 881,
    "start_time": "2023-08-30T17:04:03.290Z"
   },
   {
    "duration": 18,
    "start_time": "2023-08-30T17:04:04.173Z"
   },
   {
    "duration": 24,
    "start_time": "2023-08-30T17:04:04.192Z"
   },
   {
    "duration": 124,
    "start_time": "2023-08-30T17:04:04.217Z"
   },
   {
    "duration": 50,
    "start_time": "2023-08-30T20:08:27.973Z"
   },
   {
    "duration": 1285,
    "start_time": "2023-08-30T20:08:39.851Z"
   },
   {
    "duration": 63,
    "start_time": "2023-08-30T20:08:41.140Z"
   },
   {
    "duration": 13,
    "start_time": "2023-08-30T20:08:41.204Z"
   },
   {
    "duration": 36,
    "start_time": "2023-08-30T20:08:41.218Z"
   },
   {
    "duration": 12,
    "start_time": "2023-08-30T20:08:41.256Z"
   },
   {
    "duration": 3,
    "start_time": "2023-08-30T20:08:41.270Z"
   },
   {
    "duration": 12,
    "start_time": "2023-08-30T20:08:41.274Z"
   },
   {
    "duration": 4,
    "start_time": "2023-08-30T20:08:41.288Z"
   },
   {
    "duration": 41,
    "start_time": "2023-08-30T20:08:41.294Z"
   },
   {
    "duration": 5,
    "start_time": "2023-08-30T20:08:41.337Z"
   },
   {
    "duration": 10,
    "start_time": "2023-08-30T20:08:41.343Z"
   },
   {
    "duration": 18,
    "start_time": "2023-08-30T20:08:41.355Z"
   },
   {
    "duration": 6,
    "start_time": "2023-08-30T20:08:41.375Z"
   },
   {
    "duration": 8,
    "start_time": "2023-08-30T20:08:41.384Z"
   },
   {
    "duration": 33,
    "start_time": "2023-08-30T20:08:41.394Z"
   },
   {
    "duration": 5,
    "start_time": "2023-08-30T20:08:41.429Z"
   },
   {
    "duration": 4,
    "start_time": "2023-08-30T20:08:41.436Z"
   },
   {
    "duration": 5,
    "start_time": "2023-08-30T20:08:41.442Z"
   },
   {
    "duration": 8,
    "start_time": "2023-08-30T20:08:41.448Z"
   },
   {
    "duration": 4,
    "start_time": "2023-08-30T20:08:41.457Z"
   },
   {
    "duration": 9,
    "start_time": "2023-08-30T20:08:41.462Z"
   },
   {
    "duration": 6,
    "start_time": "2023-08-30T20:08:41.473Z"
   },
   {
    "duration": 73,
    "start_time": "2023-08-30T20:08:41.481Z"
   },
   {
    "duration": 46,
    "start_time": "2023-08-30T20:08:41.556Z"
   },
   {
    "duration": 36,
    "start_time": "2023-08-30T20:08:41.604Z"
   },
   {
    "duration": 21,
    "start_time": "2023-08-30T20:08:41.641Z"
   },
   {
    "duration": 5,
    "start_time": "2023-08-30T20:08:41.663Z"
   },
   {
    "duration": 13,
    "start_time": "2023-08-30T20:08:41.670Z"
   },
   {
    "duration": 842,
    "start_time": "2023-08-30T20:08:41.684Z"
   },
   {
    "duration": 19,
    "start_time": "2023-08-30T20:08:42.527Z"
   },
   {
    "duration": 19,
    "start_time": "2023-08-30T20:08:42.547Z"
   },
   {
    "duration": 127,
    "start_time": "2023-08-30T20:08:42.567Z"
   },
   {
    "duration": 101,
    "start_time": "2023-08-30T20:10:26.553Z"
   },
   {
    "duration": 20,
    "start_time": "2023-08-30T20:10:31.597Z"
   },
   {
    "duration": 28,
    "start_time": "2023-08-30T20:13:19.249Z"
   },
   {
    "duration": 106,
    "start_time": "2023-08-30T20:13:35.361Z"
   },
   {
    "duration": 10,
    "start_time": "2023-08-30T20:13:59.308Z"
   },
   {
    "duration": 19,
    "start_time": "2023-08-30T20:14:05.855Z"
   },
   {
    "duration": 22,
    "start_time": "2023-08-30T20:14:17.454Z"
   },
   {
    "duration": 17,
    "start_time": "2023-08-30T20:14:30.608Z"
   },
   {
    "duration": 19,
    "start_time": "2023-08-30T20:14:34.756Z"
   },
   {
    "duration": 19,
    "start_time": "2023-08-30T20:14:52.435Z"
   },
   {
    "duration": 18,
    "start_time": "2023-08-30T20:17:04.225Z"
   },
   {
    "duration": 15,
    "start_time": "2023-08-30T20:17:26.857Z"
   },
   {
    "duration": 62,
    "start_time": "2023-08-30T20:17:51.677Z"
   },
   {
    "duration": 55,
    "start_time": "2023-08-30T20:18:32.139Z"
   },
   {
    "duration": 5,
    "start_time": "2023-08-30T20:18:34.544Z"
   },
   {
    "duration": 53,
    "start_time": "2023-08-30T20:18:40.852Z"
   },
   {
    "duration": 1148,
    "start_time": "2023-08-30T20:18:49.479Z"
   },
   {
    "duration": 75,
    "start_time": "2023-08-30T20:18:50.633Z"
   },
   {
    "duration": 12,
    "start_time": "2023-08-30T20:18:50.710Z"
   },
   {
    "duration": 50,
    "start_time": "2023-08-30T20:18:50.724Z"
   },
   {
    "duration": 12,
    "start_time": "2023-08-30T20:18:50.776Z"
   },
   {
    "duration": 8,
    "start_time": "2023-08-30T20:18:50.790Z"
   },
   {
    "duration": 18,
    "start_time": "2023-08-30T20:18:50.799Z"
   },
   {
    "duration": 14,
    "start_time": "2023-08-30T20:18:50.818Z"
   },
   {
    "duration": 24,
    "start_time": "2023-08-30T20:18:50.833Z"
   },
   {
    "duration": 5,
    "start_time": "2023-08-30T20:18:50.858Z"
   },
   {
    "duration": 12,
    "start_time": "2023-08-30T20:18:50.865Z"
   },
   {
    "duration": 22,
    "start_time": "2023-08-30T20:18:50.879Z"
   },
   {
    "duration": 14,
    "start_time": "2023-08-30T20:18:50.903Z"
   },
   {
    "duration": 23,
    "start_time": "2023-08-30T20:18:50.920Z"
   },
   {
    "duration": 9,
    "start_time": "2023-08-30T20:18:50.947Z"
   },
   {
    "duration": 11,
    "start_time": "2023-08-30T20:18:50.959Z"
   },
   {
    "duration": 7,
    "start_time": "2023-08-30T20:18:50.972Z"
   },
   {
    "duration": 13,
    "start_time": "2023-08-30T20:18:50.980Z"
   },
   {
    "duration": 10,
    "start_time": "2023-08-30T20:18:50.994Z"
   },
   {
    "duration": 16,
    "start_time": "2023-08-30T20:18:51.006Z"
   },
   {
    "duration": 19,
    "start_time": "2023-08-30T20:18:51.028Z"
   },
   {
    "duration": 28,
    "start_time": "2023-08-30T20:18:51.049Z"
   },
   {
    "duration": 42,
    "start_time": "2023-08-30T20:18:51.078Z"
   },
   {
    "duration": 46,
    "start_time": "2023-08-30T20:18:51.122Z"
   },
   {
    "duration": 17,
    "start_time": "2023-08-30T20:18:51.170Z"
   },
   {
    "duration": 38,
    "start_time": "2023-08-30T20:18:51.189Z"
   },
   {
    "duration": 46,
    "start_time": "2023-08-30T20:18:51.229Z"
   },
   {
    "duration": 5,
    "start_time": "2023-08-30T20:18:51.277Z"
   },
   {
    "duration": 29,
    "start_time": "2023-08-30T20:18:51.283Z"
   },
   {
    "duration": 891,
    "start_time": "2023-08-30T20:18:51.314Z"
   },
   {
    "duration": 33,
    "start_time": "2023-08-30T20:18:52.207Z"
   },
   {
    "duration": 90,
    "start_time": "2023-08-30T20:18:52.242Z"
   },
   {
    "duration": 121,
    "start_time": "2023-08-30T20:18:52.334Z"
   },
   {
    "duration": 111,
    "start_time": "2023-08-30T20:19:24.835Z"
   },
   {
    "duration": 781,
    "start_time": "2023-08-30T20:19:46.917Z"
   },
   {
    "duration": 54,
    "start_time": "2023-08-30T20:20:11.586Z"
   },
   {
    "duration": 67,
    "start_time": "2023-08-30T20:21:05.981Z"
   },
   {
    "duration": 41,
    "start_time": "2023-08-30T20:21:35.617Z"
   },
   {
    "duration": 52,
    "start_time": "2023-08-30T20:21:47.655Z"
   },
   {
    "duration": 9,
    "start_time": "2023-08-30T20:22:05.177Z"
   },
   {
    "duration": 144,
    "start_time": "2023-08-30T20:22:12.101Z"
   },
   {
    "duration": 3,
    "start_time": "2023-08-30T20:25:52.009Z"
   },
   {
    "duration": 148,
    "start_time": "2023-08-30T20:25:59.206Z"
   },
   {
    "duration": 130,
    "start_time": "2023-08-30T20:26:55.949Z"
   },
   {
    "duration": 32,
    "start_time": "2023-08-30T20:27:05.809Z"
   },
   {
    "duration": 24,
    "start_time": "2023-08-30T20:27:26.911Z"
   },
   {
    "duration": 14,
    "start_time": "2023-08-30T20:27:35.104Z"
   },
   {
    "duration": 22,
    "start_time": "2023-08-30T20:27:54.883Z"
   },
   {
    "duration": 1075,
    "start_time": "2023-08-30T20:28:03.534Z"
   },
   {
    "duration": 78,
    "start_time": "2023-08-30T20:28:04.610Z"
   },
   {
    "duration": 11,
    "start_time": "2023-08-30T20:28:04.690Z"
   },
   {
    "duration": 38,
    "start_time": "2023-08-30T20:28:04.703Z"
   },
   {
    "duration": 11,
    "start_time": "2023-08-30T20:28:04.742Z"
   },
   {
    "duration": 10,
    "start_time": "2023-08-30T20:28:04.755Z"
   },
   {
    "duration": 21,
    "start_time": "2023-08-30T20:28:04.767Z"
   },
   {
    "duration": 4,
    "start_time": "2023-08-30T20:28:04.789Z"
   },
   {
    "duration": 22,
    "start_time": "2023-08-30T20:28:04.795Z"
   },
   {
    "duration": 4,
    "start_time": "2023-08-30T20:28:04.823Z"
   },
   {
    "duration": 19,
    "start_time": "2023-08-30T20:28:04.828Z"
   },
   {
    "duration": 19,
    "start_time": "2023-08-30T20:28:04.849Z"
   },
   {
    "duration": 6,
    "start_time": "2023-08-30T20:28:04.870Z"
   },
   {
    "duration": 6,
    "start_time": "2023-08-30T20:28:04.878Z"
   },
   {
    "duration": 7,
    "start_time": "2023-08-30T20:28:04.886Z"
   },
   {
    "duration": 15,
    "start_time": "2023-08-30T20:28:04.895Z"
   },
   {
    "duration": 6,
    "start_time": "2023-08-30T20:28:04.924Z"
   },
   {
    "duration": 5,
    "start_time": "2023-08-30T20:28:04.932Z"
   },
   {
    "duration": 9,
    "start_time": "2023-08-30T20:28:04.938Z"
   },
   {
    "duration": 4,
    "start_time": "2023-08-30T20:28:04.949Z"
   },
   {
    "duration": 14,
    "start_time": "2023-08-30T20:28:04.954Z"
   },
   {
    "duration": 14,
    "start_time": "2023-08-30T20:28:04.969Z"
   },
   {
    "duration": 57,
    "start_time": "2023-08-30T20:28:04.985Z"
   },
   {
    "duration": 34,
    "start_time": "2023-08-30T20:28:05.043Z"
   },
   {
    "duration": 28,
    "start_time": "2023-08-30T20:28:05.079Z"
   },
   {
    "duration": 115,
    "start_time": "2023-08-30T20:28:05.109Z"
   },
   {
    "duration": 0,
    "start_time": "2023-08-30T20:28:05.225Z"
   },
   {
    "duration": 0,
    "start_time": "2023-08-30T20:28:05.226Z"
   },
   {
    "duration": 0,
    "start_time": "2023-08-30T20:28:05.227Z"
   },
   {
    "duration": 0,
    "start_time": "2023-08-30T20:28:05.230Z"
   },
   {
    "duration": 0,
    "start_time": "2023-08-30T20:28:05.231Z"
   },
   {
    "duration": 0,
    "start_time": "2023-08-30T20:28:05.232Z"
   },
   {
    "duration": 124,
    "start_time": "2023-08-30T20:28:59.978Z"
   },
   {
    "duration": 25,
    "start_time": "2023-08-30T20:29:05.078Z"
   },
   {
    "duration": 29,
    "start_time": "2023-08-30T20:29:31.365Z"
   },
   {
    "duration": 5,
    "start_time": "2023-08-30T20:29:40.061Z"
   },
   {
    "duration": 1254,
    "start_time": "2023-08-30T21:13:20.293Z"
   },
   {
    "duration": 82,
    "start_time": "2023-08-30T21:13:21.549Z"
   },
   {
    "duration": 14,
    "start_time": "2023-08-30T21:13:21.632Z"
   },
   {
    "duration": 51,
    "start_time": "2023-08-30T21:13:21.648Z"
   },
   {
    "duration": 34,
    "start_time": "2023-08-30T21:13:21.701Z"
   },
   {
    "duration": 5,
    "start_time": "2023-08-30T21:13:21.737Z"
   },
   {
    "duration": 12,
    "start_time": "2023-08-30T21:13:21.743Z"
   },
   {
    "duration": 5,
    "start_time": "2023-08-30T21:13:21.757Z"
   },
   {
    "duration": 19,
    "start_time": "2023-08-30T21:13:21.764Z"
   },
   {
    "duration": 42,
    "start_time": "2023-08-30T21:13:21.786Z"
   },
   {
    "duration": 23,
    "start_time": "2023-08-30T21:13:21.830Z"
   },
   {
    "duration": 13,
    "start_time": "2023-08-30T21:13:21.855Z"
   },
   {
    "duration": 7,
    "start_time": "2023-08-30T21:13:21.870Z"
   },
   {
    "duration": 5,
    "start_time": "2023-08-30T21:13:21.879Z"
   },
   {
    "duration": 6,
    "start_time": "2023-08-30T21:13:21.886Z"
   },
   {
    "duration": 6,
    "start_time": "2023-08-30T21:13:21.925Z"
   },
   {
    "duration": 14,
    "start_time": "2023-08-30T21:13:21.932Z"
   },
   {
    "duration": 7,
    "start_time": "2023-08-30T21:13:21.948Z"
   },
   {
    "duration": 8,
    "start_time": "2023-08-30T21:13:21.957Z"
   },
   {
    "duration": 12,
    "start_time": "2023-08-30T21:13:21.967Z"
   },
   {
    "duration": 13,
    "start_time": "2023-08-30T21:13:21.981Z"
   },
   {
    "duration": 5,
    "start_time": "2023-08-30T21:13:21.996Z"
   },
   {
    "duration": 57,
    "start_time": "2023-08-30T21:13:22.002Z"
   },
   {
    "duration": 40,
    "start_time": "2023-08-30T21:13:22.061Z"
   },
   {
    "duration": 33,
    "start_time": "2023-08-30T21:13:22.102Z"
   },
   {
    "duration": 30,
    "start_time": "2023-08-30T21:13:22.137Z"
   },
   {
    "duration": 11,
    "start_time": "2023-08-30T21:13:22.169Z"
   },
   {
    "duration": 859,
    "start_time": "2023-08-30T21:13:22.183Z"
   },
   {
    "duration": 25,
    "start_time": "2023-08-30T21:13:23.044Z"
   },
   {
    "duration": 65,
    "start_time": "2023-08-30T21:13:23.071Z"
   },
   {
    "duration": 125,
    "start_time": "2023-08-30T21:13:23.138Z"
   },
   {
    "duration": 235,
    "start_time": "2023-08-30T21:21:30.929Z"
   },
   {
    "duration": 114,
    "start_time": "2023-08-30T21:21:41.580Z"
   },
   {
    "duration": 13,
    "start_time": "2023-08-30T21:51:13.888Z"
   },
   {
    "duration": 933,
    "start_time": "2023-08-30T21:51:14.608Z"
   },
   {
    "duration": 10,
    "start_time": "2023-08-30T21:53:27.548Z"
   },
   {
    "duration": 13,
    "start_time": "2023-08-30T21:53:35.191Z"
   },
   {
    "duration": 15,
    "start_time": "2023-08-30T21:53:43.433Z"
   },
   {
    "duration": 19,
    "start_time": "2023-08-30T21:56:50.739Z"
   },
   {
    "duration": 19,
    "start_time": "2023-08-30T21:57:05.387Z"
   },
   {
    "duration": 17,
    "start_time": "2023-08-30T21:57:18.225Z"
   },
   {
    "duration": 17,
    "start_time": "2023-08-30T21:59:23.558Z"
   },
   {
    "duration": 19,
    "start_time": "2023-08-30T21:59:46.439Z"
   },
   {
    "duration": 1834,
    "start_time": "2023-08-30T22:01:20.122Z"
   },
   {
    "duration": 15,
    "start_time": "2023-08-30T22:01:49.603Z"
   },
   {
    "duration": 17,
    "start_time": "2023-08-30T22:02:00.614Z"
   },
   {
    "duration": 5,
    "start_time": "2023-08-30T22:06:57.409Z"
   },
   {
    "duration": 4,
    "start_time": "2023-08-30T22:07:05.703Z"
   },
   {
    "duration": 15,
    "start_time": "2023-08-30T22:07:42.098Z"
   },
   {
    "duration": 18,
    "start_time": "2023-08-30T22:08:21.307Z"
   },
   {
    "duration": 16,
    "start_time": "2023-08-30T22:08:35.641Z"
   },
   {
    "duration": 16,
    "start_time": "2023-08-30T22:08:46.801Z"
   },
   {
    "duration": 18,
    "start_time": "2023-08-30T22:08:57.143Z"
   },
   {
    "duration": 16,
    "start_time": "2023-08-30T22:09:07.283Z"
   },
   {
    "duration": 17,
    "start_time": "2023-08-30T22:09:17.686Z"
   },
   {
    "duration": 17,
    "start_time": "2023-08-30T22:10:50.043Z"
   },
   {
    "duration": 4,
    "start_time": "2023-08-30T22:11:03.394Z"
   },
   {
    "duration": 3,
    "start_time": "2023-08-30T22:11:11.358Z"
   },
   {
    "duration": 3,
    "start_time": "2023-08-30T22:11:15.131Z"
   },
   {
    "duration": 4,
    "start_time": "2023-08-30T22:11:55.741Z"
   },
   {
    "duration": 4,
    "start_time": "2023-08-30T22:12:03.708Z"
   },
   {
    "duration": 18,
    "start_time": "2023-08-30T22:12:32.324Z"
   },
   {
    "duration": 1140,
    "start_time": "2023-08-30T22:12:56.393Z"
   },
   {
    "duration": 119,
    "start_time": "2023-08-30T22:12:57.535Z"
   },
   {
    "duration": 13,
    "start_time": "2023-08-30T22:12:57.657Z"
   },
   {
    "duration": 55,
    "start_time": "2023-08-30T22:12:57.671Z"
   },
   {
    "duration": 13,
    "start_time": "2023-08-30T22:12:57.728Z"
   },
   {
    "duration": 11,
    "start_time": "2023-08-30T22:12:57.743Z"
   },
   {
    "duration": 28,
    "start_time": "2023-08-30T22:12:57.756Z"
   },
   {
    "duration": 10,
    "start_time": "2023-08-30T22:12:57.785Z"
   },
   {
    "duration": 30,
    "start_time": "2023-08-30T22:12:57.797Z"
   },
   {
    "duration": 20,
    "start_time": "2023-08-30T22:12:57.828Z"
   },
   {
    "duration": 26,
    "start_time": "2023-08-30T22:12:57.849Z"
   },
   {
    "duration": 13,
    "start_time": "2023-08-30T22:12:57.877Z"
   },
   {
    "duration": 10,
    "start_time": "2023-08-30T22:12:57.892Z"
   },
   {
    "duration": 15,
    "start_time": "2023-08-30T22:12:57.904Z"
   },
   {
    "duration": 17,
    "start_time": "2023-08-30T22:12:57.921Z"
   },
   {
    "duration": 8,
    "start_time": "2023-08-30T22:12:57.940Z"
   },
   {
    "duration": 10,
    "start_time": "2023-08-30T22:12:57.949Z"
   },
   {
    "duration": 19,
    "start_time": "2023-08-30T22:12:57.961Z"
   },
   {
    "duration": 25,
    "start_time": "2023-08-30T22:12:57.982Z"
   },
   {
    "duration": 17,
    "start_time": "2023-08-30T22:12:58.008Z"
   },
   {
    "duration": 19,
    "start_time": "2023-08-30T22:12:58.026Z"
   },
   {
    "duration": 13,
    "start_time": "2023-08-30T22:12:58.047Z"
   },
   {
    "duration": 38,
    "start_time": "2023-08-30T22:12:58.062Z"
   },
   {
    "duration": 36,
    "start_time": "2023-08-30T22:12:58.102Z"
   },
   {
    "duration": 17,
    "start_time": "2023-08-30T22:12:58.140Z"
   },
   {
    "duration": 47,
    "start_time": "2023-08-30T22:12:58.159Z"
   },
   {
    "duration": 27,
    "start_time": "2023-08-30T22:12:58.209Z"
   },
   {
    "duration": 861,
    "start_time": "2023-08-30T22:12:58.238Z"
   },
   {
    "duration": 25,
    "start_time": "2023-08-30T22:12:59.101Z"
   },
   {
    "duration": 17,
    "start_time": "2023-08-30T22:12:59.128Z"
   },
   {
    "duration": 43,
    "start_time": "2023-08-30T22:12:59.147Z"
   },
   {
    "duration": 1321,
    "start_time": "2023-09-02T07:26:41.317Z"
   },
   {
    "duration": 136,
    "start_time": "2023-09-02T07:26:42.640Z"
   },
   {
    "duration": 11,
    "start_time": "2023-09-02T07:26:42.777Z"
   },
   {
    "duration": 33,
    "start_time": "2023-09-02T07:26:42.790Z"
   },
   {
    "duration": 29,
    "start_time": "2023-09-02T07:26:42.825Z"
   },
   {
    "duration": 4,
    "start_time": "2023-09-02T07:26:42.855Z"
   },
   {
    "duration": 10,
    "start_time": "2023-09-02T07:26:42.860Z"
   },
   {
    "duration": 4,
    "start_time": "2023-09-02T07:26:42.871Z"
   },
   {
    "duration": 17,
    "start_time": "2023-09-02T07:26:42.877Z"
   },
   {
    "duration": 5,
    "start_time": "2023-09-02T07:26:42.895Z"
   },
   {
    "duration": 9,
    "start_time": "2023-09-02T07:26:42.901Z"
   },
   {
    "duration": 39,
    "start_time": "2023-09-02T07:26:42.912Z"
   },
   {
    "duration": 6,
    "start_time": "2023-09-02T07:26:42.952Z"
   },
   {
    "duration": 4,
    "start_time": "2023-09-02T07:26:42.960Z"
   },
   {
    "duration": 5,
    "start_time": "2023-09-02T07:26:42.965Z"
   },
   {
    "duration": 4,
    "start_time": "2023-09-02T07:26:42.971Z"
   },
   {
    "duration": 6,
    "start_time": "2023-09-02T07:26:42.976Z"
   },
   {
    "duration": 8,
    "start_time": "2023-09-02T07:26:42.983Z"
   },
   {
    "duration": 6,
    "start_time": "2023-09-02T07:26:42.993Z"
   },
   {
    "duration": 6,
    "start_time": "2023-09-02T07:26:43.001Z"
   },
   {
    "duration": 46,
    "start_time": "2023-09-02T07:26:43.008Z"
   },
   {
    "duration": 6,
    "start_time": "2023-09-02T07:26:43.056Z"
   },
   {
    "duration": 33,
    "start_time": "2023-09-02T07:26:43.063Z"
   },
   {
    "duration": 31,
    "start_time": "2023-09-02T07:26:43.097Z"
   },
   {
    "duration": 29,
    "start_time": "2023-09-02T07:26:43.129Z"
   },
   {
    "duration": 26,
    "start_time": "2023-09-02T07:26:43.159Z"
   },
   {
    "duration": 10,
    "start_time": "2023-09-02T07:26:43.187Z"
   },
   {
    "duration": 826,
    "start_time": "2023-09-02T07:26:43.198Z"
   },
   {
    "duration": 29,
    "start_time": "2023-09-02T07:26:44.026Z"
   },
   {
    "duration": 17,
    "start_time": "2023-09-02T07:26:44.057Z"
   },
   {
    "duration": 14,
    "start_time": "2023-09-02T07:26:44.076Z"
   },
   {
    "duration": 1054,
    "start_time": "2023-09-02T07:39:57.396Z"
   },
   {
    "duration": 95,
    "start_time": "2023-09-02T07:39:58.451Z"
   },
   {
    "duration": 15,
    "start_time": "2023-09-02T07:39:58.548Z"
   },
   {
    "duration": 45,
    "start_time": "2023-09-02T07:39:58.565Z"
   },
   {
    "duration": 33,
    "start_time": "2023-09-02T07:39:58.612Z"
   },
   {
    "duration": 4,
    "start_time": "2023-09-02T07:39:58.647Z"
   },
   {
    "duration": 13,
    "start_time": "2023-09-02T07:39:58.652Z"
   },
   {
    "duration": 4,
    "start_time": "2023-09-02T07:39:58.666Z"
   },
   {
    "duration": 23,
    "start_time": "2023-09-02T07:39:58.671Z"
   },
   {
    "duration": 6,
    "start_time": "2023-09-02T07:39:58.695Z"
   },
   {
    "duration": 17,
    "start_time": "2023-09-02T07:39:58.703Z"
   },
   {
    "duration": 29,
    "start_time": "2023-09-02T07:39:58.722Z"
   },
   {
    "duration": 8,
    "start_time": "2023-09-02T07:39:58.752Z"
   },
   {
    "duration": 5,
    "start_time": "2023-09-02T07:39:58.762Z"
   },
   {
    "duration": 7,
    "start_time": "2023-09-02T07:39:58.768Z"
   },
   {
    "duration": 6,
    "start_time": "2023-09-02T07:39:58.777Z"
   },
   {
    "duration": 9,
    "start_time": "2023-09-02T07:39:58.785Z"
   },
   {
    "duration": 36,
    "start_time": "2023-09-02T07:39:58.796Z"
   },
   {
    "duration": 11,
    "start_time": "2023-09-02T07:39:58.834Z"
   },
   {
    "duration": 8,
    "start_time": "2023-09-02T07:39:58.847Z"
   },
   {
    "duration": 18,
    "start_time": "2023-09-02T07:39:58.856Z"
   },
   {
    "duration": 39,
    "start_time": "2023-09-02T07:39:58.875Z"
   },
   {
    "duration": 38,
    "start_time": "2023-09-02T07:39:58.916Z"
   },
   {
    "duration": 36,
    "start_time": "2023-09-02T07:39:58.955Z"
   },
   {
    "duration": 17,
    "start_time": "2023-09-02T07:39:58.992Z"
   },
   {
    "duration": 46,
    "start_time": "2023-09-02T07:39:59.010Z"
   },
   {
    "duration": 12,
    "start_time": "2023-09-02T07:39:59.058Z"
   },
   {
    "duration": 866,
    "start_time": "2023-09-02T07:39:59.072Z"
   },
   {
    "duration": 23,
    "start_time": "2023-09-02T07:39:59.940Z"
   },
   {
    "duration": 30,
    "start_time": "2023-09-02T07:39:59.965Z"
   },
   {
    "duration": 29,
    "start_time": "2023-09-02T07:39:59.996Z"
   },
   {
    "duration": 56,
    "start_time": "2023-09-02T10:34:35.110Z"
   },
   {
    "duration": 1428,
    "start_time": "2023-09-02T10:34:39.838Z"
   },
   {
    "duration": 84,
    "start_time": "2023-09-02T10:34:41.268Z"
   },
   {
    "duration": 11,
    "start_time": "2023-09-02T10:34:41.354Z"
   },
   {
    "duration": 34,
    "start_time": "2023-09-02T10:34:41.366Z"
   },
   {
    "duration": 28,
    "start_time": "2023-09-02T10:34:41.402Z"
   },
   {
    "duration": 5,
    "start_time": "2023-09-02T10:34:41.433Z"
   },
   {
    "duration": 13,
    "start_time": "2023-09-02T10:34:41.441Z"
   },
   {
    "duration": 4,
    "start_time": "2023-09-02T10:34:41.456Z"
   },
   {
    "duration": 20,
    "start_time": "2023-09-02T10:34:41.462Z"
   },
   {
    "duration": 5,
    "start_time": "2023-09-02T10:34:41.484Z"
   },
   {
    "duration": 11,
    "start_time": "2023-09-02T10:34:41.490Z"
   },
   {
    "duration": 17,
    "start_time": "2023-09-02T10:34:41.524Z"
   },
   {
    "duration": 6,
    "start_time": "2023-09-02T10:34:41.542Z"
   },
   {
    "duration": 6,
    "start_time": "2023-09-02T10:34:41.550Z"
   },
   {
    "duration": 6,
    "start_time": "2023-09-02T10:34:41.557Z"
   },
   {
    "duration": 4,
    "start_time": "2023-09-02T10:34:41.565Z"
   },
   {
    "duration": 5,
    "start_time": "2023-09-02T10:34:41.571Z"
   },
   {
    "duration": 15,
    "start_time": "2023-09-02T10:34:41.578Z"
   },
   {
    "duration": 38,
    "start_time": "2023-09-02T10:34:41.594Z"
   },
   {
    "duration": 4,
    "start_time": "2023-09-02T10:34:41.639Z"
   },
   {
    "duration": 21,
    "start_time": "2023-09-02T10:34:41.644Z"
   },
   {
    "duration": 5,
    "start_time": "2023-09-02T10:34:41.666Z"
   },
   {
    "duration": 35,
    "start_time": "2023-09-02T10:34:41.672Z"
   },
   {
    "duration": 39,
    "start_time": "2023-09-02T10:34:41.709Z"
   },
   {
    "duration": 16,
    "start_time": "2023-09-02T10:34:41.750Z"
   },
   {
    "duration": 29,
    "start_time": "2023-09-02T10:34:41.768Z"
   },
   {
    "duration": 29,
    "start_time": "2023-09-02T10:34:41.799Z"
   },
   {
    "duration": 891,
    "start_time": "2023-09-02T10:34:41.833Z"
   },
   {
    "duration": 24,
    "start_time": "2023-09-02T10:34:42.725Z"
   },
   {
    "duration": 18,
    "start_time": "2023-09-02T10:34:42.751Z"
   },
   {
    "duration": 30,
    "start_time": "2023-09-02T10:34:42.770Z"
   },
   {
    "duration": 42,
    "start_time": "2023-09-02T10:34:42.802Z"
   },
   {
    "duration": 27,
    "start_time": "2023-09-02T10:37:14.784Z"
   },
   {
    "duration": 126,
    "start_time": "2023-09-02T10:41:09.218Z"
   },
   {
    "duration": 29,
    "start_time": "2023-09-02T10:41:34.877Z"
   },
   {
    "duration": 85,
    "start_time": "2023-09-02T10:43:35.021Z"
   },
   {
    "duration": 17,
    "start_time": "2023-09-02T10:44:08.339Z"
   },
   {
    "duration": 72,
    "start_time": "2023-09-02T10:44:10.600Z"
   },
   {
    "duration": 80,
    "start_time": "2023-09-02T10:45:20.651Z"
   },
   {
    "duration": 172,
    "start_time": "2023-09-02T10:48:06.085Z"
   },
   {
    "duration": 117,
    "start_time": "2023-09-02T10:49:18.508Z"
   },
   {
    "duration": 159,
    "start_time": "2023-09-02T10:49:27.437Z"
   },
   {
    "duration": 233,
    "start_time": "2023-09-02T10:49:38.713Z"
   },
   {
    "duration": 152,
    "start_time": "2023-09-02T10:50:44.891Z"
   },
   {
    "duration": 133,
    "start_time": "2023-09-02T10:51:02.404Z"
   },
   {
    "duration": 118,
    "start_time": "2023-09-02T10:51:12.100Z"
   },
   {
    "duration": 124,
    "start_time": "2023-09-02T10:51:16.376Z"
   },
   {
    "duration": 9,
    "start_time": "2023-09-02T10:53:50.059Z"
   },
   {
    "duration": 18,
    "start_time": "2023-09-02T10:54:57.286Z"
   },
   {
    "duration": 18,
    "start_time": "2023-09-02T10:55:24.651Z"
   },
   {
    "duration": 76,
    "start_time": "2023-09-02T10:55:28.650Z"
   },
   {
    "duration": 421,
    "start_time": "2023-09-02T10:55:44.548Z"
   },
   {
    "duration": 75,
    "start_time": "2023-09-02T10:55:54.121Z"
   },
   {
    "duration": 2103,
    "start_time": "2023-09-02T10:56:39.251Z"
   },
   {
    "duration": 17,
    "start_time": "2023-09-02T10:56:47.315Z"
   },
   {
    "duration": 76,
    "start_time": "2023-09-02T10:56:58.787Z"
   },
   {
    "duration": 90,
    "start_time": "2023-09-02T10:57:05.222Z"
   },
   {
    "duration": 85,
    "start_time": "2023-09-02T10:57:10.394Z"
   },
   {
    "duration": 90,
    "start_time": "2023-09-02T10:57:16.206Z"
   },
   {
    "duration": 88,
    "start_time": "2023-09-02T10:57:21.753Z"
   },
   {
    "duration": 75,
    "start_time": "2023-09-02T10:57:27.140Z"
   },
   {
    "duration": 80,
    "start_time": "2023-09-02T10:57:39.916Z"
   },
   {
    "duration": 261,
    "start_time": "2023-09-02T11:01:50.920Z"
   },
   {
    "duration": 13,
    "start_time": "2023-09-02T11:02:22.293Z"
   },
   {
    "duration": 11,
    "start_time": "2023-09-02T11:02:28.928Z"
   },
   {
    "duration": 12,
    "start_time": "2023-09-02T11:02:40.559Z"
   },
   {
    "duration": 10,
    "start_time": "2023-09-02T11:02:56.682Z"
   },
   {
    "duration": 8,
    "start_time": "2023-09-02T11:03:06.808Z"
   },
   {
    "duration": 10,
    "start_time": "2023-09-02T11:03:21.230Z"
   },
   {
    "duration": 10,
    "start_time": "2023-09-02T11:03:30.862Z"
   },
   {
    "duration": 9,
    "start_time": "2023-09-02T11:03:50.130Z"
   },
   {
    "duration": 10,
    "start_time": "2023-09-02T11:03:55.596Z"
   },
   {
    "duration": 11,
    "start_time": "2023-09-02T11:04:20.943Z"
   },
   {
    "duration": 37,
    "start_time": "2023-09-02T11:05:16.237Z"
   },
   {
    "duration": 17,
    "start_time": "2023-09-02T11:06:03.341Z"
   },
   {
    "duration": 9,
    "start_time": "2023-09-02T11:06:07.818Z"
   },
   {
    "duration": 13,
    "start_time": "2023-09-02T11:06:14.940Z"
   },
   {
    "duration": 11,
    "start_time": "2023-09-02T11:06:22.535Z"
   },
   {
    "duration": 11,
    "start_time": "2023-09-02T11:08:03.912Z"
   },
   {
    "duration": 10,
    "start_time": "2023-09-02T11:08:15.249Z"
   },
   {
    "duration": 9,
    "start_time": "2023-09-02T11:08:33.657Z"
   },
   {
    "duration": 10,
    "start_time": "2023-09-02T11:08:45.532Z"
   },
   {
    "duration": 9,
    "start_time": "2023-09-02T11:08:53.830Z"
   },
   {
    "duration": 15,
    "start_time": "2023-09-02T11:15:04.549Z"
   },
   {
    "duration": 10,
    "start_time": "2023-09-02T11:15:28.093Z"
   },
   {
    "duration": 10,
    "start_time": "2023-09-02T11:15:46.811Z"
   },
   {
    "duration": 2892,
    "start_time": "2023-09-02T11:16:08.011Z"
   },
   {
    "duration": 10,
    "start_time": "2023-09-02T11:16:17.721Z"
   },
   {
    "duration": 1580,
    "start_time": "2023-09-02T11:17:44.600Z"
   },
   {
    "duration": 17,
    "start_time": "2023-09-02T11:18:06.679Z"
   },
   {
    "duration": 11,
    "start_time": "2023-09-02T11:18:10.659Z"
   },
   {
    "duration": 17,
    "start_time": "2023-09-02T11:18:46.560Z"
   },
   {
    "duration": 11,
    "start_time": "2023-09-02T11:18:47.329Z"
   },
   {
    "duration": 18,
    "start_time": "2023-09-02T11:18:59.007Z"
   },
   {
    "duration": 10,
    "start_time": "2023-09-02T11:18:59.440Z"
   },
   {
    "duration": 58,
    "start_time": "2023-09-06T21:16:31.763Z"
   },
   {
    "duration": 1563,
    "start_time": "2023-09-06T21:16:51.074Z"
   },
   {
    "duration": 160,
    "start_time": "2023-09-06T21:16:52.640Z"
   },
   {
    "duration": 22,
    "start_time": "2023-09-06T21:16:52.802Z"
   },
   {
    "duration": 49,
    "start_time": "2023-09-06T21:16:52.826Z"
   },
   {
    "duration": 16,
    "start_time": "2023-09-06T21:16:52.878Z"
   },
   {
    "duration": 8,
    "start_time": "2023-09-06T21:16:52.910Z"
   },
   {
    "duration": 24,
    "start_time": "2023-09-06T21:16:52.924Z"
   },
   {
    "duration": 5,
    "start_time": "2023-09-06T21:16:52.950Z"
   },
   {
    "duration": 44,
    "start_time": "2023-09-06T21:16:52.957Z"
   },
   {
    "duration": 10,
    "start_time": "2023-09-06T21:16:53.004Z"
   },
   {
    "duration": 29,
    "start_time": "2023-09-06T21:16:53.016Z"
   },
   {
    "duration": 42,
    "start_time": "2023-09-06T21:16:53.047Z"
   },
   {
    "duration": 25,
    "start_time": "2023-09-06T21:16:53.091Z"
   },
   {
    "duration": 14,
    "start_time": "2023-09-06T21:16:53.120Z"
   },
   {
    "duration": 34,
    "start_time": "2023-09-06T21:16:53.135Z"
   },
   {
    "duration": 24,
    "start_time": "2023-09-06T21:16:53.171Z"
   },
   {
    "duration": 7,
    "start_time": "2023-09-06T21:16:53.197Z"
   },
   {
    "duration": 22,
    "start_time": "2023-09-06T21:16:53.206Z"
   },
   {
    "duration": 25,
    "start_time": "2023-09-06T21:16:53.230Z"
   },
   {
    "duration": 4,
    "start_time": "2023-09-06T21:16:53.257Z"
   },
   {
    "duration": 20,
    "start_time": "2023-09-06T21:16:53.263Z"
   },
   {
    "duration": 19,
    "start_time": "2023-09-06T21:16:53.285Z"
   },
   {
    "duration": 57,
    "start_time": "2023-09-06T21:16:53.307Z"
   },
   {
    "duration": 41,
    "start_time": "2023-09-06T21:16:53.365Z"
   },
   {
    "duration": 29,
    "start_time": "2023-09-06T21:16:53.408Z"
   },
   {
    "duration": 38,
    "start_time": "2023-09-06T21:16:53.438Z"
   },
   {
    "duration": 46,
    "start_time": "2023-09-06T21:16:53.478Z"
   },
   {
    "duration": 1033,
    "start_time": "2023-09-06T21:16:53.526Z"
   },
   {
    "duration": 23,
    "start_time": "2023-09-06T21:16:54.561Z"
   },
   {
    "duration": 1861,
    "start_time": "2023-09-06T21:16:54.587Z"
   },
   {
    "duration": 0,
    "start_time": "2023-09-06T21:16:56.450Z"
   },
   {
    "duration": 0,
    "start_time": "2023-09-06T21:16:56.452Z"
   },
   {
    "duration": 0,
    "start_time": "2023-09-06T21:16:56.453Z"
   },
   {
    "duration": 0,
    "start_time": "2023-09-06T21:16:56.454Z"
   },
   {
    "duration": 0,
    "start_time": "2023-09-06T21:16:56.455Z"
   },
   {
    "duration": 0,
    "start_time": "2023-09-06T21:16:56.456Z"
   },
   {
    "duration": 0,
    "start_time": "2023-09-06T21:16:56.457Z"
   },
   {
    "duration": 0,
    "start_time": "2023-09-06T21:16:56.458Z"
   },
   {
    "duration": 0,
    "start_time": "2023-09-06T21:16:56.460Z"
   },
   {
    "duration": 0,
    "start_time": "2023-09-06T21:16:56.461Z"
   },
   {
    "duration": 0,
    "start_time": "2023-09-06T21:16:56.462Z"
   },
   {
    "duration": 0,
    "start_time": "2023-09-06T21:16:56.463Z"
   },
   {
    "duration": 0,
    "start_time": "2023-09-06T21:16:56.464Z"
   },
   {
    "duration": 0,
    "start_time": "2023-09-06T21:16:56.466Z"
   },
   {
    "duration": 0,
    "start_time": "2023-09-06T21:16:56.467Z"
   },
   {
    "duration": 0,
    "start_time": "2023-09-06T21:16:56.467Z"
   },
   {
    "duration": 1588,
    "start_time": "2023-09-06T21:17:30.309Z"
   },
   {
    "duration": 1834,
    "start_time": "2023-09-06T21:17:53.465Z"
   },
   {
    "duration": 2377,
    "start_time": "2023-09-06T21:18:03.230Z"
   },
   {
    "duration": 20,
    "start_time": "2023-09-06T21:18:12.586Z"
   },
   {
    "duration": 47,
    "start_time": "2023-09-06T21:18:22.699Z"
   },
   {
    "duration": 40,
    "start_time": "2023-09-06T21:20:16.426Z"
   },
   {
    "duration": 38,
    "start_time": "2023-09-06T21:21:43.101Z"
   },
   {
    "duration": 14,
    "start_time": "2023-09-06T21:21:55.370Z"
   },
   {
    "duration": 20,
    "start_time": "2023-09-06T21:21:55.935Z"
   },
   {
    "duration": 1591,
    "start_time": "2023-09-06T21:22:42.203Z"
   },
   {
    "duration": 140,
    "start_time": "2023-09-06T21:22:43.796Z"
   },
   {
    "duration": 17,
    "start_time": "2023-09-06T21:22:43.938Z"
   },
   {
    "duration": 50,
    "start_time": "2023-09-06T21:22:43.958Z"
   },
   {
    "duration": 21,
    "start_time": "2023-09-06T21:22:44.010Z"
   },
   {
    "duration": 12,
    "start_time": "2023-09-06T21:22:44.038Z"
   },
   {
    "duration": 49,
    "start_time": "2023-09-06T21:22:44.052Z"
   },
   {
    "duration": 29,
    "start_time": "2023-09-06T21:22:44.103Z"
   },
   {
    "duration": 55,
    "start_time": "2023-09-06T21:22:44.137Z"
   },
   {
    "duration": 66,
    "start_time": "2023-09-06T21:22:44.196Z"
   },
   {
    "duration": 33,
    "start_time": "2023-09-06T21:22:44.264Z"
   },
   {
    "duration": 58,
    "start_time": "2023-09-06T21:22:44.300Z"
   },
   {
    "duration": 55,
    "start_time": "2023-09-06T21:22:44.360Z"
   },
   {
    "duration": 52,
    "start_time": "2023-09-06T21:22:44.417Z"
   },
   {
    "duration": 36,
    "start_time": "2023-09-06T21:22:44.471Z"
   },
   {
    "duration": 49,
    "start_time": "2023-09-06T21:22:44.509Z"
   },
   {
    "duration": 41,
    "start_time": "2023-09-06T21:22:44.561Z"
   },
   {
    "duration": 43,
    "start_time": "2023-09-06T21:22:44.605Z"
   },
   {
    "duration": 12,
    "start_time": "2023-09-06T21:22:44.651Z"
   },
   {
    "duration": 41,
    "start_time": "2023-09-06T21:22:44.666Z"
   },
   {
    "duration": 41,
    "start_time": "2023-09-06T21:22:44.711Z"
   },
   {
    "duration": 36,
    "start_time": "2023-09-06T21:22:44.755Z"
   },
   {
    "duration": 82,
    "start_time": "2023-09-06T21:22:44.793Z"
   },
   {
    "duration": 74,
    "start_time": "2023-09-06T21:22:44.877Z"
   },
   {
    "duration": 20,
    "start_time": "2023-09-06T21:22:44.953Z"
   },
   {
    "duration": 64,
    "start_time": "2023-09-06T21:22:44.975Z"
   },
   {
    "duration": 34,
    "start_time": "2023-09-06T21:22:45.042Z"
   },
   {
    "duration": 1180,
    "start_time": "2023-09-06T21:22:45.081Z"
   },
   {
    "duration": 23,
    "start_time": "2023-09-06T21:22:46.266Z"
   },
   {
    "duration": 74,
    "start_time": "2023-09-06T21:22:46.291Z"
   },
   {
    "duration": 110,
    "start_time": "2023-09-06T21:22:46.368Z"
   },
   {
    "duration": 82,
    "start_time": "2023-09-06T21:22:46.480Z"
   },
   {
    "duration": 560,
    "start_time": "2023-09-06T21:22:46.564Z"
   },
   {
    "duration": 254,
    "start_time": "2023-09-06T21:22:47.127Z"
   },
   {
    "duration": 219,
    "start_time": "2023-09-06T21:22:47.383Z"
   },
   {
    "duration": 57,
    "start_time": "2023-09-06T21:22:47.603Z"
   },
   {
    "duration": 168,
    "start_time": "2023-09-06T21:22:47.662Z"
   },
   {
    "duration": 307,
    "start_time": "2023-09-06T21:22:47.843Z"
   },
   {
    "duration": 31,
    "start_time": "2023-09-06T21:22:48.151Z"
   },
   {
    "duration": 157,
    "start_time": "2023-09-06T21:22:48.184Z"
   },
   {
    "duration": 33,
    "start_time": "2023-09-06T21:22:48.343Z"
   },
   {
    "duration": 177,
    "start_time": "2023-09-06T21:22:48.378Z"
   },
   {
    "duration": 32,
    "start_time": "2023-09-06T21:22:48.560Z"
   },
   {
    "duration": 190,
    "start_time": "2023-09-06T21:22:48.594Z"
   },
   {
    "duration": 64,
    "start_time": "2023-09-06T21:22:48.786Z"
   },
   {
    "duration": 147,
    "start_time": "2023-09-06T21:22:48.851Z"
   },
   {
    "duration": 47,
    "start_time": "2023-09-06T21:22:49.000Z"
   },
   {
    "duration": 14,
    "start_time": "2023-09-06T21:22:49.049Z"
   },
   {
    "duration": 496,
    "start_time": "2023-09-06T21:23:53.406Z"
   },
   {
    "duration": 305,
    "start_time": "2023-09-06T21:25:13.468Z"
   },
   {
    "duration": 255,
    "start_time": "2023-09-06T21:25:20.783Z"
   },
   {
    "duration": 268,
    "start_time": "2023-09-06T21:25:27.068Z"
   },
   {
    "duration": 239,
    "start_time": "2023-09-06T21:25:44.245Z"
   },
   {
    "duration": 246,
    "start_time": "2023-09-06T21:26:12.956Z"
   },
   {
    "duration": 251,
    "start_time": "2023-09-06T21:26:40.940Z"
   },
   {
    "duration": 382,
    "start_time": "2023-09-06T21:26:48.618Z"
   },
   {
    "duration": 239,
    "start_time": "2023-09-06T21:26:53.131Z"
   },
   {
    "duration": 553,
    "start_time": "2023-09-06T21:27:05.072Z"
   },
   {
    "duration": 476,
    "start_time": "2023-09-06T21:27:13.806Z"
   },
   {
    "duration": 498,
    "start_time": "2023-09-06T21:27:18.383Z"
   },
   {
    "duration": 483,
    "start_time": "2023-09-06T21:27:23.777Z"
   },
   {
    "duration": 207,
    "start_time": "2023-09-06T21:56:54.325Z"
   },
   {
    "duration": 232,
    "start_time": "2023-09-06T21:57:06.327Z"
   },
   {
    "duration": 139,
    "start_time": "2023-09-06T21:57:18.801Z"
   },
   {
    "duration": 152,
    "start_time": "2023-09-06T21:57:23.524Z"
   },
   {
    "duration": 216,
    "start_time": "2023-09-06T21:57:34.898Z"
   },
   {
    "duration": 22,
    "start_time": "2023-09-06T21:58:10.572Z"
   },
   {
    "duration": 26,
    "start_time": "2023-09-06T21:58:37.617Z"
   },
   {
    "duration": 29,
    "start_time": "2023-09-06T21:59:10.742Z"
   },
   {
    "duration": 202,
    "start_time": "2023-09-06T21:59:13.254Z"
   },
   {
    "duration": 129,
    "start_time": "2023-09-06T22:01:21.133Z"
   },
   {
    "duration": 130,
    "start_time": "2023-09-06T22:01:30.730Z"
   },
   {
    "duration": 96,
    "start_time": "2023-09-06T22:02:45.020Z"
   },
   {
    "duration": 29,
    "start_time": "2023-09-06T22:03:15.643Z"
   },
   {
    "duration": 1333,
    "start_time": "2023-09-06T22:03:33.405Z"
   },
   {
    "duration": 121,
    "start_time": "2023-09-06T22:03:34.740Z"
   },
   {
    "duration": 15,
    "start_time": "2023-09-06T22:03:34.864Z"
   },
   {
    "duration": 73,
    "start_time": "2023-09-06T22:03:34.881Z"
   },
   {
    "duration": 13,
    "start_time": "2023-09-06T22:03:34.956Z"
   },
   {
    "duration": 5,
    "start_time": "2023-09-06T22:03:34.971Z"
   },
   {
    "duration": 40,
    "start_time": "2023-09-06T22:03:34.977Z"
   },
   {
    "duration": 10,
    "start_time": "2023-09-06T22:03:35.021Z"
   },
   {
    "duration": 59,
    "start_time": "2023-09-06T22:03:35.034Z"
   },
   {
    "duration": 29,
    "start_time": "2023-09-06T22:03:35.096Z"
   },
   {
    "duration": 12,
    "start_time": "2023-09-06T22:03:35.128Z"
   },
   {
    "duration": 35,
    "start_time": "2023-09-06T22:03:35.143Z"
   },
   {
    "duration": 45,
    "start_time": "2023-09-06T22:03:35.180Z"
   },
   {
    "duration": 16,
    "start_time": "2023-09-06T22:03:35.231Z"
   },
   {
    "duration": 31,
    "start_time": "2023-09-06T22:03:35.250Z"
   },
   {
    "duration": 29,
    "start_time": "2023-09-06T22:03:35.283Z"
   },
   {
    "duration": 12,
    "start_time": "2023-09-06T22:03:35.314Z"
   },
   {
    "duration": 42,
    "start_time": "2023-09-06T22:03:35.328Z"
   },
   {
    "duration": 44,
    "start_time": "2023-09-06T22:03:35.372Z"
   },
   {
    "duration": 18,
    "start_time": "2023-09-06T22:03:35.418Z"
   },
   {
    "duration": 31,
    "start_time": "2023-09-06T22:03:35.439Z"
   },
   {
    "duration": 6,
    "start_time": "2023-09-06T22:03:35.472Z"
   },
   {
    "duration": 67,
    "start_time": "2023-09-06T22:03:35.479Z"
   },
   {
    "duration": 41,
    "start_time": "2023-09-06T22:03:35.548Z"
   },
   {
    "duration": 45,
    "start_time": "2023-09-06T22:03:35.591Z"
   },
   {
    "duration": 31,
    "start_time": "2023-09-06T22:03:35.637Z"
   },
   {
    "duration": 13,
    "start_time": "2023-09-06T22:03:35.670Z"
   },
   {
    "duration": 1011,
    "start_time": "2023-09-06T22:03:35.684Z"
   },
   {
    "duration": 34,
    "start_time": "2023-09-06T22:03:36.697Z"
   },
   {
    "duration": 15,
    "start_time": "2023-09-06T22:03:36.733Z"
   },
   {
    "duration": 13,
    "start_time": "2023-09-06T22:03:36.749Z"
   },
   {
    "duration": 62,
    "start_time": "2023-09-06T22:03:36.764Z"
   },
   {
    "duration": 474,
    "start_time": "2023-09-06T22:03:36.827Z"
   },
   {
    "duration": 252,
    "start_time": "2023-09-06T22:03:37.309Z"
   },
   {
    "duration": 260,
    "start_time": "2023-09-06T22:03:37.564Z"
   },
   {
    "duration": 30,
    "start_time": "2023-09-06T22:03:37.831Z"
   },
   {
    "duration": 167,
    "start_time": "2023-09-06T22:03:37.863Z"
   },
   {
    "duration": 322,
    "start_time": "2023-09-06T22:03:38.032Z"
   },
   {
    "duration": 27,
    "start_time": "2023-09-06T22:03:38.355Z"
   },
   {
    "duration": 144,
    "start_time": "2023-09-06T22:03:38.384Z"
   },
   {
    "duration": 26,
    "start_time": "2023-09-06T22:03:38.533Z"
   },
   {
    "duration": 137,
    "start_time": "2023-09-06T22:03:38.561Z"
   },
   {
    "duration": 42,
    "start_time": "2023-09-06T22:03:38.700Z"
   },
   {
    "duration": 131,
    "start_time": "2023-09-06T22:03:38.743Z"
   },
   {
    "duration": 51,
    "start_time": "2023-09-06T22:03:38.875Z"
   },
   {
    "duration": 11,
    "start_time": "2023-09-06T22:03:38.928Z"
   },
   {
    "duration": 1211,
    "start_time": "2023-09-06T22:22:17.645Z"
   },
   {
    "duration": 112,
    "start_time": "2023-09-06T22:22:18.858Z"
   },
   {
    "duration": 14,
    "start_time": "2023-09-06T22:22:18.972Z"
   },
   {
    "duration": 58,
    "start_time": "2023-09-06T22:22:18.988Z"
   },
   {
    "duration": 14,
    "start_time": "2023-09-06T22:22:19.049Z"
   },
   {
    "duration": 21,
    "start_time": "2023-09-06T22:22:19.065Z"
   },
   {
    "duration": 53,
    "start_time": "2023-09-06T22:22:19.088Z"
   },
   {
    "duration": 26,
    "start_time": "2023-09-06T22:22:19.143Z"
   },
   {
    "duration": 33,
    "start_time": "2023-09-06T22:22:19.171Z"
   },
   {
    "duration": 4,
    "start_time": "2023-09-06T22:22:19.206Z"
   },
   {
    "duration": 27,
    "start_time": "2023-09-06T22:22:19.212Z"
   },
   {
    "duration": 15,
    "start_time": "2023-09-06T22:22:19.241Z"
   },
   {
    "duration": 15,
    "start_time": "2023-09-06T22:22:19.257Z"
   },
   {
    "duration": 5,
    "start_time": "2023-09-06T22:22:19.277Z"
   },
   {
    "duration": 18,
    "start_time": "2023-09-06T22:22:19.284Z"
   },
   {
    "duration": 17,
    "start_time": "2023-09-06T22:22:19.304Z"
   },
   {
    "duration": 30,
    "start_time": "2023-09-06T22:22:19.322Z"
   },
   {
    "duration": 11,
    "start_time": "2023-09-06T22:22:19.353Z"
   },
   {
    "duration": 12,
    "start_time": "2023-09-06T22:22:19.366Z"
   },
   {
    "duration": 24,
    "start_time": "2023-09-06T22:22:19.380Z"
   },
   {
    "duration": 25,
    "start_time": "2023-09-06T22:22:19.406Z"
   },
   {
    "duration": 33,
    "start_time": "2023-09-06T22:22:19.433Z"
   },
   {
    "duration": 131,
    "start_time": "2023-09-06T22:22:19.468Z"
   },
   {
    "duration": 38,
    "start_time": "2023-09-06T22:22:19.600Z"
   },
   {
    "duration": 19,
    "start_time": "2023-09-06T22:22:19.640Z"
   },
   {
    "duration": 49,
    "start_time": "2023-09-06T22:22:19.660Z"
   },
   {
    "duration": 12,
    "start_time": "2023-09-06T22:22:19.711Z"
   },
   {
    "duration": 921,
    "start_time": "2023-09-06T22:22:19.725Z"
   },
   {
    "duration": 20,
    "start_time": "2023-09-06T22:22:20.647Z"
   },
   {
    "duration": 39,
    "start_time": "2023-09-06T22:22:20.670Z"
   },
   {
    "duration": 19,
    "start_time": "2023-09-06T22:22:20.711Z"
   },
   {
    "duration": 31,
    "start_time": "2023-09-06T22:22:20.732Z"
   },
   {
    "duration": 475,
    "start_time": "2023-09-06T22:22:20.765Z"
   },
   {
    "duration": 222,
    "start_time": "2023-09-06T22:22:21.241Z"
   },
   {
    "duration": 221,
    "start_time": "2023-09-06T22:22:21.465Z"
   },
   {
    "duration": 35,
    "start_time": "2023-09-06T22:22:21.688Z"
   },
   {
    "duration": 123,
    "start_time": "2023-09-06T22:22:21.725Z"
   },
   {
    "duration": 315,
    "start_time": "2023-09-06T22:22:21.850Z"
   },
   {
    "duration": 25,
    "start_time": "2023-09-06T22:22:22.167Z"
   },
   {
    "duration": 134,
    "start_time": "2023-09-06T22:22:22.194Z"
   },
   {
    "duration": 25,
    "start_time": "2023-09-06T22:22:22.332Z"
   },
   {
    "duration": 138,
    "start_time": "2023-09-06T22:22:22.359Z"
   },
   {
    "duration": 44,
    "start_time": "2023-09-06T22:22:22.500Z"
   },
   {
    "duration": 154,
    "start_time": "2023-09-06T22:22:22.546Z"
   },
   {
    "duration": 32,
    "start_time": "2023-09-06T22:22:22.702Z"
   },
   {
    "duration": 9,
    "start_time": "2023-09-06T22:22:22.736Z"
   },
   {
    "duration": 1348,
    "start_time": "2023-09-06T22:27:34.388Z"
   },
   {
    "duration": 123,
    "start_time": "2023-09-06T22:27:35.739Z"
   },
   {
    "duration": 14,
    "start_time": "2023-09-06T22:27:35.864Z"
   },
   {
    "duration": 48,
    "start_time": "2023-09-06T22:27:35.879Z"
   },
   {
    "duration": 15,
    "start_time": "2023-09-06T22:27:35.930Z"
   },
   {
    "duration": 5,
    "start_time": "2023-09-06T22:27:35.948Z"
   },
   {
    "duration": 22,
    "start_time": "2023-09-06T22:27:35.956Z"
   },
   {
    "duration": 33,
    "start_time": "2023-09-06T22:27:35.980Z"
   },
   {
    "duration": 22,
    "start_time": "2023-09-06T22:27:36.023Z"
   },
   {
    "duration": 5,
    "start_time": "2023-09-06T22:27:36.047Z"
   },
   {
    "duration": 14,
    "start_time": "2023-09-06T22:27:36.054Z"
   },
   {
    "duration": 11,
    "start_time": "2023-09-06T22:27:36.069Z"
   },
   {
    "duration": 30,
    "start_time": "2023-09-06T22:27:36.081Z"
   },
   {
    "duration": 6,
    "start_time": "2023-09-06T22:27:36.114Z"
   },
   {
    "duration": 9,
    "start_time": "2023-09-06T22:27:36.122Z"
   },
   {
    "duration": 6,
    "start_time": "2023-09-06T22:27:36.133Z"
   },
   {
    "duration": 7,
    "start_time": "2023-09-06T22:27:36.142Z"
   },
   {
    "duration": 10,
    "start_time": "2023-09-06T22:27:36.150Z"
   },
   {
    "duration": 54,
    "start_time": "2023-09-06T22:27:36.162Z"
   },
   {
    "duration": 7,
    "start_time": "2023-09-06T22:27:36.217Z"
   },
   {
    "duration": 13,
    "start_time": "2023-09-06T22:27:36.227Z"
   },
   {
    "duration": 6,
    "start_time": "2023-09-06T22:27:36.242Z"
   },
   {
    "duration": 35,
    "start_time": "2023-09-06T22:27:36.250Z"
   },
   {
    "duration": 48,
    "start_time": "2023-09-06T22:27:36.308Z"
   },
   {
    "duration": 19,
    "start_time": "2023-09-06T22:27:36.358Z"
   },
   {
    "duration": 203,
    "start_time": "2023-09-06T22:27:36.379Z"
   },
   {
    "duration": 15,
    "start_time": "2023-09-06T22:27:36.585Z"
   },
   {
    "duration": 1007,
    "start_time": "2023-09-06T22:27:36.602Z"
   },
   {
    "duration": 30,
    "start_time": "2023-09-06T22:27:37.613Z"
   },
   {
    "duration": 17,
    "start_time": "2023-09-06T22:27:37.645Z"
   },
   {
    "duration": 13,
    "start_time": "2023-09-06T22:27:37.664Z"
   },
   {
    "duration": 51,
    "start_time": "2023-09-06T22:27:37.679Z"
   },
   {
    "duration": 468,
    "start_time": "2023-09-06T22:27:37.731Z"
   },
   {
    "duration": 258,
    "start_time": "2023-09-06T22:27:38.201Z"
   },
   {
    "duration": 252,
    "start_time": "2023-09-06T22:27:38.461Z"
   },
   {
    "duration": 35,
    "start_time": "2023-09-06T22:27:38.716Z"
   },
   {
    "duration": 145,
    "start_time": "2023-09-06T22:27:38.753Z"
   },
   {
    "duration": 348,
    "start_time": "2023-09-06T22:27:38.900Z"
   },
   {
    "duration": 27,
    "start_time": "2023-09-06T22:27:39.250Z"
   },
   {
    "duration": 158,
    "start_time": "2023-09-06T22:27:39.278Z"
   },
   {
    "duration": 25,
    "start_time": "2023-09-06T22:27:39.440Z"
   },
   {
    "duration": 126,
    "start_time": "2023-09-06T22:27:39.467Z"
   },
   {
    "duration": 39,
    "start_time": "2023-09-06T22:27:39.595Z"
   },
   {
    "duration": 163,
    "start_time": "2023-09-06T22:27:39.636Z"
   },
   {
    "duration": 42,
    "start_time": "2023-09-06T22:27:39.800Z"
   },
   {
    "duration": 8,
    "start_time": "2023-09-06T22:27:39.843Z"
   },
   {
    "duration": 1402,
    "start_time": "2023-09-07T18:39:40.587Z"
   },
   {
    "duration": 72,
    "start_time": "2023-09-07T18:39:41.991Z"
   },
   {
    "duration": 12,
    "start_time": "2023-09-07T18:39:42.065Z"
   },
   {
    "duration": 53,
    "start_time": "2023-09-07T18:39:42.078Z"
   },
   {
    "duration": 12,
    "start_time": "2023-09-07T18:39:42.133Z"
   },
   {
    "duration": 6,
    "start_time": "2023-09-07T18:39:42.146Z"
   },
   {
    "duration": 30,
    "start_time": "2023-09-07T18:39:42.153Z"
   },
   {
    "duration": 4,
    "start_time": "2023-09-07T18:39:42.185Z"
   },
   {
    "duration": 27,
    "start_time": "2023-09-07T18:39:42.191Z"
   },
   {
    "duration": 4,
    "start_time": "2023-09-07T18:39:42.220Z"
   },
   {
    "duration": 22,
    "start_time": "2023-09-07T18:39:42.226Z"
   },
   {
    "duration": 22,
    "start_time": "2023-09-07T18:39:42.249Z"
   },
   {
    "duration": 14,
    "start_time": "2023-09-07T18:39:42.272Z"
   },
   {
    "duration": 8,
    "start_time": "2023-09-07T18:39:42.289Z"
   },
   {
    "duration": 22,
    "start_time": "2023-09-07T18:39:42.298Z"
   },
   {
    "duration": 16,
    "start_time": "2023-09-07T18:39:42.322Z"
   },
   {
    "duration": 17,
    "start_time": "2023-09-07T18:39:42.339Z"
   },
   {
    "duration": 15,
    "start_time": "2023-09-07T18:39:42.357Z"
   },
   {
    "duration": 14,
    "start_time": "2023-09-07T18:39:42.373Z"
   },
   {
    "duration": 21,
    "start_time": "2023-09-07T18:39:42.389Z"
   },
   {
    "duration": 15,
    "start_time": "2023-09-07T18:39:42.412Z"
   },
   {
    "duration": 15,
    "start_time": "2023-09-07T18:39:42.428Z"
   },
   {
    "duration": 44,
    "start_time": "2023-09-07T18:39:42.444Z"
   },
   {
    "duration": 36,
    "start_time": "2023-09-07T18:39:42.490Z"
   },
   {
    "duration": 18,
    "start_time": "2023-09-07T18:39:42.528Z"
   },
   {
    "duration": 50,
    "start_time": "2023-09-07T18:39:42.547Z"
   },
   {
    "duration": 15,
    "start_time": "2023-09-07T18:39:42.599Z"
   },
   {
    "duration": 923,
    "start_time": "2023-09-07T18:39:42.615Z"
   },
   {
    "duration": 21,
    "start_time": "2023-09-07T18:39:43.540Z"
   },
   {
    "duration": 27,
    "start_time": "2023-09-07T18:39:43.564Z"
   },
   {
    "duration": 13,
    "start_time": "2023-09-07T18:39:43.593Z"
   },
   {
    "duration": 27,
    "start_time": "2023-09-07T18:39:43.608Z"
   },
   {
    "duration": 545,
    "start_time": "2023-09-07T18:39:43.637Z"
   },
   {
    "duration": 212,
    "start_time": "2023-09-07T18:39:44.184Z"
   },
   {
    "duration": 218,
    "start_time": "2023-09-07T18:39:44.399Z"
   },
   {
    "duration": 31,
    "start_time": "2023-09-07T18:39:44.619Z"
   },
   {
    "duration": 136,
    "start_time": "2023-09-07T18:39:44.653Z"
   },
   {
    "duration": 324,
    "start_time": "2023-09-07T18:39:44.792Z"
   },
   {
    "duration": 29,
    "start_time": "2023-09-07T18:39:45.117Z"
   },
   {
    "duration": 135,
    "start_time": "2023-09-07T18:39:45.148Z"
   },
   {
    "duration": 23,
    "start_time": "2023-09-07T18:39:45.288Z"
   },
   {
    "duration": 113,
    "start_time": "2023-09-07T18:39:45.313Z"
   },
   {
    "duration": 25,
    "start_time": "2023-09-07T18:39:45.428Z"
   },
   {
    "duration": 133,
    "start_time": "2023-09-07T18:39:45.454Z"
   },
   {
    "duration": 28,
    "start_time": "2023-09-07T18:39:45.589Z"
   },
   {
    "duration": 9,
    "start_time": "2023-09-07T18:39:45.619Z"
   },
   {
    "duration": 121,
    "start_time": "2023-09-07T18:47:46.047Z"
   },
   {
    "duration": 19,
    "start_time": "2023-09-07T18:48:12.397Z"
   },
   {
    "duration": 29,
    "start_time": "2023-09-07T18:48:30.472Z"
   },
   {
    "duration": 40,
    "start_time": "2023-09-07T18:49:47.191Z"
   },
   {
    "duration": 28,
    "start_time": "2023-09-07T18:49:57.529Z"
   },
   {
    "duration": 28,
    "start_time": "2023-09-07T18:51:24.192Z"
   },
   {
    "duration": 33,
    "start_time": "2023-09-07T18:52:13.305Z"
   },
   {
    "duration": 29,
    "start_time": "2023-09-07T18:52:35.333Z"
   },
   {
    "duration": 1154,
    "start_time": "2023-09-07T19:08:19.542Z"
   },
   {
    "duration": 71,
    "start_time": "2023-09-07T19:08:20.698Z"
   },
   {
    "duration": 12,
    "start_time": "2023-09-07T19:08:20.770Z"
   },
   {
    "duration": 35,
    "start_time": "2023-09-07T19:08:20.783Z"
   },
   {
    "duration": 11,
    "start_time": "2023-09-07T19:08:20.820Z"
   },
   {
    "duration": 3,
    "start_time": "2023-09-07T19:08:20.833Z"
   },
   {
    "duration": 11,
    "start_time": "2023-09-07T19:08:20.838Z"
   },
   {
    "duration": 31,
    "start_time": "2023-09-07T19:08:20.850Z"
   },
   {
    "duration": 20,
    "start_time": "2023-09-07T19:08:20.882Z"
   },
   {
    "duration": 7,
    "start_time": "2023-09-07T19:08:20.903Z"
   },
   {
    "duration": 10,
    "start_time": "2023-09-07T19:08:20.911Z"
   },
   {
    "duration": 10,
    "start_time": "2023-09-07T19:08:20.922Z"
   },
   {
    "duration": 16,
    "start_time": "2023-09-07T19:08:20.934Z"
   },
   {
    "duration": 5,
    "start_time": "2023-09-07T19:08:20.952Z"
   },
   {
    "duration": 25,
    "start_time": "2023-09-07T19:08:20.958Z"
   },
   {
    "duration": 5,
    "start_time": "2023-09-07T19:08:20.984Z"
   },
   {
    "duration": 7,
    "start_time": "2023-09-07T19:08:20.990Z"
   },
   {
    "duration": 10,
    "start_time": "2023-09-07T19:08:20.999Z"
   },
   {
    "duration": 8,
    "start_time": "2023-09-07T19:08:21.010Z"
   },
   {
    "duration": 3,
    "start_time": "2023-09-07T19:08:21.020Z"
   },
   {
    "duration": 7,
    "start_time": "2023-09-07T19:08:21.025Z"
   },
   {
    "duration": 5,
    "start_time": "2023-09-07T19:08:21.034Z"
   },
   {
    "duration": 59,
    "start_time": "2023-09-07T19:08:21.041Z"
   },
   {
    "duration": 35,
    "start_time": "2023-09-07T19:08:21.102Z"
   },
   {
    "duration": 15,
    "start_time": "2023-09-07T19:08:21.138Z"
   },
   {
    "duration": 54,
    "start_time": "2023-09-07T19:08:21.154Z"
   },
   {
    "duration": 11,
    "start_time": "2023-09-07T19:08:21.210Z"
   },
   {
    "duration": 805,
    "start_time": "2023-09-07T19:08:21.222Z"
   },
   {
    "duration": 17,
    "start_time": "2023-09-07T19:08:22.029Z"
   },
   {
    "duration": 17,
    "start_time": "2023-09-07T19:08:22.048Z"
   },
   {
    "duration": 20,
    "start_time": "2023-09-07T19:08:22.066Z"
   },
   {
    "duration": 24,
    "start_time": "2023-09-07T19:08:22.087Z"
   },
   {
    "duration": 414,
    "start_time": "2023-09-07T19:08:22.113Z"
   },
   {
    "duration": 195,
    "start_time": "2023-09-07T19:08:22.529Z"
   },
   {
    "duration": 197,
    "start_time": "2023-09-07T19:08:22.726Z"
   },
   {
    "duration": 25,
    "start_time": "2023-09-07T19:08:22.925Z"
   },
   {
    "duration": 112,
    "start_time": "2023-09-07T19:08:22.952Z"
   },
   {
    "duration": 285,
    "start_time": "2023-09-07T19:08:23.066Z"
   },
   {
    "duration": 33,
    "start_time": "2023-09-07T19:08:23.353Z"
   },
   {
    "duration": 105,
    "start_time": "2023-09-07T19:08:23.388Z"
   },
   {
    "duration": 24,
    "start_time": "2023-09-07T19:08:23.498Z"
   },
   {
    "duration": 152,
    "start_time": "2023-09-07T19:08:23.524Z"
   },
   {
    "duration": 24,
    "start_time": "2023-09-07T19:08:23.678Z"
   },
   {
    "duration": 178,
    "start_time": "2023-09-07T19:08:23.703Z"
   },
   {
    "duration": 28,
    "start_time": "2023-09-07T19:08:23.882Z"
   },
   {
    "duration": 31,
    "start_time": "2023-09-07T19:08:23.911Z"
   },
   {
    "duration": 7,
    "start_time": "2023-09-07T19:08:23.943Z"
   },
   {
    "duration": 30,
    "start_time": "2023-09-07T19:09:28.629Z"
   },
   {
    "duration": 9,
    "start_time": "2023-09-07T19:09:43.993Z"
   },
   {
    "duration": 34,
    "start_time": "2023-09-07T19:09:56.803Z"
   },
   {
    "duration": 10,
    "start_time": "2023-09-07T19:10:50.482Z"
   },
   {
    "duration": 9,
    "start_time": "2023-09-07T19:11:46.887Z"
   },
   {
    "duration": 8,
    "start_time": "2023-09-07T19:12:10.485Z"
   },
   {
    "duration": 9,
    "start_time": "2023-09-07T19:12:33.176Z"
   },
   {
    "duration": 9,
    "start_time": "2023-09-07T19:13:45.349Z"
   },
   {
    "duration": 8,
    "start_time": "2023-09-07T19:14:04.212Z"
   },
   {
    "duration": 8,
    "start_time": "2023-09-07T19:14:17.340Z"
   },
   {
    "duration": 38,
    "start_time": "2023-09-07T19:15:01.941Z"
   },
   {
    "duration": 8,
    "start_time": "2023-09-07T19:15:10.284Z"
   },
   {
    "duration": 1174,
    "start_time": "2023-09-07T19:28:03.219Z"
   },
   {
    "duration": 77,
    "start_time": "2023-09-07T19:28:04.395Z"
   },
   {
    "duration": 12,
    "start_time": "2023-09-07T19:28:04.474Z"
   },
   {
    "duration": 38,
    "start_time": "2023-09-07T19:28:04.488Z"
   },
   {
    "duration": 12,
    "start_time": "2023-09-07T19:28:04.527Z"
   },
   {
    "duration": 3,
    "start_time": "2023-09-07T19:28:04.541Z"
   },
   {
    "duration": 17,
    "start_time": "2023-09-07T19:28:04.546Z"
   },
   {
    "duration": 6,
    "start_time": "2023-09-07T19:28:04.582Z"
   },
   {
    "duration": 37,
    "start_time": "2023-09-07T19:28:04.590Z"
   },
   {
    "duration": 7,
    "start_time": "2023-09-07T19:28:04.630Z"
   },
   {
    "duration": 16,
    "start_time": "2023-09-07T19:28:04.639Z"
   },
   {
    "duration": 29,
    "start_time": "2023-09-07T19:28:04.657Z"
   },
   {
    "duration": 16,
    "start_time": "2023-09-07T19:28:04.687Z"
   },
   {
    "duration": 15,
    "start_time": "2023-09-07T19:28:04.704Z"
   },
   {
    "duration": 8,
    "start_time": "2023-09-07T19:28:04.721Z"
   },
   {
    "duration": 13,
    "start_time": "2023-09-07T19:28:04.731Z"
   },
   {
    "duration": 11,
    "start_time": "2023-09-07T19:28:04.746Z"
   },
   {
    "duration": 14,
    "start_time": "2023-09-07T19:28:04.758Z"
   },
   {
    "duration": 8,
    "start_time": "2023-09-07T19:28:04.773Z"
   },
   {
    "duration": 4,
    "start_time": "2023-09-07T19:28:04.782Z"
   },
   {
    "duration": 15,
    "start_time": "2023-09-07T19:28:04.787Z"
   },
   {
    "duration": 6,
    "start_time": "2023-09-07T19:28:04.803Z"
   },
   {
    "duration": 36,
    "start_time": "2023-09-07T19:28:04.810Z"
   },
   {
    "duration": 52,
    "start_time": "2023-09-07T19:28:04.848Z"
   },
   {
    "duration": 17,
    "start_time": "2023-09-07T19:28:04.902Z"
   },
   {
    "duration": 32,
    "start_time": "2023-09-07T19:28:04.921Z"
   },
   {
    "duration": 11,
    "start_time": "2023-09-07T19:28:04.955Z"
   },
   {
    "duration": 856,
    "start_time": "2023-09-07T19:28:04.970Z"
   },
   {
    "duration": 18,
    "start_time": "2023-09-07T19:28:05.828Z"
   },
   {
    "duration": 16,
    "start_time": "2023-09-07T19:28:05.848Z"
   },
   {
    "duration": 23,
    "start_time": "2023-09-07T19:28:05.866Z"
   },
   {
    "duration": 27,
    "start_time": "2023-09-07T19:28:05.891Z"
   },
   {
    "duration": 503,
    "start_time": "2023-09-07T19:28:05.920Z"
   },
   {
    "duration": 204,
    "start_time": "2023-09-07T19:28:06.424Z"
   },
   {
    "duration": 250,
    "start_time": "2023-09-07T19:28:06.630Z"
   },
   {
    "duration": 26,
    "start_time": "2023-09-07T19:28:06.882Z"
   },
   {
    "duration": 112,
    "start_time": "2023-09-07T19:28:06.910Z"
   },
   {
    "duration": 297,
    "start_time": "2023-09-07T19:28:07.024Z"
   },
   {
    "duration": 24,
    "start_time": "2023-09-07T19:28:07.323Z"
   },
   {
    "duration": 119,
    "start_time": "2023-09-07T19:28:07.349Z"
   },
   {
    "duration": 33,
    "start_time": "2023-09-07T19:28:07.470Z"
   },
   {
    "duration": 109,
    "start_time": "2023-09-07T19:28:07.505Z"
   },
   {
    "duration": 22,
    "start_time": "2023-09-07T19:28:07.616Z"
   },
   {
    "duration": 120,
    "start_time": "2023-09-07T19:28:07.639Z"
   },
   {
    "duration": 32,
    "start_time": "2023-09-07T19:28:07.760Z"
   },
   {
    "duration": 9,
    "start_time": "2023-09-07T19:28:07.794Z"
   },
   {
    "duration": 11,
    "start_time": "2023-09-07T19:28:07.805Z"
   },
   {
    "duration": 9,
    "start_time": "2023-09-07T19:28:07.817Z"
   },
   {
    "duration": 12,
    "start_time": "2023-09-07T19:28:07.827Z"
   },
   {
    "duration": 16,
    "start_time": "2023-09-07T19:28:07.840Z"
   },
   {
    "duration": 25,
    "start_time": "2023-09-07T19:28:07.857Z"
   },
   {
    "duration": 1088,
    "start_time": "2023-09-07T19:31:21.237Z"
   },
   {
    "duration": 68,
    "start_time": "2023-09-07T19:31:22.327Z"
   },
   {
    "duration": 11,
    "start_time": "2023-09-07T19:31:22.397Z"
   },
   {
    "duration": 39,
    "start_time": "2023-09-07T19:31:22.410Z"
   },
   {
    "duration": 31,
    "start_time": "2023-09-07T19:31:22.450Z"
   },
   {
    "duration": 4,
    "start_time": "2023-09-07T19:31:22.483Z"
   },
   {
    "duration": 12,
    "start_time": "2023-09-07T19:31:22.488Z"
   },
   {
    "duration": 5,
    "start_time": "2023-09-07T19:31:22.501Z"
   },
   {
    "duration": 25,
    "start_time": "2023-09-07T19:31:22.508Z"
   },
   {
    "duration": 5,
    "start_time": "2023-09-07T19:31:22.535Z"
   },
   {
    "duration": 39,
    "start_time": "2023-09-07T19:31:22.542Z"
   },
   {
    "duration": 9,
    "start_time": "2023-09-07T19:31:22.583Z"
   },
   {
    "duration": 5,
    "start_time": "2023-09-07T19:31:22.594Z"
   },
   {
    "duration": 4,
    "start_time": "2023-09-07T19:31:22.601Z"
   },
   {
    "duration": 4,
    "start_time": "2023-09-07T19:31:22.606Z"
   },
   {
    "duration": 4,
    "start_time": "2023-09-07T19:31:22.611Z"
   },
   {
    "duration": 16,
    "start_time": "2023-09-07T19:31:22.617Z"
   },
   {
    "duration": 5,
    "start_time": "2023-09-07T19:31:22.634Z"
   },
   {
    "duration": 6,
    "start_time": "2023-09-07T19:31:22.640Z"
   },
   {
    "duration": 34,
    "start_time": "2023-09-07T19:31:22.648Z"
   },
   {
    "duration": 24,
    "start_time": "2023-09-07T19:31:22.683Z"
   },
   {
    "duration": 20,
    "start_time": "2023-09-07T19:31:22.708Z"
   },
   {
    "duration": 46,
    "start_time": "2023-09-07T19:31:22.729Z"
   },
   {
    "duration": 35,
    "start_time": "2023-09-07T19:31:22.776Z"
   },
   {
    "duration": 17,
    "start_time": "2023-09-07T19:31:22.812Z"
   },
   {
    "duration": 42,
    "start_time": "2023-09-07T19:31:22.831Z"
   },
   {
    "duration": 13,
    "start_time": "2023-09-07T19:31:22.875Z"
   },
   {
    "duration": 831,
    "start_time": "2023-09-07T19:31:22.891Z"
   },
   {
    "duration": 18,
    "start_time": "2023-09-07T19:31:23.724Z"
   },
   {
    "duration": 21,
    "start_time": "2023-09-07T19:31:23.744Z"
   },
   {
    "duration": 25,
    "start_time": "2023-09-07T19:31:23.766Z"
   },
   {
    "duration": 41,
    "start_time": "2023-09-07T19:31:23.793Z"
   },
   {
    "duration": 430,
    "start_time": "2023-09-07T19:31:23.835Z"
   },
   {
    "duration": 189,
    "start_time": "2023-09-07T19:31:24.266Z"
   },
   {
    "duration": 194,
    "start_time": "2023-09-07T19:31:24.457Z"
   },
   {
    "duration": 32,
    "start_time": "2023-09-07T19:31:24.652Z"
   },
   {
    "duration": 102,
    "start_time": "2023-09-07T19:31:24.685Z"
   },
   {
    "duration": 266,
    "start_time": "2023-09-07T19:31:24.788Z"
   },
   {
    "duration": 35,
    "start_time": "2023-09-07T19:31:25.055Z"
   },
   {
    "duration": 110,
    "start_time": "2023-09-07T19:31:25.091Z"
   },
   {
    "duration": 23,
    "start_time": "2023-09-07T19:31:25.203Z"
   },
   {
    "duration": 105,
    "start_time": "2023-09-07T19:31:25.227Z"
   },
   {
    "duration": 23,
    "start_time": "2023-09-07T19:31:25.334Z"
   },
   {
    "duration": 123,
    "start_time": "2023-09-07T19:31:25.358Z"
   },
   {
    "duration": 29,
    "start_time": "2023-09-07T19:31:25.483Z"
   },
   {
    "duration": 9,
    "start_time": "2023-09-07T19:31:25.514Z"
   },
   {
    "duration": 16,
    "start_time": "2023-09-07T19:31:25.525Z"
   },
   {
    "duration": 9,
    "start_time": "2023-09-07T19:31:25.542Z"
   },
   {
    "duration": 7,
    "start_time": "2023-09-07T19:31:25.552Z"
   },
   {
    "duration": 12,
    "start_time": "2023-09-07T19:31:25.580Z"
   },
   {
    "duration": 27,
    "start_time": "2023-09-07T19:31:25.593Z"
   },
   {
    "duration": 8,
    "start_time": "2023-09-07T19:38:56.961Z"
   },
   {
    "duration": 9,
    "start_time": "2023-09-07T19:41:35.424Z"
   },
   {
    "duration": 8,
    "start_time": "2023-09-07T19:45:47.885Z"
   },
   {
    "duration": 8,
    "start_time": "2023-09-07T19:46:12.298Z"
   },
   {
    "duration": 8,
    "start_time": "2023-09-07T19:48:51.675Z"
   },
   {
    "duration": 8,
    "start_time": "2023-09-07T19:51:04.449Z"
   },
   {
    "duration": 1137,
    "start_time": "2023-09-07T19:51:47.239Z"
   },
   {
    "duration": 87,
    "start_time": "2023-09-07T19:51:48.378Z"
   },
   {
    "duration": 12,
    "start_time": "2023-09-07T19:51:48.466Z"
   },
   {
    "duration": 35,
    "start_time": "2023-09-07T19:51:48.480Z"
   },
   {
    "duration": 11,
    "start_time": "2023-09-07T19:51:48.517Z"
   },
   {
    "duration": 9,
    "start_time": "2023-09-07T19:51:48.530Z"
   },
   {
    "duration": 19,
    "start_time": "2023-09-07T19:51:48.540Z"
   },
   {
    "duration": 4,
    "start_time": "2023-09-07T19:51:48.560Z"
   },
   {
    "duration": 27,
    "start_time": "2023-09-07T19:51:48.565Z"
   },
   {
    "duration": 4,
    "start_time": "2023-09-07T19:51:48.594Z"
   },
   {
    "duration": 13,
    "start_time": "2023-09-07T19:51:48.600Z"
   },
   {
    "duration": 18,
    "start_time": "2023-09-07T19:51:48.614Z"
   },
   {
    "duration": 5,
    "start_time": "2023-09-07T19:51:48.634Z"
   },
   {
    "duration": 8,
    "start_time": "2023-09-07T19:51:48.641Z"
   },
   {
    "duration": 11,
    "start_time": "2023-09-07T19:51:48.650Z"
   },
   {
    "duration": 18,
    "start_time": "2023-09-07T19:51:48.663Z"
   },
   {
    "duration": 4,
    "start_time": "2023-09-07T19:51:48.683Z"
   },
   {
    "duration": 6,
    "start_time": "2023-09-07T19:51:48.688Z"
   },
   {
    "duration": 7,
    "start_time": "2023-09-07T19:51:48.695Z"
   },
   {
    "duration": 2,
    "start_time": "2023-09-07T19:51:48.704Z"
   },
   {
    "duration": 13,
    "start_time": "2023-09-07T19:51:48.708Z"
   },
   {
    "duration": 6,
    "start_time": "2023-09-07T19:51:48.723Z"
   },
   {
    "duration": 52,
    "start_time": "2023-09-07T19:51:48.730Z"
   },
   {
    "duration": 34,
    "start_time": "2023-09-07T19:51:48.784Z"
   },
   {
    "duration": 17,
    "start_time": "2023-09-07T19:51:48.820Z"
   },
   {
    "duration": 47,
    "start_time": "2023-09-07T19:51:48.838Z"
   },
   {
    "duration": 11,
    "start_time": "2023-09-07T19:51:48.887Z"
   },
   {
    "duration": 866,
    "start_time": "2023-09-07T19:51:48.901Z"
   },
   {
    "duration": 22,
    "start_time": "2023-09-07T19:51:49.768Z"
   },
   {
    "duration": 15,
    "start_time": "2023-09-07T19:51:49.791Z"
   },
   {
    "duration": 11,
    "start_time": "2023-09-07T19:51:49.808Z"
   },
   {
    "duration": 27,
    "start_time": "2023-09-07T19:51:49.820Z"
   },
   {
    "duration": 441,
    "start_time": "2023-09-07T19:51:49.848Z"
   },
   {
    "duration": 192,
    "start_time": "2023-09-07T19:51:50.291Z"
   },
   {
    "duration": 203,
    "start_time": "2023-09-07T19:51:50.485Z"
   },
   {
    "duration": 24,
    "start_time": "2023-09-07T19:51:50.690Z"
   },
   {
    "duration": 123,
    "start_time": "2023-09-07T19:51:50.716Z"
   },
   {
    "duration": 270,
    "start_time": "2023-09-07T19:51:50.841Z"
   },
   {
    "duration": 23,
    "start_time": "2023-09-07T19:51:51.113Z"
   },
   {
    "duration": 121,
    "start_time": "2023-09-07T19:51:51.137Z"
   },
   {
    "duration": 27,
    "start_time": "2023-09-07T19:51:51.259Z"
   },
   {
    "duration": 101,
    "start_time": "2023-09-07T19:51:51.287Z"
   },
   {
    "duration": 23,
    "start_time": "2023-09-07T19:51:51.390Z"
   },
   {
    "duration": 116,
    "start_time": "2023-09-07T19:51:51.414Z"
   },
   {
    "duration": 29,
    "start_time": "2023-09-07T19:51:51.532Z"
   },
   {
    "duration": 21,
    "start_time": "2023-09-07T19:51:51.563Z"
   },
   {
    "duration": 16,
    "start_time": "2023-09-07T19:51:51.585Z"
   },
   {
    "duration": 17,
    "start_time": "2023-09-07T19:51:51.602Z"
   },
   {
    "duration": 17,
    "start_time": "2023-09-07T19:51:51.620Z"
   },
   {
    "duration": 18,
    "start_time": "2023-09-07T19:51:51.639Z"
   },
   {
    "duration": 7,
    "start_time": "2023-09-07T19:51:51.659Z"
   },
   {
    "duration": 12,
    "start_time": "2023-09-07T19:51:51.668Z"
   },
   {
    "duration": 8,
    "start_time": "2023-09-07T19:51:51.681Z"
   },
   {
    "duration": 16,
    "start_time": "2023-09-07T19:51:51.690Z"
   },
   {
    "duration": 12,
    "start_time": "2023-09-07T19:51:51.708Z"
   },
   {
    "duration": 20,
    "start_time": "2023-09-07T21:26:48.929Z"
   },
   {
    "duration": 1472,
    "start_time": "2023-09-07T21:28:22.917Z"
   },
   {
    "duration": 1378,
    "start_time": "2023-09-07T21:28:36.517Z"
   },
   {
    "duration": 25,
    "start_time": "2023-09-07T21:28:52.247Z"
   },
   {
    "duration": 28,
    "start_time": "2023-09-07T21:30:01.337Z"
   },
   {
    "duration": 25,
    "start_time": "2023-09-07T21:30:05.219Z"
   },
   {
    "duration": 24,
    "start_time": "2023-09-07T21:30:35.222Z"
   },
   {
    "duration": 23,
    "start_time": "2023-09-07T21:33:56.756Z"
   },
   {
    "duration": 25,
    "start_time": "2023-09-07T21:34:23.425Z"
   },
   {
    "duration": 26,
    "start_time": "2023-09-07T21:36:30.505Z"
   },
   {
    "duration": 23,
    "start_time": "2023-09-07T21:40:16.958Z"
   },
   {
    "duration": 27,
    "start_time": "2023-09-07T21:41:34.524Z"
   },
   {
    "duration": 23,
    "start_time": "2023-09-07T21:43:30.420Z"
   },
   {
    "duration": 27,
    "start_time": "2023-09-07T21:43:55.171Z"
   },
   {
    "duration": 28,
    "start_time": "2023-09-07T21:44:14.816Z"
   },
   {
    "duration": 21,
    "start_time": "2023-09-07T21:44:22.528Z"
   },
   {
    "duration": 27,
    "start_time": "2023-09-07T21:45:01.516Z"
   },
   {
    "duration": 22,
    "start_time": "2023-09-07T21:46:08.057Z"
   },
   {
    "duration": 22,
    "start_time": "2023-09-07T21:46:14.133Z"
   },
   {
    "duration": 22,
    "start_time": "2023-09-07T21:46:20.773Z"
   },
   {
    "duration": 22,
    "start_time": "2023-09-07T21:46:26.376Z"
   },
   {
    "duration": 22,
    "start_time": "2023-09-07T21:46:30.715Z"
   },
   {
    "duration": 23,
    "start_time": "2023-09-07T21:46:35.025Z"
   },
   {
    "duration": 25,
    "start_time": "2023-09-07T21:46:45.267Z"
   },
   {
    "duration": 26,
    "start_time": "2023-09-07T21:46:50.447Z"
   },
   {
    "duration": 25,
    "start_time": "2023-09-07T21:46:55.344Z"
   },
   {
    "duration": 25,
    "start_time": "2023-09-07T21:46:59.355Z"
   },
   {
    "duration": 32,
    "start_time": "2023-09-07T21:47:06.679Z"
   },
   {
    "duration": 1122,
    "start_time": "2023-09-07T21:47:39.759Z"
   },
   {
    "duration": 78,
    "start_time": "2023-09-07T21:47:40.883Z"
   },
   {
    "duration": 11,
    "start_time": "2023-09-07T21:47:40.963Z"
   },
   {
    "duration": 35,
    "start_time": "2023-09-07T21:47:40.976Z"
   },
   {
    "duration": 11,
    "start_time": "2023-09-07T21:47:41.013Z"
   },
   {
    "duration": 4,
    "start_time": "2023-09-07T21:47:41.026Z"
   },
   {
    "duration": 27,
    "start_time": "2023-09-07T21:47:41.031Z"
   },
   {
    "duration": 4,
    "start_time": "2023-09-07T21:47:41.059Z"
   },
   {
    "duration": 30,
    "start_time": "2023-09-07T21:47:41.065Z"
   },
   {
    "duration": 69,
    "start_time": "2023-09-07T21:47:41.097Z"
   },
   {
    "duration": 56,
    "start_time": "2023-09-07T21:47:41.168Z"
   },
   {
    "duration": 41,
    "start_time": "2023-09-07T21:47:41.226Z"
   },
   {
    "duration": 28,
    "start_time": "2023-09-07T21:47:41.269Z"
   },
   {
    "duration": 6,
    "start_time": "2023-09-07T21:47:41.298Z"
   },
   {
    "duration": 5,
    "start_time": "2023-09-07T21:47:41.305Z"
   },
   {
    "duration": 5,
    "start_time": "2023-09-07T21:47:41.311Z"
   },
   {
    "duration": 14,
    "start_time": "2023-09-07T21:47:41.317Z"
   },
   {
    "duration": 5,
    "start_time": "2023-09-07T21:47:41.332Z"
   },
   {
    "duration": 10,
    "start_time": "2023-09-07T21:47:41.338Z"
   },
   {
    "duration": 4,
    "start_time": "2023-09-07T21:47:41.349Z"
   },
   {
    "duration": 13,
    "start_time": "2023-09-07T21:47:41.354Z"
   },
   {
    "duration": 17,
    "start_time": "2023-09-07T21:47:41.368Z"
   },
   {
    "duration": 40,
    "start_time": "2023-09-07T21:47:41.387Z"
   },
   {
    "duration": 34,
    "start_time": "2023-09-07T21:47:41.428Z"
   },
   {
    "duration": 25,
    "start_time": "2023-09-07T21:47:41.463Z"
   },
   {
    "duration": 28,
    "start_time": "2023-09-07T21:47:41.490Z"
   },
   {
    "duration": 11,
    "start_time": "2023-09-07T21:47:41.520Z"
   },
   {
    "duration": 804,
    "start_time": "2023-09-07T21:47:41.534Z"
   },
   {
    "duration": 17,
    "start_time": "2023-09-07T21:47:42.340Z"
   },
   {
    "duration": 27,
    "start_time": "2023-09-07T21:47:42.359Z"
   },
   {
    "duration": 12,
    "start_time": "2023-09-07T21:47:42.388Z"
   },
   {
    "duration": 41,
    "start_time": "2023-09-07T21:47:42.401Z"
   },
   {
    "duration": 430,
    "start_time": "2023-09-07T21:47:42.444Z"
   },
   {
    "duration": 187,
    "start_time": "2023-09-07T21:47:42.880Z"
   },
   {
    "duration": 205,
    "start_time": "2023-09-07T21:47:43.068Z"
   },
   {
    "duration": 26,
    "start_time": "2023-09-07T21:47:43.274Z"
   },
   {
    "duration": 108,
    "start_time": "2023-09-07T21:47:43.302Z"
   },
   {
    "duration": 265,
    "start_time": "2023-09-07T21:47:43.412Z"
   },
   {
    "duration": 25,
    "start_time": "2023-09-07T21:47:43.678Z"
   },
   {
    "duration": 126,
    "start_time": "2023-09-07T21:47:43.705Z"
   },
   {
    "duration": 25,
    "start_time": "2023-09-07T21:47:43.832Z"
   },
   {
    "duration": 105,
    "start_time": "2023-09-07T21:47:43.858Z"
   },
   {
    "duration": 32,
    "start_time": "2023-09-07T21:47:43.964Z"
   },
   {
    "duration": 114,
    "start_time": "2023-09-07T21:47:43.998Z"
   },
   {
    "duration": 28,
    "start_time": "2023-09-07T21:47:44.114Z"
   },
   {
    "duration": 10,
    "start_time": "2023-09-07T21:47:44.144Z"
   },
   {
    "duration": 29,
    "start_time": "2023-09-07T21:47:44.155Z"
   },
   {
    "duration": 10,
    "start_time": "2023-09-07T21:47:44.186Z"
   },
   {
    "duration": 11,
    "start_time": "2023-09-07T21:47:44.197Z"
   },
   {
    "duration": 12,
    "start_time": "2023-09-07T21:47:44.209Z"
   },
   {
    "duration": 17,
    "start_time": "2023-09-07T21:47:44.222Z"
   },
   {
    "duration": 7,
    "start_time": "2023-09-07T21:47:44.240Z"
   },
   {
    "duration": 19,
    "start_time": "2023-09-07T21:47:44.248Z"
   },
   {
    "duration": 21,
    "start_time": "2023-09-07T21:47:44.269Z"
   },
   {
    "duration": 13,
    "start_time": "2023-09-07T21:47:44.292Z"
   },
   {
    "duration": 23,
    "start_time": "2023-09-07T21:47:44.306Z"
   },
   {
    "duration": 22,
    "start_time": "2023-09-07T21:47:44.331Z"
   },
   {
    "duration": 36,
    "start_time": "2023-09-07T21:47:44.354Z"
   },
   {
    "duration": 21,
    "start_time": "2023-09-07T21:47:44.391Z"
   },
   {
    "duration": 23,
    "start_time": "2023-09-07T21:47:44.413Z"
   },
   {
    "duration": 1229,
    "start_time": "2023-09-07T22:06:42.666Z"
   },
   {
    "duration": 84,
    "start_time": "2023-09-07T22:06:43.897Z"
   },
   {
    "duration": 11,
    "start_time": "2023-09-07T22:06:43.983Z"
   },
   {
    "duration": 37,
    "start_time": "2023-09-07T22:06:43.996Z"
   },
   {
    "duration": 12,
    "start_time": "2023-09-07T22:06:44.035Z"
   },
   {
    "duration": 32,
    "start_time": "2023-09-07T22:06:44.049Z"
   },
   {
    "duration": 11,
    "start_time": "2023-09-07T22:06:44.083Z"
   },
   {
    "duration": 4,
    "start_time": "2023-09-07T22:06:44.096Z"
   },
   {
    "duration": 20,
    "start_time": "2023-09-07T22:06:44.102Z"
   },
   {
    "duration": 5,
    "start_time": "2023-09-07T22:06:44.125Z"
   },
   {
    "duration": 15,
    "start_time": "2023-09-07T22:06:44.131Z"
   },
   {
    "duration": 36,
    "start_time": "2023-09-07T22:06:44.148Z"
   },
   {
    "duration": 27,
    "start_time": "2023-09-07T22:06:44.185Z"
   },
   {
    "duration": 14,
    "start_time": "2023-09-07T22:06:44.214Z"
   },
   {
    "duration": 4,
    "start_time": "2023-09-07T22:06:44.229Z"
   },
   {
    "duration": 21,
    "start_time": "2023-09-07T22:06:44.235Z"
   },
   {
    "duration": 20,
    "start_time": "2023-09-07T22:06:44.257Z"
   },
   {
    "duration": 22,
    "start_time": "2023-09-07T22:06:44.279Z"
   },
   {
    "duration": 27,
    "start_time": "2023-09-07T22:06:44.302Z"
   },
   {
    "duration": 5,
    "start_time": "2023-09-07T22:06:44.330Z"
   },
   {
    "duration": 10,
    "start_time": "2023-09-07T22:06:44.337Z"
   },
   {
    "duration": 5,
    "start_time": "2023-09-07T22:06:44.348Z"
   },
   {
    "duration": 55,
    "start_time": "2023-09-07T22:06:44.354Z"
   },
   {
    "duration": 37,
    "start_time": "2023-09-07T22:06:44.410Z"
   },
   {
    "duration": 17,
    "start_time": "2023-09-07T22:06:44.448Z"
   },
   {
    "duration": 39,
    "start_time": "2023-09-07T22:06:44.467Z"
   },
   {
    "duration": 11,
    "start_time": "2023-09-07T22:06:44.507Z"
   },
   {
    "duration": 876,
    "start_time": "2023-09-07T22:06:44.522Z"
   },
   {
    "duration": 19,
    "start_time": "2023-09-07T22:06:45.400Z"
   },
   {
    "duration": 20,
    "start_time": "2023-09-07T22:06:45.421Z"
   },
   {
    "duration": 11,
    "start_time": "2023-09-07T22:06:45.442Z"
   },
   {
    "duration": 43,
    "start_time": "2023-09-07T22:06:45.454Z"
   },
   {
    "duration": 416,
    "start_time": "2023-09-07T22:06:45.499Z"
   },
   {
    "duration": 198,
    "start_time": "2023-09-07T22:06:45.916Z"
   },
   {
    "duration": 224,
    "start_time": "2023-09-07T22:06:46.115Z"
   },
   {
    "duration": 28,
    "start_time": "2023-09-07T22:06:46.341Z"
   },
   {
    "duration": 123,
    "start_time": "2023-09-07T22:06:46.370Z"
   },
   {
    "duration": 292,
    "start_time": "2023-09-07T22:06:46.495Z"
   },
   {
    "duration": 34,
    "start_time": "2023-09-07T22:06:46.790Z"
   },
   {
    "duration": 142,
    "start_time": "2023-09-07T22:06:46.826Z"
   },
   {
    "duration": 30,
    "start_time": "2023-09-07T22:06:46.970Z"
   },
   {
    "duration": 112,
    "start_time": "2023-09-07T22:06:47.002Z"
   },
   {
    "duration": 24,
    "start_time": "2023-09-07T22:06:47.116Z"
   },
   {
    "duration": 140,
    "start_time": "2023-09-07T22:06:47.142Z"
   },
   {
    "duration": 30,
    "start_time": "2023-09-07T22:06:47.284Z"
   },
   {
    "duration": 10,
    "start_time": "2023-09-07T22:06:47.315Z"
   },
   {
    "duration": 29,
    "start_time": "2023-09-07T22:06:47.326Z"
   },
   {
    "duration": 23,
    "start_time": "2023-09-07T22:06:47.356Z"
   },
   {
    "duration": 22,
    "start_time": "2023-09-07T22:06:47.381Z"
   },
   {
    "duration": 14,
    "start_time": "2023-09-07T22:06:47.405Z"
   },
   {
    "duration": 17,
    "start_time": "2023-09-07T22:06:47.421Z"
   },
   {
    "duration": 19,
    "start_time": "2023-09-07T22:06:47.440Z"
   },
   {
    "duration": 14,
    "start_time": "2023-09-07T22:06:47.461Z"
   },
   {
    "duration": 30,
    "start_time": "2023-09-07T22:06:47.476Z"
   },
   {
    "duration": 22,
    "start_time": "2023-09-07T22:06:47.508Z"
   },
   {
    "duration": 36,
    "start_time": "2023-09-07T22:06:47.531Z"
   },
   {
    "duration": 37,
    "start_time": "2023-09-07T22:06:47.568Z"
   },
   {
    "duration": 24,
    "start_time": "2023-09-07T22:06:47.607Z"
   },
   {
    "duration": 40,
    "start_time": "2023-09-07T22:06:47.632Z"
   },
   {
    "duration": 32,
    "start_time": "2023-09-07T22:06:47.674Z"
   },
   {
    "duration": 1424,
    "start_time": "2023-09-09T09:10:40.379Z"
   },
   {
    "duration": 90,
    "start_time": "2023-09-09T09:10:41.806Z"
   },
   {
    "duration": 13,
    "start_time": "2023-09-09T09:10:41.898Z"
   },
   {
    "duration": 58,
    "start_time": "2023-09-09T09:10:41.913Z"
   },
   {
    "duration": 14,
    "start_time": "2023-09-09T09:10:41.973Z"
   },
   {
    "duration": 5,
    "start_time": "2023-09-09T09:10:41.989Z"
   },
   {
    "duration": 18,
    "start_time": "2023-09-09T09:10:41.996Z"
   },
   {
    "duration": 7,
    "start_time": "2023-09-09T09:10:42.016Z"
   },
   {
    "duration": 21,
    "start_time": "2023-09-09T09:10:42.046Z"
   },
   {
    "duration": 5,
    "start_time": "2023-09-09T09:10:42.071Z"
   },
   {
    "duration": 12,
    "start_time": "2023-09-09T09:10:42.078Z"
   },
   {
    "duration": 11,
    "start_time": "2023-09-09T09:10:42.092Z"
   },
   {
    "duration": 46,
    "start_time": "2023-09-09T09:10:42.105Z"
   },
   {
    "duration": 8,
    "start_time": "2023-09-09T09:10:42.153Z"
   },
   {
    "duration": 5,
    "start_time": "2023-09-09T09:10:42.163Z"
   },
   {
    "duration": 5,
    "start_time": "2023-09-09T09:10:42.170Z"
   },
   {
    "duration": 8,
    "start_time": "2023-09-09T09:10:42.176Z"
   },
   {
    "duration": 5,
    "start_time": "2023-09-09T09:10:42.185Z"
   },
   {
    "duration": 7,
    "start_time": "2023-09-09T09:10:42.192Z"
   },
   {
    "duration": 9,
    "start_time": "2023-09-09T09:10:42.201Z"
   },
   {
    "duration": 42,
    "start_time": "2023-09-09T09:10:42.211Z"
   },
   {
    "duration": 11,
    "start_time": "2023-09-09T09:10:42.255Z"
   },
   {
    "duration": 62,
    "start_time": "2023-09-09T09:10:42.267Z"
   },
   {
    "duration": 41,
    "start_time": "2023-09-09T09:10:42.331Z"
   },
   {
    "duration": 20,
    "start_time": "2023-09-09T09:10:42.374Z"
   },
   {
    "duration": 51,
    "start_time": "2023-09-09T09:10:42.397Z"
   },
   {
    "duration": 14,
    "start_time": "2023-09-09T09:10:42.450Z"
   },
   {
    "duration": 986,
    "start_time": "2023-09-09T09:10:42.469Z"
   },
   {
    "duration": 21,
    "start_time": "2023-09-09T09:10:43.457Z"
   },
   {
    "duration": 34,
    "start_time": "2023-09-09T09:10:43.480Z"
   },
   {
    "duration": 16,
    "start_time": "2023-09-09T09:10:43.515Z"
   },
   {
    "duration": 33,
    "start_time": "2023-09-09T09:10:43.533Z"
   },
   {
    "duration": 547,
    "start_time": "2023-09-09T09:10:43.568Z"
   },
   {
    "duration": 231,
    "start_time": "2023-09-09T09:10:44.118Z"
   },
   {
    "duration": 224,
    "start_time": "2023-09-09T09:10:44.350Z"
   },
   {
    "duration": 27,
    "start_time": "2023-09-09T09:10:44.576Z"
   },
   {
    "duration": 134,
    "start_time": "2023-09-09T09:10:44.604Z"
   },
   {
    "duration": 310,
    "start_time": "2023-09-09T09:10:44.739Z"
   },
   {
    "duration": 25,
    "start_time": "2023-09-09T09:10:45.051Z"
   },
   {
    "duration": 141,
    "start_time": "2023-09-09T09:10:45.077Z"
   },
   {
    "duration": 27,
    "start_time": "2023-09-09T09:10:45.220Z"
   },
   {
    "duration": 106,
    "start_time": "2023-09-09T09:10:45.249Z"
   },
   {
    "duration": 27,
    "start_time": "2023-09-09T09:10:45.357Z"
   },
   {
    "duration": 166,
    "start_time": "2023-09-09T09:10:45.386Z"
   },
   {
    "duration": 38,
    "start_time": "2023-09-09T09:10:45.554Z"
   },
   {
    "duration": 14,
    "start_time": "2023-09-09T09:10:45.594Z"
   },
   {
    "duration": 33,
    "start_time": "2023-09-09T09:10:45.610Z"
   },
   {
    "duration": 8,
    "start_time": "2023-09-09T09:10:45.647Z"
   },
   {
    "duration": 31,
    "start_time": "2023-09-09T09:10:45.657Z"
   },
   {
    "duration": 20,
    "start_time": "2023-09-09T09:10:45.690Z"
   },
   {
    "duration": 19,
    "start_time": "2023-09-09T09:10:45.711Z"
   },
   {
    "duration": 26,
    "start_time": "2023-09-09T09:10:45.731Z"
   },
   {
    "duration": 44,
    "start_time": "2023-09-09T09:10:45.759Z"
   },
   {
    "duration": 17,
    "start_time": "2023-09-09T09:10:45.805Z"
   },
   {
    "duration": 28,
    "start_time": "2023-09-09T09:10:45.824Z"
   },
   {
    "duration": 55,
    "start_time": "2023-09-09T09:10:45.854Z"
   },
   {
    "duration": 49,
    "start_time": "2023-09-09T09:10:45.911Z"
   },
   {
    "duration": 69,
    "start_time": "2023-09-09T09:10:45.961Z"
   },
   {
    "duration": 30,
    "start_time": "2023-09-09T09:10:46.032Z"
   },
   {
    "duration": 40,
    "start_time": "2023-09-09T09:10:46.064Z"
   },
   {
    "duration": 110,
    "start_time": "2023-09-09T09:11:53.457Z"
   },
   {
    "duration": 9,
    "start_time": "2023-09-09T09:12:39.715Z"
   },
   {
    "duration": 3534,
    "start_time": "2023-09-09T09:13:11.863Z"
   },
   {
    "duration": 386,
    "start_time": "2023-09-09T09:13:24.298Z"
   },
   {
    "duration": 61,
    "start_time": "2023-09-09T09:13:35.078Z"
   },
   {
    "duration": 1205,
    "start_time": "2023-09-09T09:14:58.381Z"
   },
   {
    "duration": 79,
    "start_time": "2023-09-09T09:14:59.588Z"
   },
   {
    "duration": 14,
    "start_time": "2023-09-09T09:14:59.669Z"
   },
   {
    "duration": 44,
    "start_time": "2023-09-09T09:14:59.685Z"
   },
   {
    "duration": 23,
    "start_time": "2023-09-09T09:14:59.730Z"
   },
   {
    "duration": 4,
    "start_time": "2023-09-09T09:14:59.755Z"
   },
   {
    "duration": 15,
    "start_time": "2023-09-09T09:14:59.761Z"
   },
   {
    "duration": 4,
    "start_time": "2023-09-09T09:14:59.778Z"
   },
   {
    "duration": 26,
    "start_time": "2023-09-09T09:14:59.784Z"
   },
   {
    "duration": 34,
    "start_time": "2023-09-09T09:14:59.814Z"
   },
   {
    "duration": 12,
    "start_time": "2023-09-09T09:14:59.850Z"
   },
   {
    "duration": 22,
    "start_time": "2023-09-09T09:14:59.864Z"
   },
   {
    "duration": 8,
    "start_time": "2023-09-09T09:14:59.888Z"
   },
   {
    "duration": 6,
    "start_time": "2023-09-09T09:14:59.898Z"
   },
   {
    "duration": 8,
    "start_time": "2023-09-09T09:14:59.906Z"
   },
   {
    "duration": 33,
    "start_time": "2023-09-09T09:14:59.916Z"
   },
   {
    "duration": 6,
    "start_time": "2023-09-09T09:14:59.951Z"
   },
   {
    "duration": 21,
    "start_time": "2023-09-09T09:14:59.959Z"
   },
   {
    "duration": 26,
    "start_time": "2023-09-09T09:14:59.982Z"
   },
   {
    "duration": 42,
    "start_time": "2023-09-09T09:15:00.010Z"
   },
   {
    "duration": 53,
    "start_time": "2023-09-09T09:15:00.054Z"
   },
   {
    "duration": 46,
    "start_time": "2023-09-09T09:15:00.109Z"
   },
   {
    "duration": 62,
    "start_time": "2023-09-09T09:15:00.157Z"
   },
   {
    "duration": 41,
    "start_time": "2023-09-09T09:15:00.221Z"
   },
   {
    "duration": 29,
    "start_time": "2023-09-09T09:15:00.264Z"
   },
   {
    "duration": 95,
    "start_time": "2023-09-09T09:15:00.295Z"
   },
   {
    "duration": 21,
    "start_time": "2023-09-09T09:15:00.392Z"
   },
   {
    "duration": 942,
    "start_time": "2023-09-09T09:15:00.417Z"
   },
   {
    "duration": 20,
    "start_time": "2023-09-09T09:15:01.360Z"
   },
   {
    "duration": 65,
    "start_time": "2023-09-09T09:15:01.381Z"
   },
   {
    "duration": 33,
    "start_time": "2023-09-09T09:15:01.448Z"
   },
   {
    "duration": 51,
    "start_time": "2023-09-09T09:15:01.482Z"
   },
   {
    "duration": 458,
    "start_time": "2023-09-09T09:15:01.534Z"
   },
   {
    "duration": 2497,
    "start_time": "2023-09-09T09:15:01.993Z"
   },
   {
    "duration": 431,
    "start_time": "2023-09-09T09:15:04.493Z"
   },
   {
    "duration": 260,
    "start_time": "2023-09-09T09:15:04.926Z"
   },
   {
    "duration": 314,
    "start_time": "2023-09-09T09:15:05.189Z"
   },
   {
    "duration": 27,
    "start_time": "2023-09-09T09:15:05.505Z"
   },
   {
    "duration": 137,
    "start_time": "2023-09-09T09:15:05.534Z"
   },
   {
    "duration": 251,
    "start_time": "2023-09-09T09:15:05.673Z"
   },
   {
    "duration": 37,
    "start_time": "2023-09-09T09:15:05.926Z"
   },
   {
    "duration": 149,
    "start_time": "2023-09-09T09:15:05.965Z"
   },
   {
    "duration": 39,
    "start_time": "2023-09-09T09:15:06.116Z"
   },
   {
    "duration": 116,
    "start_time": "2023-09-09T09:15:06.157Z"
   },
   {
    "duration": 27,
    "start_time": "2023-09-09T09:15:06.275Z"
   },
   {
    "duration": 148,
    "start_time": "2023-09-09T09:15:06.304Z"
   },
   {
    "duration": 31,
    "start_time": "2023-09-09T09:15:06.454Z"
   },
   {
    "duration": 11,
    "start_time": "2023-09-09T09:15:06.487Z"
   },
   {
    "duration": 10,
    "start_time": "2023-09-09T09:15:06.500Z"
   },
   {
    "duration": 36,
    "start_time": "2023-09-09T09:15:06.511Z"
   },
   {
    "duration": 9,
    "start_time": "2023-09-09T09:15:06.549Z"
   },
   {
    "duration": 30,
    "start_time": "2023-09-09T09:15:06.560Z"
   },
   {
    "duration": 20,
    "start_time": "2023-09-09T09:15:06.592Z"
   },
   {
    "duration": 12,
    "start_time": "2023-09-09T09:15:06.613Z"
   },
   {
    "duration": 9,
    "start_time": "2023-09-09T09:15:06.627Z"
   },
   {
    "duration": 20,
    "start_time": "2023-09-09T09:15:06.638Z"
   },
   {
    "duration": 19,
    "start_time": "2023-09-09T09:15:06.660Z"
   },
   {
    "duration": 29,
    "start_time": "2023-09-09T09:15:06.681Z"
   },
   {
    "duration": 26,
    "start_time": "2023-09-09T09:15:06.712Z"
   },
   {
    "duration": 29,
    "start_time": "2023-09-09T09:15:06.740Z"
   },
   {
    "duration": 24,
    "start_time": "2023-09-09T09:15:06.771Z"
   },
   {
    "duration": 30,
    "start_time": "2023-09-09T09:15:06.797Z"
   },
   {
    "duration": 171,
    "start_time": "2023-09-09T09:16:02.563Z"
   },
   {
    "duration": 14722,
    "start_time": "2023-09-09T09:16:15.259Z"
   },
   {
    "duration": 36560,
    "start_time": "2023-09-09T09:16:37.205Z"
   },
   {
    "duration": 74,
    "start_time": "2023-09-09T09:17:48.677Z"
   },
   {
    "duration": 2355,
    "start_time": "2023-09-09T09:18:01.787Z"
   },
   {
    "duration": 2395,
    "start_time": "2023-09-09T09:18:07.650Z"
   },
   {
    "duration": 1184,
    "start_time": "2023-09-09T09:18:23.275Z"
   },
   {
    "duration": 0,
    "start_time": "2023-09-09T09:19:12.904Z"
   },
   {
    "duration": 1190,
    "start_time": "2023-09-09T09:27:05.897Z"
   },
   {
    "duration": 75,
    "start_time": "2023-09-09T09:27:07.089Z"
   },
   {
    "duration": 12,
    "start_time": "2023-09-09T09:27:07.165Z"
   },
   {
    "duration": 40,
    "start_time": "2023-09-09T09:27:07.179Z"
   },
   {
    "duration": 32,
    "start_time": "2023-09-09T09:27:07.221Z"
   },
   {
    "duration": 5,
    "start_time": "2023-09-09T09:27:07.254Z"
   },
   {
    "duration": 13,
    "start_time": "2023-09-09T09:27:07.260Z"
   },
   {
    "duration": 5,
    "start_time": "2023-09-09T09:27:07.274Z"
   },
   {
    "duration": 21,
    "start_time": "2023-09-09T09:27:07.280Z"
   },
   {
    "duration": 4,
    "start_time": "2023-09-09T09:27:07.302Z"
   },
   {
    "duration": 42,
    "start_time": "2023-09-09T09:27:07.308Z"
   },
   {
    "duration": 10,
    "start_time": "2023-09-09T09:27:07.352Z"
   },
   {
    "duration": 8,
    "start_time": "2023-09-09T09:27:07.363Z"
   },
   {
    "duration": 6,
    "start_time": "2023-09-09T09:27:07.374Z"
   },
   {
    "duration": 5,
    "start_time": "2023-09-09T09:27:07.381Z"
   },
   {
    "duration": 4,
    "start_time": "2023-09-09T09:27:07.388Z"
   },
   {
    "duration": 13,
    "start_time": "2023-09-09T09:27:07.394Z"
   },
   {
    "duration": 41,
    "start_time": "2023-09-09T09:27:07.409Z"
   },
   {
    "duration": 8,
    "start_time": "2023-09-09T09:27:07.452Z"
   },
   {
    "duration": 4,
    "start_time": "2023-09-09T09:27:07.462Z"
   },
   {
    "duration": 10,
    "start_time": "2023-09-09T09:27:07.467Z"
   },
   {
    "duration": 6,
    "start_time": "2023-09-09T09:27:07.478Z"
   },
   {
    "duration": 63,
    "start_time": "2023-09-09T09:27:07.486Z"
   },
   {
    "duration": 39,
    "start_time": "2023-09-09T09:27:07.551Z"
   },
   {
    "duration": 24,
    "start_time": "2023-09-09T09:27:07.593Z"
   },
   {
    "duration": 50,
    "start_time": "2023-09-09T09:27:07.619Z"
   },
   {
    "duration": 13,
    "start_time": "2023-09-09T09:27:07.670Z"
   },
   {
    "duration": 988,
    "start_time": "2023-09-09T09:27:07.684Z"
   },
   {
    "duration": 20,
    "start_time": "2023-09-09T09:27:08.674Z"
   },
   {
    "duration": 15,
    "start_time": "2023-09-09T09:27:08.696Z"
   },
   {
    "duration": 34,
    "start_time": "2023-09-09T09:27:08.712Z"
   },
   {
    "duration": 30,
    "start_time": "2023-09-09T09:27:08.747Z"
   },
   {
    "duration": 524,
    "start_time": "2023-09-09T09:27:08.779Z"
   },
   {
    "duration": 2483,
    "start_time": "2023-09-09T09:27:09.304Z"
   },
   {
    "duration": 2335,
    "start_time": "2023-09-09T09:27:11.789Z"
   },
   {
    "duration": 1196,
    "start_time": "2023-09-09T09:27:14.126Z"
   },
   {
    "duration": 0,
    "start_time": "2023-09-09T09:28:27.346Z"
   },
   {
    "duration": 0,
    "start_time": "2023-09-09T09:28:27.347Z"
   },
   {
    "duration": 0,
    "start_time": "2023-09-09T09:28:27.348Z"
   },
   {
    "duration": 0,
    "start_time": "2023-09-09T09:28:27.349Z"
   },
   {
    "duration": 0,
    "start_time": "2023-09-09T09:28:27.350Z"
   },
   {
    "duration": 0,
    "start_time": "2023-09-09T09:28:27.352Z"
   },
   {
    "duration": 0,
    "start_time": "2023-09-09T09:28:27.353Z"
   },
   {
    "duration": 0,
    "start_time": "2023-09-09T09:28:27.354Z"
   },
   {
    "duration": 0,
    "start_time": "2023-09-09T09:28:27.355Z"
   },
   {
    "duration": 0,
    "start_time": "2023-09-09T09:28:27.356Z"
   },
   {
    "duration": 0,
    "start_time": "2023-09-09T09:28:27.358Z"
   },
   {
    "duration": 0,
    "start_time": "2023-09-09T09:28:27.359Z"
   },
   {
    "duration": 0,
    "start_time": "2023-09-09T09:28:27.360Z"
   },
   {
    "duration": 0,
    "start_time": "2023-09-09T09:28:27.361Z"
   },
   {
    "duration": 0,
    "start_time": "2023-09-09T09:28:27.362Z"
   },
   {
    "duration": 0,
    "start_time": "2023-09-09T09:28:27.364Z"
   },
   {
    "duration": 0,
    "start_time": "2023-09-09T09:28:27.364Z"
   },
   {
    "duration": 0,
    "start_time": "2023-09-09T09:28:27.366Z"
   },
   {
    "duration": 0,
    "start_time": "2023-09-09T09:28:27.367Z"
   },
   {
    "duration": 0,
    "start_time": "2023-09-09T09:28:27.368Z"
   },
   {
    "duration": 0,
    "start_time": "2023-09-09T09:28:27.369Z"
   },
   {
    "duration": 0,
    "start_time": "2023-09-09T09:28:27.371Z"
   },
   {
    "duration": 0,
    "start_time": "2023-09-09T09:28:27.372Z"
   },
   {
    "duration": 0,
    "start_time": "2023-09-09T09:28:27.373Z"
   },
   {
    "duration": 0,
    "start_time": "2023-09-09T09:28:27.374Z"
   },
   {
    "duration": 0,
    "start_time": "2023-09-09T09:28:27.375Z"
   },
   {
    "duration": 0,
    "start_time": "2023-09-09T09:28:27.376Z"
   },
   {
    "duration": 0,
    "start_time": "2023-09-09T09:28:27.379Z"
   },
   {
    "duration": 1284,
    "start_time": "2023-09-09T09:28:59.040Z"
   },
   {
    "duration": 101,
    "start_time": "2023-09-09T09:29:00.326Z"
   },
   {
    "duration": 13,
    "start_time": "2023-09-09T09:29:00.428Z"
   },
   {
    "duration": 74,
    "start_time": "2023-09-09T09:29:00.443Z"
   },
   {
    "duration": 14,
    "start_time": "2023-09-09T09:29:00.518Z"
   },
   {
    "duration": 21,
    "start_time": "2023-09-09T09:29:00.534Z"
   },
   {
    "duration": 40,
    "start_time": "2023-09-09T09:29:00.557Z"
   },
   {
    "duration": 41,
    "start_time": "2023-09-09T09:29:00.599Z"
   },
   {
    "duration": 57,
    "start_time": "2023-09-09T09:29:00.642Z"
   },
   {
    "duration": 23,
    "start_time": "2023-09-09T09:29:00.702Z"
   },
   {
    "duration": 41,
    "start_time": "2023-09-09T09:29:00.726Z"
   },
   {
    "duration": 40,
    "start_time": "2023-09-09T09:29:00.769Z"
   },
   {
    "duration": 89,
    "start_time": "2023-09-09T09:29:00.810Z"
   },
   {
    "duration": 56,
    "start_time": "2023-09-09T09:29:00.900Z"
   },
   {
    "duration": 41,
    "start_time": "2023-09-09T09:29:00.958Z"
   },
   {
    "duration": 57,
    "start_time": "2023-09-09T09:29:01.000Z"
   },
   {
    "duration": 19,
    "start_time": "2023-09-09T09:29:01.059Z"
   },
   {
    "duration": 60,
    "start_time": "2023-09-09T09:29:01.080Z"
   },
   {
    "duration": 49,
    "start_time": "2023-09-09T09:29:01.142Z"
   },
   {
    "duration": 26,
    "start_time": "2023-09-09T09:29:01.193Z"
   },
   {
    "duration": 36,
    "start_time": "2023-09-09T09:29:01.221Z"
   },
   {
    "duration": 25,
    "start_time": "2023-09-09T09:29:01.259Z"
   },
   {
    "duration": 69,
    "start_time": "2023-09-09T09:29:01.285Z"
   },
   {
    "duration": 75,
    "start_time": "2023-09-09T09:29:01.356Z"
   },
   {
    "duration": 24,
    "start_time": "2023-09-09T09:29:01.433Z"
   },
   {
    "duration": 44,
    "start_time": "2023-09-09T09:29:01.459Z"
   },
   {
    "duration": 104,
    "start_time": "2023-09-09T09:29:01.505Z"
   },
   {
    "duration": 1000,
    "start_time": "2023-09-09T09:29:01.614Z"
   },
   {
    "duration": 21,
    "start_time": "2023-09-09T09:29:02.615Z"
   },
   {
    "duration": 95,
    "start_time": "2023-09-09T09:29:02.638Z"
   },
   {
    "duration": 16,
    "start_time": "2023-09-09T09:29:02.735Z"
   },
   {
    "duration": 28,
    "start_time": "2023-09-09T09:29:02.753Z"
   },
   {
    "duration": 490,
    "start_time": "2023-09-09T09:29:02.782Z"
   },
   {
    "duration": 2537,
    "start_time": "2023-09-09T09:29:03.274Z"
   },
   {
    "duration": 1274,
    "start_time": "2023-09-09T09:29:31.755Z"
   },
   {
    "duration": 84,
    "start_time": "2023-09-09T09:29:33.031Z"
   },
   {
    "duration": 14,
    "start_time": "2023-09-09T09:29:33.117Z"
   },
   {
    "duration": 40,
    "start_time": "2023-09-09T09:29:33.133Z"
   },
   {
    "duration": 14,
    "start_time": "2023-09-09T09:29:33.175Z"
   },
   {
    "duration": 4,
    "start_time": "2023-09-09T09:29:33.190Z"
   },
   {
    "duration": 17,
    "start_time": "2023-09-09T09:29:33.195Z"
   },
   {
    "duration": 5,
    "start_time": "2023-09-09T09:29:33.214Z"
   },
   {
    "duration": 40,
    "start_time": "2023-09-09T09:29:33.221Z"
   },
   {
    "duration": 6,
    "start_time": "2023-09-09T09:29:33.263Z"
   },
   {
    "duration": 10,
    "start_time": "2023-09-09T09:29:33.270Z"
   },
   {
    "duration": 9,
    "start_time": "2023-09-09T09:29:33.282Z"
   },
   {
    "duration": 15,
    "start_time": "2023-09-09T09:29:33.293Z"
   },
   {
    "duration": 5,
    "start_time": "2023-09-09T09:29:33.311Z"
   },
   {
    "duration": 6,
    "start_time": "2023-09-09T09:29:33.347Z"
   },
   {
    "duration": 6,
    "start_time": "2023-09-09T09:29:33.355Z"
   },
   {
    "duration": 18,
    "start_time": "2023-09-09T09:29:33.363Z"
   },
   {
    "duration": 9,
    "start_time": "2023-09-09T09:29:33.383Z"
   },
   {
    "duration": 11,
    "start_time": "2023-09-09T09:29:33.393Z"
   },
   {
    "duration": 7,
    "start_time": "2023-09-09T09:29:33.406Z"
   },
   {
    "duration": 9,
    "start_time": "2023-09-09T09:29:33.415Z"
   },
   {
    "duration": 7,
    "start_time": "2023-09-09T09:29:33.447Z"
   },
   {
    "duration": 42,
    "start_time": "2023-09-09T09:29:33.455Z"
   },
   {
    "duration": 53,
    "start_time": "2023-09-09T09:29:33.499Z"
   },
   {
    "duration": 20,
    "start_time": "2023-09-09T09:29:33.554Z"
   },
   {
    "duration": 46,
    "start_time": "2023-09-09T09:29:33.576Z"
   },
   {
    "duration": 27,
    "start_time": "2023-09-09T09:29:33.623Z"
   },
   {
    "duration": 953,
    "start_time": "2023-09-09T09:29:33.652Z"
   },
   {
    "duration": 21,
    "start_time": "2023-09-09T09:29:34.606Z"
   },
   {
    "duration": 55,
    "start_time": "2023-09-09T09:29:34.629Z"
   },
   {
    "duration": 22,
    "start_time": "2023-09-09T09:29:34.685Z"
   },
   {
    "duration": 40,
    "start_time": "2023-09-09T09:29:34.709Z"
   },
   {
    "duration": 459,
    "start_time": "2023-09-09T09:29:34.750Z"
   },
   {
    "duration": 264,
    "start_time": "2023-09-09T09:29:35.211Z"
   },
   {
    "duration": 235,
    "start_time": "2023-09-09T09:29:35.476Z"
   },
   {
    "duration": 37,
    "start_time": "2023-09-09T09:29:35.713Z"
   },
   {
    "duration": 129,
    "start_time": "2023-09-09T09:29:35.752Z"
   },
   {
    "duration": 325,
    "start_time": "2023-09-09T09:29:35.883Z"
   },
   {
    "duration": 26,
    "start_time": "2023-09-09T09:29:36.210Z"
   },
   {
    "duration": 133,
    "start_time": "2023-09-09T09:29:36.246Z"
   },
   {
    "duration": 26,
    "start_time": "2023-09-09T09:29:36.382Z"
   },
   {
    "duration": 126,
    "start_time": "2023-09-09T09:29:36.409Z"
   },
   {
    "duration": 38,
    "start_time": "2023-09-09T09:29:36.536Z"
   },
   {
    "duration": 143,
    "start_time": "2023-09-09T09:29:36.576Z"
   },
   {
    "duration": 37,
    "start_time": "2023-09-09T09:29:36.721Z"
   },
   {
    "duration": 10,
    "start_time": "2023-09-09T09:29:36.760Z"
   },
   {
    "duration": 9,
    "start_time": "2023-09-09T09:29:36.772Z"
   },
   {
    "duration": 24,
    "start_time": "2023-09-09T09:29:36.783Z"
   },
   {
    "duration": 10,
    "start_time": "2023-09-09T09:29:36.809Z"
   },
   {
    "duration": 12,
    "start_time": "2023-09-09T09:29:36.821Z"
   },
   {
    "duration": 14,
    "start_time": "2023-09-09T09:29:36.835Z"
   },
   {
    "duration": 9,
    "start_time": "2023-09-09T09:29:36.851Z"
   },
   {
    "duration": 8,
    "start_time": "2023-09-09T09:29:36.861Z"
   },
   {
    "duration": 9,
    "start_time": "2023-09-09T09:29:36.871Z"
   },
   {
    "duration": 8,
    "start_time": "2023-09-09T09:29:36.881Z"
   },
   {
    "duration": 77,
    "start_time": "2023-09-09T09:29:36.891Z"
   },
   {
    "duration": 28,
    "start_time": "2023-09-09T09:29:36.969Z"
   },
   {
    "duration": 48,
    "start_time": "2023-09-09T09:29:36.999Z"
   },
   {
    "duration": 27,
    "start_time": "2023-09-09T09:29:37.049Z"
   },
   {
    "duration": 35,
    "start_time": "2023-09-09T09:29:37.078Z"
   },
   {
    "duration": 1357,
    "start_time": "2023-09-09T10:12:45.125Z"
   },
   {
    "duration": 112,
    "start_time": "2023-09-09T10:12:46.484Z"
   },
   {
    "duration": 15,
    "start_time": "2023-09-09T10:12:46.598Z"
   },
   {
    "duration": 51,
    "start_time": "2023-09-09T10:12:46.615Z"
   },
   {
    "duration": 13,
    "start_time": "2023-09-09T10:12:46.668Z"
   },
   {
    "duration": 15,
    "start_time": "2023-09-09T10:12:46.682Z"
   },
   {
    "duration": 39,
    "start_time": "2023-09-09T10:12:46.698Z"
   },
   {
    "duration": 4,
    "start_time": "2023-09-09T10:12:46.739Z"
   },
   {
    "duration": 33,
    "start_time": "2023-09-09T10:12:46.745Z"
   },
   {
    "duration": 5,
    "start_time": "2023-09-09T10:12:46.780Z"
   },
   {
    "duration": 15,
    "start_time": "2023-09-09T10:12:46.787Z"
   },
   {
    "duration": 88,
    "start_time": "2023-09-09T10:12:46.803Z"
   },
   {
    "duration": 141,
    "start_time": "2023-09-09T10:12:46.893Z"
   },
   {
    "duration": 12,
    "start_time": "2023-09-09T10:12:47.035Z"
   },
   {
    "duration": 15,
    "start_time": "2023-09-09T10:12:47.048Z"
   },
   {
    "duration": 9,
    "start_time": "2023-09-09T10:12:47.065Z"
   },
   {
    "duration": 6,
    "start_time": "2023-09-09T10:12:47.075Z"
   },
   {
    "duration": 9,
    "start_time": "2023-09-09T10:12:47.083Z"
   },
   {
    "duration": 13,
    "start_time": "2023-09-09T10:12:47.093Z"
   },
   {
    "duration": 9,
    "start_time": "2023-09-09T10:12:47.107Z"
   },
   {
    "duration": 29,
    "start_time": "2023-09-09T10:12:47.118Z"
   },
   {
    "duration": 6,
    "start_time": "2023-09-09T10:12:47.149Z"
   },
   {
    "duration": 40,
    "start_time": "2023-09-09T10:12:47.157Z"
   },
   {
    "duration": 59,
    "start_time": "2023-09-09T10:12:47.199Z"
   },
   {
    "duration": 22,
    "start_time": "2023-09-09T10:12:47.260Z"
   },
   {
    "duration": 45,
    "start_time": "2023-09-09T10:12:47.284Z"
   },
   {
    "duration": 22,
    "start_time": "2023-09-09T10:12:47.330Z"
   },
   {
    "duration": 934,
    "start_time": "2023-09-09T10:12:47.356Z"
   },
   {
    "duration": 19,
    "start_time": "2023-09-09T10:12:48.292Z"
   },
   {
    "duration": 15,
    "start_time": "2023-09-09T10:12:48.313Z"
   },
   {
    "duration": 29,
    "start_time": "2023-09-09T10:12:48.329Z"
   },
   {
    "duration": 28,
    "start_time": "2023-09-09T10:12:48.360Z"
   },
   {
    "duration": 504,
    "start_time": "2023-09-09T10:12:48.389Z"
   },
   {
    "duration": 240,
    "start_time": "2023-09-09T10:12:48.896Z"
   },
   {
    "duration": 220,
    "start_time": "2023-09-09T10:12:49.138Z"
   },
   {
    "duration": 26,
    "start_time": "2023-09-09T10:12:49.360Z"
   },
   {
    "duration": 132,
    "start_time": "2023-09-09T10:12:49.387Z"
   },
   {
    "duration": 304,
    "start_time": "2023-09-09T10:12:49.520Z"
   },
   {
    "duration": 39,
    "start_time": "2023-09-09T10:12:49.825Z"
   },
   {
    "duration": 120,
    "start_time": "2023-09-09T10:12:49.865Z"
   },
   {
    "duration": 25,
    "start_time": "2023-09-09T10:12:49.987Z"
   },
   {
    "duration": 123,
    "start_time": "2023-09-09T10:12:50.014Z"
   },
   {
    "duration": 31,
    "start_time": "2023-09-09T10:12:50.139Z"
   },
   {
    "duration": 164,
    "start_time": "2023-09-09T10:12:50.172Z"
   },
   {
    "duration": 41,
    "start_time": "2023-09-09T10:12:50.337Z"
   },
   {
    "duration": 14,
    "start_time": "2023-09-09T10:12:50.381Z"
   },
   {
    "duration": 14,
    "start_time": "2023-09-09T10:12:50.396Z"
   },
   {
    "duration": 10,
    "start_time": "2023-09-09T10:12:50.412Z"
   },
   {
    "duration": 27,
    "start_time": "2023-09-09T10:12:50.423Z"
   },
   {
    "duration": 10,
    "start_time": "2023-09-09T10:12:50.452Z"
   },
   {
    "duration": 8,
    "start_time": "2023-09-09T10:12:50.463Z"
   },
   {
    "duration": 8,
    "start_time": "2023-09-09T10:12:50.472Z"
   },
   {
    "duration": 10,
    "start_time": "2023-09-09T10:12:50.482Z"
   },
   {
    "duration": 13,
    "start_time": "2023-09-09T10:12:50.493Z"
   },
   {
    "duration": 39,
    "start_time": "2023-09-09T10:12:50.508Z"
   },
   {
    "duration": 28,
    "start_time": "2023-09-09T10:12:50.549Z"
   },
   {
    "duration": 55,
    "start_time": "2023-09-09T10:12:50.578Z"
   },
   {
    "duration": 27,
    "start_time": "2023-09-09T10:12:50.635Z"
   },
   {
    "duration": 25,
    "start_time": "2023-09-09T10:12:50.663Z"
   },
   {
    "duration": 26,
    "start_time": "2023-09-09T10:12:50.690Z"
   },
   {
    "duration": 245,
    "start_time": "2023-09-09T10:13:10.593Z"
   },
   {
    "duration": 227,
    "start_time": "2023-09-09T10:13:16.215Z"
   },
   {
    "duration": 243,
    "start_time": "2023-09-09T10:13:28.910Z"
   },
   {
    "duration": 252,
    "start_time": "2023-09-09T10:13:43.109Z"
   },
   {
    "duration": 248,
    "start_time": "2023-09-09T10:14:13.296Z"
   },
   {
    "duration": 209,
    "start_time": "2023-09-09T10:15:54.444Z"
   },
   {
    "duration": 205,
    "start_time": "2023-09-09T10:16:44.232Z"
   },
   {
    "duration": 20,
    "start_time": "2023-09-09T10:18:39.202Z"
   },
   {
    "duration": 269,
    "start_time": "2023-09-09T10:19:05.153Z"
   },
   {
    "duration": 51,
    "start_time": "2023-09-09T10:19:27.827Z"
   },
   {
    "duration": 84,
    "start_time": "2023-09-09T10:21:29.765Z"
   },
   {
    "duration": 24,
    "start_time": "2023-09-09T10:21:39.702Z"
   },
   {
    "duration": 16,
    "start_time": "2023-09-09T10:22:10.719Z"
   },
   {
    "duration": 12,
    "start_time": "2023-09-09T10:24:50.660Z"
   },
   {
    "duration": 12,
    "start_time": "2023-09-09T10:25:48.091Z"
   },
   {
    "duration": 10,
    "start_time": "2023-09-09T10:26:52.217Z"
   },
   {
    "duration": 11,
    "start_time": "2023-09-09T10:27:04.588Z"
   },
   {
    "duration": 256,
    "start_time": "2023-09-09T10:27:57.470Z"
   },
   {
    "duration": 13,
    "start_time": "2023-09-09T10:28:06.156Z"
   },
   {
    "duration": 20,
    "start_time": "2023-09-09T10:28:17.838Z"
   },
   {
    "duration": 19,
    "start_time": "2023-09-09T10:28:25.786Z"
   },
   {
    "duration": 19,
    "start_time": "2023-09-09T10:28:57.250Z"
   },
   {
    "duration": 12,
    "start_time": "2023-09-09T10:29:08.359Z"
   },
   {
    "duration": 104,
    "start_time": "2023-09-09T10:29:21.466Z"
   },
   {
    "duration": 269,
    "start_time": "2023-09-09T10:30:55.015Z"
   },
   {
    "duration": 193,
    "start_time": "2023-09-09T10:31:01.626Z"
   },
   {
    "duration": 10,
    "start_time": "2023-09-09T10:34:48.400Z"
   },
   {
    "duration": 197,
    "start_time": "2023-09-09T10:35:41.052Z"
   },
   {
    "duration": 159,
    "start_time": "2023-09-09T10:35:46.553Z"
   },
   {
    "duration": 254,
    "start_time": "2023-09-09T10:36:56.935Z"
   },
   {
    "duration": 213,
    "start_time": "2023-09-09T10:37:07.465Z"
   },
   {
    "duration": 220,
    "start_time": "2023-09-09T10:37:15.017Z"
   },
   {
    "duration": 195,
    "start_time": "2023-09-09T10:37:21.422Z"
   },
   {
    "duration": 207,
    "start_time": "2023-09-09T10:37:41.304Z"
   },
   {
    "duration": 210,
    "start_time": "2023-09-09T10:37:46.308Z"
   },
   {
    "duration": 200,
    "start_time": "2023-09-09T10:38:53.417Z"
   },
   {
    "duration": 214,
    "start_time": "2023-09-09T10:39:17.349Z"
   },
   {
    "duration": 303,
    "start_time": "2023-09-09T10:39:27.503Z"
   },
   {
    "duration": 13,
    "start_time": "2023-09-09T10:43:25.798Z"
   },
   {
    "duration": 180,
    "start_time": "2023-09-09T10:43:32.795Z"
   },
   {
    "duration": 293,
    "start_time": "2023-09-09T10:43:42.919Z"
   },
   {
    "duration": 414,
    "start_time": "2023-09-09T10:44:46.973Z"
   },
   {
    "duration": 406,
    "start_time": "2023-09-09T10:45:03.587Z"
   },
   {
    "duration": 370,
    "start_time": "2023-09-09T10:46:22.932Z"
   },
   {
    "duration": 437,
    "start_time": "2023-09-09T10:46:51.298Z"
   },
   {
    "duration": 449,
    "start_time": "2023-09-09T10:47:02.304Z"
   },
   {
    "duration": 151,
    "start_time": "2023-09-09T10:56:09.996Z"
   },
   {
    "duration": 237,
    "start_time": "2023-09-09T10:56:17.345Z"
   },
   {
    "duration": 1285,
    "start_time": "2023-09-09T11:49:19.768Z"
   },
   {
    "duration": 143,
    "start_time": "2023-09-09T11:49:21.055Z"
   },
   {
    "duration": 13,
    "start_time": "2023-09-09T11:49:21.200Z"
   },
   {
    "duration": 46,
    "start_time": "2023-09-09T11:49:21.215Z"
   },
   {
    "duration": 14,
    "start_time": "2023-09-09T11:49:21.262Z"
   },
   {
    "duration": 5,
    "start_time": "2023-09-09T11:49:21.278Z"
   },
   {
    "duration": 15,
    "start_time": "2023-09-09T11:49:21.285Z"
   },
   {
    "duration": 6,
    "start_time": "2023-09-09T11:49:21.301Z"
   },
   {
    "duration": 55,
    "start_time": "2023-09-09T11:49:21.308Z"
   },
   {
    "duration": 9,
    "start_time": "2023-09-09T11:49:21.365Z"
   },
   {
    "duration": 22,
    "start_time": "2023-09-09T11:49:21.376Z"
   },
   {
    "duration": 12,
    "start_time": "2023-09-09T11:49:21.400Z"
   },
   {
    "duration": 36,
    "start_time": "2023-09-09T11:49:21.414Z"
   },
   {
    "duration": 11,
    "start_time": "2023-09-09T11:49:21.452Z"
   },
   {
    "duration": 6,
    "start_time": "2023-09-09T11:49:21.466Z"
   },
   {
    "duration": 5,
    "start_time": "2023-09-09T11:49:21.475Z"
   },
   {
    "duration": 5,
    "start_time": "2023-09-09T11:49:21.481Z"
   },
   {
    "duration": 5,
    "start_time": "2023-09-09T11:49:21.487Z"
   },
   {
    "duration": 54,
    "start_time": "2023-09-09T11:49:21.493Z"
   },
   {
    "duration": 4,
    "start_time": "2023-09-09T11:49:21.548Z"
   },
   {
    "duration": 8,
    "start_time": "2023-09-09T11:49:21.554Z"
   },
   {
    "duration": 6,
    "start_time": "2023-09-09T11:49:21.564Z"
   },
   {
    "duration": 38,
    "start_time": "2023-09-09T11:49:21.571Z"
   },
   {
    "duration": 73,
    "start_time": "2023-09-09T11:49:21.610Z"
   },
   {
    "duration": 18,
    "start_time": "2023-09-09T11:49:21.685Z"
   },
   {
    "duration": 61,
    "start_time": "2023-09-09T11:49:21.705Z"
   },
   {
    "duration": 12,
    "start_time": "2023-09-09T11:49:21.768Z"
   },
   {
    "duration": 970,
    "start_time": "2023-09-09T11:49:21.784Z"
   },
   {
    "duration": 20,
    "start_time": "2023-09-09T11:49:22.756Z"
   },
   {
    "duration": 15,
    "start_time": "2023-09-09T11:49:22.778Z"
   },
   {
    "duration": 12,
    "start_time": "2023-09-09T11:49:22.795Z"
   },
   {
    "duration": 62,
    "start_time": "2023-09-09T11:49:22.808Z"
   },
   {
    "duration": 452,
    "start_time": "2023-09-09T11:49:22.872Z"
   },
   {
    "duration": 477,
    "start_time": "2023-09-09T11:49:23.326Z"
   },
   {
    "duration": 230,
    "start_time": "2023-09-09T11:49:23.805Z"
   },
   {
    "duration": 32,
    "start_time": "2023-09-09T11:49:24.037Z"
   },
   {
    "duration": 140,
    "start_time": "2023-09-09T11:49:24.070Z"
   },
   {
    "duration": 315,
    "start_time": "2023-09-09T11:49:24.212Z"
   },
   {
    "duration": 31,
    "start_time": "2023-09-09T11:49:24.529Z"
   },
   {
    "duration": 127,
    "start_time": "2023-09-09T11:49:24.562Z"
   },
   {
    "duration": 25,
    "start_time": "2023-09-09T11:49:24.691Z"
   },
   {
    "duration": 130,
    "start_time": "2023-09-09T11:49:24.717Z"
   },
   {
    "duration": 25,
    "start_time": "2023-09-09T11:49:24.849Z"
   },
   {
    "duration": 241,
    "start_time": "2023-09-09T11:49:24.876Z"
   },
   {
    "duration": 43,
    "start_time": "2023-09-09T11:49:25.118Z"
   },
   {
    "duration": 15,
    "start_time": "2023-09-09T11:49:25.163Z"
   },
   {
    "duration": 12,
    "start_time": "2023-09-09T11:49:25.181Z"
   },
   {
    "duration": 11,
    "start_time": "2023-09-09T11:49:25.196Z"
   },
   {
    "duration": 49,
    "start_time": "2023-09-09T11:49:25.210Z"
   },
   {
    "duration": 12,
    "start_time": "2023-09-09T11:49:25.261Z"
   },
   {
    "duration": 10,
    "start_time": "2023-09-09T11:49:25.275Z"
   },
   {
    "duration": 26,
    "start_time": "2023-09-09T11:49:25.288Z"
   },
   {
    "duration": 34,
    "start_time": "2023-09-09T11:49:25.316Z"
   },
   {
    "duration": 18,
    "start_time": "2023-09-09T11:49:25.353Z"
   },
   {
    "duration": 13,
    "start_time": "2023-09-09T11:49:25.374Z"
   },
   {
    "duration": 40,
    "start_time": "2023-09-09T11:49:25.389Z"
   },
   {
    "duration": 26,
    "start_time": "2023-09-09T11:49:25.447Z"
   },
   {
    "duration": 27,
    "start_time": "2023-09-09T11:49:25.475Z"
   },
   {
    "duration": 55,
    "start_time": "2023-09-09T11:49:25.503Z"
   },
   {
    "duration": 28,
    "start_time": "2023-09-09T11:49:25.560Z"
   },
   {
    "duration": 27,
    "start_time": "2023-09-09T11:54:48.639Z"
   },
   {
    "duration": 28,
    "start_time": "2023-09-09T11:55:09.529Z"
   },
   {
    "duration": 21,
    "start_time": "2023-09-09T11:55:19.487Z"
   },
   {
    "duration": 11,
    "start_time": "2023-09-09T11:55:31.684Z"
   },
   {
    "duration": 12,
    "start_time": "2023-09-09T11:55:37.415Z"
   },
   {
    "duration": 11,
    "start_time": "2023-09-09T11:57:20.287Z"
   },
   {
    "duration": 13,
    "start_time": "2023-09-09T11:57:28.355Z"
   },
   {
    "duration": 23,
    "start_time": "2023-09-09T11:57:49.907Z"
   },
   {
    "duration": 125,
    "start_time": "2023-09-09T11:58:06.991Z"
   },
   {
    "duration": 10,
    "start_time": "2023-09-09T11:59:04.028Z"
   },
   {
    "duration": 10,
    "start_time": "2023-09-09T11:59:09.639Z"
   },
   {
    "duration": 11,
    "start_time": "2023-09-09T11:59:29.761Z"
   },
   {
    "duration": 7,
    "start_time": "2023-09-09T11:59:37.317Z"
   },
   {
    "duration": 4,
    "start_time": "2023-09-09T11:59:43.714Z"
   },
   {
    "duration": 5,
    "start_time": "2023-09-09T12:01:00.985Z"
   },
   {
    "duration": 7,
    "start_time": "2023-09-09T12:01:22.720Z"
   },
   {
    "duration": 5,
    "start_time": "2023-09-09T12:01:23.238Z"
   },
   {
    "duration": 6,
    "start_time": "2023-09-09T12:01:56.178Z"
   },
   {
    "duration": 4,
    "start_time": "2023-09-09T12:02:53.321Z"
   },
   {
    "duration": 4,
    "start_time": "2023-09-09T12:03:01.586Z"
   },
   {
    "duration": 6,
    "start_time": "2023-09-09T12:03:10.205Z"
   },
   {
    "duration": 5,
    "start_time": "2023-09-09T12:03:46.216Z"
   },
   {
    "duration": 9,
    "start_time": "2023-09-09T12:03:59.111Z"
   },
   {
    "duration": 10,
    "start_time": "2023-09-09T12:04:18.719Z"
   },
   {
    "duration": 14,
    "start_time": "2023-09-09T12:09:52.231Z"
   },
   {
    "duration": 11,
    "start_time": "2023-09-09T12:10:33.486Z"
   },
   {
    "duration": 10,
    "start_time": "2023-09-09T12:11:40.645Z"
   },
   {
    "duration": 16,
    "start_time": "2023-09-09T12:11:52.549Z"
   },
   {
    "duration": 15,
    "start_time": "2023-09-09T12:12:14.653Z"
   },
   {
    "duration": 11,
    "start_time": "2023-09-09T12:12:39.526Z"
   },
   {
    "duration": 11,
    "start_time": "2023-09-09T12:13:00.771Z"
   },
   {
    "duration": 10,
    "start_time": "2023-09-09T12:13:24.111Z"
   },
   {
    "duration": 13,
    "start_time": "2023-09-09T12:13:32.173Z"
   },
   {
    "duration": 10,
    "start_time": "2023-09-09T12:13:38.478Z"
   },
   {
    "duration": 12,
    "start_time": "2023-09-09T12:13:47.503Z"
   },
   {
    "duration": 9,
    "start_time": "2023-09-09T12:14:08.561Z"
   },
   {
    "duration": 9,
    "start_time": "2023-09-09T12:14:15.216Z"
   },
   {
    "duration": 9,
    "start_time": "2023-09-09T12:14:19.614Z"
   },
   {
    "duration": 10,
    "start_time": "2023-09-09T12:14:38.486Z"
   },
   {
    "duration": 10,
    "start_time": "2023-09-09T12:15:02.893Z"
   },
   {
    "duration": 11,
    "start_time": "2023-09-09T12:17:07.165Z"
   },
   {
    "duration": 10,
    "start_time": "2023-09-09T12:17:07.806Z"
   },
   {
    "duration": 9,
    "start_time": "2023-09-09T12:28:03.759Z"
   },
   {
    "duration": 9,
    "start_time": "2023-09-09T12:28:15.045Z"
   },
   {
    "duration": 10,
    "start_time": "2023-09-09T12:28:27.526Z"
   },
   {
    "duration": 9,
    "start_time": "2023-09-09T12:28:57.285Z"
   },
   {
    "duration": 10,
    "start_time": "2023-09-09T12:29:16.361Z"
   },
   {
    "duration": 11,
    "start_time": "2023-09-09T12:29:18.366Z"
   },
   {
    "duration": 10,
    "start_time": "2023-09-09T12:29:22.240Z"
   },
   {
    "duration": 10,
    "start_time": "2023-09-09T12:29:37.751Z"
   },
   {
    "duration": 10,
    "start_time": "2023-09-09T12:30:16.957Z"
   },
   {
    "duration": 9,
    "start_time": "2023-09-09T12:30:42.781Z"
   },
   {
    "duration": 10,
    "start_time": "2023-09-09T12:30:52.507Z"
   },
   {
    "duration": 12,
    "start_time": "2023-09-09T12:31:03.243Z"
   },
   {
    "duration": 12,
    "start_time": "2023-09-09T12:31:12.341Z"
   },
   {
    "duration": 10,
    "start_time": "2023-09-09T12:31:20.025Z"
   },
   {
    "duration": 9,
    "start_time": "2023-09-09T12:32:10.644Z"
   },
   {
    "duration": 10,
    "start_time": "2023-09-09T12:32:20.246Z"
   },
   {
    "duration": 10,
    "start_time": "2023-09-09T12:32:32.416Z"
   },
   {
    "duration": 6,
    "start_time": "2023-09-09T12:32:40.199Z"
   },
   {
    "duration": 9,
    "start_time": "2023-09-09T12:32:50.992Z"
   },
   {
    "duration": 10,
    "start_time": "2023-09-09T12:43:52.561Z"
   },
   {
    "duration": 9,
    "start_time": "2023-09-09T12:44:04.177Z"
   },
   {
    "duration": 9,
    "start_time": "2023-09-09T12:44:34.561Z"
   },
   {
    "duration": 9,
    "start_time": "2023-09-09T12:44:56.719Z"
   },
   {
    "duration": 9,
    "start_time": "2023-09-09T12:45:12.204Z"
   },
   {
    "duration": 10,
    "start_time": "2023-09-09T12:45:18.257Z"
   },
   {
    "duration": 10,
    "start_time": "2023-09-09T12:45:30.619Z"
   },
   {
    "duration": 45,
    "start_time": "2023-09-09T12:45:56.928Z"
   },
   {
    "duration": 11,
    "start_time": "2023-09-09T12:46:03.687Z"
   },
   {
    "duration": 10,
    "start_time": "2023-09-09T12:46:29.798Z"
   },
   {
    "duration": 11,
    "start_time": "2023-09-09T12:47:02.954Z"
   },
   {
    "duration": 10,
    "start_time": "2023-09-09T12:47:11.143Z"
   },
   {
    "duration": 40,
    "start_time": "2023-09-09T12:47:18.993Z"
   },
   {
    "duration": 10,
    "start_time": "2023-09-09T12:47:43.019Z"
   },
   {
    "duration": 9,
    "start_time": "2023-09-09T12:47:51.006Z"
   },
   {
    "duration": 12,
    "start_time": "2023-09-09T12:48:41.909Z"
   },
   {
    "duration": 11,
    "start_time": "2023-09-09T12:49:24.266Z"
   },
   {
    "duration": 10,
    "start_time": "2023-09-09T12:49:44.065Z"
   },
   {
    "duration": 10,
    "start_time": "2023-09-09T12:49:56.371Z"
   },
   {
    "duration": 10,
    "start_time": "2023-09-09T12:50:27.420Z"
   },
   {
    "duration": 10,
    "start_time": "2023-09-09T12:50:37.140Z"
   },
   {
    "duration": 11,
    "start_time": "2023-09-09T12:50:41.502Z"
   },
   {
    "duration": 10,
    "start_time": "2023-09-09T12:50:53.698Z"
   },
   {
    "duration": 14,
    "start_time": "2023-09-09T12:51:10.703Z"
   },
   {
    "duration": 10,
    "start_time": "2023-09-09T12:51:21.801Z"
   },
   {
    "duration": 10,
    "start_time": "2023-09-09T12:51:33.335Z"
   },
   {
    "duration": 10,
    "start_time": "2023-09-09T12:51:49.918Z"
   },
   {
    "duration": 10,
    "start_time": "2023-09-09T12:51:56.564Z"
   },
   {
    "duration": 10,
    "start_time": "2023-09-09T12:52:00.007Z"
   },
   {
    "duration": 11,
    "start_time": "2023-09-09T12:52:28.133Z"
   },
   {
    "duration": 14,
    "start_time": "2023-09-09T12:53:41.150Z"
   },
   {
    "duration": 13,
    "start_time": "2023-09-09T12:54:56.991Z"
   },
   {
    "duration": 11,
    "start_time": "2023-09-09T12:55:01.292Z"
   },
   {
    "duration": 10,
    "start_time": "2023-09-09T12:57:06.225Z"
   },
   {
    "duration": 13,
    "start_time": "2023-09-09T12:57:24.615Z"
   },
   {
    "duration": 14,
    "start_time": "2023-09-09T12:57:42.176Z"
   },
   {
    "duration": 13,
    "start_time": "2023-09-09T12:58:09.336Z"
   },
   {
    "duration": 13,
    "start_time": "2023-09-09T12:58:37.976Z"
   },
   {
    "duration": 12,
    "start_time": "2023-09-09T12:58:43.487Z"
   },
   {
    "duration": 12,
    "start_time": "2023-09-09T12:58:58.968Z"
   },
   {
    "duration": 10,
    "start_time": "2023-09-09T12:59:08.852Z"
   },
   {
    "duration": 12,
    "start_time": "2023-09-09T12:59:28.602Z"
   },
   {
    "duration": 13,
    "start_time": "2023-09-09T12:59:38.719Z"
   },
   {
    "duration": 13,
    "start_time": "2023-09-09T13:00:00.068Z"
   },
   {
    "duration": 13,
    "start_time": "2023-09-09T13:00:10.444Z"
   },
   {
    "duration": 10,
    "start_time": "2023-09-09T13:00:16.547Z"
   },
   {
    "duration": 14,
    "start_time": "2023-09-09T13:01:28.838Z"
   },
   {
    "duration": 12,
    "start_time": "2023-09-09T13:01:33.397Z"
   },
   {
    "duration": 11,
    "start_time": "2023-09-09T13:01:45.849Z"
   },
   {
    "duration": 13,
    "start_time": "2023-09-09T13:01:50.200Z"
   },
   {
    "duration": 15,
    "start_time": "2023-09-09T13:01:56.970Z"
   },
   {
    "duration": 11,
    "start_time": "2023-09-09T13:02:01.349Z"
   },
   {
    "duration": 11,
    "start_time": "2023-09-09T13:02:23.057Z"
   },
   {
    "duration": 11,
    "start_time": "2023-09-09T13:02:47.846Z"
   },
   {
    "duration": 14,
    "start_time": "2023-09-09T13:02:52.046Z"
   },
   {
    "duration": 10,
    "start_time": "2023-09-09T13:03:21.730Z"
   },
   {
    "duration": 11,
    "start_time": "2023-09-09T13:04:03.572Z"
   },
   {
    "duration": 11,
    "start_time": "2023-09-09T13:05:17.695Z"
   },
   {
    "duration": 11,
    "start_time": "2023-09-09T13:05:53.054Z"
   },
   {
    "duration": 15,
    "start_time": "2023-09-09T13:05:59.486Z"
   },
   {
    "duration": 11,
    "start_time": "2023-09-09T13:09:24.799Z"
   },
   {
    "duration": 11,
    "start_time": "2023-09-09T13:09:37.852Z"
   },
   {
    "duration": 13,
    "start_time": "2023-09-09T13:09:55.333Z"
   },
   {
    "duration": 9,
    "start_time": "2023-09-09T13:13:20.212Z"
   },
   {
    "duration": 10,
    "start_time": "2023-09-09T13:15:31.224Z"
   },
   {
    "duration": 10,
    "start_time": "2023-09-09T13:15:51.732Z"
   },
   {
    "duration": 1289,
    "start_time": "2023-09-09T13:16:31.310Z"
   },
   {
    "duration": 134,
    "start_time": "2023-09-09T13:16:32.601Z"
   },
   {
    "duration": 13,
    "start_time": "2023-09-09T13:16:32.737Z"
   },
   {
    "duration": 41,
    "start_time": "2023-09-09T13:16:32.752Z"
   },
   {
    "duration": 13,
    "start_time": "2023-09-09T13:16:32.794Z"
   },
   {
    "duration": 4,
    "start_time": "2023-09-09T13:16:32.809Z"
   },
   {
    "duration": 39,
    "start_time": "2023-09-09T13:16:32.814Z"
   },
   {
    "duration": 4,
    "start_time": "2023-09-09T13:16:32.855Z"
   },
   {
    "duration": 21,
    "start_time": "2023-09-09T13:16:32.861Z"
   },
   {
    "duration": 5,
    "start_time": "2023-09-09T13:16:32.885Z"
   },
   {
    "duration": 17,
    "start_time": "2023-09-09T13:16:32.891Z"
   },
   {
    "duration": 43,
    "start_time": "2023-09-09T13:16:32.909Z"
   },
   {
    "duration": 10,
    "start_time": "2023-09-09T13:16:32.954Z"
   },
   {
    "duration": 5,
    "start_time": "2023-09-09T13:16:32.966Z"
   },
   {
    "duration": 7,
    "start_time": "2023-09-09T13:16:32.973Z"
   },
   {
    "duration": 6,
    "start_time": "2023-09-09T13:16:32.981Z"
   },
   {
    "duration": 14,
    "start_time": "2023-09-09T13:16:32.989Z"
   },
   {
    "duration": 45,
    "start_time": "2023-09-09T13:16:33.004Z"
   },
   {
    "duration": 9,
    "start_time": "2023-09-09T13:16:33.051Z"
   },
   {
    "duration": 3,
    "start_time": "2023-09-09T13:16:33.062Z"
   },
   {
    "duration": 8,
    "start_time": "2023-09-09T13:16:33.067Z"
   },
   {
    "duration": 5,
    "start_time": "2023-09-09T13:16:33.077Z"
   },
   {
    "duration": 76,
    "start_time": "2023-09-09T13:16:33.084Z"
   },
   {
    "duration": 41,
    "start_time": "2023-09-09T13:16:33.162Z"
   },
   {
    "duration": 42,
    "start_time": "2023-09-09T13:16:33.205Z"
   },
   {
    "duration": 33,
    "start_time": "2023-09-09T13:16:33.249Z"
   },
   {
    "duration": 12,
    "start_time": "2023-09-09T13:16:33.283Z"
   },
   {
    "duration": 981,
    "start_time": "2023-09-09T13:16:33.299Z"
   },
   {
    "duration": 22,
    "start_time": "2023-09-09T13:16:34.282Z"
   },
   {
    "duration": 38,
    "start_time": "2023-09-09T13:16:34.305Z"
   },
   {
    "duration": 21,
    "start_time": "2023-09-09T13:16:34.344Z"
   },
   {
    "duration": 55,
    "start_time": "2023-09-09T13:16:34.367Z"
   },
   {
    "duration": 475,
    "start_time": "2023-09-09T13:16:34.424Z"
   },
   {
    "duration": 465,
    "start_time": "2023-09-09T13:16:34.900Z"
   },
   {
    "duration": 236,
    "start_time": "2023-09-09T13:16:35.367Z"
   },
   {
    "duration": 27,
    "start_time": "2023-09-09T13:16:35.605Z"
   },
   {
    "duration": 138,
    "start_time": "2023-09-09T13:16:35.633Z"
   },
   {
    "duration": 309,
    "start_time": "2023-09-09T13:16:35.772Z"
   },
   {
    "duration": 31,
    "start_time": "2023-09-09T13:16:36.083Z"
   },
   {
    "duration": 143,
    "start_time": "2023-09-09T13:16:36.116Z"
   },
   {
    "duration": 25,
    "start_time": "2023-09-09T13:16:36.261Z"
   },
   {
    "duration": 123,
    "start_time": "2023-09-09T13:16:36.288Z"
   },
   {
    "duration": 238,
    "start_time": "2023-09-09T13:16:36.412Z"
   },
   {
    "duration": 34,
    "start_time": "2023-09-09T13:16:36.652Z"
   },
   {
    "duration": 9,
    "start_time": "2023-09-09T13:16:36.687Z"
   },
   {
    "duration": 13,
    "start_time": "2023-09-09T13:16:36.697Z"
   },
   {
    "duration": 43,
    "start_time": "2023-09-09T13:16:36.711Z"
   },
   {
    "duration": 12,
    "start_time": "2023-09-09T13:16:36.756Z"
   },
   {
    "duration": 14,
    "start_time": "2023-09-09T13:16:36.769Z"
   },
   {
    "duration": 12,
    "start_time": "2023-09-09T13:16:36.785Z"
   },
   {
    "duration": 10,
    "start_time": "2023-09-09T13:16:36.799Z"
   },
   {
    "duration": 46,
    "start_time": "2023-09-09T13:16:36.810Z"
   },
   {
    "duration": 27,
    "start_time": "2023-09-09T13:16:36.858Z"
   },
   {
    "duration": 9,
    "start_time": "2023-09-09T13:16:36.887Z"
   },
   {
    "duration": 25,
    "start_time": "2023-09-09T13:16:36.898Z"
   },
   {
    "duration": 9,
    "start_time": "2023-09-09T13:16:36.924Z"
   },
   {
    "duration": 10,
    "start_time": "2023-09-09T13:16:36.947Z"
   },
   {
    "duration": 9,
    "start_time": "2023-09-09T13:16:36.959Z"
   },
   {
    "duration": 31,
    "start_time": "2023-09-09T13:16:36.970Z"
   },
   {
    "duration": 72,
    "start_time": "2023-09-09T13:16:37.003Z"
   },
   {
    "duration": 31,
    "start_time": "2023-09-09T13:16:37.077Z"
   },
   {
    "duration": 57,
    "start_time": "2023-09-09T13:16:37.110Z"
   },
   {
    "duration": 28,
    "start_time": "2023-09-09T13:16:37.169Z"
   },
   {
    "duration": 1216,
    "start_time": "2023-09-09T13:17:35.090Z"
   },
   {
    "duration": 85,
    "start_time": "2023-09-09T13:17:36.308Z"
   },
   {
    "duration": 12,
    "start_time": "2023-09-09T13:17:36.395Z"
   },
   {
    "duration": 58,
    "start_time": "2023-09-09T13:17:36.409Z"
   },
   {
    "duration": 13,
    "start_time": "2023-09-09T13:17:36.469Z"
   },
   {
    "duration": 5,
    "start_time": "2023-09-09T13:17:36.484Z"
   },
   {
    "duration": 18,
    "start_time": "2023-09-09T13:17:36.490Z"
   },
   {
    "duration": 5,
    "start_time": "2023-09-09T13:17:36.509Z"
   },
   {
    "duration": 50,
    "start_time": "2023-09-09T13:17:36.515Z"
   },
   {
    "duration": 5,
    "start_time": "2023-09-09T13:17:36.568Z"
   },
   {
    "duration": 19,
    "start_time": "2023-09-09T13:17:36.574Z"
   },
   {
    "duration": 11,
    "start_time": "2023-09-09T13:17:36.594Z"
   },
   {
    "duration": 16,
    "start_time": "2023-09-09T13:17:36.607Z"
   },
   {
    "duration": 5,
    "start_time": "2023-09-09T13:17:36.647Z"
   },
   {
    "duration": 6,
    "start_time": "2023-09-09T13:17:36.653Z"
   },
   {
    "duration": 5,
    "start_time": "2023-09-09T13:17:36.660Z"
   },
   {
    "duration": 5,
    "start_time": "2023-09-09T13:17:36.666Z"
   },
   {
    "duration": 8,
    "start_time": "2023-09-09T13:17:36.673Z"
   },
   {
    "duration": 23,
    "start_time": "2023-09-09T13:17:36.683Z"
   },
   {
    "duration": 4,
    "start_time": "2023-09-09T13:17:36.707Z"
   },
   {
    "duration": 41,
    "start_time": "2023-09-09T13:17:36.712Z"
   },
   {
    "duration": 9,
    "start_time": "2023-09-09T13:17:36.755Z"
   },
   {
    "duration": 65,
    "start_time": "2023-09-09T13:17:36.765Z"
   },
   {
    "duration": 43,
    "start_time": "2023-09-09T13:17:36.832Z"
   },
   {
    "duration": 18,
    "start_time": "2023-09-09T13:17:36.876Z"
   },
   {
    "duration": 31,
    "start_time": "2023-09-09T13:17:36.896Z"
   },
   {
    "duration": 13,
    "start_time": "2023-09-09T13:17:36.946Z"
   },
   {
    "duration": 992,
    "start_time": "2023-09-09T13:17:36.963Z"
   },
   {
    "duration": 22,
    "start_time": "2023-09-09T13:17:37.958Z"
   },
   {
    "duration": 21,
    "start_time": "2023-09-09T13:17:37.982Z"
   },
   {
    "duration": 16,
    "start_time": "2023-09-09T13:17:38.005Z"
   },
   {
    "duration": 55,
    "start_time": "2023-09-09T13:17:38.023Z"
   },
   {
    "duration": 497,
    "start_time": "2023-09-09T13:17:38.080Z"
   },
   {
    "duration": 436,
    "start_time": "2023-09-09T13:17:38.579Z"
   },
   {
    "duration": 235,
    "start_time": "2023-09-09T13:17:39.017Z"
   },
   {
    "duration": 27,
    "start_time": "2023-09-09T13:17:39.254Z"
   },
   {
    "duration": 134,
    "start_time": "2023-09-09T13:17:39.283Z"
   },
   {
    "duration": 327,
    "start_time": "2023-09-09T13:17:39.419Z"
   },
   {
    "duration": 25,
    "start_time": "2023-09-09T13:17:39.748Z"
   },
   {
    "duration": 135,
    "start_time": "2023-09-09T13:17:39.775Z"
   },
   {
    "duration": 36,
    "start_time": "2023-09-09T13:17:39.911Z"
   },
   {
    "duration": 110,
    "start_time": "2023-09-09T13:17:39.949Z"
   },
   {
    "duration": 238,
    "start_time": "2023-09-09T13:17:40.061Z"
   },
   {
    "duration": 51,
    "start_time": "2023-09-09T13:17:40.300Z"
   },
   {
    "duration": 11,
    "start_time": "2023-09-09T13:17:40.352Z"
   },
   {
    "duration": 27,
    "start_time": "2023-09-09T13:17:40.365Z"
   },
   {
    "duration": 17,
    "start_time": "2023-09-09T13:17:40.395Z"
   },
   {
    "duration": 16,
    "start_time": "2023-09-09T13:17:40.413Z"
   },
   {
    "duration": 17,
    "start_time": "2023-09-09T13:17:40.447Z"
   },
   {
    "duration": 12,
    "start_time": "2023-09-09T13:17:40.465Z"
   },
   {
    "duration": 17,
    "start_time": "2023-09-09T13:17:40.479Z"
   },
   {
    "duration": 10,
    "start_time": "2023-09-09T13:17:40.498Z"
   },
   {
    "duration": 37,
    "start_time": "2023-09-09T13:17:40.510Z"
   },
   {
    "duration": 9,
    "start_time": "2023-09-09T13:17:40.549Z"
   },
   {
    "duration": 18,
    "start_time": "2023-09-09T13:17:40.559Z"
   },
   {
    "duration": 10,
    "start_time": "2023-09-09T13:17:40.579Z"
   },
   {
    "duration": 29,
    "start_time": "2023-09-09T13:17:40.590Z"
   },
   {
    "duration": 18,
    "start_time": "2023-09-09T13:17:40.621Z"
   },
   {
    "duration": 38,
    "start_time": "2023-09-09T13:17:40.641Z"
   },
   {
    "duration": 29,
    "start_time": "2023-09-09T13:17:40.681Z"
   },
   {
    "duration": 56,
    "start_time": "2023-09-09T13:17:40.712Z"
   },
   {
    "duration": 27,
    "start_time": "2023-09-09T13:17:40.770Z"
   },
   {
    "duration": 55,
    "start_time": "2023-09-09T13:17:40.799Z"
   },
   {
    "duration": 1189,
    "start_time": "2023-09-09T13:18:47.609Z"
   },
   {
    "duration": 78,
    "start_time": "2023-09-09T13:18:48.799Z"
   },
   {
    "duration": 14,
    "start_time": "2023-09-09T13:18:48.880Z"
   },
   {
    "duration": 63,
    "start_time": "2023-09-09T13:18:48.897Z"
   },
   {
    "duration": 15,
    "start_time": "2023-09-09T13:18:48.962Z"
   },
   {
    "duration": 5,
    "start_time": "2023-09-09T13:18:48.979Z"
   },
   {
    "duration": 29,
    "start_time": "2023-09-09T13:18:48.986Z"
   },
   {
    "duration": 17,
    "start_time": "2023-09-09T13:18:49.017Z"
   },
   {
    "duration": 22,
    "start_time": "2023-09-09T13:18:49.047Z"
   },
   {
    "duration": 14,
    "start_time": "2023-09-09T13:18:49.072Z"
   },
   {
    "duration": 12,
    "start_time": "2023-09-09T13:18:49.088Z"
   },
   {
    "duration": 46,
    "start_time": "2023-09-09T13:18:49.102Z"
   },
   {
    "duration": 8,
    "start_time": "2023-09-09T13:18:49.150Z"
   },
   {
    "duration": 6,
    "start_time": "2023-09-09T13:18:49.160Z"
   },
   {
    "duration": 8,
    "start_time": "2023-09-09T13:18:49.168Z"
   },
   {
    "duration": 8,
    "start_time": "2023-09-09T13:18:49.178Z"
   },
   {
    "duration": 5,
    "start_time": "2023-09-09T13:18:49.187Z"
   },
   {
    "duration": 55,
    "start_time": "2023-09-09T13:18:49.194Z"
   },
   {
    "duration": 9,
    "start_time": "2023-09-09T13:18:49.251Z"
   },
   {
    "duration": 19,
    "start_time": "2023-09-09T13:18:49.261Z"
   },
   {
    "duration": 13,
    "start_time": "2023-09-09T13:18:49.282Z"
   },
   {
    "duration": 6,
    "start_time": "2023-09-09T13:18:49.297Z"
   },
   {
    "duration": 62,
    "start_time": "2023-09-09T13:18:49.304Z"
   },
   {
    "duration": 39,
    "start_time": "2023-09-09T13:18:49.368Z"
   },
   {
    "duration": 18,
    "start_time": "2023-09-09T13:18:49.409Z"
   },
   {
    "duration": 31,
    "start_time": "2023-09-09T13:18:49.446Z"
   },
   {
    "duration": 12,
    "start_time": "2023-09-09T13:18:49.479Z"
   },
   {
    "duration": 982,
    "start_time": "2023-09-09T13:18:49.495Z"
   },
   {
    "duration": 22,
    "start_time": "2023-09-09T13:18:50.479Z"
   },
   {
    "duration": 21,
    "start_time": "2023-09-09T13:18:50.502Z"
   },
   {
    "duration": 43,
    "start_time": "2023-09-09T13:18:50.525Z"
   },
   {
    "duration": 47,
    "start_time": "2023-09-09T13:18:50.570Z"
   },
   {
    "duration": 477,
    "start_time": "2023-09-09T13:18:50.619Z"
   },
   {
    "duration": 440,
    "start_time": "2023-09-09T13:18:51.098Z"
   },
   {
    "duration": 231,
    "start_time": "2023-09-09T13:18:51.539Z"
   },
   {
    "duration": 26,
    "start_time": "2023-09-09T13:18:51.771Z"
   },
   {
    "duration": 134,
    "start_time": "2023-09-09T13:18:51.798Z"
   },
   {
    "duration": 322,
    "start_time": "2023-09-09T13:18:51.934Z"
   },
   {
    "duration": 26,
    "start_time": "2023-09-09T13:18:52.258Z"
   },
   {
    "duration": 138,
    "start_time": "2023-09-09T13:18:52.285Z"
   },
   {
    "duration": 31,
    "start_time": "2023-09-09T13:18:52.425Z"
   },
   {
    "duration": 119,
    "start_time": "2023-09-09T13:18:52.457Z"
   },
   {
    "duration": 234,
    "start_time": "2023-09-09T13:18:52.577Z"
   },
   {
    "duration": 43,
    "start_time": "2023-09-09T13:18:52.813Z"
   },
   {
    "duration": 9,
    "start_time": "2023-09-09T13:18:52.858Z"
   },
   {
    "duration": 19,
    "start_time": "2023-09-09T13:18:52.868Z"
   },
   {
    "duration": 18,
    "start_time": "2023-09-09T13:18:52.889Z"
   },
   {
    "duration": 10,
    "start_time": "2023-09-09T13:18:52.909Z"
   },
   {
    "duration": 31,
    "start_time": "2023-09-09T13:18:52.921Z"
   },
   {
    "duration": 11,
    "start_time": "2023-09-09T13:18:52.953Z"
   },
   {
    "duration": 8,
    "start_time": "2023-09-09T13:18:52.966Z"
   },
   {
    "duration": 10,
    "start_time": "2023-09-09T13:18:52.976Z"
   },
   {
    "duration": 11,
    "start_time": "2023-09-09T13:18:52.988Z"
   },
   {
    "duration": 47,
    "start_time": "2023-09-09T13:18:53.000Z"
   },
   {
    "duration": 8,
    "start_time": "2023-09-09T13:18:53.049Z"
   },
   {
    "duration": 7,
    "start_time": "2023-09-09T13:18:53.058Z"
   },
   {
    "duration": 10,
    "start_time": "2023-09-09T13:18:53.067Z"
   },
   {
    "duration": 11,
    "start_time": "2023-09-09T13:18:53.078Z"
   },
   {
    "duration": 65,
    "start_time": "2023-09-09T13:18:53.090Z"
   },
   {
    "duration": 27,
    "start_time": "2023-09-09T13:18:53.157Z"
   },
   {
    "duration": 62,
    "start_time": "2023-09-09T13:18:53.186Z"
   },
   {
    "duration": 27,
    "start_time": "2023-09-09T13:18:53.250Z"
   },
   {
    "duration": 28,
    "start_time": "2023-09-09T13:18:53.279Z"
   },
   {
    "duration": 10,
    "start_time": "2023-09-09T13:22:33.381Z"
   },
   {
    "duration": 10,
    "start_time": "2023-09-09T13:24:43.746Z"
   },
   {
    "duration": 9,
    "start_time": "2023-09-09T13:25:27.210Z"
   },
   {
    "duration": 12,
    "start_time": "2023-09-09T13:26:57.497Z"
   },
   {
    "duration": 10,
    "start_time": "2023-09-09T13:27:32.752Z"
   },
   {
    "duration": 79,
    "start_time": "2023-09-09T13:33:43.060Z"
   },
   {
    "duration": 10,
    "start_time": "2023-09-09T13:33:51.396Z"
   },
   {
    "duration": 10,
    "start_time": "2023-09-09T13:38:25.120Z"
   },
   {
    "duration": 11,
    "start_time": "2023-09-09T13:39:36.495Z"
   },
   {
    "duration": 10,
    "start_time": "2023-09-09T13:39:43.463Z"
   },
   {
    "duration": 12,
    "start_time": "2023-09-09T13:39:53.655Z"
   },
   {
    "duration": 11,
    "start_time": "2023-09-09T13:39:56.551Z"
   },
   {
    "duration": 11,
    "start_time": "2023-09-09T13:40:02.612Z"
   },
   {
    "duration": 1290,
    "start_time": "2023-09-09T13:40:17.310Z"
   },
   {
    "duration": 79,
    "start_time": "2023-09-09T13:40:18.602Z"
   },
   {
    "duration": 14,
    "start_time": "2023-09-09T13:40:18.682Z"
   },
   {
    "duration": 66,
    "start_time": "2023-09-09T13:40:18.697Z"
   },
   {
    "duration": 14,
    "start_time": "2023-09-09T13:40:18.765Z"
   },
   {
    "duration": 6,
    "start_time": "2023-09-09T13:40:18.781Z"
   },
   {
    "duration": 25,
    "start_time": "2023-09-09T13:40:18.789Z"
   },
   {
    "duration": 36,
    "start_time": "2023-09-09T13:40:18.816Z"
   },
   {
    "duration": 28,
    "start_time": "2023-09-09T13:40:18.854Z"
   },
   {
    "duration": 6,
    "start_time": "2023-09-09T13:40:18.884Z"
   },
   {
    "duration": 22,
    "start_time": "2023-09-09T13:40:18.891Z"
   },
   {
    "duration": 52,
    "start_time": "2023-09-09T13:40:18.915Z"
   },
   {
    "duration": 6,
    "start_time": "2023-09-09T13:40:18.969Z"
   },
   {
    "duration": 10,
    "start_time": "2023-09-09T13:40:18.978Z"
   },
   {
    "duration": 15,
    "start_time": "2023-09-09T13:40:18.990Z"
   },
   {
    "duration": 7,
    "start_time": "2023-09-09T13:40:19.006Z"
   },
   {
    "duration": 33,
    "start_time": "2023-09-09T13:40:19.015Z"
   },
   {
    "duration": 6,
    "start_time": "2023-09-09T13:40:19.050Z"
   },
   {
    "duration": 9,
    "start_time": "2023-09-09T13:40:19.058Z"
   },
   {
    "duration": 5,
    "start_time": "2023-09-09T13:40:19.069Z"
   },
   {
    "duration": 13,
    "start_time": "2023-09-09T13:40:19.076Z"
   },
   {
    "duration": 56,
    "start_time": "2023-09-09T13:40:19.091Z"
   },
   {
    "duration": 41,
    "start_time": "2023-09-09T13:40:19.149Z"
   },
   {
    "duration": 61,
    "start_time": "2023-09-09T13:40:19.193Z"
   },
   {
    "duration": 29,
    "start_time": "2023-09-09T13:40:19.256Z"
   },
   {
    "duration": 32,
    "start_time": "2023-09-09T13:40:19.287Z"
   },
   {
    "duration": 14,
    "start_time": "2023-09-09T13:40:19.346Z"
   },
   {
    "duration": 967,
    "start_time": "2023-09-09T13:40:19.362Z"
   },
   {
    "duration": 30,
    "start_time": "2023-09-09T13:40:20.332Z"
   },
   {
    "duration": 23,
    "start_time": "2023-09-09T13:40:20.364Z"
   },
   {
    "duration": 16,
    "start_time": "2023-09-09T13:40:20.389Z"
   },
   {
    "duration": 57,
    "start_time": "2023-09-09T13:40:20.408Z"
   },
   {
    "duration": 467,
    "start_time": "2023-09-09T13:40:20.467Z"
   },
   {
    "duration": 457,
    "start_time": "2023-09-09T13:40:20.936Z"
   },
   {
    "duration": 246,
    "start_time": "2023-09-09T13:40:21.395Z"
   },
   {
    "duration": 30,
    "start_time": "2023-09-09T13:40:21.643Z"
   },
   {
    "duration": 141,
    "start_time": "2023-09-09T13:40:21.674Z"
   },
   {
    "duration": 323,
    "start_time": "2023-09-09T13:40:21.817Z"
   },
   {
    "duration": 34,
    "start_time": "2023-09-09T13:40:22.153Z"
   },
   {
    "duration": 137,
    "start_time": "2023-09-09T13:40:22.189Z"
   },
   {
    "duration": 32,
    "start_time": "2023-09-09T13:40:22.330Z"
   },
   {
    "duration": 134,
    "start_time": "2023-09-09T13:40:22.364Z"
   },
   {
    "duration": 237,
    "start_time": "2023-09-09T13:40:22.499Z"
   },
   {
    "duration": 38,
    "start_time": "2023-09-09T13:40:22.738Z"
   },
   {
    "duration": 11,
    "start_time": "2023-09-09T13:40:22.779Z"
   },
   {
    "duration": 12,
    "start_time": "2023-09-09T13:40:22.793Z"
   },
   {
    "duration": 12,
    "start_time": "2023-09-09T13:40:22.847Z"
   },
   {
    "duration": 12,
    "start_time": "2023-09-09T13:40:22.862Z"
   },
   {
    "duration": 11,
    "start_time": "2023-09-09T13:40:22.876Z"
   },
   {
    "duration": 10,
    "start_time": "2023-09-09T13:40:22.888Z"
   },
   {
    "duration": 12,
    "start_time": "2023-09-09T13:40:22.947Z"
   },
   {
    "duration": 10,
    "start_time": "2023-09-09T13:40:22.961Z"
   },
   {
    "duration": 20,
    "start_time": "2023-09-09T13:40:22.972Z"
   },
   {
    "duration": 8,
    "start_time": "2023-09-09T13:40:22.993Z"
   },
   {
    "duration": 52,
    "start_time": "2023-09-09T13:40:23.003Z"
   },
   {
    "duration": 12,
    "start_time": "2023-09-09T13:40:23.057Z"
   },
   {
    "duration": 14,
    "start_time": "2023-09-09T13:40:23.072Z"
   },
   {
    "duration": 10,
    "start_time": "2023-09-09T13:40:23.088Z"
   },
   {
    "duration": 49,
    "start_time": "2023-09-09T13:40:23.100Z"
   },
   {
    "duration": 10,
    "start_time": "2023-09-09T13:40:23.151Z"
   },
   {
    "duration": 21,
    "start_time": "2023-09-09T13:40:23.163Z"
   },
   {
    "duration": 1212,
    "start_time": "2023-09-09T13:46:32.373Z"
   },
   {
    "duration": 86,
    "start_time": "2023-09-09T13:46:33.587Z"
   },
   {
    "duration": 15,
    "start_time": "2023-09-09T13:46:33.675Z"
   },
   {
    "duration": 71,
    "start_time": "2023-09-09T13:46:33.692Z"
   },
   {
    "duration": 15,
    "start_time": "2023-09-09T13:46:33.766Z"
   },
   {
    "duration": 4,
    "start_time": "2023-09-09T13:46:33.783Z"
   },
   {
    "duration": 23,
    "start_time": "2023-09-09T13:46:33.789Z"
   },
   {
    "duration": 6,
    "start_time": "2023-09-09T13:46:33.814Z"
   },
   {
    "duration": 24,
    "start_time": "2023-09-09T13:46:33.848Z"
   },
   {
    "duration": 17,
    "start_time": "2023-09-09T13:46:33.876Z"
   },
   {
    "duration": 28,
    "start_time": "2023-09-09T13:46:33.895Z"
   },
   {
    "duration": 26,
    "start_time": "2023-09-09T13:46:33.925Z"
   },
   {
    "duration": 34,
    "start_time": "2023-09-09T13:46:33.953Z"
   },
   {
    "duration": 12,
    "start_time": "2023-09-09T13:46:33.989Z"
   },
   {
    "duration": 29,
    "start_time": "2023-09-09T13:46:34.003Z"
   },
   {
    "duration": 21,
    "start_time": "2023-09-09T13:46:34.034Z"
   },
   {
    "duration": 18,
    "start_time": "2023-09-09T13:46:34.057Z"
   },
   {
    "duration": 18,
    "start_time": "2023-09-09T13:46:34.077Z"
   },
   {
    "duration": 22,
    "start_time": "2023-09-09T13:46:34.097Z"
   },
   {
    "duration": 15,
    "start_time": "2023-09-09T13:46:34.122Z"
   },
   {
    "duration": 19,
    "start_time": "2023-09-09T13:46:34.139Z"
   },
   {
    "duration": 23,
    "start_time": "2023-09-09T13:46:34.160Z"
   },
   {
    "duration": 63,
    "start_time": "2023-09-09T13:46:34.185Z"
   },
   {
    "duration": 40,
    "start_time": "2023-09-09T13:46:34.249Z"
   },
   {
    "duration": 20,
    "start_time": "2023-09-09T13:46:34.290Z"
   },
   {
    "duration": 65,
    "start_time": "2023-09-09T13:46:34.311Z"
   },
   {
    "duration": 39,
    "start_time": "2023-09-09T13:46:34.378Z"
   },
   {
    "duration": 986,
    "start_time": "2023-09-09T13:46:34.421Z"
   },
   {
    "duration": 21,
    "start_time": "2023-09-09T13:46:35.409Z"
   },
   {
    "duration": 23,
    "start_time": "2023-09-09T13:46:35.432Z"
   },
   {
    "duration": 13,
    "start_time": "2023-09-09T13:46:35.457Z"
   },
   {
    "duration": 47,
    "start_time": "2023-09-09T13:46:35.473Z"
   },
   {
    "duration": 516,
    "start_time": "2023-09-09T13:46:35.522Z"
   },
   {
    "duration": 466,
    "start_time": "2023-09-09T13:46:36.040Z"
   },
   {
    "duration": 237,
    "start_time": "2023-09-09T13:46:36.508Z"
   },
   {
    "duration": 29,
    "start_time": "2023-09-09T13:46:36.747Z"
   },
   {
    "duration": 139,
    "start_time": "2023-09-09T13:46:36.778Z"
   },
   {
    "duration": 304,
    "start_time": "2023-09-09T13:46:36.919Z"
   },
   {
    "duration": 33,
    "start_time": "2023-09-09T13:46:37.225Z"
   },
   {
    "duration": 128,
    "start_time": "2023-09-09T13:46:37.261Z"
   },
   {
    "duration": 24,
    "start_time": "2023-09-09T13:46:37.391Z"
   },
   {
    "duration": 123,
    "start_time": "2023-09-09T13:46:37.417Z"
   },
   {
    "duration": 234,
    "start_time": "2023-09-09T13:46:37.547Z"
   },
   {
    "duration": 33,
    "start_time": "2023-09-09T13:46:37.784Z"
   },
   {
    "duration": 34,
    "start_time": "2023-09-09T13:46:37.819Z"
   },
   {
    "duration": 16,
    "start_time": "2023-09-09T13:46:37.856Z"
   },
   {
    "duration": 24,
    "start_time": "2023-09-09T13:46:37.874Z"
   },
   {
    "duration": 15,
    "start_time": "2023-09-09T13:46:37.900Z"
   },
   {
    "duration": 12,
    "start_time": "2023-09-09T13:46:37.917Z"
   },
   {
    "duration": 23,
    "start_time": "2023-09-09T13:46:37.931Z"
   },
   {
    "duration": 18,
    "start_time": "2023-09-09T13:46:37.956Z"
   },
   {
    "duration": 13,
    "start_time": "2023-09-09T13:46:37.977Z"
   },
   {
    "duration": 8,
    "start_time": "2023-09-09T13:46:37.991Z"
   },
   {
    "duration": 11,
    "start_time": "2023-09-09T13:46:38.001Z"
   },
   {
    "duration": 37,
    "start_time": "2023-09-09T13:46:38.014Z"
   },
   {
    "duration": 8,
    "start_time": "2023-09-09T13:46:38.052Z"
   },
   {
    "duration": 15,
    "start_time": "2023-09-09T13:46:38.062Z"
   },
   {
    "duration": 10,
    "start_time": "2023-09-09T13:46:38.078Z"
   },
   {
    "duration": 22,
    "start_time": "2023-09-09T13:46:38.089Z"
   },
   {
    "duration": 36,
    "start_time": "2023-09-09T13:46:38.113Z"
   },
   {
    "duration": 10,
    "start_time": "2023-09-09T13:46:38.151Z"
   },
   {
    "duration": 10,
    "start_time": "2023-09-09T14:22:37.419Z"
   },
   {
    "duration": 1263,
    "start_time": "2023-09-09T14:22:43.518Z"
   },
   {
    "duration": 138,
    "start_time": "2023-09-09T14:22:44.783Z"
   },
   {
    "duration": 13,
    "start_time": "2023-09-09T14:22:44.923Z"
   },
   {
    "duration": 39,
    "start_time": "2023-09-09T14:22:44.938Z"
   },
   {
    "duration": 15,
    "start_time": "2023-09-09T14:22:44.979Z"
   },
   {
    "duration": 64,
    "start_time": "2023-09-09T14:22:44.996Z"
   },
   {
    "duration": 39,
    "start_time": "2023-09-09T14:22:45.062Z"
   },
   {
    "duration": 8,
    "start_time": "2023-09-09T14:22:45.103Z"
   },
   {
    "duration": 26,
    "start_time": "2023-09-09T14:22:45.113Z"
   },
   {
    "duration": 5,
    "start_time": "2023-09-09T14:22:45.142Z"
   },
   {
    "duration": 17,
    "start_time": "2023-09-09T14:22:45.149Z"
   },
   {
    "duration": 16,
    "start_time": "2023-09-09T14:22:45.168Z"
   },
   {
    "duration": 12,
    "start_time": "2023-09-09T14:22:45.186Z"
   },
   {
    "duration": 7,
    "start_time": "2023-09-09T14:22:45.201Z"
   },
   {
    "duration": 16,
    "start_time": "2023-09-09T14:22:45.210Z"
   },
   {
    "duration": 10,
    "start_time": "2023-09-09T14:22:45.228Z"
   },
   {
    "duration": 6,
    "start_time": "2023-09-09T14:22:45.247Z"
   },
   {
    "duration": 6,
    "start_time": "2023-09-09T14:22:45.255Z"
   },
   {
    "duration": 10,
    "start_time": "2023-09-09T14:22:45.263Z"
   },
   {
    "duration": 7,
    "start_time": "2023-09-09T14:22:45.275Z"
   },
   {
    "duration": 13,
    "start_time": "2023-09-09T14:22:45.284Z"
   },
   {
    "duration": 21,
    "start_time": "2023-09-09T14:22:45.299Z"
   },
   {
    "duration": 81,
    "start_time": "2023-09-09T14:22:45.322Z"
   },
   {
    "duration": 61,
    "start_time": "2023-09-09T14:22:45.405Z"
   },
   {
    "duration": 23,
    "start_time": "2023-09-09T14:22:45.468Z"
   },
   {
    "duration": 44,
    "start_time": "2023-09-09T14:22:45.493Z"
   },
   {
    "duration": 14,
    "start_time": "2023-09-09T14:22:45.547Z"
   },
   {
    "duration": 969,
    "start_time": "2023-09-09T14:22:45.564Z"
   },
   {
    "duration": 24,
    "start_time": "2023-09-09T14:22:46.535Z"
   },
   {
    "duration": 27,
    "start_time": "2023-09-09T14:22:46.561Z"
   },
   {
    "duration": 16,
    "start_time": "2023-09-09T14:22:46.590Z"
   },
   {
    "duration": 28,
    "start_time": "2023-09-09T14:22:46.608Z"
   },
   {
    "duration": 460,
    "start_time": "2023-09-09T14:22:46.638Z"
   },
   {
    "duration": 442,
    "start_time": "2023-09-09T14:22:47.099Z"
   },
   {
    "duration": 227,
    "start_time": "2023-09-09T14:22:47.547Z"
   },
   {
    "duration": 27,
    "start_time": "2023-09-09T14:22:47.776Z"
   },
   {
    "duration": 131,
    "start_time": "2023-09-09T14:22:47.805Z"
   },
   {
    "duration": 332,
    "start_time": "2023-09-09T14:22:47.938Z"
   },
   {
    "duration": 25,
    "start_time": "2023-09-09T14:22:48.271Z"
   },
   {
    "duration": 167,
    "start_time": "2023-09-09T14:22:48.298Z"
   },
   {
    "duration": 25,
    "start_time": "2023-09-09T14:22:48.467Z"
   },
   {
    "duration": 113,
    "start_time": "2023-09-09T14:22:48.494Z"
   },
   {
    "duration": 250,
    "start_time": "2023-09-09T14:22:48.609Z"
   },
   {
    "duration": 30,
    "start_time": "2023-09-09T14:22:48.861Z"
   },
   {
    "duration": 8,
    "start_time": "2023-09-09T14:22:48.893Z"
   },
   {
    "duration": 25,
    "start_time": "2023-09-09T14:22:48.902Z"
   },
   {
    "duration": 24,
    "start_time": "2023-09-09T14:22:48.928Z"
   },
   {
    "duration": 17,
    "start_time": "2023-09-09T14:22:48.953Z"
   },
   {
    "duration": 28,
    "start_time": "2023-09-09T14:22:48.972Z"
   },
   {
    "duration": 82,
    "start_time": "2023-09-09T14:22:49.001Z"
   },
   {
    "duration": 50,
    "start_time": "2023-09-09T14:22:49.085Z"
   },
   {
    "duration": 28,
    "start_time": "2023-09-09T14:22:49.137Z"
   },
   {
    "duration": 27,
    "start_time": "2023-09-09T14:22:49.167Z"
   },
   {
    "duration": 20,
    "start_time": "2023-09-09T14:22:49.196Z"
   },
   {
    "duration": 39,
    "start_time": "2023-09-09T14:22:49.218Z"
   },
   {
    "duration": 22,
    "start_time": "2023-09-09T14:22:49.258Z"
   },
   {
    "duration": 27,
    "start_time": "2023-09-09T14:22:49.282Z"
   },
   {
    "duration": 50,
    "start_time": "2023-09-09T14:22:49.310Z"
   },
   {
    "duration": 41,
    "start_time": "2023-09-09T14:22:49.362Z"
   },
   {
    "duration": 20,
    "start_time": "2023-09-09T14:22:49.405Z"
   },
   {
    "duration": 10,
    "start_time": "2023-09-09T14:22:49.427Z"
   },
   {
    "duration": 1221,
    "start_time": "2023-09-09T14:53:43.265Z"
   },
   {
    "duration": 88,
    "start_time": "2023-09-09T14:53:44.487Z"
   },
   {
    "duration": 14,
    "start_time": "2023-09-09T14:53:44.576Z"
   },
   {
    "duration": 56,
    "start_time": "2023-09-09T14:53:44.592Z"
   },
   {
    "duration": 14,
    "start_time": "2023-09-09T14:53:44.650Z"
   },
   {
    "duration": 11,
    "start_time": "2023-09-09T14:53:44.666Z"
   },
   {
    "duration": 30,
    "start_time": "2023-09-09T14:53:44.678Z"
   },
   {
    "duration": 18,
    "start_time": "2023-09-09T14:53:44.710Z"
   },
   {
    "duration": 23,
    "start_time": "2023-09-09T14:53:44.730Z"
   },
   {
    "duration": 5,
    "start_time": "2023-09-09T14:53:44.756Z"
   },
   {
    "duration": 24,
    "start_time": "2023-09-09T14:53:44.763Z"
   },
   {
    "duration": 23,
    "start_time": "2023-09-09T14:53:44.788Z"
   },
   {
    "duration": 20,
    "start_time": "2023-09-09T14:53:44.813Z"
   },
   {
    "duration": 11,
    "start_time": "2023-09-09T14:53:44.835Z"
   },
   {
    "duration": 21,
    "start_time": "2023-09-09T14:53:44.848Z"
   },
   {
    "duration": 14,
    "start_time": "2023-09-09T14:53:44.871Z"
   },
   {
    "duration": 13,
    "start_time": "2023-09-09T14:53:44.887Z"
   },
   {
    "duration": 13,
    "start_time": "2023-09-09T14:53:44.902Z"
   },
   {
    "duration": 27,
    "start_time": "2023-09-09T14:53:44.916Z"
   },
   {
    "duration": 17,
    "start_time": "2023-09-09T14:53:44.945Z"
   },
   {
    "duration": 26,
    "start_time": "2023-09-09T14:53:44.964Z"
   },
   {
    "duration": 49,
    "start_time": "2023-09-09T14:53:44.992Z"
   },
   {
    "duration": 49,
    "start_time": "2023-09-09T14:53:45.042Z"
   },
   {
    "duration": 39,
    "start_time": "2023-09-09T14:53:45.093Z"
   },
   {
    "duration": 31,
    "start_time": "2023-09-09T14:53:45.134Z"
   },
   {
    "duration": 50,
    "start_time": "2023-09-09T14:53:45.167Z"
   },
   {
    "duration": 25,
    "start_time": "2023-09-09T14:53:45.218Z"
   },
   {
    "duration": 1025,
    "start_time": "2023-09-09T14:53:45.247Z"
   },
   {
    "duration": 19,
    "start_time": "2023-09-09T14:53:46.274Z"
   },
   {
    "duration": 29,
    "start_time": "2023-09-09T14:53:46.295Z"
   },
   {
    "duration": 20,
    "start_time": "2023-09-09T14:53:46.326Z"
   },
   {
    "duration": 42,
    "start_time": "2023-09-09T14:53:46.347Z"
   },
   {
    "duration": 1202,
    "start_time": "2023-09-09T14:57:01.882Z"
   },
   {
    "duration": 79,
    "start_time": "2023-09-09T14:57:03.086Z"
   },
   {
    "duration": 15,
    "start_time": "2023-09-09T14:57:03.166Z"
   },
   {
    "duration": 44,
    "start_time": "2023-09-09T14:57:03.183Z"
   },
   {
    "duration": 32,
    "start_time": "2023-09-09T14:57:03.228Z"
   },
   {
    "duration": 4,
    "start_time": "2023-09-09T14:57:03.261Z"
   },
   {
    "duration": 16,
    "start_time": "2023-09-09T14:57:03.267Z"
   },
   {
    "duration": 4,
    "start_time": "2023-09-09T14:57:03.285Z"
   },
   {
    "duration": 20,
    "start_time": "2023-09-09T14:57:03.291Z"
   },
   {
    "duration": 36,
    "start_time": "2023-09-09T14:57:03.313Z"
   },
   {
    "duration": 18,
    "start_time": "2023-09-09T14:57:03.351Z"
   },
   {
    "duration": 13,
    "start_time": "2023-09-09T14:57:03.370Z"
   },
   {
    "duration": 12,
    "start_time": "2023-09-09T14:57:03.385Z"
   },
   {
    "duration": 16,
    "start_time": "2023-09-09T14:57:03.399Z"
   },
   {
    "duration": 10,
    "start_time": "2023-09-09T14:57:03.416Z"
   },
   {
    "duration": 9,
    "start_time": "2023-09-09T14:57:03.427Z"
   },
   {
    "duration": 26,
    "start_time": "2023-09-09T14:57:03.437Z"
   },
   {
    "duration": 9,
    "start_time": "2023-09-09T14:57:03.464Z"
   },
   {
    "duration": 10,
    "start_time": "2023-09-09T14:57:03.475Z"
   },
   {
    "duration": 5,
    "start_time": "2023-09-09T14:57:03.487Z"
   },
   {
    "duration": 17,
    "start_time": "2023-09-09T14:57:03.493Z"
   },
   {
    "duration": 5,
    "start_time": "2023-09-09T14:57:03.512Z"
   },
   {
    "duration": 44,
    "start_time": "2023-09-09T14:57:03.518Z"
   },
   {
    "duration": 41,
    "start_time": "2023-09-09T14:57:03.563Z"
   },
   {
    "duration": 18,
    "start_time": "2023-09-09T14:57:03.605Z"
   },
   {
    "duration": 52,
    "start_time": "2023-09-09T14:57:03.625Z"
   },
   {
    "duration": 12,
    "start_time": "2023-09-09T14:57:03.679Z"
   },
   {
    "duration": 967,
    "start_time": "2023-09-09T14:57:03.695Z"
   },
   {
    "duration": 21,
    "start_time": "2023-09-09T14:57:04.663Z"
   },
   {
    "duration": 24,
    "start_time": "2023-09-09T14:57:04.686Z"
   },
   {
    "duration": 12,
    "start_time": "2023-09-09T14:57:04.712Z"
   },
   {
    "duration": 42,
    "start_time": "2023-09-09T14:57:04.726Z"
   },
   {
    "duration": 467,
    "start_time": "2023-09-09T14:57:04.770Z"
   },
   {
    "duration": 472,
    "start_time": "2023-09-09T14:57:05.239Z"
   },
   {
    "duration": 235,
    "start_time": "2023-09-09T14:57:05.713Z"
   },
   {
    "duration": 28,
    "start_time": "2023-09-09T14:57:05.950Z"
   },
   {
    "duration": 135,
    "start_time": "2023-09-09T14:57:05.980Z"
   },
   {
    "duration": 320,
    "start_time": "2023-09-09T14:57:06.117Z"
   },
   {
    "duration": 30,
    "start_time": "2023-09-09T14:57:06.439Z"
   },
   {
    "duration": 136,
    "start_time": "2023-09-09T14:57:06.471Z"
   },
   {
    "duration": 25,
    "start_time": "2023-09-09T14:57:06.609Z"
   },
   {
    "duration": 108,
    "start_time": "2023-09-09T14:57:06.647Z"
   },
   {
    "duration": 236,
    "start_time": "2023-09-09T14:57:06.757Z"
   },
   {
    "duration": 33,
    "start_time": "2023-09-09T14:57:06.995Z"
   },
   {
    "duration": 10,
    "start_time": "2023-09-09T14:57:07.046Z"
   },
   {
    "duration": 9,
    "start_time": "2023-09-09T14:57:07.057Z"
   },
   {
    "duration": 12,
    "start_time": "2023-09-09T14:57:07.068Z"
   },
   {
    "duration": 11,
    "start_time": "2023-09-09T14:57:07.082Z"
   },
   {
    "duration": 9,
    "start_time": "2023-09-09T14:57:07.095Z"
   },
   {
    "duration": 43,
    "start_time": "2023-09-09T14:57:07.106Z"
   },
   {
    "duration": 11,
    "start_time": "2023-09-09T14:57:07.151Z"
   },
   {
    "duration": 9,
    "start_time": "2023-09-09T14:57:07.163Z"
   },
   {
    "duration": 11,
    "start_time": "2023-09-09T14:57:07.174Z"
   },
   {
    "duration": 7,
    "start_time": "2023-09-09T14:57:07.187Z"
   },
   {
    "duration": 8,
    "start_time": "2023-09-09T14:57:07.196Z"
   },
   {
    "duration": 42,
    "start_time": "2023-09-09T14:57:07.205Z"
   },
   {
    "duration": 9,
    "start_time": "2023-09-09T14:57:07.249Z"
   },
   {
    "duration": 10,
    "start_time": "2023-09-09T14:57:07.260Z"
   },
   {
    "duration": 13,
    "start_time": "2023-09-09T14:57:07.272Z"
   },
   {
    "duration": 8,
    "start_time": "2023-09-09T14:57:07.287Z"
   },
   {
    "duration": 8,
    "start_time": "2023-09-09T14:57:07.297Z"
   },
   {
    "duration": 50,
    "start_time": "2023-09-10T16:06:25.719Z"
   },
   {
    "duration": 1203,
    "start_time": "2023-09-10T16:06:35.548Z"
   },
   {
    "duration": 312,
    "start_time": "2023-09-10T16:06:36.753Z"
   },
   {
    "duration": 15,
    "start_time": "2023-09-10T16:06:37.067Z"
   },
   {
    "duration": 63,
    "start_time": "2023-09-10T16:06:37.084Z"
   },
   {
    "duration": 13,
    "start_time": "2023-09-10T16:06:37.150Z"
   },
   {
    "duration": 4,
    "start_time": "2023-09-10T16:06:37.165Z"
   },
   {
    "duration": 18,
    "start_time": "2023-09-10T16:06:37.171Z"
   },
   {
    "duration": 5,
    "start_time": "2023-09-10T16:06:37.210Z"
   },
   {
    "duration": 23,
    "start_time": "2023-09-10T16:06:37.216Z"
   },
   {
    "duration": 19,
    "start_time": "2023-09-10T16:06:37.241Z"
   },
   {
    "duration": 12,
    "start_time": "2023-09-10T16:06:37.262Z"
   },
   {
    "duration": 16,
    "start_time": "2023-09-10T16:06:37.275Z"
   },
   {
    "duration": 20,
    "start_time": "2023-09-10T16:06:37.292Z"
   },
   {
    "duration": 5,
    "start_time": "2023-09-10T16:06:37.316Z"
   },
   {
    "duration": 8,
    "start_time": "2023-09-10T16:06:37.322Z"
   },
   {
    "duration": 5,
    "start_time": "2023-09-10T16:06:37.332Z"
   },
   {
    "duration": 33,
    "start_time": "2023-09-10T16:06:37.339Z"
   },
   {
    "duration": 5,
    "start_time": "2023-09-10T16:06:37.374Z"
   },
   {
    "duration": 8,
    "start_time": "2023-09-10T16:06:37.380Z"
   },
   {
    "duration": 3,
    "start_time": "2023-09-10T16:06:37.390Z"
   },
   {
    "duration": 8,
    "start_time": "2023-09-10T16:06:37.410Z"
   },
   {
    "duration": 6,
    "start_time": "2023-09-10T16:06:37.420Z"
   },
   {
    "duration": 35,
    "start_time": "2023-09-10T16:06:37.427Z"
   },
   {
    "duration": 61,
    "start_time": "2023-09-10T16:06:37.464Z"
   },
   {
    "duration": 19,
    "start_time": "2023-09-10T16:06:37.526Z"
   },
   {
    "duration": 33,
    "start_time": "2023-09-10T16:06:37.547Z"
   },
   {
    "duration": 35,
    "start_time": "2023-09-10T16:06:37.584Z"
   },
   {
    "duration": 932,
    "start_time": "2023-09-10T16:06:37.621Z"
   },
   {
    "duration": 21,
    "start_time": "2023-09-10T16:06:38.555Z"
   },
   {
    "duration": 34,
    "start_time": "2023-09-10T16:06:38.578Z"
   },
   {
    "duration": 12,
    "start_time": "2023-09-10T16:06:38.614Z"
   },
   {
    "duration": 29,
    "start_time": "2023-09-10T16:06:38.628Z"
   },
   {
    "duration": 485,
    "start_time": "2023-09-10T16:06:38.659Z"
   },
   {
    "duration": 432,
    "start_time": "2023-09-10T16:06:39.145Z"
   },
   {
    "duration": 232,
    "start_time": "2023-09-10T16:06:39.579Z"
   },
   {
    "duration": 26,
    "start_time": "2023-09-10T16:06:39.813Z"
   },
   {
    "duration": 135,
    "start_time": "2023-09-10T16:06:39.842Z"
   },
   {
    "duration": 309,
    "start_time": "2023-09-10T16:06:39.979Z"
   },
   {
    "duration": 36,
    "start_time": "2023-09-10T16:06:40.289Z"
   },
   {
    "duration": 117,
    "start_time": "2023-09-10T16:06:40.327Z"
   },
   {
    "duration": 24,
    "start_time": "2023-09-10T16:06:40.448Z"
   },
   {
    "duration": 125,
    "start_time": "2023-09-10T16:06:40.474Z"
   },
   {
    "duration": 240,
    "start_time": "2023-09-10T16:06:40.601Z"
   },
   {
    "duration": 30,
    "start_time": "2023-09-10T16:06:40.843Z"
   },
   {
    "duration": 19,
    "start_time": "2023-09-10T16:06:40.875Z"
   },
   {
    "duration": 21,
    "start_time": "2023-09-10T16:06:40.896Z"
   },
   {
    "duration": 8,
    "start_time": "2023-09-10T16:06:40.919Z"
   },
   {
    "duration": 9,
    "start_time": "2023-09-10T16:06:40.928Z"
   },
   {
    "duration": 10,
    "start_time": "2023-09-10T16:06:40.939Z"
   },
   {
    "duration": 10,
    "start_time": "2023-09-10T16:06:40.950Z"
   },
   {
    "duration": 48,
    "start_time": "2023-09-10T16:06:40.962Z"
   },
   {
    "duration": 9,
    "start_time": "2023-09-10T16:06:41.012Z"
   },
   {
    "duration": 38,
    "start_time": "2023-09-10T16:06:41.023Z"
   },
   {
    "duration": 9,
    "start_time": "2023-09-10T16:06:41.063Z"
   },
   {
    "duration": 8,
    "start_time": "2023-09-10T16:06:41.074Z"
   },
   {
    "duration": 9,
    "start_time": "2023-09-10T16:06:41.083Z"
   },
   {
    "duration": 21,
    "start_time": "2023-09-10T16:06:41.094Z"
   },
   {
    "duration": 9,
    "start_time": "2023-09-10T16:06:41.117Z"
   },
   {
    "duration": 10,
    "start_time": "2023-09-10T16:06:41.127Z"
   },
   {
    "duration": 10,
    "start_time": "2023-09-10T16:06:41.138Z"
   },
   {
    "duration": 9,
    "start_time": "2023-09-10T16:06:41.149Z"
   },
   {
    "duration": 211,
    "start_time": "2023-09-10T16:06:55.941Z"
   }
  ],
  "kernelspec": {
   "display_name": "Python 3 (ipykernel)",
   "language": "python",
   "name": "python3"
  },
  "language_info": {
   "codemirror_mode": {
    "name": "ipython",
    "version": 3
   },
   "file_extension": ".py",
   "mimetype": "text/x-python",
   "name": "python",
   "nbconvert_exporter": "python",
   "pygments_lexer": "ipython3",
   "version": "3.9.5"
  },
  "toc": {
   "base_numbering": 1,
   "nav_menu": {},
   "number_sections": true,
   "sideBar": true,
   "skip_h1_title": true,
   "title_cell": "Table of Contents",
   "title_sidebar": "Contents",
   "toc_cell": false,
   "toc_position": {
    "height": "calc(100% - 180px)",
    "left": "10px",
    "top": "150px",
    "width": "183px"
   },
   "toc_section_display": true,
   "toc_window_display": true
  }
 },
 "nbformat": 4,
 "nbformat_minor": 5
}
