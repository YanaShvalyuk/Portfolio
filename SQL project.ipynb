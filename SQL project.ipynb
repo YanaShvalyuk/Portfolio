{
 "cells": [
  {
   "cell_type": "markdown",
   "id": "0e58b2b2",
   "metadata": {},
   "source": [
    "# Анализ базы данных сервиса для чтения книг по подписке"
   ]
  },
  {
   "cell_type": "markdown",
   "id": "9eb05c8b",
   "metadata": {},
   "source": [
    "## Цели, задачи и описание данных проекта"
   ]
  },
  {
   "cell_type": "markdown",
   "id": "fd4fdad8",
   "metadata": {},
   "source": [
    "**Цель:** На основе данных сформулировать рекомендации для приложения.\n",
    "\n",
    "**Задачи:**\n",
    "\n",
    "- Посчитать, сколько книг вышло после 1 января 2000 года;\n",
    "- Для каждой книги посчитать количество обзоров и среднюю оценку;\n",
    "- Определить издательство, которое выпустило наибольшее число книг толще 50 страниц (чтобы исключить из анализа брошюры);\n",
    "- Определить автора с самой высокой средней оценкой книг, учитывая только книги с 50 и более оценками;\n",
    "- Посчитать среднее количество обзоров от пользователей, которые поставили больше 48 оценок."
   ]
  },
  {
   "cell_type": "markdown",
   "id": "81ab67ba",
   "metadata": {},
   "source": [
    "**Таблица books** - данные о книгах:\n",
    "- book_id — идентификатор книги;\n",
    "- author_id — идентификатор автора;\n",
    "- title — название книги;\n",
    "- num_pages — количество страниц;\n",
    "- publication_date — дата публикации книги;\n",
    "- publisher_id — идентификатор издателя.\n",
    "\n",
    "**Таблица authors** - данные об авторах:\n",
    "- author_id — идентификатор автора;\n",
    "- author — имя автора.\n",
    "\n",
    "**Таблица publishers** - данные об издательствах:\n",
    "- publisher_id — идентификатор издательства;\n",
    "- publisher — название издательства;\n",
    "\n",
    "**Таблица ratings** - данные о пользовательских оценках книг:\n",
    "- rating_id — идентификатор оценки;\n",
    "- book_id — идентификатор книги;\n",
    "- username — имя пользователя, оставившего оценку;\n",
    "- rating — оценка книги.\n",
    "\n",
    "**Таблица reviews** - данные о пользовательских обзорах на книги:\n",
    "- review_id — идентификатор обзора;\n",
    "- book_id — идентификатор книги;\n",
    "- username — имя пользователя, написавшего обзор;\n",
    "- text — текст обзора."
   ]
  },
  {
   "cell_type": "markdown",
   "id": "e9b7c231",
   "metadata": {},
   "source": [
    "## Проверка и подготовка данных к анализу"
   ]
  },
  {
   "cell_type": "code",
   "execution_count": 1,
   "id": "e17baba7",
   "metadata": {},
   "outputs": [],
   "source": [
    "# импортируем библиотеки\n",
    "import pandas as pd\n",
    "from sqlalchemy import text, create_engine\n",
    "# устанавливаем параметры\n",
    "db_config = {'user': 'praktikum_student', # имя пользователя\n",
    "'pwd': 'Sdf4$2;d-d30pp', # пароль\n",
    "'host': 'rc1b-wcoijxj3yxfsf3fs.mdb.yandexcloud.net',\n",
    "'port': 6432, # порт подключения\n",
    "'db': 'data-analyst-final-project-db'} # название базы данных\n",
    "connection_string = 'postgresql://{user}:{pwd}@{host}:{port}/{db}'.format(**db_config)\n",
    "# сохраняем коннектор\n",
    "engine = create_engine(connection_string, connect_args={'sslmode':'require'})"
   ]
  },
  {
   "cell_type": "code",
   "execution_count": 2,
   "id": "503c84d1",
   "metadata": {},
   "outputs": [
    {
     "data": {
      "text/html": [
       "<div>\n",
       "<style scoped>\n",
       "    .dataframe tbody tr th:only-of-type {\n",
       "        vertical-align: middle;\n",
       "    }\n",
       "\n",
       "    .dataframe tbody tr th {\n",
       "        vertical-align: top;\n",
       "    }\n",
       "\n",
       "    .dataframe thead th {\n",
       "        text-align: right;\n",
       "    }\n",
       "</style>\n",
       "<table border=\"1\" class=\"dataframe\">\n",
       "  <thead>\n",
       "    <tr style=\"text-align: right;\">\n",
       "      <th></th>\n",
       "      <th>book_id</th>\n",
       "      <th>author_id</th>\n",
       "      <th>title</th>\n",
       "      <th>num_pages</th>\n",
       "      <th>publication_date</th>\n",
       "      <th>publisher_id</th>\n",
       "    </tr>\n",
       "  </thead>\n",
       "  <tbody>\n",
       "    <tr>\n",
       "      <th>0</th>\n",
       "      <td>1</td>\n",
       "      <td>546</td>\n",
       "      <td>'Salem's Lot</td>\n",
       "      <td>594</td>\n",
       "      <td>2005-11-01</td>\n",
       "      <td>93</td>\n",
       "    </tr>\n",
       "    <tr>\n",
       "      <th>1</th>\n",
       "      <td>2</td>\n",
       "      <td>465</td>\n",
       "      <td>1 000 Places to See Before You Die</td>\n",
       "      <td>992</td>\n",
       "      <td>2003-05-22</td>\n",
       "      <td>336</td>\n",
       "    </tr>\n",
       "    <tr>\n",
       "      <th>2</th>\n",
       "      <td>3</td>\n",
       "      <td>407</td>\n",
       "      <td>13 Little Blue Envelopes (Little Blue Envelope...</td>\n",
       "      <td>322</td>\n",
       "      <td>2010-12-21</td>\n",
       "      <td>135</td>\n",
       "    </tr>\n",
       "    <tr>\n",
       "      <th>3</th>\n",
       "      <td>4</td>\n",
       "      <td>82</td>\n",
       "      <td>1491: New Revelations of the Americas Before C...</td>\n",
       "      <td>541</td>\n",
       "      <td>2006-10-10</td>\n",
       "      <td>309</td>\n",
       "    </tr>\n",
       "    <tr>\n",
       "      <th>4</th>\n",
       "      <td>5</td>\n",
       "      <td>125</td>\n",
       "      <td>1776</td>\n",
       "      <td>386</td>\n",
       "      <td>2006-07-04</td>\n",
       "      <td>268</td>\n",
       "    </tr>\n",
       "  </tbody>\n",
       "</table>\n",
       "</div>"
      ],
      "text/plain": [
       "   book_id  author_id                                              title  \\\n",
       "0        1        546                                       'Salem's Lot   \n",
       "1        2        465                 1 000 Places to See Before You Die   \n",
       "2        3        407  13 Little Blue Envelopes (Little Blue Envelope...   \n",
       "3        4         82  1491: New Revelations of the Americas Before C...   \n",
       "4        5        125                                               1776   \n",
       "\n",
       "   num_pages publication_date  publisher_id  \n",
       "0        594       2005-11-01            93  \n",
       "1        992       2003-05-22           336  \n",
       "2        322       2010-12-21           135  \n",
       "3        541       2006-10-10           309  \n",
       "4        386       2006-07-04           268  "
      ]
     },
     "execution_count": 2,
     "metadata": {},
     "output_type": "execute_result"
    }
   ],
   "source": [
    "#Вывод 5 строк по таблице с книгами\n",
    "query = '''SELECT * FROM books LIMIT 5'''\n",
    "con=engine.connect()\n",
    "pd.io.sql.read_sql(sql=text(query), con = con)"
   ]
  },
  {
   "cell_type": "code",
   "execution_count": 3,
   "id": "dfe6eeab",
   "metadata": {},
   "outputs": [
    {
     "data": {
      "text/html": [
       "<div>\n",
       "<style scoped>\n",
       "    .dataframe tbody tr th:only-of-type {\n",
       "        vertical-align: middle;\n",
       "    }\n",
       "\n",
       "    .dataframe tbody tr th {\n",
       "        vertical-align: top;\n",
       "    }\n",
       "\n",
       "    .dataframe thead th {\n",
       "        text-align: right;\n",
       "    }\n",
       "</style>\n",
       "<table border=\"1\" class=\"dataframe\">\n",
       "  <thead>\n",
       "    <tr style=\"text-align: right;\">\n",
       "      <th></th>\n",
       "      <th>author_id</th>\n",
       "      <th>author</th>\n",
       "    </tr>\n",
       "  </thead>\n",
       "  <tbody>\n",
       "    <tr>\n",
       "      <th>0</th>\n",
       "      <td>1</td>\n",
       "      <td>A.S. Byatt</td>\n",
       "    </tr>\n",
       "    <tr>\n",
       "      <th>1</th>\n",
       "      <td>2</td>\n",
       "      <td>Aesop/Laura Harris/Laura Gibbs</td>\n",
       "    </tr>\n",
       "    <tr>\n",
       "      <th>2</th>\n",
       "      <td>3</td>\n",
       "      <td>Agatha Christie</td>\n",
       "    </tr>\n",
       "    <tr>\n",
       "      <th>3</th>\n",
       "      <td>4</td>\n",
       "      <td>Alan Brennert</td>\n",
       "    </tr>\n",
       "    <tr>\n",
       "      <th>4</th>\n",
       "      <td>5</td>\n",
       "      <td>Alan Moore/David   Lloyd</td>\n",
       "    </tr>\n",
       "  </tbody>\n",
       "</table>\n",
       "</div>"
      ],
      "text/plain": [
       "   author_id                          author\n",
       "0          1                      A.S. Byatt\n",
       "1          2  Aesop/Laura Harris/Laura Gibbs\n",
       "2          3                 Agatha Christie\n",
       "3          4                   Alan Brennert\n",
       "4          5        Alan Moore/David   Lloyd"
      ]
     },
     "execution_count": 3,
     "metadata": {},
     "output_type": "execute_result"
    }
   ],
   "source": [
    "#Вывод 5 строк по таблице с авторами\n",
    "query = '''SELECT * FROM authors LIMIT 5'''\n",
    "con=engine.connect()\n",
    "pd.io.sql.read_sql(sql=text(query), con = con)"
   ]
  },
  {
   "cell_type": "code",
   "execution_count": 4,
   "id": "b764402e",
   "metadata": {},
   "outputs": [
    {
     "data": {
      "text/html": [
       "<div>\n",
       "<style scoped>\n",
       "    .dataframe tbody tr th:only-of-type {\n",
       "        vertical-align: middle;\n",
       "    }\n",
       "\n",
       "    .dataframe tbody tr th {\n",
       "        vertical-align: top;\n",
       "    }\n",
       "\n",
       "    .dataframe thead th {\n",
       "        text-align: right;\n",
       "    }\n",
       "</style>\n",
       "<table border=\"1\" class=\"dataframe\">\n",
       "  <thead>\n",
       "    <tr style=\"text-align: right;\">\n",
       "      <th></th>\n",
       "      <th>publisher_id</th>\n",
       "      <th>publisher</th>\n",
       "    </tr>\n",
       "  </thead>\n",
       "  <tbody>\n",
       "    <tr>\n",
       "      <th>0</th>\n",
       "      <td>1</td>\n",
       "      <td>Ace</td>\n",
       "    </tr>\n",
       "    <tr>\n",
       "      <th>1</th>\n",
       "      <td>2</td>\n",
       "      <td>Ace Book</td>\n",
       "    </tr>\n",
       "    <tr>\n",
       "      <th>2</th>\n",
       "      <td>3</td>\n",
       "      <td>Ace Books</td>\n",
       "    </tr>\n",
       "    <tr>\n",
       "      <th>3</th>\n",
       "      <td>4</td>\n",
       "      <td>Ace Hardcover</td>\n",
       "    </tr>\n",
       "    <tr>\n",
       "      <th>4</th>\n",
       "      <td>5</td>\n",
       "      <td>Addison Wesley Publishing Company</td>\n",
       "    </tr>\n",
       "  </tbody>\n",
       "</table>\n",
       "</div>"
      ],
      "text/plain": [
       "   publisher_id                          publisher\n",
       "0             1                                Ace\n",
       "1             2                           Ace Book\n",
       "2             3                          Ace Books\n",
       "3             4                      Ace Hardcover\n",
       "4             5  Addison Wesley Publishing Company"
      ]
     },
     "execution_count": 4,
     "metadata": {},
     "output_type": "execute_result"
    }
   ],
   "source": [
    "#Вывод 5 строк по таблице с издательствами\n",
    "query = '''SELECT * FROM publishers LIMIT 5'''\n",
    "con=engine.connect()\n",
    "pd.io.sql.read_sql(sql=text(query), con = con)"
   ]
  },
  {
   "cell_type": "code",
   "execution_count": 5,
   "id": "f4a3a2a4",
   "metadata": {},
   "outputs": [
    {
     "data": {
      "text/html": [
       "<div>\n",
       "<style scoped>\n",
       "    .dataframe tbody tr th:only-of-type {\n",
       "        vertical-align: middle;\n",
       "    }\n",
       "\n",
       "    .dataframe tbody tr th {\n",
       "        vertical-align: top;\n",
       "    }\n",
       "\n",
       "    .dataframe thead th {\n",
       "        text-align: right;\n",
       "    }\n",
       "</style>\n",
       "<table border=\"1\" class=\"dataframe\">\n",
       "  <thead>\n",
       "    <tr style=\"text-align: right;\">\n",
       "      <th></th>\n",
       "      <th>rating_id</th>\n",
       "      <th>book_id</th>\n",
       "      <th>username</th>\n",
       "      <th>rating</th>\n",
       "    </tr>\n",
       "  </thead>\n",
       "  <tbody>\n",
       "    <tr>\n",
       "      <th>0</th>\n",
       "      <td>1</td>\n",
       "      <td>1</td>\n",
       "      <td>ryanfranco</td>\n",
       "      <td>4</td>\n",
       "    </tr>\n",
       "    <tr>\n",
       "      <th>1</th>\n",
       "      <td>2</td>\n",
       "      <td>1</td>\n",
       "      <td>grantpatricia</td>\n",
       "      <td>2</td>\n",
       "    </tr>\n",
       "    <tr>\n",
       "      <th>2</th>\n",
       "      <td>3</td>\n",
       "      <td>1</td>\n",
       "      <td>brandtandrea</td>\n",
       "      <td>5</td>\n",
       "    </tr>\n",
       "    <tr>\n",
       "      <th>3</th>\n",
       "      <td>4</td>\n",
       "      <td>2</td>\n",
       "      <td>lorichen</td>\n",
       "      <td>3</td>\n",
       "    </tr>\n",
       "    <tr>\n",
       "      <th>4</th>\n",
       "      <td>5</td>\n",
       "      <td>2</td>\n",
       "      <td>mariokeller</td>\n",
       "      <td>2</td>\n",
       "    </tr>\n",
       "  </tbody>\n",
       "</table>\n",
       "</div>"
      ],
      "text/plain": [
       "   rating_id  book_id       username  rating\n",
       "0          1        1     ryanfranco       4\n",
       "1          2        1  grantpatricia       2\n",
       "2          3        1   brandtandrea       5\n",
       "3          4        2       lorichen       3\n",
       "4          5        2    mariokeller       2"
      ]
     },
     "execution_count": 5,
     "metadata": {},
     "output_type": "execute_result"
    }
   ],
   "source": [
    "#Вывод 5 строк по таблице с рейтингами\n",
    "query = '''SELECT * FROM ratings LIMIT 5'''\n",
    "con=engine.connect()\n",
    "pd.io.sql.read_sql(sql=text(query), con = con)"
   ]
  },
  {
   "cell_type": "code",
   "execution_count": 6,
   "id": "a7f022d5",
   "metadata": {},
   "outputs": [
    {
     "data": {
      "text/html": [
       "<div>\n",
       "<style scoped>\n",
       "    .dataframe tbody tr th:only-of-type {\n",
       "        vertical-align: middle;\n",
       "    }\n",
       "\n",
       "    .dataframe tbody tr th {\n",
       "        vertical-align: top;\n",
       "    }\n",
       "\n",
       "    .dataframe thead th {\n",
       "        text-align: right;\n",
       "    }\n",
       "</style>\n",
       "<table border=\"1\" class=\"dataframe\">\n",
       "  <thead>\n",
       "    <tr style=\"text-align: right;\">\n",
       "      <th></th>\n",
       "      <th>review_id</th>\n",
       "      <th>book_id</th>\n",
       "      <th>username</th>\n",
       "      <th>text</th>\n",
       "    </tr>\n",
       "  </thead>\n",
       "  <tbody>\n",
       "    <tr>\n",
       "      <th>0</th>\n",
       "      <td>1</td>\n",
       "      <td>1</td>\n",
       "      <td>brandtandrea</td>\n",
       "      <td>Mention society tell send professor analysis. ...</td>\n",
       "    </tr>\n",
       "    <tr>\n",
       "      <th>1</th>\n",
       "      <td>2</td>\n",
       "      <td>1</td>\n",
       "      <td>ryanfranco</td>\n",
       "      <td>Foot glass pretty audience hit themselves. Amo...</td>\n",
       "    </tr>\n",
       "    <tr>\n",
       "      <th>2</th>\n",
       "      <td>3</td>\n",
       "      <td>2</td>\n",
       "      <td>lorichen</td>\n",
       "      <td>Listen treat keep worry. Miss husband tax but ...</td>\n",
       "    </tr>\n",
       "    <tr>\n",
       "      <th>3</th>\n",
       "      <td>4</td>\n",
       "      <td>3</td>\n",
       "      <td>johnsonamanda</td>\n",
       "      <td>Finally month interesting blue could nature cu...</td>\n",
       "    </tr>\n",
       "    <tr>\n",
       "      <th>4</th>\n",
       "      <td>5</td>\n",
       "      <td>3</td>\n",
       "      <td>scotttamara</td>\n",
       "      <td>Nation purpose heavy give wait song will. List...</td>\n",
       "    </tr>\n",
       "  </tbody>\n",
       "</table>\n",
       "</div>"
      ],
      "text/plain": [
       "   review_id  book_id       username  \\\n",
       "0          1        1   brandtandrea   \n",
       "1          2        1     ryanfranco   \n",
       "2          3        2       lorichen   \n",
       "3          4        3  johnsonamanda   \n",
       "4          5        3    scotttamara   \n",
       "\n",
       "                                                text  \n",
       "0  Mention society tell send professor analysis. ...  \n",
       "1  Foot glass pretty audience hit themselves. Amo...  \n",
       "2  Listen treat keep worry. Miss husband tax but ...  \n",
       "3  Finally month interesting blue could nature cu...  \n",
       "4  Nation purpose heavy give wait song will. List...  "
      ]
     },
     "execution_count": 6,
     "metadata": {},
     "output_type": "execute_result"
    }
   ],
   "source": [
    "#Вывод 5 строк по таблице с обзорами\n",
    "query = '''SELECT * FROM reviews LIMIT 5'''\n",
    "con=engine.connect()\n",
    "pd.io.sql.read_sql(sql=text(query), con = con)"
   ]
  },
  {
   "cell_type": "markdown",
   "id": "5261e577",
   "metadata": {},
   "source": [
    "## Количество книг"
   ]
  },
  {
   "cell_type": "markdown",
   "id": "74e32207",
   "metadata": {},
   "source": [
    "Посчитать, сколько книг вышло после 1 января 2000 года."
   ]
  },
  {
   "cell_type": "code",
   "execution_count": 7,
   "id": "7efe1194",
   "metadata": {},
   "outputs": [
    {
     "data": {
      "text/html": [
       "<div>\n",
       "<style scoped>\n",
       "    .dataframe tbody tr th:only-of-type {\n",
       "        vertical-align: middle;\n",
       "    }\n",
       "\n",
       "    .dataframe tbody tr th {\n",
       "        vertical-align: top;\n",
       "    }\n",
       "\n",
       "    .dataframe thead th {\n",
       "        text-align: right;\n",
       "    }\n",
       "</style>\n",
       "<table border=\"1\" class=\"dataframe\">\n",
       "  <thead>\n",
       "    <tr style=\"text-align: right;\">\n",
       "      <th></th>\n",
       "      <th>count</th>\n",
       "    </tr>\n",
       "  </thead>\n",
       "  <tbody>\n",
       "    <tr>\n",
       "      <th>0</th>\n",
       "      <td>819</td>\n",
       "    </tr>\n",
       "  </tbody>\n",
       "</table>\n",
       "</div>"
      ],
      "text/plain": [
       "   count\n",
       "0    819"
      ]
     },
     "execution_count": 7,
     "metadata": {},
     "output_type": "execute_result"
    }
   ],
   "source": [
    "#Вывод 5 строк по таблице с книгами\n",
    "query = '''\n",
    "        SELECT COUNT(*)\n",
    "        FROM books\n",
    "        WHERE publication_date > '2000-01-01'\n",
    "        '''\n",
    "con=engine.connect()\n",
    "\n",
    "pd.io.sql.read_sql(sql=text(query), con = con)"
   ]
  },
  {
   "cell_type": "markdown",
   "id": "003e10c6",
   "metadata": {},
   "source": [
    "Всего вышло 819 книг после 1 января 2000 года."
   ]
  },
  {
   "cell_type": "markdown",
   "id": "adb10151",
   "metadata": {},
   "source": [
    "## Количество обзоров и средняя оценка по каждой книге"
   ]
  },
  {
   "cell_type": "code",
   "execution_count": 8,
   "id": "7c7fd2bd",
   "metadata": {},
   "outputs": [
    {
     "data": {
      "text/html": [
       "<div>\n",
       "<style scoped>\n",
       "    .dataframe tbody tr th:only-of-type {\n",
       "        vertical-align: middle;\n",
       "    }\n",
       "\n",
       "    .dataframe tbody tr th {\n",
       "        vertical-align: top;\n",
       "    }\n",
       "\n",
       "    .dataframe thead th {\n",
       "        text-align: right;\n",
       "    }\n",
       "</style>\n",
       "<table border=\"1\" class=\"dataframe\">\n",
       "  <thead>\n",
       "    <tr style=\"text-align: right;\">\n",
       "      <th></th>\n",
       "      <th>book_id</th>\n",
       "      <th>title</th>\n",
       "      <th>avg_rating</th>\n",
       "      <th>review_count</th>\n",
       "    </tr>\n",
       "  </thead>\n",
       "  <tbody>\n",
       "    <tr>\n",
       "      <th>0</th>\n",
       "      <td>672</td>\n",
       "      <td>The Cat in the Hat and Other Dr. Seuss Favorites</td>\n",
       "      <td>5.00</td>\n",
       "      <td>NaN</td>\n",
       "    </tr>\n",
       "    <tr>\n",
       "      <th>1</th>\n",
       "      <td>17</td>\n",
       "      <td>A Dirty Job (Grim Reaper  #1)</td>\n",
       "      <td>5.00</td>\n",
       "      <td>4.0</td>\n",
       "    </tr>\n",
       "    <tr>\n",
       "      <th>2</th>\n",
       "      <td>553</td>\n",
       "      <td>School's Out—Forever (Maximum Ride  #2)</td>\n",
       "      <td>5.00</td>\n",
       "      <td>3.0</td>\n",
       "    </tr>\n",
       "    <tr>\n",
       "      <th>3</th>\n",
       "      <td>444</td>\n",
       "      <td>Moneyball: The Art of Winning an Unfair Game</td>\n",
       "      <td>5.00</td>\n",
       "      <td>3.0</td>\n",
       "    </tr>\n",
       "    <tr>\n",
       "      <th>4</th>\n",
       "      <td>913</td>\n",
       "      <td>The Woman in Black</td>\n",
       "      <td>5.00</td>\n",
       "      <td>2.0</td>\n",
       "    </tr>\n",
       "    <tr>\n",
       "      <th>...</th>\n",
       "      <td>...</td>\n",
       "      <td>...</td>\n",
       "      <td>...</td>\n",
       "      <td>...</td>\n",
       "    </tr>\n",
       "    <tr>\n",
       "      <th>995</th>\n",
       "      <td>915</td>\n",
       "      <td>The World Is Flat: A Brief History of the Twen...</td>\n",
       "      <td>2.25</td>\n",
       "      <td>3.0</td>\n",
       "    </tr>\n",
       "    <tr>\n",
       "      <th>996</th>\n",
       "      <td>202</td>\n",
       "      <td>Drowning Ruth</td>\n",
       "      <td>2.00</td>\n",
       "      <td>3.0</td>\n",
       "    </tr>\n",
       "    <tr>\n",
       "      <th>997</th>\n",
       "      <td>371</td>\n",
       "      <td>Junky</td>\n",
       "      <td>2.00</td>\n",
       "      <td>2.0</td>\n",
       "    </tr>\n",
       "    <tr>\n",
       "      <th>998</th>\n",
       "      <td>316</td>\n",
       "      <td>His Excellency: George Washington</td>\n",
       "      <td>2.00</td>\n",
       "      <td>2.0</td>\n",
       "    </tr>\n",
       "    <tr>\n",
       "      <th>999</th>\n",
       "      <td>303</td>\n",
       "      <td>Harvesting the Heart</td>\n",
       "      <td>1.50</td>\n",
       "      <td>2.0</td>\n",
       "    </tr>\n",
       "  </tbody>\n",
       "</table>\n",
       "<p>1000 rows × 4 columns</p>\n",
       "</div>"
      ],
      "text/plain": [
       "     book_id                                              title  avg_rating  \\\n",
       "0        672   The Cat in the Hat and Other Dr. Seuss Favorites        5.00   \n",
       "1         17                      A Dirty Job (Grim Reaper  #1)        5.00   \n",
       "2        553            School's Out—Forever (Maximum Ride  #2)        5.00   \n",
       "3        444       Moneyball: The Art of Winning an Unfair Game        5.00   \n",
       "4        913                                 The Woman in Black        5.00   \n",
       "..       ...                                                ...         ...   \n",
       "995      915  The World Is Flat: A Brief History of the Twen...        2.25   \n",
       "996      202                                      Drowning Ruth        2.00   \n",
       "997      371                                              Junky        2.00   \n",
       "998      316                  His Excellency: George Washington        2.00   \n",
       "999      303                               Harvesting the Heart        1.50   \n",
       "\n",
       "     review_count  \n",
       "0             NaN  \n",
       "1             4.0  \n",
       "2             3.0  \n",
       "3             3.0  \n",
       "4             2.0  \n",
       "..            ...  \n",
       "995           3.0  \n",
       "996           3.0  \n",
       "997           2.0  \n",
       "998           2.0  \n",
       "999           2.0  \n",
       "\n",
       "[1000 rows x 4 columns]"
      ]
     },
     "execution_count": 8,
     "metadata": {},
     "output_type": "execute_result"
    }
   ],
   "source": [
    "query = '''\n",
    "        SELECT \n",
    "        b.book_id, b.title, rt.avg_rating, rv.review_count\n",
    "        FROM books b\n",
    "        LEFT JOIN \n",
    "            (SELECT book_id, AVG(rating) AS avg_rating \n",
    "             FROM ratings \n",
    "             GROUP BY book_id) \n",
    "             rt ON b.book_id=rt.book_id\n",
    "        LEFT JOIN \n",
    "            (SELECT book_id, COUNT(*) AS review_count \n",
    "             FROM reviews \n",
    "             GROUP BY book_id) \n",
    "             rv ON b.book_id=rv.book_id\n",
    "        ORDER BY avg_rating DESC, review_count DESC\n",
    "        '''\n",
    "con=engine.connect()\n",
    "pd.io.sql.read_sql(sql=text(query), con = con)"
   ]
  },
  {
   "cell_type": "markdown",
   "id": "5a2085a9",
   "metadata": {},
   "source": [
    "Выведена таблица с номером и названием книги, средний рейтинг и количество обзоров по каждой из книг.\n",
    "По предварительным данным видно, что не у всех книг есть обзоры.\n",
    "Также количество обзоров примерно в рамках от 2х до 4х. У книг и с высоким и с низким рейтингом примерно одинаковое количество обзоров."
   ]
  },
  {
   "cell_type": "markdown",
   "id": "6b8fd01b",
   "metadata": {},
   "source": [
    "## Издательство, которое выпустило наибольшее число книг"
   ]
  },
  {
   "cell_type": "markdown",
   "id": "b2e23c8e",
   "metadata": {},
   "source": [
    "Убрать книги, которые толще 50 страниц, чтобы исключить из анализа брошюры"
   ]
  },
  {
   "cell_type": "code",
   "execution_count": 9,
   "id": "c35cdd0f",
   "metadata": {},
   "outputs": [
    {
     "data": {
      "text/html": [
       "<div>\n",
       "<style scoped>\n",
       "    .dataframe tbody tr th:only-of-type {\n",
       "        vertical-align: middle;\n",
       "    }\n",
       "\n",
       "    .dataframe tbody tr th {\n",
       "        vertical-align: top;\n",
       "    }\n",
       "\n",
       "    .dataframe thead th {\n",
       "        text-align: right;\n",
       "    }\n",
       "</style>\n",
       "<table border=\"1\" class=\"dataframe\">\n",
       "  <thead>\n",
       "    <tr style=\"text-align: right;\">\n",
       "      <th></th>\n",
       "      <th>publisher_id</th>\n",
       "      <th>publisher</th>\n",
       "      <th>books_count</th>\n",
       "    </tr>\n",
       "  </thead>\n",
       "  <tbody>\n",
       "    <tr>\n",
       "      <th>0</th>\n",
       "      <td>212</td>\n",
       "      <td>Penguin Books</td>\n",
       "      <td>42</td>\n",
       "    </tr>\n",
       "  </tbody>\n",
       "</table>\n",
       "</div>"
      ],
      "text/plain": [
       "   publisher_id      publisher  books_count\n",
       "0           212  Penguin Books           42"
      ]
     },
     "execution_count": 9,
     "metadata": {},
     "output_type": "execute_result"
    }
   ],
   "source": [
    "query = '''\n",
    "        SELECT b.publisher_id,p.publisher, COUNT(*) AS books_count\n",
    "        FROM books AS b\n",
    "        LEFT JOIN publishers AS p ON b.publisher_id = p.publisher_id\n",
    "        WHERE num_pages > 50\n",
    "        GROUP BY b.publisher_id, p.publisher\n",
    "        ORDER BY books_count DESC\n",
    "        LIMIT 1\n",
    "        '''\n",
    "con=engine.connect()\n",
    "pd.io.sql.read_sql(sql=text(query), con = con)"
   ]
  },
  {
   "cell_type": "markdown",
   "id": "2c08bc4b",
   "metadata": {},
   "source": [
    "Издательство \"Penguin Books\" выпустило наибольшое количество книг - 42. В данное количество не входят брошюры."
   ]
  },
  {
   "cell_type": "markdown",
   "id": "d1178e60",
   "metadata": {},
   "source": [
    "## Автор с самой высокой средней оценкой книг"
   ]
  },
  {
   "cell_type": "markdown",
   "id": "4dc6fc25",
   "metadata": {},
   "source": [
    "Необходимо учитывать только книги с 50 и более оценками"
   ]
  },
  {
   "cell_type": "code",
   "execution_count": 10,
   "id": "2084cb9f",
   "metadata": {},
   "outputs": [
    {
     "data": {
      "text/html": [
       "<div>\n",
       "<style scoped>\n",
       "    .dataframe tbody tr th:only-of-type {\n",
       "        vertical-align: middle;\n",
       "    }\n",
       "\n",
       "    .dataframe tbody tr th {\n",
       "        vertical-align: top;\n",
       "    }\n",
       "\n",
       "    .dataframe thead th {\n",
       "        text-align: right;\n",
       "    }\n",
       "</style>\n",
       "<table border=\"1\" class=\"dataframe\">\n",
       "  <thead>\n",
       "    <tr style=\"text-align: right;\">\n",
       "      <th></th>\n",
       "      <th>author</th>\n",
       "      <th>avg_rating</th>\n",
       "    </tr>\n",
       "  </thead>\n",
       "  <tbody>\n",
       "    <tr>\n",
       "      <th>0</th>\n",
       "      <td>J.K. Rowling/Mary GrandPré</td>\n",
       "      <td>4.283844</td>\n",
       "    </tr>\n",
       "  </tbody>\n",
       "</table>\n",
       "</div>"
      ],
      "text/plain": [
       "                       author  avg_rating\n",
       "0  J.K. Rowling/Mary GrandPré    4.283844"
      ]
     },
     "execution_count": 10,
     "metadata": {},
     "output_type": "execute_result"
    }
   ],
   "source": [
    "query = '''\n",
    "        SELECT a.author, AVG(ratings) AS avg_rating\n",
    "        FROM (SELECT book_id, AVG(rating) ratings\n",
    "              FROM ratings\n",
    "              GROUP BY book_id\n",
    "              HAVING COUNT(*) >= 50) rat\n",
    "        JOIN (SELECT book_id, author_id \n",
    "              FROM books) b ON rat.book_id=b.book_id\n",
    "        JOIN (SELECT author_id, author \n",
    "              FROM authors) a ON b.author_id=a.author_id\n",
    "        GROUP BY a.author\n",
    "        ORDER BY avg_rating DESC\n",
    "        LIMIT 1\n",
    "        '''\n",
    "con=engine.connect()\n",
    "pd.io.sql.read_sql(sql=text(query), con = con)"
   ]
  },
  {
   "cell_type": "markdown",
   "id": "09650a18",
   "metadata": {},
   "source": [
    "Джоан Роулинг является автором с самой высокой средней оценкой книг - 4.28."
   ]
  },
  {
   "cell_type": "markdown",
   "id": "b85eec28",
   "metadata": {},
   "source": [
    "## Среднее количество обзоров от пользователей"
   ]
  },
  {
   "cell_type": "markdown",
   "id": "d4b7e972",
   "metadata": {},
   "source": [
    "Учитывать пользователей, которые поставили больше 48 оценок"
   ]
  },
  {
   "cell_type": "code",
   "execution_count": 11,
   "id": "9cde9921",
   "metadata": {},
   "outputs": [
    {
     "data": {
      "text/html": [
       "<div>\n",
       "<style scoped>\n",
       "    .dataframe tbody tr th:only-of-type {\n",
       "        vertical-align: middle;\n",
       "    }\n",
       "\n",
       "    .dataframe tbody tr th {\n",
       "        vertical-align: top;\n",
       "    }\n",
       "\n",
       "    .dataframe thead th {\n",
       "        text-align: right;\n",
       "    }\n",
       "</style>\n",
       "<table border=\"1\" class=\"dataframe\">\n",
       "  <thead>\n",
       "    <tr style=\"text-align: right;\">\n",
       "      <th></th>\n",
       "      <th>avg</th>\n",
       "    </tr>\n",
       "  </thead>\n",
       "  <tbody>\n",
       "    <tr>\n",
       "      <th>0</th>\n",
       "      <td>24.0</td>\n",
       "    </tr>\n",
       "  </tbody>\n",
       "</table>\n",
       "</div>"
      ],
      "text/plain": [
       "    avg\n",
       "0  24.0"
      ]
     },
     "execution_count": 11,
     "metadata": {},
     "output_type": "execute_result"
    }
   ],
   "source": [
    "query = '''\n",
    "        WITH rating AS (\n",
    "            SELECT ratings.username, COUNT(rating) AS ratings_quantity\n",
    "            FROM ratings\n",
    "            GROUP BY ratings.username\n",
    "            HAVING COUNT(rating) > 48),\n",
    "             review AS (\n",
    "            SELECT reviews.username,\n",
    "            COUNT(text) AS reviews_count\n",
    "            FROM reviews\n",
    "            GROUP BY reviews.username)\n",
    "        SELECT AVG(reviews_count)\n",
    "        FROM rating\n",
    "        LEFT JOIN review ON review.username = rating.username\n",
    "        '''\n",
    "con=engine.connect()\n",
    "pd.io.sql.read_sql(sql=text(query), con = con)"
   ]
  },
  {
   "cell_type": "markdown",
   "id": "95f2727a",
   "metadata": {},
   "source": [
    "Среднее количество обзоров от пользователей, которые поставили больше 48 оценок, составило 24."
   ]
  },
  {
   "cell_type": "markdown",
   "id": "67000dac",
   "metadata": {},
   "source": [
    "## Вывод"
   ]
  },
  {
   "cell_type": "markdown",
   "id": "2b8f9070",
   "metadata": {},
   "source": [
    "Информация, полученная в ходе анализа:\n",
    "- В базе данных находятся данные о 1000 книгах.\n",
    "- После 1 января 2000 года вышло 819 книг.\n",
    "- По предварительным данным видно, что не у всех книг есть обзоры. Также количество обзоров примерно в рамках от 2х до 4х. У книг и с высоким и с низким рейтингом примерно одинаковое количество обзоров.\n",
    "- Джоан Роулинг является автором с самой высокой средней оценкой книг - 4.28.\n",
    "- Издательство \"Penguin Books\" выпустило наибольшое количество книг - 42. В данное количество не входят брошюры.\n",
    "- Среднее количество обзоров от пользователей, которые поставили больше 48 оценок, составило 24."
   ]
  }
 ],
 "metadata": {
  "ExecuteTimeLog": [
   {
    "duration": 104,
    "start_time": "2023-09-14T19:11:13.309Z"
   },
   {
    "duration": 9402,
    "start_time": "2023-09-14T19:12:56.025Z"
   },
   {
    "duration": 175,
    "start_time": "2023-09-14T19:28:45.656Z"
   },
   {
    "duration": 54,
    "start_time": "2023-09-14T19:29:04.346Z"
   },
   {
    "duration": 55,
    "start_time": "2023-09-14T19:29:18.586Z"
   },
   {
    "duration": 56,
    "start_time": "2023-09-14T19:29:34.132Z"
   },
   {
    "duration": 56,
    "start_time": "2023-09-14T19:29:56.452Z"
   },
   {
    "duration": 4,
    "start_time": "2023-09-14T19:30:03.238Z"
   },
   {
    "duration": 276,
    "start_time": "2023-09-14T19:41:23.525Z"
   },
   {
    "duration": 154,
    "start_time": "2023-09-14T19:43:33.854Z"
   },
   {
    "duration": 144,
    "start_time": "2023-09-14T19:44:20.071Z"
   },
   {
    "duration": 69,
    "start_time": "2023-09-14T19:45:05.172Z"
   },
   {
    "duration": 153,
    "start_time": "2023-09-14T19:52:38.776Z"
   },
   {
    "duration": 162,
    "start_time": "2023-09-14T19:52:51.180Z"
   },
   {
    "duration": 163,
    "start_time": "2023-09-14T19:53:23.636Z"
   },
   {
    "duration": 155,
    "start_time": "2023-09-14T19:53:53.495Z"
   },
   {
    "duration": 78,
    "start_time": "2023-09-14T19:55:11.972Z"
   },
   {
    "duration": 64,
    "start_time": "2023-09-14T19:55:19.928Z"
   },
   {
    "duration": 63,
    "start_time": "2023-09-14T19:55:26.237Z"
   },
   {
    "duration": 45,
    "start_time": "2023-09-14T19:55:31.758Z"
   },
   {
    "duration": 157,
    "start_time": "2023-09-14T19:55:54.995Z"
   },
   {
    "duration": 43,
    "start_time": "2023-09-14T19:56:01.444Z"
   },
   {
    "duration": 54,
    "start_time": "2023-09-14T19:56:17.634Z"
   },
   {
    "duration": 14,
    "start_time": "2023-09-14T20:02:42.137Z"
   },
   {
    "duration": 43,
    "start_time": "2023-09-14T20:02:48.180Z"
   },
   {
    "duration": 56,
    "start_time": "2023-09-14T20:03:51.298Z"
   },
   {
    "duration": 8,
    "start_time": "2023-09-14T20:04:05.954Z"
   },
   {
    "duration": 56,
    "start_time": "2023-09-14T20:04:10.927Z"
   },
   {
    "duration": 55,
    "start_time": "2023-09-14T20:06:00.460Z"
   },
   {
    "duration": 76,
    "start_time": "2023-09-14T20:09:27.964Z"
   },
   {
    "duration": 63,
    "start_time": "2023-09-14T20:09:45.139Z"
   },
   {
    "duration": 65,
    "start_time": "2023-09-14T20:09:53.051Z"
   },
   {
    "duration": 77,
    "start_time": "2023-09-14T20:10:33.064Z"
   },
   {
    "duration": 75,
    "start_time": "2023-09-14T20:11:43.142Z"
   },
   {
    "duration": 64,
    "start_time": "2023-09-14T20:11:58.703Z"
   },
   {
    "duration": 64,
    "start_time": "2023-09-14T20:12:09.338Z"
   },
   {
    "duration": 66,
    "start_time": "2023-09-14T20:13:10.633Z"
   },
   {
    "duration": 64,
    "start_time": "2023-09-14T20:13:17.383Z"
   },
   {
    "duration": 197,
    "start_time": "2023-09-14T20:13:30.840Z"
   },
   {
    "duration": 59,
    "start_time": "2023-09-14T20:13:45.792Z"
   },
   {
    "duration": 91,
    "start_time": "2023-09-14T20:14:27.920Z"
   },
   {
    "duration": 87,
    "start_time": "2023-09-14T20:16:19.390Z"
   },
   {
    "duration": 89,
    "start_time": "2023-09-14T20:17:02.806Z"
   },
   {
    "duration": 103,
    "start_time": "2023-09-14T20:17:14.557Z"
   },
   {
    "duration": 78,
    "start_time": "2023-09-14T20:17:46.535Z"
   },
   {
    "duration": 82,
    "start_time": "2023-09-14T20:17:52.367Z"
   },
   {
    "duration": 94,
    "start_time": "2023-09-14T20:18:15.706Z"
   },
   {
    "duration": 88,
    "start_time": "2023-09-14T20:18:34.608Z"
   },
   {
    "duration": 92,
    "start_time": "2023-09-14T20:20:23.039Z"
   },
   {
    "duration": 88,
    "start_time": "2023-09-14T20:21:41.259Z"
   },
   {
    "duration": 85,
    "start_time": "2023-09-14T20:22:17.007Z"
   },
   {
    "duration": 77,
    "start_time": "2023-09-14T20:22:28.288Z"
   },
   {
    "duration": 90,
    "start_time": "2023-09-14T20:22:34.213Z"
   },
   {
    "duration": 90,
    "start_time": "2023-09-14T20:23:11.871Z"
   },
   {
    "duration": 91,
    "start_time": "2023-09-14T20:25:58.352Z"
   },
   {
    "duration": 90,
    "start_time": "2023-09-14T20:27:08.985Z"
   },
   {
    "duration": 88,
    "start_time": "2023-09-14T20:27:18.335Z"
   },
   {
    "duration": 97,
    "start_time": "2023-09-14T20:27:22.480Z"
   },
   {
    "duration": 77,
    "start_time": "2023-09-14T20:31:34.732Z"
   },
   {
    "duration": 63,
    "start_time": "2023-09-14T20:32:08.943Z"
   },
   {
    "duration": 74,
    "start_time": "2023-09-14T20:33:37.651Z"
   },
   {
    "duration": 84,
    "start_time": "2023-09-14T20:34:05.822Z"
   },
   {
    "duration": 43,
    "start_time": "2023-09-14T20:34:18.038Z"
   },
   {
    "duration": 212,
    "start_time": "2023-09-14T20:34:29.464Z"
   },
   {
    "duration": 46,
    "start_time": "2023-09-14T20:34:51.464Z"
   },
   {
    "duration": 78,
    "start_time": "2023-09-14T20:35:01.155Z"
   },
   {
    "duration": 64,
    "start_time": "2023-09-14T20:35:07.481Z"
   },
   {
    "duration": 45,
    "start_time": "2023-09-14T20:35:11.007Z"
   },
   {
    "duration": 59,
    "start_time": "2023-09-14T20:39:53.837Z"
   },
   {
    "duration": 59,
    "start_time": "2023-09-14T20:40:11.061Z"
   },
   {
    "duration": 76,
    "start_time": "2023-09-14T20:43:31.869Z"
   },
   {
    "duration": 64,
    "start_time": "2023-09-14T20:43:56.572Z"
   },
   {
    "duration": 47,
    "start_time": "2023-09-14T20:46:39.579Z"
   },
   {
    "duration": 79,
    "start_time": "2023-09-14T20:48:22.585Z"
   },
   {
    "duration": 68,
    "start_time": "2023-09-14T20:49:05.278Z"
   },
   {
    "duration": 46,
    "start_time": "2023-09-14T20:49:18.199Z"
   },
   {
    "duration": 156,
    "start_time": "2023-09-14T20:49:40.646Z"
   },
   {
    "duration": 9398,
    "start_time": "2023-09-14T20:55:27.738Z"
   },
   {
    "duration": 238,
    "start_time": "2023-09-14T20:55:37.138Z"
   },
   {
    "duration": 129,
    "start_time": "2023-09-14T20:55:37.378Z"
   },
   {
    "duration": 55,
    "start_time": "2023-09-14T20:55:37.509Z"
   },
   {
    "duration": 56,
    "start_time": "2023-09-14T20:55:37.566Z"
   },
   {
    "duration": 57,
    "start_time": "2023-09-14T20:55:37.624Z"
   },
   {
    "duration": 53,
    "start_time": "2023-09-14T20:55:37.683Z"
   },
   {
    "duration": 91,
    "start_time": "2023-09-14T20:55:37.738Z"
   },
   {
    "duration": 57,
    "start_time": "2023-09-14T20:55:37.831Z"
   },
   {
    "duration": 59,
    "start_time": "2023-09-14T20:55:37.890Z"
   },
   {
    "duration": 56,
    "start_time": "2023-09-14T20:55:37.951Z"
   },
   {
    "duration": 10342,
    "start_time": "2023-09-17T11:46:37.267Z"
   },
   {
    "duration": 225,
    "start_time": "2023-09-17T11:46:47.611Z"
   },
   {
    "duration": 119,
    "start_time": "2023-09-17T11:46:47.838Z"
   },
   {
    "duration": 50,
    "start_time": "2023-09-17T11:46:47.959Z"
   },
   {
    "duration": 52,
    "start_time": "2023-09-17T11:46:48.011Z"
   },
   {
    "duration": 53,
    "start_time": "2023-09-17T11:46:48.065Z"
   },
   {
    "duration": 50,
    "start_time": "2023-09-17T11:46:48.120Z"
   },
   {
    "duration": 86,
    "start_time": "2023-09-17T11:46:48.172Z"
   },
   {
    "duration": 53,
    "start_time": "2023-09-17T11:46:48.260Z"
   },
   {
    "duration": 54,
    "start_time": "2023-09-17T11:46:48.315Z"
   },
   {
    "duration": 53,
    "start_time": "2023-09-17T11:46:48.371Z"
   }
  ],
  "kernelspec": {
   "display_name": "Python 3 (ipykernel)",
   "language": "python",
   "name": "python3"
  },
  "language_info": {
   "codemirror_mode": {
    "name": "ipython",
    "version": 3
   },
   "file_extension": ".py",
   "mimetype": "text/x-python",
   "name": "python",
   "nbconvert_exporter": "python",
   "pygments_lexer": "ipython3",
   "version": "3.9.5"
  },
  "toc": {
   "base_numbering": 1,
   "nav_menu": {},
   "number_sections": true,
   "sideBar": true,
   "skip_h1_title": true,
   "title_cell": "Table of Contents",
   "title_sidebar": "Contents",
   "toc_cell": false,
   "toc_position": {},
   "toc_section_display": true,
   "toc_window_display": false
  }
 },
 "nbformat": 4,
 "nbformat_minor": 5
}
